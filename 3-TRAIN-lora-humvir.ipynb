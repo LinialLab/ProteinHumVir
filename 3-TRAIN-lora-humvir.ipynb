{
 "cells": [
  {
   "cell_type": "markdown",
   "metadata": {
    "id": "3_5w39f_fnY9"
   },
   "source": [
    "esm based dynamic model (not using static embeds).\n",
    "\n",
    "+ Use HF Trainer, LORA:\n",
    "  * https://huggingface.co/blog/AmelieSchreiber/esmbind\n",
    "\n",
    "Use TF:\n",
    "*  🇰https://colab.research.google.com/github/huggingface/notebooks/blob/main/examples/protein_language_modeling-tf.ipynb#scrollTo=de8419b5\n",
    "* Torch based /Trainer example:  https://colab.research.google.com/github/huggingface/notebooks/blob/main/examples/protein_language_modeling.ipynb#scrollTo=49dcba23\n",
    "\n",
    "\n",
    "\n",
    "* NOte for pytorch training could use trainer maybe, and mixed precision - https://huggingface.co/docs/transformers/v4.18.0/en/performance#fp16-training\n",
    "\n",
    "\n",
    "* QLORA finetuning: https://huggingface.co/blog/AmelieSchreiber/esm2-ptm\n",
    "  * https://huggingface.co/blog/AmelieSchreiber/esmbind   (token level)\n",
    "\n",
    "* Another lora, qlora example - may use too much mem/bug : https://github.com/huggingface/peft/issues/1023\n",
    "* Default trainer (`AutoModelForSequenceClassification`) + Lora https://huggingface.co/docs/peft/task_guides/image_classification_lora\n",
    "   * seq cls with lora - maybe `task_type=\"SEQ_CLS\"` ? https://github.com/huggingface/peft/blob/main/docs/source/task_guides/ptuning-seq-classification.md\n",
    "* https://www.kaggle.com/code/andregrbnr/protein-sequence-classification - lora modules to save ??\n",
    "\n",
    "  * ESM2-Lora mem bug (also accel data loop) ? https://github.com/huggingface/peft/issues/1023\n",
    "\n",
    "\n",
    "* QLORA: https://huggingface.co/blog/AmelieSchreiber/esm2-ptm\n",
    "  * `36 batch size` with esm-150M !\n",
    "\n",
    "* lora peft - classifier layer weight saving issue?  https://github.com/huggingface/peft/issues/577\n",
    "\n",
    "https://github.com/huggingface/transformers/issues/27702\n",
    "\n",
    "\n",
    "important bug!!!\n",
    "* https://discuss.huggingface.co/t/llama-2-sequence-classification-much-lower-accuracy-on-inference-from-checkpoint-compared-to-model/54910\n",
    "* https://github.com/huggingface/transformers/issues/26160\n",
    "* \"What I do know is that the bug does not occur when you don’t specify the target_modules in the LoraConfig, so effectively only use default q & v of the attention blocks.\""
   ]
  },
  {
   "cell_type": "code",
   "execution_count": 1,
   "metadata": {
    "executionInfo": {
     "elapsed": 3049,
     "status": "ok",
     "timestamp": 1706644628798,
     "user": {
      "displayName": "Dan Ofer",
      "userId": "14537932808605235168"
     },
     "user_tz": -120
    },
    "id": "kalvvWZZgM0E",
    "outputId": "f323c22c-784c-4935-ef81-4b61183e3a3d"
   },
   "outputs": [],
   "source": [
    "# from google.colab import drive\n",
    "# drive.mount('/content/drive')"
   ]
  },
  {
   "cell_type": "code",
   "execution_count": 2,
   "metadata": {
    "id": "GO4tbwSU1pa9"
   },
   "outputs": [],
   "source": [
    "# !conda install -c conda-forge google-colab -y\n",
    "\n",
    "# !pip install tensorflow  -U -q # ankh\n",
    "\n",
    "# !pip install torch  -U -q # fair-esm # seqeval\n",
    "# !pip3 install transformers peft accelerate datasets evaluate bitsandbytes -U -q # --user\n",
    "# !pip install peft bitsandbytes -U"
   ]
  },
  {
   "cell_type": "markdown",
   "metadata": {
    "id": "Z_cRmHN0j709"
   },
   "source": [
    "* Use the unirpot fasta file I downloaded and uploaded to my drive\n",
    "\n",
    "`/content/drive/MyDrive/Research/biodata/proteins/Transmembrane_human_90.fasta`\n",
    "\n",
    "* Download fasta from: `https://www.uniprot.org/uniref/?query=uniprot:(keyword%3A%22Transmembrane+%5BKW-0812%5D%22+AND+organism%3A%22Homo+sapiens+%28Human%29+%5B9606%5D%22)+identity:0.9`"
   ]
  },
  {
   "cell_type": "code",
   "execution_count": 3,
   "metadata": {
    "id": "kwgVw-CN1OgJ"
   },
   "outputs": [],
   "source": [
    "#### DATA_PATH = \"/content/drive/MyDrive/Research/CIDR-Protein Anomalies project/protein_anomalies_data/swp_human_viri_all_embed_esm.parquet\" ## ESM1B embedding (max len 1022)\n",
    "# DATA_PATH = \"/content/drive/MyDrive/proteins/New Protein-Virus anom project/hum_vir_swp-globalEmbed-train.csv.gz\"## TRAIN\n",
    "# DATA_PATH = \"/content/drive/MyDrive/hum_vir_swp-globalEmbed-train.csv.gz\"\n",
    "# DATA_PATH = \"/kaggle/input/humvir-proteins/hum_vir_swp-globalEmbed-train.csv/hum_vir_swp-globalEmbed-train.csv\"\n",
    "DATA_PATH = \"hum_vir_swp-globalEmbed-train.csv.gz\"\n",
    "\n",
    "## TEST data:\n",
    "# TEST_DATA_PATH = \"/content/drive/MyDrive/proteins/New Protein-Virus anom project/hum_vir_swp-globalEmbed-test.csv.gz\"## TRAIN\n",
    "# TEST_DATA_PATH = \"/content/drive/MyDrive/hum_vir_swp-globalEmbed-test.csv.gz\"\n",
    "# TEST_DATA_PATH = \"/kaggle/input/humvir-proteins/hum_vir_swp-globalEmbed-test.csv/hum_vir_swp-globalEmbed-test.csv\"\n",
    "TEST_DATA_PATH = \"hum_vir_swp-globalEmbed-test.csv.gz\"\n",
    "\n",
    "# ## metadata for all reviewed/swissprot human + virus proteins\n",
    "# METADATA_PATH = \"/content/drive/MyDrive/Research/CIDR-Protein Anomalies project/protein_anomalies_data/SWP_human_viruses_all.xlsx\"\n",
    "\n",
    "TARGET_COL = \"virus\" ## use for filtering data into 1 class\n",
    "\n",
    "MAX_LEN = 600#1024#768#530 # exclude sequences longer than this. (Not merely truncate)\n",
    "\n",
    "FAST_RUN = False#True\n",
    "SAVE_MODEL = True#False#True\n",
    "\n",
    "# MODEL_DRIVE_SAVE_PATH = \"/content/drive/MyDrive/proteins/New Protein-Virus anom project/trained_esm_lora_trainer_model\"\n",
    "MODEL_DRIVE_SAVE_PATH = \"./esm650_lora_trainer_model\"#\"./esm_lora_trainer_model\" #\"./esm_lora_trainer_model_sml\"\n",
    "# MODEL_DRIVE_SAVE_PATH   = \"./esm150_lora_trainer_model\"#\"./esm_lora_trainer_model_sml\"\n",
    "\n",
    "# MODEL_DRIVE_SAVE_PATH = \"/kaggle/input/humvir-proteins/qlora/qlora\" # saved + reuploadedon kaggle\n",
    "\n",
    "TRAIN_MODEL = True#False\n",
    "LOAD_TRAINED =  True#True#False# True"
   ]
  },
  {
   "cell_type": "markdown",
   "metadata": {
    "id": "Xa-7WUuSfnZC"
   },
   "source": [
    "# Embed sequences in a FASTA file"
   ]
  },
  {
   "cell_type": "code",
   "execution_count": 4,
   "metadata": {
    "executionInfo": {
     "elapsed": 11612,
     "status": "ok",
     "timestamp": 1706644666124,
     "user": {
      "displayName": "Dan Ofer",
      "userId": "14537932808605235168"
     },
     "user_tz": -120
    },
    "id": "hKw7JD3_fnZD",
    "outputId": "ffa04bad-8a62-447c-f1cd-466ebec4c602"
   },
   "outputs": [
    {
     "name": "stderr",
     "output_type": "stream",
     "text": [
      "2024-03-08 12:50:52.589487: I tensorflow/core/util/port.cc:113] oneDNN custom operations are on. You may see slightly different numerical results due to floating-point round-off errors from different computation orders. To turn them off, set the environment variable `TF_ENABLE_ONEDNN_OPTS=0`.\n",
      "2024-03-08 12:50:52.605864: E external/local_xla/xla/stream_executor/cuda/cuda_dnn.cc:9261] Unable to register cuDNN factory: Attempting to register factory for plugin cuDNN when one has already been registered\n",
      "2024-03-08 12:50:52.605885: E external/local_xla/xla/stream_executor/cuda/cuda_fft.cc:607] Unable to register cuFFT factory: Attempting to register factory for plugin cuFFT when one has already been registered\n",
      "2024-03-08 12:50:52.606413: E external/local_xla/xla/stream_executor/cuda/cuda_blas.cc:1515] Unable to register cuBLAS factory: Attempting to register factory for plugin cuBLAS when one has already been registered\n",
      "2024-03-08 12:50:52.609729: I tensorflow/core/platform/cpu_feature_guard.cc:182] This TensorFlow binary is optimized to use available CPU instructions in performance-critical operations.\n",
      "To enable the following instructions: AVX2 AVX512F AVX512_VNNI AVX512_BF16 FMA, in other operations, rebuild TensorFlow with the appropriate compiler flags.\n",
      "2024-03-08 12:50:53.002934: W tensorflow/compiler/tf2tensorrt/utils/py_utils.cc:38] TF-TRT Warning: Could not find TensorRT\n",
      "/tmp/ipykernel_7980/935045126.py:15: TqdmExperimentalWarning: Using `tqdm.autonotebook.tqdm` in notebook mode. Use `tqdm.tqdm` instead to force console mode (e.g. in jupyter console)\n",
      "  from tqdm.autonotebook import tqdm\n"
     ]
    }
   ],
   "source": [
    "import torch\n",
    "import tensorflow\n",
    "import tensorflow as tf\n",
    "import pandas as pd\n",
    "import numpy as np\n",
    "import random\n",
    "from sklearn.ensemble import IsolationForest\n",
    "# from sklearn.svm import OneClassSVM\n",
    "from sklearn.preprocessing  import MinMaxScaler\n",
    "import matplotlib.pyplot as plt\n",
    "from sklearn.metrics import classification_report, roc_auc_score\n",
    "from sklearn.model_selection import train_test_split, cross_val_predict\n",
    "# from sklearn.linear_model import LogisticRegressionCV, LogisticRegression\n",
    "# from sklearn.ensemble import HistGradientBoostingClassifier\n",
    "from tqdm.autonotebook import tqdm\n",
    "from sklearn.pipeline import make_pipeline, Pipeline\n",
    "from sklearn.preprocessing import StandardScaler\n",
    "from sklearn.metrics import roc_auc_score\n",
    "from sklearn.metrics import classification_report, roc_auc_score\n",
    "from torch import nn\n",
    "from transformers import TrainingArguments, Trainer, logging\n",
    "from accelerate import Accelerator\n",
    "from torch.utils.data.dataloader import DataLoader\n",
    "## https://huggingface.co/docs/transformers/perf_train_gpu_one\n",
    "\n",
    "from sklearn.model_selection import train_test_split\n",
    "from datasets import Dataset\n",
    "from transformers import AdamWeightDecay\n",
    "# from tensorflow.keras.optimizers import Adafactor, Adam # more memory effecient than adamWD\n",
    "# import tensorflow\n",
    "# from tensorflow.keras.metrics.AUC()\n",
    "from transformers import AutoTokenizer, EsmForSequenceClassification, Trainer\n",
    "from transformers import TFAutoModelForSequenceClassification ,TFEsmForSequenceClassification\n",
    "from transformers import AutoModelForSequenceClassification, TrainingArguments, Trainer, AutoModel\n",
    "from transformers import (\n",
    "    AutoTokenizer,\n",
    "    DataCollatorForTokenClassification,\n",
    "    TrainingArguments,\n",
    "    Trainer,\n",
    ")\n",
    "from peft import get_peft_config, PeftModel, PeftConfig, get_peft_model, LoraConfig, TaskType\n",
    "from transformers import AutoTokenizer, BitsAndBytesConfig\n",
    "from peft import AutoPeftModelForSequenceClassification, AutoPeftModel\n",
    "from transformers import pipeline\n",
    "\n",
    "## could use transformer pipeline for inference;\n",
    "import datasets\n",
    "from transformers import pipeline\n",
    "from transformers.pipelines.pt_utils import KeyDataset\n",
    "from tqdm.auto import tqdm\n",
    "from peft import PeftModelForSequenceClassification, get_peft_config\n",
    "# pipe = pipeline(\"text-classification\", model=\"facebook/wav2vec2-base-960h\", device=0)"
   ]
  },
  {
   "cell_type": "code",
   "execution_count": 5,
   "metadata": {},
   "outputs": [
    {
     "data": {
      "text/plain": []
     },
     "execution_count": 5,
     "metadata": {},
     "output_type": "execute_result"
    }
   ],
   "source": [
    "import wandb\n",
    "wandb.init(mode=\"disabled\")\n",
    "# alt \n",
    "# wandb.init(project='qlora_humvir')# ; or args = TrainingArguments(report_to=\"none\")"
   ]
  },
  {
   "cell_type": "code",
   "execution_count": 6,
   "metadata": {
    "id": "r8gFb91iUc8N"
   },
   "outputs": [],
   "source": [
    "from accelerate import Accelerator\n",
    "# # Use the accelerator\n",
    "# ### try disabling? (with qlora)\n",
    "# # accelerator = Accelerator()# trying this\n",
    "# # שבבקךקרשאםר צשטנק בשודקד ןדדוקד?\n",
    "accelerator = Accelerator(mixed_precision=\"bf16\") #bf16\") # fp16 # orig used"
   ]
  },
  {
   "cell_type": "code",
   "execution_count": 7,
   "metadata": {
    "id": "H1bosQnEwXvf"
   },
   "outputs": [],
   "source": [
    "num_epochs = 4\n",
    "bch_size = 16#36#32#8#3#2\n",
    "\n",
    "# opt = Adafactor(3e-4)##AdamWeightDecay(1e-4) #default: AdamWeightDecay(2e-5)\n",
    "# opt = AdamWeightDecay(5e-4)#(1e-3)\n",
    "# opt = Adam(8e-4)\n",
    "\n",
    "if FAST_RUN:\n",
    "    num_epochs = 1\n",
    "    # bch_size = 16\n",
    "    bch_size = 64#32\n",
    "    MAX_LEN = int(MAX_LEN//1.4)"
   ]
  },
  {
   "cell_type": "code",
   "execution_count": 8,
   "metadata": {
    "id": "dEGNJ6xlxQvC"
   },
   "outputs": [],
   "source": [
    "# model_checkpoint =\"facebook/esm2_t6_8M_UR50D\"\n",
    "# model_checkpoint =  \"facebook/esm2_t12_35M_UR50D\"\n",
    "# model_checkpoint =  \"facebook/esm2_t30_150M_UR50D\"\n",
    "model_checkpoint =  \"facebook/esm2_t33_650M_UR50D\"\n",
    "\n",
    "if FAST_RUN:\n",
    "    model_checkpoint =\"facebook/esm2_t6_8M_UR50D\"\n",
    "  # model_checkpoint =  \"facebook/esm2_t12_35M_UR50D\"\n"
   ]
  },
  {
   "cell_type": "code",
   "execution_count": 9,
   "metadata": {
    "executionInfo": {
     "elapsed": 4653,
     "status": "ok",
     "timestamp": 1706644670770,
     "user": {
      "displayName": "Dan Ofer",
      "userId": "14537932808605235168"
     },
     "user_tz": -120
    },
    "id": "Eggiq94CubAw",
    "outputId": "9ab29551-cfb8-47d0-9b6d-ff6457e3ca09"
   },
   "outputs": [
    {
     "data": {
      "text/html": [
       "<div>\n",
       "<style scoped>\n",
       "    .dataframe tbody tr th:only-of-type {\n",
       "        vertical-align: middle;\n",
       "    }\n",
       "\n",
       "    .dataframe tbody tr th {\n",
       "        vertical-align: top;\n",
       "    }\n",
       "\n",
       "    .dataframe thead th {\n",
       "        text-align: right;\n",
       "    }\n",
       "</style>\n",
       "<table border=\"1\" class=\"dataframe\">\n",
       "  <thead>\n",
       "    <tr style=\"text-align: right;\">\n",
       "      <th></th>\n",
       "      <th>Sequence</th>\n",
       "      <th>virus</th>\n",
       "      <th>Length</th>\n",
       "      <th>Cluster name</th>\n",
       "    </tr>\n",
       "  </thead>\n",
       "  <tbody>\n",
       "    <tr>\n",
       "      <th>0</th>\n",
       "      <td>MADFLKGLPVYNKSNFSRFHADSVCKASNRRPSVYLPTREYPSEQI...</td>\n",
       "      <td>0</td>\n",
       "      <td>102</td>\n",
       "      <td>Cluster: DET1- and DDB1-associated protein 1</td>\n",
       "    </tr>\n",
       "    <tr>\n",
       "      <th>1</th>\n",
       "      <td>MPSTLQVLAKKVLALEHKENDHISREYYYHILKCCGLWWHEAPIIL...</td>\n",
       "      <td>1</td>\n",
       "      <td>362</td>\n",
       "      <td>Cluster: Protein MGF 360-19R</td>\n",
       "    </tr>\n",
       "    <tr>\n",
       "      <th>2</th>\n",
       "      <td>MASSAELDFNLQALLEQLSQDELSKFKSLIRTISLGKELQTVPQTE...</td>\n",
       "      <td>0</td>\n",
       "      <td>97</td>\n",
       "      <td>Cluster: Pyrin domain-containing protein 2</td>\n",
       "    </tr>\n",
       "    <tr>\n",
       "      <th>3</th>\n",
       "      <td>MAAWGKKHAGKDPVRDECEERNRFTETREEDVTDEHGEREPFAETD...</td>\n",
       "      <td>0</td>\n",
       "      <td>186</td>\n",
       "      <td>Cluster: Protein FAM9B</td>\n",
       "    </tr>\n",
       "    <tr>\n",
       "      <th>4</th>\n",
       "      <td>MASDSPARSLDEIDLSALRDPAGIFELVELVGNGTYGQVYKGRHVK...</td>\n",
       "      <td>0</td>\n",
       "      <td>1360</td>\n",
       "      <td>Cluster: TRAF2 and NCK-interacting protein kinase</td>\n",
       "    </tr>\n",
       "    <tr>\n",
       "      <th>...</th>\n",
       "      <td>...</td>\n",
       "      <td>...</td>\n",
       "      <td>...</td>\n",
       "      <td>...</td>\n",
       "    </tr>\n",
       "    <tr>\n",
       "      <th>20335</th>\n",
       "      <td>MDPDKQDALNSIENSIYRTAFKLQSVQTLCQLDLIDSSLIQQVLLR...</td>\n",
       "      <td>0</td>\n",
       "      <td>578</td>\n",
       "      <td>Cluster: Dystrotelin</td>\n",
       "    </tr>\n",
       "    <tr>\n",
       "      <th>20336</th>\n",
       "      <td>MLCPWRTANLGLLLILTIFLVAEAEGAAQPNNSLMLQTSKENHALA...</td>\n",
       "      <td>0</td>\n",
       "      <td>348</td>\n",
       "      <td>Cluster: Cell surface glycoprotein CD200 recep...</td>\n",
       "    </tr>\n",
       "    <tr>\n",
       "      <th>20337</th>\n",
       "      <td>MCLRFFSPVPGSTSSATNVTMVVSAGPWSSEKAEMNILEINEKLRP...</td>\n",
       "      <td>0</td>\n",
       "      <td>421</td>\n",
       "      <td>Cluster: Putative neuroblastoma breakpoint fam...</td>\n",
       "    </tr>\n",
       "    <tr>\n",
       "      <th>20338</th>\n",
       "      <td>MASHAGQQHAPAFGQAARASGPTDGRAASRPSHRQGASEARGDPEL...</td>\n",
       "      <td>1</td>\n",
       "      <td>376</td>\n",
       "      <td>Cluster: Thymidine kinase</td>\n",
       "    </tr>\n",
       "    <tr>\n",
       "      <th>20339</th>\n",
       "      <td>MSASSLLEQRPKGQGNKVQNGSVHQKDGLNDDDFEPYLSPQARPNN...</td>\n",
       "      <td>0</td>\n",
       "      <td>579</td>\n",
       "      <td>Cluster: YTH domain-containing family protein 2</td>\n",
       "    </tr>\n",
       "  </tbody>\n",
       "</table>\n",
       "<p>20340 rows × 4 columns</p>\n",
       "</div>"
      ],
      "text/plain": [
       "                                                Sequence  virus  Length  \\\n",
       "0      MADFLKGLPVYNKSNFSRFHADSVCKASNRRPSVYLPTREYPSEQI...      0     102   \n",
       "1      MPSTLQVLAKKVLALEHKENDHISREYYYHILKCCGLWWHEAPIIL...      1     362   \n",
       "2      MASSAELDFNLQALLEQLSQDELSKFKSLIRTISLGKELQTVPQTE...      0      97   \n",
       "3      MAAWGKKHAGKDPVRDECEERNRFTETREEDVTDEHGEREPFAETD...      0     186   \n",
       "4      MASDSPARSLDEIDLSALRDPAGIFELVELVGNGTYGQVYKGRHVK...      0    1360   \n",
       "...                                                  ...    ...     ...   \n",
       "20335  MDPDKQDALNSIENSIYRTAFKLQSVQTLCQLDLIDSSLIQQVLLR...      0     578   \n",
       "20336  MLCPWRTANLGLLLILTIFLVAEAEGAAQPNNSLMLQTSKENHALA...      0     348   \n",
       "20337  MCLRFFSPVPGSTSSATNVTMVVSAGPWSSEKAEMNILEINEKLRP...      0     421   \n",
       "20338  MASHAGQQHAPAFGQAARASGPTDGRAASRPSHRQGASEARGDPEL...      1     376   \n",
       "20339  MSASSLLEQRPKGQGNKVQNGSVHQKDGLNDDDFEPYLSPQARPNN...      0     579   \n",
       "\n",
       "                                            Cluster name  \n",
       "0           Cluster: DET1- and DDB1-associated protein 1  \n",
       "1                           Cluster: Protein MGF 360-19R  \n",
       "2             Cluster: Pyrin domain-containing protein 2  \n",
       "3                                 Cluster: Protein FAM9B  \n",
       "4      Cluster: TRAF2 and NCK-interacting protein kinase  \n",
       "...                                                  ...  \n",
       "20335                               Cluster: Dystrotelin  \n",
       "20336  Cluster: Cell surface glycoprotein CD200 recep...  \n",
       "20337  Cluster: Putative neuroblastoma breakpoint fam...  \n",
       "20338                          Cluster: Thymidine kinase  \n",
       "20339    Cluster: YTH domain-containing family protein 2  \n",
       "\n",
       "[20340 rows x 4 columns]"
      ]
     },
     "execution_count": 9,
     "metadata": {},
     "output_type": "execute_result"
    }
   ],
   "source": [
    "#### df = pd.read_parquet(DATA_PATH) # numpy to pandas\n",
    "df = pd.read_csv(DATA_PATH,usecols=[\"Sequence\",\"virus\",\"Length\",\"Cluster name\"])\n",
    "df_test = pd.read_csv(TEST_DATA_PATH,usecols=[\"Sequence\",\"virus\",\"Length\",\t\"Cluster name\"])\n",
    " ## lengths of all the seqs\n",
    "\n",
    "if FAST_RUN:\n",
    "#   # df.loc[df[\"Length\"]>100]\n",
    "    df = df.sample(frac=0.1,random_state=4)\n",
    "    df_test = df_test.sample(frac=0.25,random_state=4)\n",
    "df"
   ]
  },
  {
   "cell_type": "code",
   "execution_count": 10,
   "metadata": {
    "executionInfo": {
     "elapsed": 9,
     "status": "ok",
     "timestamp": 1706644670770,
     "user": {
      "displayName": "Dan Ofer",
      "userId": "14537932808605235168"
     },
     "user_tz": -120
    },
    "id": "fkeYBgfafVoy",
    "outputId": "e8f72139-fcad-41d6-f9df-7fb73571df63"
   },
   "outputs": [
    {
     "data": {
      "text/html": [
       "<div>\n",
       "<style scoped>\n",
       "    .dataframe tbody tr th:only-of-type {\n",
       "        vertical-align: middle;\n",
       "    }\n",
       "\n",
       "    .dataframe tbody tr th {\n",
       "        vertical-align: top;\n",
       "    }\n",
       "\n",
       "    .dataframe thead th {\n",
       "        text-align: right;\n",
       "    }\n",
       "</style>\n",
       "<table border=\"1\" class=\"dataframe\">\n",
       "  <thead>\n",
       "    <tr style=\"text-align: right;\">\n",
       "      <th></th>\n",
       "      <th>count</th>\n",
       "      <th>mean</th>\n",
       "      <th>std</th>\n",
       "      <th>min</th>\n",
       "      <th>25%</th>\n",
       "      <th>50%</th>\n",
       "      <th>75%</th>\n",
       "      <th>max</th>\n",
       "    </tr>\n",
       "    <tr>\n",
       "      <th>virus</th>\n",
       "      <th></th>\n",
       "      <th></th>\n",
       "      <th></th>\n",
       "      <th></th>\n",
       "      <th></th>\n",
       "      <th></th>\n",
       "      <th></th>\n",
       "      <th></th>\n",
       "    </tr>\n",
       "  </thead>\n",
       "  <tbody>\n",
       "    <tr>\n",
       "      <th>0</th>\n",
       "      <td>14668.0</td>\n",
       "      <td>473.16</td>\n",
       "      <td>308.52</td>\n",
       "      <td>11.0</td>\n",
       "      <td>244.0</td>\n",
       "      <td>398.0</td>\n",
       "      <td>623.0</td>\n",
       "      <td>1533.0</td>\n",
       "    </tr>\n",
       "    <tr>\n",
       "      <th>1</th>\n",
       "      <td>5672.0</td>\n",
       "      <td>380.31</td>\n",
       "      <td>298.35</td>\n",
       "      <td>11.0</td>\n",
       "      <td>151.0</td>\n",
       "      <td>297.0</td>\n",
       "      <td>514.0</td>\n",
       "      <td>1520.0</td>\n",
       "    </tr>\n",
       "  </tbody>\n",
       "</table>\n",
       "</div>"
      ],
      "text/plain": [
       "         count    mean     std   min    25%    50%    75%     max\n",
       "virus                                                            \n",
       "0      14668.0  473.16  308.52  11.0  244.0  398.0  623.0  1533.0\n",
       "1       5672.0  380.31  298.35  11.0  151.0  297.0  514.0  1520.0"
      ]
     },
     "execution_count": 10,
     "metadata": {},
     "output_type": "execute_result"
    }
   ],
   "source": [
    "df.groupby([\"virus\"])[\"Length\"].describe().round(2)"
   ]
  },
  {
   "cell_type": "code",
   "execution_count": 11,
   "metadata": {
    "executionInfo": {
     "elapsed": 8,
     "status": "ok",
     "timestamp": 1706644670770,
     "user": {
      "displayName": "Dan Ofer",
      "userId": "14537932808605235168"
     },
     "user_tz": -120
    },
    "id": "rm2Ms4BmQ4wn",
    "outputId": "a8edf73e-0541-43dd-8537-10b64de09661"
   },
   "outputs": [
    {
     "name": "stdout",
     "output_type": "stream",
     "text": [
      "mean         0.28\n",
      "sum       5672.00\n",
      "count    20340.00\n",
      "Name: virus, dtype: float64\n"
     ]
    },
    {
     "data": {
      "text/plain": [
       "count    20340.0\n",
       "mean       447.0\n",
       "std        309.0\n",
       "min         11.0\n",
       "25%        213.0\n",
       "50%        372.0\n",
       "75%        592.0\n",
       "max       1533.0\n",
       "Name: Length, dtype: float64"
      ]
     },
     "execution_count": 11,
     "metadata": {},
     "output_type": "execute_result"
    }
   ],
   "source": [
    "print(df[\"virus\"].agg([\"mean\",\"sum\",\"count\"]).round(2))\n",
    "df[\"Length\"].describe().round(0)"
   ]
  },
  {
   "cell_type": "code",
   "execution_count": 12,
   "metadata": {
    "executionInfo": {
     "elapsed": 6,
     "status": "ok",
     "timestamp": 1706644670770,
     "user": {
      "displayName": "Dan Ofer",
      "userId": "14537932808605235168"
     },
     "user_tz": -120
    },
    "id": "aNDVeR2vQ9YZ",
    "outputId": "7e2d49e5-80a9-4757-a508-3c0374ce038f"
   },
   "outputs": [
    {
     "data": {
      "text/plain": [
       "count    4777.0\n",
       "mean      444.3\n",
       "std       304.5\n",
       "min        18.0\n",
       "25%       212.0\n",
       "50%       369.0\n",
       "75%       589.0\n",
       "max      1534.0\n",
       "Name: Length, dtype: float64"
      ]
     },
     "execution_count": 12,
     "metadata": {},
     "output_type": "execute_result"
    }
   ],
   "source": [
    "df_test[\"Length\"].describe().round(1)"
   ]
  },
  {
   "cell_type": "code",
   "execution_count": 13,
   "metadata": {
    "executionInfo": {
     "elapsed": 5,
     "status": "ok",
     "timestamp": 1706644670770,
     "user": {
      "displayName": "Dan Ofer",
      "userId": "14537932808605235168"
     },
     "user_tz": -120
    },
    "id": "F8VNnHUwRQRm",
    "outputId": "c5502a31-ec5d-417d-fb9e-87e1de7d358d"
   },
   "outputs": [
    {
     "name": "stdout",
     "output_type": "stream",
     "text": [
      "count    20340.0\n",
      "mean       447.3\n",
      "std        308.5\n",
      "min         11.0\n",
      "25%        213.0\n",
      "50%        372.0\n",
      "75%        592.2\n",
      "max       1533.0\n",
      "Name: Length, dtype: float64\n",
      "mean         0.28\n",
      "sum       5672.00\n",
      "count    20340.00\n",
      "Name: virus, dtype: float64\n"
     ]
    }
   ],
   "source": [
    "# df = df.loc[df[\"Length\"]<=2*MAX_LEN].reset_index(drop=True)\n",
    "# df_test = df_test.loc[df_test[\"Length\"]<=2*MAX_LEN].reset_index(drop=True)\n",
    "\n",
    "print(df[\"Length\"].describe().round(1))\n",
    "print(df[\"virus\"].agg([\"mean\",\"sum\",\"count\"]).round(2))"
   ]
  },
  {
   "cell_type": "code",
   "execution_count": 14,
   "metadata": {
    "id": "PcMwJBkUov07"
   },
   "outputs": [],
   "source": [
    "# ## metadata about all sequences, can be used to identify and to define targets/labels\n",
    "# df_meta = pd.read_excel(METADATA_PATH).dropna(how=\"all\",axis=1)\n",
    "# df_meta"
   ]
  },
  {
   "cell_type": "markdown",
   "metadata": {
    "id": "MSXy_OzjhIB7"
   },
   "source": [
    "### example pretrained fb/torch:\n",
    "* https://github.com/facebookresearch/esm#getting-started-with-this-repo-\n",
    "\n",
    "* Transformers + trainer example : (mlm case): https://github.com/facebookresearch/esm/discussions/556\n",
    "* keras models supported / via HF?\n",
    "  * https://huggingface.co/docs/transformers/model_doc/esm#transformers.EsmForSequenceClassification.forward.example\n",
    "\n",
    "\n",
    "  TF finetuning example (sequence evel?):\n",
    "  https://colab.research.google.com/github/huggingface/notebooks/blob/main/examples/protein_language_modeling-tf.ipynb#scrollTo=4b26b828"
   ]
  },
  {
   "cell_type": "code",
   "execution_count": 15,
   "metadata": {
    "id": "CDdMQ98rii9t"
   },
   "outputs": [],
   "source": [
    "from sklearn.model_selection import train_test_split\n",
    "from datasets import Dataset\n",
    "from transformers import AdamWeightDecay\n",
    "from tensorflow.keras.optimizers import Adafactor, Adam # more memory effecient than adamWD\n",
    "import tensorflow\n",
    "# from tensorflow.keras.metrics.AUC()\n",
    "# from transformers import AutoTokenizer #DataCollatorForLanguageModeling,\n",
    "## https://huggingface.co/docs/transformers/model_doc/esm#transformers.EsmForSequenceClassification.forward.example\n",
    "from transformers import AutoTokenizer, EsmForSequenceClassification, Trainer\n",
    "from transformers import TFAutoModelForTokenClassification, TFAutoModelForSequenceClassification ,TFEsmForSequenceClassification\n",
    "\n",
    "from peft import prepare_model_for_kbit_training, get_peft_model"
   ]
  },
  {
   "cell_type": "code",
   "execution_count": 16,
   "metadata": {
    "id": "tcssXXfaVYns"
   },
   "outputs": [],
   "source": [
    "ID2LABEL = {\n",
    "    0: \"Human\",\n",
    "    1: \"Virus\"\n",
    "}\n",
    "LABEL2ID = {v: k for k, v in ID2LABEL.items()}"
   ]
  },
  {
   "cell_type": "code",
   "execution_count": 17,
   "metadata": {
    "id": "rR9-cKgPjzW2"
   },
   "outputs": [],
   "source": [
    "train_sequences = df[\"Sequence\"].tolist()\n",
    "train_labels = df[\"virus\"].tolist()\n",
    "train_groups = df[\"Cluster name\"].tolist()\n",
    "\n",
    "# train_sequences, test_sequences, train_labels, test_labels = train_test_split(sequences, labels, test_size=0.25, shuffle=True)#,stratify=labels)\n",
    "\n",
    "test_sequences = df_test[\"Sequence\"].tolist()\n",
    "test_labels = df_test[\"virus\"].tolist()"
   ]
  },
  {
   "cell_type": "code",
   "execution_count": 18,
   "metadata": {},
   "outputs": [],
   "source": [
    "# !pip3 install bitsandbytes peft -U\n",
    " \n",
    "# !pip install bitsandbytes transformers peft --upgrade --force-reinstall"
   ]
  },
  {
   "cell_type": "code",
   "execution_count": 19,
   "metadata": {
    "executionInfo": {
     "elapsed": 3984,
     "status": "ok",
     "timestamp": 1706644674751,
     "user": {
      "displayName": "Dan Ofer",
      "userId": "14537932808605235168"
     },
     "user_tz": -120
    },
    "id": "k_KUug1Lh5bH",
    "outputId": "14e7d50d-cdfe-4965-9f83-704a4a821e55"
   },
   "outputs": [
    {
     "name": "stdout",
     "output_type": "stream",
     "text": [
      "Num labels: 2\n"
     ]
    },
    {
     "name": "stderr",
     "output_type": "stream",
     "text": [
      "Some weights of EsmForSequenceClassification were not initialized from the model checkpoint at facebook/esm2_t33_650M_UR50D and are newly initialized: ['classifier.dense.bias', 'classifier.dense.weight', 'classifier.out_proj.bias', 'classifier.out_proj.weight']\n",
      "You should probably TRAIN this model on a down-stream task to be able to use it for predictions and inference.\n"
     ]
    },
    {
     "data": {
      "text/plain": [
       "EsmForSequenceClassification(\n",
       "  (esm): EsmModel(\n",
       "    (embeddings): EsmEmbeddings(\n",
       "      (word_embeddings): Embedding(33, 1280, padding_idx=1)\n",
       "      (dropout): Dropout(p=0.0, inplace=False)\n",
       "      (position_embeddings): Embedding(1026, 1280, padding_idx=1)\n",
       "    )\n",
       "    (encoder): EsmEncoder(\n",
       "      (layer): ModuleList(\n",
       "        (0-32): 33 x EsmLayer(\n",
       "          (attention): EsmAttention(\n",
       "            (self): EsmSelfAttention(\n",
       "              (query): Linear(in_features=1280, out_features=1280, bias=True)\n",
       "              (key): Linear(in_features=1280, out_features=1280, bias=True)\n",
       "              (value): Linear(in_features=1280, out_features=1280, bias=True)\n",
       "              (dropout): Dropout(p=0.0, inplace=False)\n",
       "              (rotary_embeddings): RotaryEmbedding()\n",
       "            )\n",
       "            (output): EsmSelfOutput(\n",
       "              (dense): Linear(in_features=1280, out_features=1280, bias=True)\n",
       "              (dropout): Dropout(p=0.0, inplace=False)\n",
       "            )\n",
       "            (LayerNorm): LayerNorm((1280,), eps=1e-05, elementwise_affine=True)\n",
       "          )\n",
       "          (intermediate): EsmIntermediate(\n",
       "            (dense): Linear(in_features=1280, out_features=5120, bias=True)\n",
       "          )\n",
       "          (output): EsmOutput(\n",
       "            (dense): Linear(in_features=5120, out_features=1280, bias=True)\n",
       "            (dropout): Dropout(p=0.0, inplace=False)\n",
       "          )\n",
       "          (LayerNorm): LayerNorm((1280,), eps=1e-05, elementwise_affine=True)\n",
       "        )\n",
       "      )\n",
       "      (emb_layer_norm_after): LayerNorm((1280,), eps=1e-05, elementwise_affine=True)\n",
       "    )\n",
       "    (contact_head): EsmContactPredictionHead(\n",
       "      (regression): Linear(in_features=660, out_features=1, bias=True)\n",
       "      (activation): Sigmoid()\n",
       "    )\n",
       "  )\n",
       "  (classifier): EsmClassificationHead(\n",
       "    (dense): Linear(in_features=1280, out_features=1280, bias=True)\n",
       "    (dropout): Dropout(p=0.0, inplace=False)\n",
       "    (out_proj): Linear(in_features=1280, out_features=2, bias=True)\n",
       "  )\n",
       ")"
      ]
     },
     "execution_count": 19,
     "metadata": {},
     "output_type": "execute_result"
    }
   ],
   "source": [
    "##https://huggingface.co/docs/peft/main/en/developer_guides/quantization\n",
    "## lotfQ config - for this, do not initialize as quantized!\n",
    "# from peft import LoftQConfig, LoraConfig, get_peft_model\n",
    "# loftq_config = LoftQConfig(loftq_bits=4)\n",
    "\n",
    "## https://huggingface.co/blog/4bit-transformers-bitsandbytes\n",
    "# compute_dtype = getattr(torch, \"float16\")\n",
    "compute_dtype = getattr(torch, \"bfloat16\")\n",
    "\n",
    "nf4_config = BitsAndBytesConfig(\n",
    "   load_in_4bit=True, # disable to train ok;\n",
    "  # load_in_8bit=True, # alt\n",
    "  # bnb_4bit_quant_type=\"nf4\",\n",
    "   # bnb_4bit_use_double_quant=True,\n",
    "    # bnb_4bit_compute_dtype=torch.bfloat16,\n",
    "    # llm_int8_has_fp16_weight =True,\n",
    "    # llm_int8_threshold = 5.2,\n",
    "   # bnb_4bit_compute_dtype=compute_dtype\n",
    "    # ,llm_int8_skip_modules=['classifier',\"EsmClassificationHead\"] # was enabled? \n",
    ")\n",
    "\n",
    "#########################\n",
    "\n",
    "# Load ESM-2 model\n",
    "## smallest: esm2_t6_8M_UR50D\n",
    "## 2d smallest\n",
    "## large: esm2_t33_650M_UR50D\n",
    "\n",
    " # ElnaggarLab/ankh-base\n",
    " ### https://github.com/agemagician/Ankh/blob/main/examples/binary_classification_solubility_task.ipynb - different model?\n",
    " #  https://github.com/agemagician/Ankh#models   - 450M model size # model_checkpoint =   \"ElnaggarLab/ankh-base\"\n",
    "\n",
    "model_max_len = min(1024,MAX_LEN) # 800\n",
    "\n",
    "tokenizer = AutoTokenizer.from_pretrained(model_checkpoint,\n",
    "                                          padding= True\n",
    "#                                           padding= True# alt\n",
    "                                          ,truncation=True,max_length=model_max_len)\n",
    "\n",
    "num_labels = max(train_labels + test_labels) + 1  # Add 1 since 0 can be a label\n",
    "print(\"Num labels:\", num_labels)\n",
    "##ORIG:\n",
    "# model = TFAutoModelForSequenceClassification.from_pretrained(model_checkpoint, num_labels=num_labels,problem_type=\"single_label_classification\") # worked, orig\n",
    "\n",
    "## try this now, alt:\n",
    "# model = EsmForSequenceClassification.from_pretrained(model_checkpoint, num_labels=num_labels)\n",
    "# model = TFEsmForSequenceClassification.from_pretrained(model_checkpoint, num_labels=num_labels,problem_type=\"single_label_classification\")\n",
    "\n",
    "## https://colab.research.google.com/github/huggingface/notebooks/blob/main/examples/protein_language_modeling.ipynb#scrollTo=fc164b49 # uses trainer\n",
    "##\n",
    "\n",
    "# model = AutoModelForSequenceClassification. # orig\n",
    "# model = EsmForSequenceClassification.\n",
    "model = AutoModelForSequenceClassification.from_pretrained(model_checkpoint, \n",
    "                                                           problem_type=\"single_label_classification\", # was enabled\n",
    "                                                           # load_in_4bit=True, # disable to train ok\n",
    "                                                            # quantization_config=nf4_config,\n",
    "                                                          #  load_in_8bit=True,  torch_dtype=torch.float32, # try this - new\n",
    "                                                           # device_map= \"cuda:0\",#\"auto\",\n",
    "                                                           # device_map=\"auto\",\n",
    "                                                          num_labels=len(ID2LABEL), id2label=ID2LABEL, label2id=LABEL2ID,\n",
    "                                                            # trust_remote_code=True\n",
    "                                                           # , from_tf=True,\n",
    "                                                           # force_download =True,\n",
    "                                                          )\n",
    "\n",
    "# last_layer_num = model.num_layers ## 33 for esm2_t33_650M_UR50D\n",
    "# print(last_layer_num )\n",
    "model.train()\n",
    "# model.print_trainable_parameters()"
   ]
  },
  {
   "cell_type": "code",
   "execution_count": 20,
   "metadata": {
    "executionInfo": {
     "elapsed": 3,
     "status": "ok",
     "timestamp": 1706644674751,
     "user": {
      "displayName": "Dan Ofer",
      "userId": "14537932808605235168"
     },
     "user_tz": -120
    },
    "id": "i8amY00Q3HC3",
    "outputId": "9920c745-cdfc-445b-f9a5-39e45a147a17"
   },
   "outputs": [],
   "source": [
    "model.gradient_checkpointing_enable()\n",
    "model = prepare_model_for_kbit_training(model, use_gradient_checkpointing=True) # prepares the whole model for kbit training\n",
    "# print(model)\n",
    "# #### model.enable_input_require_grads()"
   ]
  },
  {
   "cell_type": "code",
   "execution_count": 21,
   "metadata": {},
   "outputs": [],
   "source": [
    "# ## https://github.com/huggingface/transformers/issues/27702\n",
    "\n",
    "# for name, param in model.named_parameters():\n",
    "#     # # Freeze all parameters\n",
    "#     if param.dtype in [torch.float16, torch.float32, torch.float64]:\n",
    "#     #     param.requires_grad = False\n",
    "\n",
    "#         # Unfreeze the last two layers in 'layers' and 'score'\n",
    "#         # if name.startswith('model.layers') and (int(name.split('.')[2]) >= 30):\n",
    "#         #     param.requires_grad = True\n",
    "#         # elif name.startswith('score'):\n",
    "#         #     param.requires_grad = True\n",
    "#         if name.startswith('class'):\n",
    "#             print(name,param.requires_grad)\n",
    "#             param.requires_grad = True"
   ]
  },
  {
   "cell_type": "code",
   "execution_count": 22,
   "metadata": {},
   "outputs": [],
   "source": [
    "import bitsandbytes as bnb\n",
    "def find_all_linear_names(model):\n",
    "    lora_module_names = set()\n",
    "    for name, module in model.named_modules():\n",
    "        if isinstance(module, bnb.nn.Linear4bit):\n",
    "            names = name.split(\".\")\n",
    "            lora_module_names.add(names[0] if len(names) == 1 else names[-1])\n",
    "\n",
    "    if \"lm_head\" in lora_module_names:  # needed for 16-bit\n",
    "        lora_module_names.remove(\"lm_head\")\n",
    "    return list(lora_module_names)\n",
    "\n",
    "\n",
    "my_lin_layers = find_all_linear_names(model)\n",
    "# print(my_lin_layers)"
   ]
  },
  {
   "cell_type": "markdown",
   "metadata": {},
   "source": [
    "\"After we wrap our base model model with PeftModel along with the config, we get a new model where only the LoRA parameters are trainable (so-called “update matrices”) while the pre-trained parameters are kept frozen. These include the parameters of the randomly initialized classifier parameters too. This is NOT we want when fine-tuning the base model on our custom dataset. To ensure that the classifier parameters are also trained, we specify modules_to_save. This also ensures that these modules are serialized alongside the LoRA trainable parameters when using utilities like save_pretrained() and push_to_hub().\n",
    "\n",
    "In addition to specifying the target_modules within LoraConfig, we also need to specify the modules_to_save. When we wrap our base model with PeftModel and pass the configuration, we obtain a new model in which only the LoRA parameters are trainable, while the pre-trained parameters and the randomly initialized classifier parameters are kept frozen. However, we do want to train the classifier parameters. By specifying the modules_to_save argument, we ensure that the classifier parameters are also trainable, and they will be serialized alongside the LoRA trainable parameters when we use utility functions like save_pretrained() and push_to_hub().\""
   ]
  },
  {
   "cell_type": "markdown",
   "metadata": {},
   "source": [
    "* `task_type= \"SEQ_CLS\"` - breaks - RuntimeError: only Tensors of floating point dtype can require gradients"
   ]
  },
  {
   "cell_type": "code",
   "execution_count": 23,
   "metadata": {},
   "outputs": [
    {
     "data": {
      "text/plain": [
       "'facebook/esm2_t33_650M_UR50D'"
      ]
     },
     "execution_count": 23,
     "metadata": {},
     "output_type": "execute_result"
    }
   ],
   "source": [
    "model_checkpoint"
   ]
  },
  {
   "cell_type": "code",
   "execution_count": 24,
   "metadata": {
    "executionInfo": {
     "elapsed": 1446,
     "status": "ok",
     "timestamp": 1706644676196,
     "user": {
      "displayName": "Dan Ofer",
      "userId": "14537932808605235168"
     },
     "user_tz": -120
    },
    "id": "us1e8ZABC-Ux",
    "outputId": "eca9e5b0-9d94-46a2-eee7-f140620f5cc7"
   },
   "outputs": [
    {
     "name": "stdout",
     "output_type": "stream",
     "text": [
      "trainable params: 8,226,747 || all params: 660,148,065 || trainable%: 1.2461972451589327\n"
     ]
    }
   ],
   "source": [
    "## https://huggingface.co/blog/AmelieSchreiber/esmbind\n",
    "# https://huggingface.co/docs/peft/task_guides/token-classification-lora\n",
    "### target modules?? https://discuss.huggingface.co/t/esm-2-qlora-gradient-checkpointing-not-compatible/53505/2\n",
    "## could also set to all linear? \n",
    "\n",
    "### https://huggingface.co/docs/peft/task_guides/semantic_segmentation_lora#wrap-the-base-model-as-a-peftmodel-for-lora-training\n",
    "\n",
    "peft_config = LoraConfig(base_model_name_or_path=model_checkpoint, task_type= TaskType.SEQ_CLS,#\"SEQ_CLS\",#TaskType.SEQ_CLS, ## disabling helps?? (then get \"ValueError: Attempting to unscale FP16 gradients.\")\n",
    "    inference_mode=False, r= 2 if FAST_RUN else 8, # 8, #16,\n",
    "    lora_alpha=16,\n",
    "    # lora_dropout=0.05,\n",
    "    use_rslora = True,\n",
    "    bias= \"all\", #\"lora_only\",#\"all\", #\"lora_only\",\n",
    "    # bias=\"lora_only\",\n",
    "    # target_modules=my_lin_layers,\n",
    "    #                      [\n",
    "    #     \"query\", \"key\", \"value\",\n",
    "    #     \"dense\",\n",
    "    # # \"out_proj\"\n",
    "    # ]\n",
    "    #                 \"EsmSelfOutput.dense\",\n",
    "    #         \"EsmIntermediate.dense\",\n",
    "    #         \"EsmOutput.dense\",\n",
    "    #                 # \"word_embeddings\",\n",
    "    #                 # \"EsmClassificationHead.dense\", ## not sure if works/changes anything\n",
    "    #                 # \"out_proj\",\n",
    "    #                 # \"classifier\" # fails\n",
    "    #                 ],\n",
    "        # target_modules=  target_modules#\"all-linear\"#modules_list,\n",
    "           target_modules=  \"all-linear\" ## causes save score bug; but won't work without this\n",
    "                         \n",
    "    # # ### https://www.kaggle.com/code/andregrbnr/protein-sequence-classification\n",
    "     # ,modules_to_save= # \"all-linear\",\n",
    "      # ,modules_to_save=  [ 'EsmClassificationHead.dense','EsmClassificationHead.out_proj']#, 'classifier.out_proj'] # \"EsmClassificationHead.dense\"\n",
    "#                       # \"classifier\",\n",
    "         # ,modules_to_save= [\"EsmClassificationHead\"]\n",
    "      \n",
    "# #          \"pooler\",\n",
    "# # # #                      'classifier.dense.bias', 'classifier.dense.weight', 'classifier.out_proj.bias', 'classifier.out_proj.weight'\n",
    "                     # ]\n",
    "    ## 'classifier.dense.bias', 'classifier.dense.weight', 'classifier.out_proj.bias', 'classifier.out_proj.weight'\n",
    "    # ,modules_to_save=[\"classifier\"]\n",
    "                         # ,modules_to_save=[ 'classifier.dense', 'classifier.out_proj']\n",
    ")\n",
    "\n",
    "get_peft_model(model, peft_config)\n",
    "\n",
    "# model = get_peft_model(model, peft_config,mixed=True) # mixed prevents peft save, but othewise, 8bit error?\n",
    "model = get_peft_model(model, peft_config)\n",
    "model.print_trainable_parameters()"
   ]
  },
  {
   "cell_type": "code",
   "execution_count": 25,
   "metadata": {},
   "outputs": [],
   "source": [
    "# print(model)\n",
    "# get_peft_model(model, peft_config)"
   ]
  },
  {
   "cell_type": "code",
   "execution_count": 26,
   "metadata": {
    "id": "0Q63xxjeTIDR"
   },
   "outputs": [],
   "source": [
    "# # # ## redo here?\n",
    "# model.gradient_checkpointing_enable()\n",
    "# model = prepare_model_for_kbit_training(model) # prepares the whole model for kbit training\n",
    "# # print(model)"
   ]
  },
  {
   "cell_type": "code",
   "execution_count": 27,
   "metadata": {
    "id": "Aw4wKUDNFnBj"
   },
   "outputs": [],
   "source": [
    "## Warning - longer than allowed length - 1024\n",
    "train_tokenized = tokenizer( train_sequences,  truncation=True,max_length=model_max_len,padding=False) # padding=True,\n",
    "test_tokenized = tokenizer(test_sequences,  truncation=True,max_length=model_max_len,padding=False) # padding=True,"
   ]
  },
  {
   "cell_type": "code",
   "execution_count": 28,
   "metadata": {
    "executionInfo": {
     "elapsed": 4139,
     "status": "ok",
     "timestamp": 1706644730638,
     "user": {
      "displayName": "Dan Ofer",
      "userId": "14537932808605235168"
     },
     "user_tz": -120
    },
    "id": "fQhT9cfOFnED",
    "outputId": "50abafab-4d03-48f7-db6f-6be8a6dfe5a4"
   },
   "outputs": [
    {
     "data": {
      "text/plain": [
       "Dataset({\n",
       "    features: ['input_ids', 'attention_mask', 'labels'],\n",
       "    num_rows: 20340\n",
       "})"
      ]
     },
     "execution_count": 28,
     "metadata": {},
     "output_type": "execute_result"
    }
   ],
   "source": [
    "train_dataset = Dataset.from_dict(train_tokenized)\n",
    "test_dataset = Dataset.from_dict(test_tokenized)\n",
    "\n",
    "train_dataset = train_dataset.add_column(\"labels\", train_labels)\n",
    "test_dataset = test_dataset.add_column(\"labels\", test_labels)\n",
    "train_dataset"
   ]
  },
  {
   "cell_type": "code",
   "execution_count": 29,
   "metadata": {
    "id": "y_4o9iEZFLBZ"
   },
   "outputs": [],
   "source": [
    "# from accelerate import Accelerator\n",
    "# # # Use the accelerator\n",
    "# # ### try disabling? (with qlora)\n",
    "# # accelerator = Accelerator()# trying this\n",
    "# # # # accelerator = Accelerator(mixed_precision=\"fp16\") # fp16 # orig used\n",
    "# model = accelerator.prepare(model)\n",
    "\n",
    "# train_dataset = accelerator.prepare(train_dataset)\n",
    "# test_dataset = accelerator.prepare(test_dataset)"
   ]
  },
  {
   "cell_type": "markdown",
   "metadata": {
    "id": "ZEcix1ZWfQg-"
   },
   "source": [
    "With 35M model :\n",
    "```\n",
    "Default (1024) max length\n",
    "batch_size=8\n",
    "\n",
    "opt = Adafactor(1e-4)##AdamWeightDecay(1e-4) #default: AdamWeightDecay(2e-5)\n",
    "model.compile(optimizer=opt, metrics=[\"accuracy\"],\n",
    "              loss=\"BinaryCrossentropy\")\n",
    "3813/3813 [==============================] - 2625s 661ms/step - loss: 0.2452 - accuracy: 0.9104 - val_loss: 0.1622 - val_accuracy: 0.9363\n",
    "Epoch 2/3\n",
    "3813/3813 [==============================] - 2518s 661ms/step - loss: 0.1218 - accuracy: 0.9597 - val_loss: 0.1533 - val_accuracy: 0.9463\n",
    "Epoch 3/3\n",
    "3813/3813 [==============================] - 2523s 662ms/step - loss: 0.0730 - accuracy: 0.9799 - val_loss: 0.1978 - val_accuracy: 0.9436\n",
    "\n",
    "```"
   ]
  },
  {
   "cell_type": "code",
   "execution_count": 30,
   "metadata": {
    "id": "Q_3tSKYxJJtE"
   },
   "outputs": [],
   "source": [
    "from sklearn.metrics import precision_recall_fscore_support,accuracy_score,roc_auc_score\n",
    "import evaluate\n",
    "\n",
    "from datasets import load_metric\n",
    "import torch._dynamo\n",
    "torch._dynamo.config.suppress_errors = True\n",
    "    \n",
    "metric_acc = evaluate.load(\"accuracy\")\n",
    "\n",
    "metric = evaluate.load(\"accuracy\")\n",
    "\n",
    "def compute_metrics(pred):\n",
    "    labels = pred.label_ids\n",
    "    preds = pred.predictions.argmax(-1)\n",
    "    # precision, recall, f1, _ = precision_recall_fscore_support(labels, preds, average='micro')\n",
    "    acc = accuracy_score(labels, preds)\n",
    "    return {\n",
    "        'accuracy': acc,\n",
    "        # 'f1': f1,\n",
    "        # 'precision': precision,\n",
    "        # 'recall': recall,\n",
    "        \"roc_auc\":roc_auc_score(labels,pred.predictions[:,1])\n",
    "    }"
   ]
  },
  {
   "cell_type": "code",
   "execution_count": 31,
   "metadata": {
    "executionInfo": {
     "elapsed": 4,
     "status": "ok",
     "timestamp": 1706644733230,
     "user": {
      "displayName": "Dan Ofer",
      "userId": "14537932808605235168"
     },
     "user_tz": -120
    },
    "id": "DUSLawmyM_GS",
    "outputId": "86a59590-af50-4828-e0de-a9da50297f2e"
   },
   "outputs": [
    {
     "name": "stdout",
     "output_type": "stream",
     "text": [
      "esm2_t33_650M_UR50D\n"
     ]
    }
   ],
   "source": [
    "# ### AttributeError: 'TFEsmForSequenceClassification' object has no attribute 'to'\n",
    "model_name = model_checkpoint.split(\"/\")[-1]\n",
    "print(model_name)\n",
    "\n",
    "training_args = TrainingArguments(\n",
    "    MODEL_DRIVE_SAVE_PATH, # new output path\n",
    "    overwrite_output_dir=True,\n",
    "    # f\"{model_name}-finetuned-ft-humVir\",\n",
    "    # f\"/content/drive/MyDrive/proteins/New Protein-Virus anom project/t{model_name}-finetuned-humVir\",\n",
    "    per_device_train_batch_size=bch_size,\n",
    "    # per_device_eval_batch_size=int(1.5*bch_size),\n",
    "#     gradient_accumulation_steps= 2, #4,\n",
    "    gradient_checkpointing=True,\n",
    "    # fp16=True,\n",
    "    bf16=True, # needs ampere, not supported ?\n",
    "    tf32=True,\n",
    "        # torch_compile = True,\n",
    "    optim = \"adamw_8bit\", #\"paged_adamw_8bit\", # adamw_bnb_8bit\n",
    "    # optim= \"adamw_bnb_8bit\", #\"paged_adamw_8bit\",\n",
    "    label_names = [\"labels\"],\n",
    "    learning_rate = 5e-4#2e-4 #5e-3,\n",
    "    # lr_scheduler_type=\"cosine\",\n",
    "    ,max_grad_norm = 0.95,\n",
    "    weight_decay=0.001,\n",
    "    # eval_accumulation_steps = 2#8\n",
    "    evaluation_strategy=\"epoch\",\n",
    "    # warmup_ratio=0.02,\n",
    "    save_strategy= \"epoch\",#\"no\",\n",
    "    # output_dir=\".\",\n",
    "     no_cuda=False,\n",
    "     greater_is_better=True,\n",
    "     # save_total_limit=1,\n",
    "  remove_unused_columns=False,\n",
    "    auto_find_batch_size = True, # new , reduces if oom\n",
    "    num_train_epochs=num_epochs,\n",
    "    load_best_model_at_end=True,\n",
    "    metric_for_best_model= \"eval_roc_auc\",#\"accuracy\",\n",
    "    group_by_length=True,\n",
    ")\n",
    "\n",
    "trainer = Trainer(model=model, args=training_args,\n",
    "                  train_dataset=train_dataset,eval_dataset=test_dataset,tokenizer=tokenizer,\n",
    "                  compute_metrics=compute_metrics,)"
   ]
  },
  {
   "cell_type": "code",
   "execution_count": 121,
   "metadata": {},
   "outputs": [],
   "source": [
    "## nasty bug\n",
    "## https://discuss.huggingface.co/t/llama-2-sequence-classification-much-lower-accuracy-on-inference-from-checkpoint-compared-to-model/54910/2\n",
    "## use a callback for saving during trainin ; and when you load a checkpoint:\n",
    "from transformers import TrainerCallback\n",
    "\n",
    "# class SaveScoreCallback(TrainerCallback):  \n",
    "#     def __init__(self, model) -> None:\n",
    "#         super().__init__()\n",
    "#         self.model = model\n",
    "\n",
    "#     def on_save(self, \n",
    "#                 args: TrainingArguments, \n",
    "#                 state: TrainerState,\n",
    "#                 control: TrainerControl,\n",
    "#                 **kwargs ):\n",
    "#         fname = f\"{args.output_dir}/checkpoint-{state.global_step}/score.original_module.pt\"\n",
    "#         torch.save(model.model.score.original_module.state_dict(), fname)\n",
    "\n",
    "# trainer.add_callback(SaveScoreCallback(model)) \n",
    "\n",
    "# torch.save(kwargs['model'].score.original_module.state_dict(),fname)\n",
    "\n",
    "## or:  another workaround  (note: llama uses score layer as classification head? \n",
    "# https://github.com/huggingface/peft/issues/602\n",
    "\n",
    "## or (easier save state fix?)\n",
    "# https://github.com/huggingface/peft/issues/503"
   ]
  },
  {
   "cell_type": "code",
   "execution_count": 122,
   "metadata": {
    "id": "hbj58ofX8umQ",
    "outputId": "a60712d1-b63b-4c6f-a988-d8e8b50a0c77"
   },
   "outputs": [
    {
     "name": "stderr",
     "output_type": "stream",
     "text": [
      "/home/ddofer/anaconda3/envs/hf/lib/python3.10/site-packages/torch/utils/checkpoint.py:460: UserWarning: torch.utils.checkpoint: please pass in use_reentrant=True or use_reentrant=False explicitly. The default value of use_reentrant will be updated to be False in the future. To maintain current behavior, pass use_reentrant=True. It is recommended that you use use_reentrant=False. Refer to docs for more details on the differences between the two variants.\n",
      "  warnings.warn(\n"
     ]
    },
    {
     "data": {
      "text/html": [
       "\n",
       "    <div>\n",
       "      \n",
       "      <progress value='5088' max='5088' style='width:300px; height:20px; vertical-align: middle;'></progress>\n",
       "      [5088/5088 1:24:15, Epoch 4/4]\n",
       "    </div>\n",
       "    <table border=\"1\" class=\"dataframe\">\n",
       "  <thead>\n",
       " <tr style=\"text-align: left;\">\n",
       "      <th>Epoch</th>\n",
       "      <th>Training Loss</th>\n",
       "      <th>Validation Loss</th>\n",
       "      <th>Accuracy</th>\n",
       "      <th>Roc Auc</th>\n",
       "    </tr>\n",
       "  </thead>\n",
       "  <tbody>\n",
       "    <tr>\n",
       "      <td>1</td>\n",
       "      <td>0.280400</td>\n",
       "      <td>0.296326</td>\n",
       "      <td>0.879841</td>\n",
       "      <td>0.918137</td>\n",
       "    </tr>\n",
       "    <tr>\n",
       "      <td>2</td>\n",
       "      <td>0.252200</td>\n",
       "      <td>0.316944</td>\n",
       "      <td>0.893448</td>\n",
       "      <td>0.927732</td>\n",
       "    </tr>\n",
       "    <tr>\n",
       "      <td>3</td>\n",
       "      <td>0.222400</td>\n",
       "      <td>0.293456</td>\n",
       "      <td>0.889261</td>\n",
       "      <td>0.926560</td>\n",
       "    </tr>\n",
       "    <tr>\n",
       "      <td>4</td>\n",
       "      <td>0.227000</td>\n",
       "      <td>0.297188</td>\n",
       "      <td>0.892610</td>\n",
       "      <td>0.928349</td>\n",
       "    </tr>\n",
       "  </tbody>\n",
       "</table><p>"
      ],
      "text/plain": [
       "<IPython.core.display.HTML object>"
      ]
     },
     "metadata": {},
     "output_type": "display_data"
    },
    {
     "name": "stderr",
     "output_type": "stream",
     "text": [
      "Checkpoint destination directory ./esm650_lora_trainer_model/checkpoint-1272 already exists and is non-empty. Saving will proceed but saved results may be invalid.\n",
      "/home/ddofer/anaconda3/envs/hf/lib/python3.10/site-packages/torch/utils/checkpoint.py:460: UserWarning: torch.utils.checkpoint: please pass in use_reentrant=True or use_reentrant=False explicitly. The default value of use_reentrant will be updated to be False in the future. To maintain current behavior, pass use_reentrant=True. It is recommended that you use use_reentrant=False. Refer to docs for more details on the differences between the two variants.\n",
      "  warnings.warn(\n",
      "Checkpoint destination directory ./esm650_lora_trainer_model/checkpoint-2544 already exists and is non-empty. Saving will proceed but saved results may be invalid.\n",
      "/home/ddofer/anaconda3/envs/hf/lib/python3.10/site-packages/torch/utils/checkpoint.py:460: UserWarning: torch.utils.checkpoint: please pass in use_reentrant=True or use_reentrant=False explicitly. The default value of use_reentrant will be updated to be False in the future. To maintain current behavior, pass use_reentrant=True. It is recommended that you use use_reentrant=False. Refer to docs for more details on the differences between the two variants.\n",
      "  warnings.warn(\n",
      "Checkpoint destination directory ./esm650_lora_trainer_model/checkpoint-3816 already exists and is non-empty. Saving will proceed but saved results may be invalid.\n",
      "/home/ddofer/anaconda3/envs/hf/lib/python3.10/site-packages/torch/utils/checkpoint.py:460: UserWarning: torch.utils.checkpoint: please pass in use_reentrant=True or use_reentrant=False explicitly. The default value of use_reentrant will be updated to be False in the future. To maintain current behavior, pass use_reentrant=True. It is recommended that you use use_reentrant=False. Refer to docs for more details on the differences between the two variants.\n",
      "  warnings.warn(\n",
      "Checkpoint destination directory ./esm650_lora_trainer_model/checkpoint-5088 already exists and is non-empty. Saving will proceed but saved results may be invalid.\n"
     ]
    }
   ],
   "source": [
    "if TRAIN_MODEL:\n",
    "    result = trainer.train()"
   ]
  },
  {
   "cell_type": "code",
   "execution_count": 123,
   "metadata": {},
   "outputs": [
    {
     "data": {
      "text/plain": [
       "PeftModelForSequenceClassification(\n",
       "  (base_model): LoraModel(\n",
       "    (model): EsmForSequenceClassification(\n",
       "      (esm): EsmModel(\n",
       "        (embeddings): EsmEmbeddings(\n",
       "          (word_embeddings): Embedding(33, 1280, padding_idx=1)\n",
       "          (dropout): Dropout(p=0.0, inplace=False)\n",
       "          (position_embeddings): Embedding(1026, 1280, padding_idx=1)\n",
       "        )\n",
       "        (encoder): EsmEncoder(\n",
       "          (layer): ModuleList(\n",
       "            (0-32): 33 x EsmLayer(\n",
       "              (attention): EsmAttention(\n",
       "                (self): EsmSelfAttention(\n",
       "                  (query): Linear(in_features=1280, out_features=1280, bias=True)\n",
       "                  (key): Linear(in_features=1280, out_features=1280, bias=True)\n",
       "                  (value): Linear(in_features=1280, out_features=1280, bias=True)\n",
       "                  (dropout): Dropout(p=0.0, inplace=False)\n",
       "                  (rotary_embeddings): RotaryEmbedding()\n",
       "                )\n",
       "                (output): EsmSelfOutput(\n",
       "                  (dense): Linear(in_features=1280, out_features=1280, bias=True)\n",
       "                  (dropout): Dropout(p=0.0, inplace=False)\n",
       "                )\n",
       "                (LayerNorm): LayerNorm((1280,), eps=1e-05, elementwise_affine=True)\n",
       "              )\n",
       "              (intermediate): EsmIntermediate(\n",
       "                (dense): Linear(in_features=1280, out_features=5120, bias=True)\n",
       "              )\n",
       "              (output): EsmOutput(\n",
       "                (dense): Linear(in_features=5120, out_features=1280, bias=True)\n",
       "                (dropout): Dropout(p=0.0, inplace=False)\n",
       "              )\n",
       "              (LayerNorm): LayerNorm((1280,), eps=1e-05, elementwise_affine=True)\n",
       "            )\n",
       "          )\n",
       "          (emb_layer_norm_after): LayerNorm((1280,), eps=1e-05, elementwise_affine=True)\n",
       "        )\n",
       "        (contact_head): EsmContactPredictionHead(\n",
       "          (regression): Linear(in_features=660, out_features=1, bias=True)\n",
       "          (activation): Sigmoid()\n",
       "        )\n",
       "      )\n",
       "      (classifier): EsmClassificationHead(\n",
       "        (dense): Linear(in_features=1280, out_features=1280, bias=True)\n",
       "        (dropout): Dropout(p=0.0, inplace=False)\n",
       "        (out_proj): Linear(in_features=1280, out_features=2, bias=True)\n",
       "      )\n",
       "    )\n",
       "  )\n",
       ")"
      ]
     },
     "execution_count": 123,
     "metadata": {},
     "output_type": "execute_result"
    }
   ],
   "source": [
    "trainer.model"
   ]
  },
  {
   "cell_type": "code",
   "execution_count": 124,
   "metadata": {},
   "outputs": [],
   "source": [
    "# # https://github.com/huggingface/transformers/issues/26160\n",
    "# orig_weights = trainer.model.classifier.original_module.weight.cpu().detach()"
   ]
  },
  {
   "cell_type": "code",
   "execution_count": 125,
   "metadata": {},
   "outputs": [
    {
     "data": {
      "text/plain": [
       "EsmForSequenceClassification(\n",
       "  (esm): EsmModel(\n",
       "    (embeddings): EsmEmbeddings(\n",
       "      (word_embeddings): Embedding(33, 1280, padding_idx=1)\n",
       "      (dropout): Dropout(p=0.0, inplace=False)\n",
       "      (position_embeddings): Embedding(1026, 1280, padding_idx=1)\n",
       "    )\n",
       "    (encoder): EsmEncoder(\n",
       "      (layer): ModuleList(\n",
       "        (0-32): 33 x EsmLayer(\n",
       "          (attention): EsmAttention(\n",
       "            (self): EsmSelfAttention(\n",
       "              (query): Linear(in_features=1280, out_features=1280, bias=True)\n",
       "              (key): Linear(in_features=1280, out_features=1280, bias=True)\n",
       "              (value): Linear(in_features=1280, out_features=1280, bias=True)\n",
       "              (dropout): Dropout(p=0.0, inplace=False)\n",
       "              (rotary_embeddings): RotaryEmbedding()\n",
       "            )\n",
       "            (output): EsmSelfOutput(\n",
       "              (dense): Linear(in_features=1280, out_features=1280, bias=True)\n",
       "              (dropout): Dropout(p=0.0, inplace=False)\n",
       "            )\n",
       "            (LayerNorm): LayerNorm((1280,), eps=1e-05, elementwise_affine=True)\n",
       "          )\n",
       "          (intermediate): EsmIntermediate(\n",
       "            (dense): Linear(in_features=1280, out_features=5120, bias=True)\n",
       "          )\n",
       "          (output): EsmOutput(\n",
       "            (dense): Linear(in_features=5120, out_features=1280, bias=True)\n",
       "            (dropout): Dropout(p=0.0, inplace=False)\n",
       "          )\n",
       "          (LayerNorm): LayerNorm((1280,), eps=1e-05, elementwise_affine=True)\n",
       "        )\n",
       "      )\n",
       "      (emb_layer_norm_after): LayerNorm((1280,), eps=1e-05, elementwise_affine=True)\n",
       "    )\n",
       "    (contact_head): EsmContactPredictionHead(\n",
       "      (regression): Linear(in_features=660, out_features=1, bias=True)\n",
       "      (activation): Sigmoid()\n",
       "    )\n",
       "  )\n",
       "  (classifier): EsmClassificationHead(\n",
       "    (dense): Linear(in_features=1280, out_features=1280, bias=True)\n",
       "    (dropout): Dropout(p=0.0, inplace=False)\n",
       "    (out_proj): Linear(in_features=1280, out_features=2, bias=True)\n",
       "  )\n",
       ")"
      ]
     },
     "execution_count": 125,
     "metadata": {},
     "output_type": "execute_result"
    }
   ],
   "source": [
    "merged_model = trainer.model.merge_and_unload()\n",
    "merged_model"
   ]
  },
  {
   "cell_type": "code",
   "execution_count": 126,
   "metadata": {
    "id": "EyRpkv4OkP0V"
   },
   "outputs": [],
   "source": [
    "# trainer.evaluate()"
   ]
  },
  {
   "cell_type": "code",
   "execution_count": 127,
   "metadata": {
    "id": "yifiIXEx_HcR"
   },
   "outputs": [
    {
     "data": {
      "text/plain": [
       "'./esm650_lora_trainer_model'"
      ]
     },
     "execution_count": 127,
     "metadata": {},
     "output_type": "execute_result"
    }
   ],
   "source": [
    "MODEL_DRIVE_SAVE_PATH"
   ]
  },
  {
   "cell_type": "code",
   "execution_count": 128,
   "metadata": {
    "id": "VvTTO8X13jRs"
   },
   "outputs": [
    {
     "name": "stdout",
     "output_type": "stream",
     "text": [
      "saving merged\n"
     ]
    }
   ],
   "source": [
    "if TRAIN_MODEL:    \n",
    "    if SAVE_MODEL:\n",
    "        print(\"saving merged\")\n",
    "      # trainer.model.merge_and_unload() # merges the adapter layers into the base model. (vs saving just adapter part?)\n",
    "        # trainer.save_model(\"/content/drive/MyDrive/proteins/New Protein-Virus anom project/mini_trained_esm_qlora_trainer_model\")\n",
    "        # trainer.save_model(MODEL_DRIVE_SAVE_PATH)\n",
    "        # trainer.model.save_pretrained(MODEL_DRIVE_SAVE_PATH) #. PEFT friendly\n",
    "\n",
    "        ## merge peft weights with model - due to loading bug in peft? \n",
    "        merged_model = trainer.model.merge_and_unload()\n",
    "        merged_trainer = Trainer(model=merged_model,args=training_args, train_dataset=train_dataset,eval_dataset=test_dataset,tokenizer=tokenizer,)\n",
    "        # merged_trainer.save_model(MODEL_DRIVE_SAVE_PATH)\n",
    "        merged_model.save_pretrained(MODEL_DRIVE_SAVE_PATH)\n",
    "        merged_trainer.save_model(\"final\")\n",
    "        merged_model"
   ]
  },
  {
   "cell_type": "code",
   "execution_count": 129,
   "metadata": {},
   "outputs": [
    {
     "data": {
      "text/plain": [
       "'./esm650_lora_trainer_model'"
      ]
     },
     "execution_count": 129,
     "metadata": {},
     "output_type": "execute_result"
    }
   ],
   "source": [
    "MODEL_DRIVE_SAVE_PATH"
   ]
  },
  {
   "cell_type": "code",
   "execution_count": 130,
   "metadata": {
    "scrolled": true
   },
   "outputs": [],
   "source": [
    "# merged_model = trainer.model.merge_and_unload()\n",
    "# print(merged_model)\n",
    "# # merged_model.save_model(MODEL_DRIVE_SAVE_PATH)\n",
    "# merged_trainer = Trainer(model=merged_model,args=training_args, train_dataset=train_dataset,eval_dataset=test_dataset,tokenizer=tokenizer,)\n",
    "# merged_trainer.save_model(MODEL_DRIVE_SAVE_PATH)"
   ]
  },
  {
   "cell_type": "code",
   "execution_count": 131,
   "metadata": {
    "id": "1uMm7Apt1PR7"
   },
   "outputs": [],
   "source": [
    "if TRAIN_MODEL:\n",
    "    try: trainer.model.eval()\n",
    "    except:()"
   ]
  },
  {
   "cell_type": "markdown",
   "metadata": {
    "id": "xyaiUSi0DP6r"
   },
   "source": [
    "### load model for **comparison**\n",
    "* , untrained model ?\n",
    "*  https://huggingface.co/blog/AmelieSchreiber/esmbind"
   ]
  },
  {
   "cell_type": "code",
   "execution_count": 132,
   "metadata": {},
   "outputs": [
    {
     "data": {
      "text/plain": [
       "'facebook/esm2_t33_650M_UR50D'"
      ]
     },
     "execution_count": 132,
     "metadata": {},
     "output_type": "execute_result"
    }
   ],
   "source": [
    "model_checkpoint"
   ]
  },
  {
   "cell_type": "code",
   "execution_count": 133,
   "metadata": {
    "id": "6jyS1XD9DPI0"
   },
   "outputs": [
    {
     "name": "stderr",
     "output_type": "stream",
     "text": [
      "Some weights of EsmForSequenceClassification were not initialized from the model checkpoint at facebook/esm2_t33_650M_UR50D and are newly initialized: ['classifier.dense.bias', 'classifier.dense.weight', 'classifier.out_proj.bias', 'classifier.out_proj.weight']\n",
      "You should probably TRAIN this model on a down-stream task to be able to use it for predictions and inference.\n"
     ]
    },
    {
     "data": {
      "text/plain": [
       "EsmForSequenceClassification(\n",
       "  (esm): EsmModel(\n",
       "    (embeddings): EsmEmbeddings(\n",
       "      (word_embeddings): Embedding(33, 1280, padding_idx=1)\n",
       "      (dropout): Dropout(p=0.0, inplace=False)\n",
       "      (position_embeddings): Embedding(1026, 1280, padding_idx=1)\n",
       "    )\n",
       "    (encoder): EsmEncoder(\n",
       "      (layer): ModuleList(\n",
       "        (0-32): 33 x EsmLayer(\n",
       "          (attention): EsmAttention(\n",
       "            (self): EsmSelfAttention(\n",
       "              (query): Linear(in_features=1280, out_features=1280, bias=True)\n",
       "              (key): Linear(in_features=1280, out_features=1280, bias=True)\n",
       "              (value): Linear(in_features=1280, out_features=1280, bias=True)\n",
       "              (dropout): Dropout(p=0.0, inplace=False)\n",
       "              (rotary_embeddings): RotaryEmbedding()\n",
       "            )\n",
       "            (output): EsmSelfOutput(\n",
       "              (dense): Linear(in_features=1280, out_features=1280, bias=True)\n",
       "              (dropout): Dropout(p=0.0, inplace=False)\n",
       "            )\n",
       "            (LayerNorm): LayerNorm((1280,), eps=1e-05, elementwise_affine=True)\n",
       "          )\n",
       "          (intermediate): EsmIntermediate(\n",
       "            (dense): Linear(in_features=1280, out_features=5120, bias=True)\n",
       "          )\n",
       "          (output): EsmOutput(\n",
       "            (dense): Linear(in_features=5120, out_features=1280, bias=True)\n",
       "            (dropout): Dropout(p=0.0, inplace=False)\n",
       "          )\n",
       "          (LayerNorm): LayerNorm((1280,), eps=1e-05, elementwise_affine=True)\n",
       "        )\n",
       "      )\n",
       "      (emb_layer_norm_after): LayerNorm((1280,), eps=1e-05, elementwise_affine=True)\n",
       "    )\n",
       "    (contact_head): EsmContactPredictionHead(\n",
       "      (regression): Linear(in_features=660, out_features=1, bias=True)\n",
       "      (activation): Sigmoid()\n",
       "    )\n",
       "  )\n",
       "  (classifier): EsmClassificationHead(\n",
       "    (dense): Linear(in_features=1280, out_features=1280, bias=True)\n",
       "    (dropout): Dropout(p=0.0, inplace=False)\n",
       "    (out_proj): Linear(in_features=1280, out_features=2, bias=True)\n",
       "  )\n",
       ")"
      ]
     },
     "execution_count": 133,
     "metadata": {},
     "output_type": "execute_result"
    }
   ],
   "source": [
    "### https://huggingface.co/blog/AmelieSchreiber/esmbind\n",
    "# # ESM2 base model\n",
    "# base_model_path = \"facebook/esm2_t12_35M_UR50D\"\n",
    "\n",
    "base_model = AutoModelForSequenceClassification.from_pretrained(model_checkpoint, num_labels=num_labels,problem_type=\"single_label_classification\")\n",
    "base_model.eval()"
   ]
  },
  {
   "cell_type": "code",
   "execution_count": 134,
   "metadata": {
    "id": "2PwK94icaX_o"
   },
   "outputs": [
    {
     "name": "stdout",
     "output_type": "stream",
     "text": [
      "Untrained base model\n"
     ]
    },
    {
     "data": {
      "text/html": [
       "\n",
       "    <div>\n",
       "      \n",
       "      <progress value='25' max='25' style='width:300px; height:20px; vertical-align: middle;'></progress>\n",
       "      [25/25 00:04]\n",
       "    </div>\n",
       "    "
      ],
      "text/plain": [
       "<IPython.core.display.HTML object>"
      ]
     },
     "metadata": {},
     "output_type": "display_data"
    },
    {
     "name": "stdout",
     "output_type": "stream",
     "text": [
      "{'eval_loss': 0.6998046636581421, 'eval_accuracy': 0.36, 'eval_roc_auc': 0.7711547452080412, 'eval_runtime': 5.1011, 'eval_samples_per_second': 39.208, 'eval_steps_per_second': 4.901}\n"
     ]
    }
   ],
   "source": [
    "# if FAST_RUN:\n",
    "print(\"Untrained base model\")\n",
    "print(Trainer(model=base_model, args=training_args,\n",
    "                  train_dataset=train_dataset,\n",
    "              # eval_dataset=test_dataset,\n",
    "              eval_dataset=train_dataset.select(range(200)),\n",
    "              tokenizer=tokenizer,\n",
    "                  compute_metrics=compute_metrics,).evaluate()) # worse than trained model - OK!"
   ]
  },
  {
   "cell_type": "code",
   "execution_count": 135,
   "metadata": {
    "id": "u1pYpEezBD2E"
   },
   "outputs": [
    {
     "data": {
      "text/plain": [
       "'./esm650_lora_trainer_model'"
      ]
     },
     "execution_count": 135,
     "metadata": {},
     "output_type": "execute_result"
    }
   ],
   "source": [
    "MODEL_DRIVE_SAVE_PATH"
   ]
  },
  {
   "cell_type": "code",
   "execution_count": 136,
   "metadata": {},
   "outputs": [],
   "source": [
    "# trained_model = AutoModelForSequenceClassification.from_pretrained(MODEL_DRIVE_SAVE_PATH,\n",
    "#                                                               num_labels=num_labels,problem_type=\"single_label_classification\",\n",
    "#                                                                   id2label=ID2LABEL, label2id=LABEL2ID,) #ORIG, worked\n",
    "\n",
    "# # trained_model = PeftModel.from_pretrained(trained_model, MODEL_DRIVE_SAVE_PATH) #ORIG, worked\n",
    "# # alt\":\n",
    "# trained_model = PeftModelForSequenceClassification.from_pretrained(trained_model, MODEL_DRIVE_SAVE_PATH,\n",
    "#                                                                    config=peft_config) "
   ]
  },
  {
   "cell_type": "code",
   "execution_count": 137,
   "metadata": {},
   "outputs": [],
   "source": [
    "\n",
    "# AutoModel.from_pretrained(MODEL_DRIVE_SAVE_PATH,num_labels=num_labels,problem_type=\"single_label_classification\",\n",
    "#                                                                       id2label=ID2LABEL, label2id=LABEL2ID,)"
   ]
  },
  {
   "cell_type": "markdown",
   "metadata": {},
   "source": [
    "https://github.com/huggingface/transformers/issues/5421\n",
    "```\n",
    "\n",
    "*the pooler layer is not used when doing sequence classification*, so there's nothing to be worried about.\n",
    "\n",
    "The pooler is the second output of the RobertaModel:\n",
    "https://github.com/huggingface/transformers/blob/v3.4.0/src/transformers/modeling_roberta.py#L691\n",
    "\n",
    "But only the first output is used in the sequence classification model:\n",
    "https://github.com/huggingface/transformers/blob/v3.4.0/src/transformers/modeling_roberta.py\n",
    "```#L1002"
   ]
  },
  {
   "cell_type": "code",
   "execution_count": 138,
   "metadata": {
    "id": "R62G7yFduRiL"
   },
   "outputs": [],
   "source": [
    "###\n",
    "### loading (PEFT) it works in this notebook, but not in an ew notevook ??? \n",
    "\n",
    "### it says it is not loading saved classifier weights?? but trainer pred gives ok results (better than with random model)? \n",
    "\n",
    "if LOAD_TRAINED:\n",
    "    \"\"\"\n",
    "    base_model = AutoModelForSequenceClassification.from_pretrained(model_checkpoint, num_labels=num_labels,problem_type=\"single_label_classification\")\n",
    "    \"\"\"\n",
    "#   ### load pretrained, trained model?\n",
    "\n",
    "    # trained_model = AutoModelForSequenceClassification.from_pretrained(model_checkpoint,num_labels=num_labels,problem_type=\"single_label_classification\")\n",
    "    # print(\"loading PEFT config\")\n",
    "\n",
    "    # trained_model = PeftModelForSequenceClassification.from_pretrained(trained_model, MODEL_DRIVE_SAVE_PATH,\n",
    "    #                                                                    config=peft_config) # alt\n",
    "    \n",
    "    trained_model = AutoModelForSequenceClassification.from_pretrained(MODEL_DRIVE_SAVE_PATH,\n",
    "                                                                  num_labels=num_labels,problem_type=\"single_label_classification\",\n",
    "                                                                      id2label=ID2LABEL, label2id=LABEL2ID,\n",
    "                                                                      ) #ORIG, worked\n",
    "    \n",
    "\n",
    "    # # trained_model = PeftModel.from_pretrained(trained_model, MODEL_DRIVE_SAVE_PATH) #ORIG, worked\n",
    "    # # alt\":\n",
    "    # trained_model = PeftModelForSequenceClassification.from_pretrained(trained_model, MODEL_DRIVE_SAVE_PATH,\n",
    "    #                                                                    config=peft_config) # alt\n",
    "    # ## \n",
    "#     trained_model = prepare_model_for_kbit_training(trained_model, use_gradient_checkpointing=True)\n",
    "    \n",
    "else:\n",
    "    trained_model = trainer.model\n",
    "merged_model = trained_model # when not using peft\n",
    "# trained_model.eval()"
   ]
  },
  {
   "cell_type": "markdown",
   "metadata": {},
   "source": [
    "# res are same!"
   ]
  },
  {
   "cell_type": "code",
   "execution_count": 139,
   "metadata": {
    "scrolled": true
   },
   "outputs": [],
   "source": [
    "# merged_model = trained_model.merge_and_unload()\n",
    "# merged_model"
   ]
  },
  {
   "cell_type": "code",
   "execution_count": 140,
   "metadata": {},
   "outputs": [
    {
     "data": {
      "text/html": [
       "\n",
       "    <div>\n",
       "      \n",
       "      <progress value='25' max='25' style='width:300px; height:20px; vertical-align: middle;'></progress>\n",
       "      [25/25 00:04]\n",
       "    </div>\n",
       "    "
      ],
      "text/plain": [
       "<IPython.core.display.HTML object>"
      ]
     },
     "metadata": {},
     "output_type": "display_data"
    },
    {
     "name": "stdout",
     "output_type": "stream",
     "text": [
      "{'eval_loss': 0.11568054556846619, 'eval_accuracy': 0.97, 'eval_roc_auc': 0.989656381486676, 'eval_runtime': 5.3199, 'eval_samples_per_second': 37.594, 'eval_steps_per_second': 4.699}\n"
     ]
    }
   ],
   "source": [
    "\n",
    "print(Trainer(model=trainer.model, args=training_args,tokenizer=tokenizer,\n",
    "                    train_dataset=train_dataset,\n",
    "              eval_dataset=train_dataset.select(range(200)) #test_dataset.select(range(500)),\n",
    "                    ,compute_metrics=compute_metrics,).evaluate()) ## only ok if better than random init"
   ]
  },
  {
   "cell_type": "code",
   "execution_count": 141,
   "metadata": {},
   "outputs": [
    {
     "data": {
      "text/html": [
       "\n",
       "    <div>\n",
       "      \n",
       "      <progress value='25' max='25' style='width:300px; height:20px; vertical-align: middle;'></progress>\n",
       "      [25/25 00:04]\n",
       "    </div>\n",
       "    "
      ],
      "text/plain": [
       "<IPython.core.display.HTML object>"
      ]
     },
     "metadata": {},
     "output_type": "display_data"
    },
    {
     "name": "stdout",
     "output_type": "stream",
     "text": [
      "{'eval_loss': 0.11568054556846619, 'eval_accuracy': 0.97, 'eval_roc_auc': 0.989656381486676, 'eval_runtime': 5.0569, 'eval_samples_per_second': 39.55, 'eval_steps_per_second': 4.944}\n"
     ]
    }
   ],
   "source": [
    "print(Trainer(model=trainer.model.merge_and_unload(), args=training_args,tokenizer=tokenizer,\n",
    "                    train_dataset=train_dataset,\n",
    "              eval_dataset=train_dataset.select(range(200)) #test_dataset.select(range(500)),\n",
    "                    ,compute_metrics=compute_metrics,).evaluate()) ## only ok if better than random init"
   ]
  },
  {
   "cell_type": "code",
   "execution_count": 142,
   "metadata": {
    "id": "6ibDslHLW04H"
   },
   "outputs": [
    {
     "data": {
      "text/html": [
       "\n",
       "    <div>\n",
       "      \n",
       "      <progress value='25' max='25' style='width:300px; height:20px; vertical-align: middle;'></progress>\n",
       "      [25/25 00:04]\n",
       "    </div>\n",
       "    "
      ],
      "text/plain": [
       "<IPython.core.display.HTML object>"
      ]
     },
     "metadata": {},
     "output_type": "display_data"
    },
    {
     "name": "stdout",
     "output_type": "stream",
     "text": [
      "{'eval_loss': 0.11568054556846619, 'eval_accuracy': 0.97, 'eval_roc_auc': 0.989656381486676, 'eval_runtime': 5.0881, 'eval_samples_per_second': 39.307, 'eval_steps_per_second': 4.913}\n"
     ]
    }
   ],
   "source": [
    "## check if saved loaded ok?\n",
    "print(Trainer(model=trained_model, args=training_args,tokenizer=tokenizer,\n",
    "                    train_dataset=train_dataset,\n",
    "              eval_dataset=train_dataset.select(range(200)) #test_dataset.select(range(500)),\n",
    "                    ,compute_metrics=compute_metrics,).evaluate()) ## only ok if better than random init"
   ]
  },
  {
   "cell_type": "code",
   "execution_count": 143,
   "metadata": {
    "id": "97O_ItcTmgh3"
   },
   "outputs": [],
   "source": [
    "if FAST_RUN:\n",
    "  print(trainer.evaluate())"
   ]
  },
  {
   "cell_type": "code",
   "execution_count": 144,
   "metadata": {},
   "outputs": [
    {
     "data": {
      "text/html": [
       "\n",
       "    <div>\n",
       "      \n",
       "      <progress value='25' max='25' style='width:300px; height:20px; vertical-align: middle;'></progress>\n",
       "      [25/25 00:04]\n",
       "    </div>\n",
       "    "
      ],
      "text/plain": [
       "<IPython.core.display.HTML object>"
      ]
     },
     "metadata": {},
     "output_type": "display_data"
    },
    {
     "name": "stdout",
     "output_type": "stream",
     "text": [
      "{'eval_loss': 0.11568054556846619, 'eval_accuracy': 0.97, 'eval_roc_auc': 0.989656381486676, 'eval_runtime': 5.0771, 'eval_samples_per_second': 39.393, 'eval_steps_per_second': 4.924}\n"
     ]
    }
   ],
   "source": [
    "# if FAST_RUN:\n",
    "#   print(\"merge and unload peft\")\n",
    "print(Trainer(model=merged_model, args=training_args,tokenizer=tokenizer,\n",
    "                    train_dataset=train_dataset,\n",
    "              # eval_dataset=test_dataset,\n",
    "               eval_dataset=train_dataset.select(range(200))\n",
    "                    ,compute_metrics=compute_metrics,).evaluate())"
   ]
  },
  {
   "cell_type": "markdown",
   "metadata": {},
   "source": [
    "* Use HF pipeline\n",
    "* Big bug with pipes - uses cpu? https://discuss.huggingface.co/t/text-classification-pipeline-very-slow-after-adding-padding-and-truncation-for-tokenizer/32173/3\n",
    "* https://stackoverflow.com/questions/77249578/how-to-create-a-dataset-with-huggingface-from-a-list-of-strings-to-fine-tune-lla\""
   ]
  },
  {
   "cell_type": "code",
   "execution_count": 145,
   "metadata": {},
   "outputs": [
    {
     "name": "stdout",
     "output_type": "stream",
     "text": [
      "failed to merge_and_unload\n"
     ]
    },
    {
     "data": {
      "text/html": [
       "\n",
       "    <div>\n",
       "      \n",
       "      <progress value='25' max='25' style='width:300px; height:20px; vertical-align: middle;'></progress>\n",
       "      [25/25 00:04]\n",
       "    </div>\n",
       "    "
      ],
      "text/plain": [
       "<IPython.core.display.HTML object>"
      ]
     },
     "metadata": {},
     "output_type": "display_data"
    },
    {
     "name": "stdout",
     "output_type": "stream",
     "text": [
      "{'eval_loss': 0.11568054556846619, 'eval_accuracy': 0.97, 'eval_roc_auc': 0.989656381486676, 'eval_runtime': 5.081, 'eval_samples_per_second': 39.362, 'eval_steps_per_second': 4.92}\n"
     ]
    }
   ],
   "source": [
    "### new add, try:\n",
    "try:\n",
    "    merged_model = trained_model.merge_and_unload() # 8.2.2024 - PEFT\n",
    "except:\n",
    "    print(\"failed to merge_and_unload\")\n",
    "\n",
    "print(Trainer(model=merged_model, args=training_args,tokenizer=tokenizer,\n",
    "                    train_dataset=train_dataset,\n",
    "              # eval_dataset=test_dataset,\n",
    "               eval_dataset=train_dataset.select(range(200))\n",
    "                    ,compute_metrics=compute_metrics,).evaluate())"
   ]
  },
  {
   "cell_type": "code",
   "execution_count": 146,
   "metadata": {},
   "outputs": [],
   "source": [
    "# https://huggingface.co/docs/transformers/en/main_classes/pipelines#pipeline-batching\n",
    "\n",
    "# https://stackoverflow.com/questions/68197664/how-to-take-just-the-score-from-huggingface-pipeline-sentiment-analysis\n",
    "\n",
    "tokenizer = AutoTokenizer.from_pretrained(model_checkpoint,\n",
    "                                          # padding= False#True # orig\n",
    "                                          padding= True ,truncation=True,max_length=model_max_len)\n",
    "try:\n",
    "    pipe = pipeline(\"text-classification\",model=merged_model, tokenizer=tokenizer, truncation=True, top_k=1,device_map=\"auto\") # top_k=None to get preds for each class\n",
    "## return format is list of dicts, annoying to work with. for k=1 it's just the max class, annoying for a col per class proba score...\n",
    "except:\n",
    "    print(\"pipe error\")"
   ]
  },
  {
   "cell_type": "code",
   "execution_count": 147,
   "metadata": {},
   "outputs": [],
   "source": [
    "# inf_dataset = Dataset.from_pandas(df_test.head(3))\n",
    "# encoded_dataset = inf_dataset.map(lambda examples: tokenizer(examples['Sequence']),\n",
    "#                           batched=True)"
   ]
  },
  {
   "cell_type": "code",
   "execution_count": 148,
   "metadata": {},
   "outputs": [],
   "source": [
    "# res = pipe(test_sequences[0:3])\n",
    "# res"
   ]
  },
  {
   "cell_type": "code",
   "execution_count": 149,
   "metadata": {},
   "outputs": [],
   "source": [
    "# preds_labels = [i[0][\"label\"] for i in res]\n",
    "# preds_labels"
   ]
  },
  {
   "cell_type": "code",
   "execution_count": 150,
   "metadata": {},
   "outputs": [],
   "source": [
    "# preds_top_score = [i[0][\"score\"] for i in res]\n",
    "# preds_top_score"
   ]
  },
  {
   "cell_type": "markdown",
   "metadata": {
    "id": "8ZqNMJgTM-zb"
   },
   "source": [
    "* Cao - maybe use only RBD domain ,  (+- mutation site?)\n",
    "\n",
    "\n",
    "* Could get WT prediction, and get **delta** of mutant's predicted score vs wt - then examine that.\n",
    "\n"
   ]
  },
  {
   "cell_type": "markdown",
   "metadata": {
    "id": "IuInD2PVjT_j"
   },
   "source": [
    "* https://huggingface.co/docs/transformers/model_doc/esm#transformers.EsmForSequenceClassification.forward.example\n",
    "\n",
    "\n",
    "* Eval related batch size stuff: https://discuss.huggingface.co/t/batch-size-for-trainer-predict/3374/2"
   ]
  },
  {
   "cell_type": "code",
   "execution_count": 151,
   "metadata": {
    "id": "bE5fCdPrJVGH"
   },
   "outputs": [],
   "source": [
    "# CAO_TEST_DATA_PATH = \"/content/drive/MyDrive/proteins/New Protein-Virus anom project/cao_escaper_targets_max.csv\"##\n",
    "# CAO_TEST_DATA_PATH = \"/kaggle/input/humvir-proteins/cao_escaper_targets_max.csv\"\n",
    "CAO_TEST_DATA_PATH = \"cao_escaper_targets_max.csv\"\n",
    "\n",
    "### all data, more redundnat - same seq repeated, can join with our res to save time.\n",
    "# CAO_full_TEST_DATA_PATH = \"/kaggle/input/humvir-proteins/cao_escaper_targets_all.csv\"\n",
    "CAO_full_TEST_DATA_PATH = \"cao_escaper_targets_all.csv.gz\""
   ]
  },
  {
   "cell_type": "code",
   "execution_count": 152,
   "metadata": {
    "id": "WyIXqfCDsN--"
   },
   "outputs": [
    {
     "name": "stdout",
     "output_type": "stream",
     "text": [
      "3820\n",
      "0        1273\n",
      "1        1273\n",
      "2        1273\n",
      "3        1273\n",
      "4        1273\n",
      "         ... \n",
      "34673    1273\n",
      "34674    1273\n",
      "34675    1273\n",
      "34676    1273\n",
      "34677    1273\n",
      "Name: seq, Length: 34678, dtype: int64\n"
     ]
    },
    {
     "data": {
      "text/html": [
       "<div>\n",
       "<style scoped>\n",
       "    .dataframe tbody tr th:only-of-type {\n",
       "        vertical-align: middle;\n",
       "    }\n",
       "\n",
       "    .dataframe tbody tr th {\n",
       "        vertical-align: top;\n",
       "    }\n",
       "\n",
       "    .dataframe thead th {\n",
       "        text-align: right;\n",
       "    }\n",
       "</style>\n",
       "<table border=\"1\" class=\"dataframe\">\n",
       "  <thead>\n",
       "    <tr style=\"text-align: right;\">\n",
       "      <th></th>\n",
       "      <th>site</th>\n",
       "      <th>wildtype</th>\n",
       "      <th>mutation</th>\n",
       "      <th>mut_escape</th>\n",
       "      <th>seq</th>\n",
       "      <th>mut_escape_class</th>\n",
       "    </tr>\n",
       "  </thead>\n",
       "  <tbody>\n",
       "    <tr>\n",
       "      <th>0</th>\n",
       "      <td>331</td>\n",
       "      <td>N</td>\n",
       "      <td>A</td>\n",
       "      <td>0.000000</td>\n",
       "      <td>MFVFLVLLPLVSSQCVNLTTRTQLPPAYTNSFTRGVYYPDKVFRSS...</td>\n",
       "      <td>0</td>\n",
       "    </tr>\n",
       "    <tr>\n",
       "      <th>1</th>\n",
       "      <td>331</td>\n",
       "      <td>N</td>\n",
       "      <td>C</td>\n",
       "      <td>0.000000</td>\n",
       "      <td>MFVFLVLLPLVSSQCVNLTTRTQLPPAYTNSFTRGVYYPDKVFRSS...</td>\n",
       "      <td>0</td>\n",
       "    </tr>\n",
       "    <tr>\n",
       "      <th>2</th>\n",
       "      <td>331</td>\n",
       "      <td>N</td>\n",
       "      <td>D</td>\n",
       "      <td>0.000000</td>\n",
       "      <td>MFVFLVLLPLVSSQCVNLTTRTQLPPAYTNSFTRGVYYPDKVFRSS...</td>\n",
       "      <td>0</td>\n",
       "    </tr>\n",
       "    <tr>\n",
       "      <th>3</th>\n",
       "      <td>331</td>\n",
       "      <td>N</td>\n",
       "      <td>E</td>\n",
       "      <td>0.000000</td>\n",
       "      <td>MFVFLVLLPLVSSQCVNLTTRTQLPPAYTNSFTRGVYYPDKVFRSS...</td>\n",
       "      <td>0</td>\n",
       "    </tr>\n",
       "    <tr>\n",
       "      <th>4</th>\n",
       "      <td>331</td>\n",
       "      <td>N</td>\n",
       "      <td>F</td>\n",
       "      <td>0.000000</td>\n",
       "      <td>MFVFLVLLPLVSSQCVNLTTRTQLPPAYTNSFTRGVYYPDKVFRSS...</td>\n",
       "      <td>0</td>\n",
       "    </tr>\n",
       "    <tr>\n",
       "      <th>...</th>\n",
       "      <td>...</td>\n",
       "      <td>...</td>\n",
       "      <td>...</td>\n",
       "      <td>...</td>\n",
       "      <td>...</td>\n",
       "      <td>...</td>\n",
       "    </tr>\n",
       "    <tr>\n",
       "      <th>34673</th>\n",
       "      <td>489</td>\n",
       "      <td>Y</td>\n",
       "      <td>R</td>\n",
       "      <td>0.001041</td>\n",
       "      <td>MFVFLVLLPLVSSQCVNLTTRTQLPPAYTNSFTRGVYYPDKVFRSS...</td>\n",
       "      <td>1</td>\n",
       "    </tr>\n",
       "    <tr>\n",
       "      <th>34674</th>\n",
       "      <td>489</td>\n",
       "      <td>Y</td>\n",
       "      <td>S</td>\n",
       "      <td>0.185581</td>\n",
       "      <td>MFVFLVLLPLVSSQCVNLTTRTQLPPAYTNSFTRGVYYPDKVFRSS...</td>\n",
       "      <td>1</td>\n",
       "    </tr>\n",
       "    <tr>\n",
       "      <th>34675</th>\n",
       "      <td>489</td>\n",
       "      <td>Y</td>\n",
       "      <td>T</td>\n",
       "      <td>0.088192</td>\n",
       "      <td>MFVFLVLLPLVSSQCVNLTTRTQLPPAYTNSFTRGVYYPDKVFRSS...</td>\n",
       "      <td>1</td>\n",
       "    </tr>\n",
       "    <tr>\n",
       "      <th>34676</th>\n",
       "      <td>489</td>\n",
       "      <td>Y</td>\n",
       "      <td>V</td>\n",
       "      <td>0.014363</td>\n",
       "      <td>MFVFLVLLPLVSSQCVNLTTRTQLPPAYTNSFTRGVYYPDKVFRSS...</td>\n",
       "      <td>1</td>\n",
       "    </tr>\n",
       "    <tr>\n",
       "      <th>34677</th>\n",
       "      <td>489</td>\n",
       "      <td>Y</td>\n",
       "      <td>W</td>\n",
       "      <td>0.000956</td>\n",
       "      <td>MFVFLVLLPLVSSQCVNLTTRTQLPPAYTNSFTRGVYYPDKVFRSS...</td>\n",
       "      <td>1</td>\n",
       "    </tr>\n",
       "  </tbody>\n",
       "</table>\n",
       "<p>34678 rows × 6 columns</p>\n",
       "</div>"
      ],
      "text/plain": [
       "       site wildtype mutation  mut_escape  \\\n",
       "0       331        N        A    0.000000   \n",
       "1       331        N        C    0.000000   \n",
       "2       331        N        D    0.000000   \n",
       "3       331        N        E    0.000000   \n",
       "4       331        N        F    0.000000   \n",
       "...     ...      ...      ...         ...   \n",
       "34673   489        Y        R    0.001041   \n",
       "34674   489        Y        S    0.185581   \n",
       "34675   489        Y        T    0.088192   \n",
       "34676   489        Y        V    0.014363   \n",
       "34677   489        Y        W    0.000956   \n",
       "\n",
       "                                                     seq  mut_escape_class  \n",
       "0      MFVFLVLLPLVSSQCVNLTTRTQLPPAYTNSFTRGVYYPDKVFRSS...                 0  \n",
       "1      MFVFLVLLPLVSSQCVNLTTRTQLPPAYTNSFTRGVYYPDKVFRSS...                 0  \n",
       "2      MFVFLVLLPLVSSQCVNLTTRTQLPPAYTNSFTRGVYYPDKVFRSS...                 0  \n",
       "3      MFVFLVLLPLVSSQCVNLTTRTQLPPAYTNSFTRGVYYPDKVFRSS...                 0  \n",
       "4      MFVFLVLLPLVSSQCVNLTTRTQLPPAYTNSFTRGVYYPDKVFRSS...                 0  \n",
       "...                                                  ...               ...  \n",
       "34673  MFVFLVLLPLVSSQCVNLTTRTQLPPAYTNSFTRGVYYPDKVFRSS...                 1  \n",
       "34674  MFVFLVLLPLVSSQCVNLTTRTQLPPAYTNSFTRGVYYPDKVFRSS...                 1  \n",
       "34675  MFVFLVLLPLVSSQCVNLTTRTQLPPAYTNSFTRGVYYPDKVFRSS...                 1  \n",
       "34676  MFVFLVLLPLVSSQCVNLTTRTQLPPAYTNSFTRGVYYPDKVFRSS...                 1  \n",
       "34677  MFVFLVLLPLVSSQCVNLTTRTQLPPAYTNSFTRGVYYPDKVFRSS...                 1  \n",
       "\n",
       "[34678 rows x 6 columns]"
      ]
     },
     "metadata": {},
     "output_type": "display_data"
    }
   ],
   "source": [
    "df_cao = pd.read_csv(CAO_TEST_DATA_PATH)\n",
    "# if FAST_RUN:\n",
    "#   df_cao = df_cao.head(100)\n",
    "\n",
    "df_cao_full = pd.read_csv(CAO_full_TEST_DATA_PATH)\n",
    "print(df_cao_full[\"seq\"].nunique())\n",
    "print(df_cao_full[\"seq\"].str.len())\n",
    "display(df_cao_full)"
   ]
  },
  {
   "cell_type": "code",
   "execution_count": 153,
   "metadata": {},
   "outputs": [
    {
     "data": {
      "text/plain": [
       "0    MFVFLVLLPLVSSQCVNLTTRTQLPPAYTNSFTRGVYYPDKVFRSS...\n",
       "1    MFVFLVLLPLVSSQCVNLTTRTQLPPAYTNSFTRGVYYPDKVFRSS...\n",
       "2    MFVFLVLLPLVSSQCVNLTTRTQLPPAYTNSFTRGVYYPDKVFRSS...\n",
       "Name: seq, dtype: object"
      ]
     },
     "execution_count": 153,
     "metadata": {},
     "output_type": "execute_result"
    }
   ],
   "source": [
    "df_cao[\"seq\"][0:3]"
   ]
  },
  {
   "cell_type": "code",
   "execution_count": 154,
   "metadata": {},
   "outputs": [
    {
     "name": "stderr",
     "output_type": "stream",
     "text": [
      "Asking to truncate to max_length but no maximum length is provided and the model has no predefined maximum length. Default to no truncation.\n"
     ]
    },
    {
     "data": {
      "text/plain": [
       "[[{'label': 'Virus', 'score': 0.9913548827171326}],\n",
       " [{'label': 'Virus', 'score': 0.9915686249732971}],\n",
       " [{'label': 'Virus', 'score': 0.9913852214813232}]]"
      ]
     },
     "execution_count": 154,
     "metadata": {},
     "output_type": "execute_result"
    }
   ],
   "source": [
    "res = pipe(df_cao[\"seq\"][0:3].to_list())\n",
    "res"
   ]
  },
  {
   "cell_type": "code",
   "execution_count": 155,
   "metadata": {},
   "outputs": [
    {
     "data": {
      "text/plain": [
       "'facebook/esm2_t33_650M_UR50D'"
      ]
     },
     "execution_count": 155,
     "metadata": {},
     "output_type": "execute_result"
    }
   ],
   "source": [
    "model_checkpoint"
   ]
  },
  {
   "cell_type": "code",
   "execution_count": 156,
   "metadata": {
    "id": "w_LiqdXNls_1"
   },
   "outputs": [],
   "source": [
    "from scipy.special import softmax\n",
    "#OLD\n",
    "def get_escaper_scores(df:pd.DataFrame,trained_model,base_model,seqColName=\"seq\",truncate_cao=False,\n",
    "                       binary_target_col = None):\n",
    "  if truncate_cao:\n",
    "  ## truncated version +-20:\n",
    "    cao_sequences = df[seqColName].str[300:550].tolist() # ONLY RBD domain\n",
    "    max_len = 550-300\n",
    "  else:\n",
    "    cao_sequences = df[seqColName].str[0:1024].tolist()\n",
    "    max_len = df[seqColName].str.len().max()+2\n",
    "\n",
    "  cao_test_seq = tokenizer(cao_sequences,  truncation=True\n",
    "                          ,max_length= min(max_len,1024)#1024\n",
    "                        #  max_length= 700 #600 #model_max_len,\n",
    "                         ,padding=True#True,\n",
    "                           # ,padding=True\n",
    "                           ,return_tensors=\"pt\")\n",
    "\n",
    "  cao_test_seq = Dataset.from_dict(cao_test_seq)\n",
    "  # cao_test_seq = accelerator.prepare(cao_test_seq)\n",
    "    ## get naive models preds - WHY are they similar to trained models ???\n",
    "  # \"\"\"\n",
    "  base_trainer = Trainer(base_model,tokenizer=tokenizer,args=training_args)\n",
    "  raw_pred, _, _ = base_trainer.predict(cao_test_seq)\n",
    "  # predictedLabelOnCompanyData = np.argmax(raw_pred, axis=1)\n",
    "  # df[\"base_pred_vir\"] = raw_pred[:,1]\n",
    "  df[\"base_pred_vir\"] = torch.nn.functional.softmax(torch.tensor(raw_pred), dim=1)[:,1]\n",
    "  # \"\"\"\n",
    "\n",
    "  ## preds with proper model\n",
    "  trainer = Trainer(model=trained_model,tokenizer=tokenizer,args=training_args) # added here...\n",
    "    ### https://discuss.huggingface.co/t/transform-logits-to-probabilities-doesnt-work/14792\n",
    "  logits, _, _ = trainer.predict(cao_test_seq)\n",
    "\n",
    "  # print(softmax(logits[:,1]))\n",
    "  # df[\"probabilities\"] = softmax(logits[:,1]) #(preds_output[0], axis=1)#probabilities\n",
    "\n",
    "  df[\"model_pred_vir\"] =  torch.nn.functional.softmax(torch.tensor(logits), dim=1)[:,1]\n",
    "  df[\"model_pred_hum\"] =  torch.nn.functional.softmax(torch.tensor(logits), dim=1)[:,0]\n",
    "  # df[\"sum\"] = (df[\"model_pred_hum\"]+df[\"model_pred_vir\"]).round(2) # adds up to 1\n",
    "  df[\"model_pred_hum_delta\"] = df[\"model_pred_hum\"].round(4)\n",
    "\n",
    "  ## subtract WT pred score - to get deltas. WT is most common (as it reoccurs)\n",
    "  mode_score = df[\"model_pred_hum\"].round(4).mode()[0]\n",
    "  df[\"model_pred_hum_delta\"] = df[\"model_pred_hum_delta\"] - mode_score\n",
    "  print(df.describe().round(3))\n",
    "\n",
    "  display(df.select_dtypes([\"number\",\"bool\"]).corr().round(3))\n",
    "\n",
    "  if binary_target_col is not None:\n",
    "    print(\"humVir trained model - human pred delta - ROCAUC:\",roc_auc_score(df[binary_target_col], df[\"model_pred_hum_delta\"]).round(4))\n",
    "    print(\"humVir trained model ROCAUC:\",roc_auc_score(df[binary_target_col], df[\"model_pred_hum\"]).round(4))\n",
    "    print(classification_report(df[binary_target_col],np.argmax(logits, axis=-1)))\n",
    "    print(\"Untrained vir model: ROCAUC\",roc_auc_score(df[binary_target_col], df[\"base_pred_vir\"]).round(4))\n",
    "\n",
    "  return df\n",
    "\n",
    "\n",
    "## newer, using pipeline (pretrained)\n",
    "## https://huggingface.co/docs/transformers/main/en/main_classes/pipelines#pipeline-batching\n",
    "### pipeline approach here is MUCH slower! ? \n",
    "def pipe_get_escaper_scores(df:pd.DataFrame,trained_model,base_model,seqColName=\"seq\",truncate_cao=False,\n",
    "                       binary_target_col = None,model_checkpoint='facebook/esm2_t12_35M_UR50D'):\n",
    "    \"\"\"\n",
    "    Much slower than old hacky approach of using a trainer ... \n",
    "    \"\"\"\n",
    "    if truncate_cao:\n",
    "        ## truncated version +-20:\n",
    "        cao_sequences = df[seqColName].str[300:550].tolist() # ONLY RBD domain\n",
    "        max_len = 550-300\n",
    "    else:\n",
    "        cao_sequences = df[seqColName].str[0:1024].tolist()\n",
    "        max_len = df[seqColName].str.len().max()+2\n",
    "        \n",
    "    tokenizer = AutoTokenizer.from_pretrained(model_checkpoint,padding= True ,truncation=True,max_length=min(max_len,1024),is_split_into_words=False)\n",
    "\n",
    "    def do_tokenization(example):\n",
    "        \"\"\"\n",
    "        use like \n",
    "        dataset = dataset.map(do_tokenization, batched=True)\n",
    "        \"\"\"\n",
    "        return tokenizer(example[\"text\"])\n",
    "\n",
    "    # cao_sequences = tokenizer(cao_sequences, truncation=True,max_length=model_max_len,is_split_into_words=False) ## ,return_tensors='pt'\n",
    "\n",
    "    # cao_sequences = Dataset.from_dict(cao_sequences)\n",
    "    # encoded_dataset = dataset.map(lambda examples: tokenizer(examples['sentence1']),\n",
    "    #                           batched=True)\n",
    "    # \n",
    "    # cao_sequences = Dataset.from_list(tokenizer(cao_sequences,  truncation=True,max_length=model_max_len,padding=False))#.map(tokenizer, batched=True)\n",
    "    # cao_sequences = Dataset.from_pandas(pd.DataFrame(cao_sequences)).map(tokenizer, batched=True)\n",
    "    # cao_sequences = Dataset.from_pandas(df[seqColName])\n",
    "    \n",
    "    # cao_test_seq = tokenizer(cao_sequences,  truncation=True\n",
    "    #                       ,max_length= min(max_len,1024)#1024\n",
    "    #                     #  max_length= 700 #600 #model_max_len,\n",
    "    #                      ,padding=False#True,\n",
    "    #                        # ,padding=True\n",
    "    #                        ,return_tensors=\"pt\")\n",
    "    \n",
    "    # cao_test_seq = Dataset.from_dict(cao_test_seq)\n",
    "    # # cao_test_seq = accelerator.prepare(cao_test_seq)\n",
    "    # ## get naive models preds - WHY are they similar to trained models ???\n",
    "    \n",
    "    def set_vir_label_scores(row):\n",
    "        \"\"\"\n",
    "        Get the virus score per row, (and we can externally set human score from that).\n",
    "        Assumes model_score col is the k=1 / top score\n",
    "        \"\"\"\n",
    "        if row.model_label.lower() == \"virus\":\n",
    "            return row.model_score\n",
    "        else:\n",
    "            return 1-row.model_score\n",
    "            \n",
    "\n",
    "    ### naive model - should be random res\n",
    "    naive_classifier_pipe = pipeline(\"text-classification\",model=base_model, tokenizer=tokenizer, top_k=1,batch_size=16) # ,device_map=\"auto\"  device=0,\n",
    "    # naive_classifier_pipe = pipeline(\"text-classification\",model=base_model, tokenizer=tokenizer, top_k=1,device=0) \n",
    "    naive_preds = naive_classifier_pipe(cao_sequences)\n",
    "    naive_preds_labels = [i[0][\"label\"] for i in naive_preds]\n",
    "    naive_preds_top_score = [i[0][\"score\"] for i in naive_preds]\n",
    "    df[\"model_label\"] = naive_preds_labels\n",
    "    df[\"model_label\"] = df[\"model_label\"].str.lower()\n",
    "    df[\"model_score\"] = naive_preds_top_score\n",
    "    \n",
    "    df[\"base_pred_vir\"] = df.apply(set_vir_label_scores, axis=1)\n",
    "    df.drop(columns=[\"model_label\",\"model_score\"],inplace=True,errors=\"ignore\")\n",
    "    \n",
    "    ## get proepr trained models predictions\n",
    "    pipe = pipeline(\"text-classification\",model=trained_model, tokenizer=tokenizer, top_k=1,batch_size=16)  # ,truncation=True ,device=0\n",
    "    # pipe = pipeline(\"text-classification\",model=trained_model, tokenizer=tokenizer, top_k=1,device=0) \n",
    "    ## pipeline (with k=1) returns label, score for top label, need to get per lavbel\n",
    "    preds = pipe(cao_sequences)\n",
    "    preds_labels = [i[0][\"label\"] for i in preds]\n",
    "    preds_top_score = [i[0][\"score\"] for i in preds]\n",
    "\n",
    "    df[\"model_label\"] = preds_labels\n",
    "    df[\"model_label\"] = df[\"model_label\"].str.lower()\n",
    "    df[\"model_score\"] = preds_top_score\n",
    "    \n",
    "    df[\"model_pred_vir\"] = df.apply(set_vir_label_scores, axis=1)\n",
    "    df[\"model_pred_hum\"] = 1-df[\"model_pred_vir\"]\n",
    "\n",
    "    \n",
    "    # print(softmax(logits[:,1]))\n",
    "    # df[\"probabilities\"] = softmax(logits[:,1]) #(preds_output[0], axis=1)#probabilities\n",
    "    \n",
    "    # df[\"model_pred_vir\"] =  logits[:,1]\n",
    "    # df[\"model_pred_hum\"] = softmax(logits, axis=0) #softmax(logits[:,0])\n",
    "    # df[\"model_pred_vir\"] =  softmax(logits[:,1])\n",
    "    # df[\"model_pred_vir\"] =  torch.nn.functional.softmax(torch.tensor(logits), dim=1)[:,1]\n",
    "    # df[\"model_pred_hum\"] =  torch.nn.functional.softmax(torch.tensor(logits), dim=1)[:,0]\n",
    "    # df[\"sum\"] = (df[\"model_pred_hum\"]+df[\"model_pred_vir\"]).round(2) # adds up to 1\n",
    "    df[\"model_pred_hum_delta\"] = df[\"model_pred_hum\"].round(4)\n",
    "    \n",
    "    ## subtract WT pred score - to get deltas. WT is most common (as it reoccurs)\n",
    "    mode_score = df[\"model_pred_hum\"].round(4).mode()[0]\n",
    "    df[\"model_pred_hum_delta\"] = df[\"model_pred_hum_delta\"] - mode_score\n",
    "    print(df.describe().round(3))\n",
    "    \n",
    "    display(df.select_dtypes([\"number\",\"bool\"]).corr().round(3))\n",
    "    \n",
    "    if binary_target_col is not None:\n",
    "        print(\"humVir trained model - human pred delta - ROCAUC:\",roc_auc_score(df[binary_target_col], df[\"model_pred_hum_delta\"]).round(4))\n",
    "        print(\"humVir trained model ROCAUC:\",roc_auc_score(df[binary_target_col], df[\"model_pred_hum\"]).round(4))\n",
    "        # print(classification_report(df[binary_target_col],np.argmax(logits, axis=-1)))\n",
    "        print(classification_report(df[binary_target_col],df[\"model_label\"]==1))\n",
    "        print(\"Untrained vir model: ROCAUC\",roc_auc_score(df[binary_target_col], df[\"base_pred_vir\"]).round(4))\n",
    "        \n",
    "    return df\n",
    "    \n",
    "    # get_escaper_scores(df_iedb_vir.sample(16).copy(),trained_model=model,base_model=base_model,seqColName=\"Epitopes - Epitope\",truncate_cao=False)\n",
    "\n",
    "# pipe_get_escaper_scores(df_cao.head(120).copy(),trained_model= merged_model#trainer.model,\n",
    "#                    ,base_model=base_model,seqColName=\"seq\",truncate_cao=True,\n",
    "#                        binary_target_col = \"mut_escape_class\")"
   ]
  },
  {
   "cell_type": "code",
   "execution_count": 157,
   "metadata": {
    "id": "Nx94FfFvJtoo"
   },
   "outputs": [
    {
     "data": {
      "text/html": [
       "<div>\n",
       "<style scoped>\n",
       "    .dataframe tbody tr th:only-of-type {\n",
       "        vertical-align: middle;\n",
       "    }\n",
       "\n",
       "    .dataframe tbody tr th {\n",
       "        vertical-align: top;\n",
       "    }\n",
       "\n",
       "    .dataframe thead th {\n",
       "        text-align: right;\n",
       "    }\n",
       "</style>\n",
       "<table border=\"1\" class=\"dataframe\">\n",
       "  <thead>\n",
       "    <tr style=\"text-align: right;\">\n",
       "      <th></th>\n",
       "      <th>site</th>\n",
       "      <th>wildtype</th>\n",
       "      <th>mutation</th>\n",
       "      <th>mut_escape</th>\n",
       "      <th>mut_escape_class</th>\n",
       "      <th>seq</th>\n",
       "    </tr>\n",
       "  </thead>\n",
       "  <tbody>\n",
       "    <tr>\n",
       "      <th>0</th>\n",
       "      <td>331</td>\n",
       "      <td>N</td>\n",
       "      <td>A</td>\n",
       "      <td>0.009428</td>\n",
       "      <td>1</td>\n",
       "      <td>MFVFLVLLPLVSSQCVNLTTRTQLPPAYTNSFTRGVYYPDKVFRSS...</td>\n",
       "    </tr>\n",
       "    <tr>\n",
       "      <th>1</th>\n",
       "      <td>331</td>\n",
       "      <td>N</td>\n",
       "      <td>C</td>\n",
       "      <td>0.000000</td>\n",
       "      <td>0</td>\n",
       "      <td>MFVFLVLLPLVSSQCVNLTTRTQLPPAYTNSFTRGVYYPDKVFRSS...</td>\n",
       "    </tr>\n",
       "    <tr>\n",
       "      <th>2</th>\n",
       "      <td>331</td>\n",
       "      <td>N</td>\n",
       "      <td>D</td>\n",
       "      <td>0.026596</td>\n",
       "      <td>1</td>\n",
       "      <td>MFVFLVLLPLVSSQCVNLTTRTQLPPAYTNSFTRGVYYPDKVFRSS...</td>\n",
       "    </tr>\n",
       "    <tr>\n",
       "      <th>3</th>\n",
       "      <td>331</td>\n",
       "      <td>N</td>\n",
       "      <td>E</td>\n",
       "      <td>0.112258</td>\n",
       "      <td>1</td>\n",
       "      <td>MFVFLVLLPLVSSQCVNLTTRTQLPPAYTNSFTRGVYYPDKVFRSS...</td>\n",
       "    </tr>\n",
       "    <tr>\n",
       "      <th>4</th>\n",
       "      <td>331</td>\n",
       "      <td>N</td>\n",
       "      <td>F</td>\n",
       "      <td>0.012256</td>\n",
       "      <td>1</td>\n",
       "      <td>MFVFLVLLPLVSSQCVNLTTRTQLPPAYTNSFTRGVYYPDKVFRSS...</td>\n",
       "    </tr>\n",
       "    <tr>\n",
       "      <th>...</th>\n",
       "      <td>...</td>\n",
       "      <td>...</td>\n",
       "      <td>...</td>\n",
       "      <td>...</td>\n",
       "      <td>...</td>\n",
       "      <td>...</td>\n",
       "    </tr>\n",
       "    <tr>\n",
       "      <th>4015</th>\n",
       "      <td>531</td>\n",
       "      <td>T</td>\n",
       "      <td>S</td>\n",
       "      <td>0.010178</td>\n",
       "      <td>1</td>\n",
       "      <td>MFVFLVLLPLVSSQCVNLTTRTQLPPAYTNSFTRGVYYPDKVFRSS...</td>\n",
       "    </tr>\n",
       "    <tr>\n",
       "      <th>4016</th>\n",
       "      <td>531</td>\n",
       "      <td>T</td>\n",
       "      <td>T</td>\n",
       "      <td>0.000000</td>\n",
       "      <td>0</td>\n",
       "      <td>MFVFLVLLPLVSSQCVNLTTRTQLPPAYTNSFTRGVYYPDKVFRSS...</td>\n",
       "    </tr>\n",
       "    <tr>\n",
       "      <th>4017</th>\n",
       "      <td>531</td>\n",
       "      <td>T</td>\n",
       "      <td>V</td>\n",
       "      <td>0.009521</td>\n",
       "      <td>1</td>\n",
       "      <td>MFVFLVLLPLVSSQCVNLTTRTQLPPAYTNSFTRGVYYPDKVFRSS...</td>\n",
       "    </tr>\n",
       "    <tr>\n",
       "      <th>4018</th>\n",
       "      <td>531</td>\n",
       "      <td>T</td>\n",
       "      <td>W</td>\n",
       "      <td>0.008336</td>\n",
       "      <td>1</td>\n",
       "      <td>MFVFLVLLPLVSSQCVNLTTRTQLPPAYTNSFTRGVYYPDKVFRSS...</td>\n",
       "    </tr>\n",
       "    <tr>\n",
       "      <th>4019</th>\n",
       "      <td>531</td>\n",
       "      <td>T</td>\n",
       "      <td>Y</td>\n",
       "      <td>0.017168</td>\n",
       "      <td>1</td>\n",
       "      <td>MFVFLVLLPLVSSQCVNLTTRTQLPPAYTNSFTRGVYYPDKVFRSS...</td>\n",
       "    </tr>\n",
       "  </tbody>\n",
       "</table>\n",
       "<p>4020 rows × 6 columns</p>\n",
       "</div>"
      ],
      "text/plain": [
       "      site wildtype mutation  mut_escape  mut_escape_class  \\\n",
       "0      331        N        A    0.009428                 1   \n",
       "1      331        N        C    0.000000                 0   \n",
       "2      331        N        D    0.026596                 1   \n",
       "3      331        N        E    0.112258                 1   \n",
       "4      331        N        F    0.012256                 1   \n",
       "...    ...      ...      ...         ...               ...   \n",
       "4015   531        T        S    0.010178                 1   \n",
       "4016   531        T        T    0.000000                 0   \n",
       "4017   531        T        V    0.009521                 1   \n",
       "4018   531        T        W    0.008336                 1   \n",
       "4019   531        T        Y    0.017168                 1   \n",
       "\n",
       "                                                    seq  \n",
       "0     MFVFLVLLPLVSSQCVNLTTRTQLPPAYTNSFTRGVYYPDKVFRSS...  \n",
       "1     MFVFLVLLPLVSSQCVNLTTRTQLPPAYTNSFTRGVYYPDKVFRSS...  \n",
       "2     MFVFLVLLPLVSSQCVNLTTRTQLPPAYTNSFTRGVYYPDKVFRSS...  \n",
       "3     MFVFLVLLPLVSSQCVNLTTRTQLPPAYTNSFTRGVYYPDKVFRSS...  \n",
       "4     MFVFLVLLPLVSSQCVNLTTRTQLPPAYTNSFTRGVYYPDKVFRSS...  \n",
       "...                                                 ...  \n",
       "4015  MFVFLVLLPLVSSQCVNLTTRTQLPPAYTNSFTRGVYYPDKVFRSS...  \n",
       "4016  MFVFLVLLPLVSSQCVNLTTRTQLPPAYTNSFTRGVYYPDKVFRSS...  \n",
       "4017  MFVFLVLLPLVSSQCVNLTTRTQLPPAYTNSFTRGVYYPDKVFRSS...  \n",
       "4018  MFVFLVLLPLVSSQCVNLTTRTQLPPAYTNSFTRGVYYPDKVFRSS...  \n",
       "4019  MFVFLVLLPLVSSQCVNLTTRTQLPPAYTNSFTRGVYYPDKVFRSS...  \n",
       "\n",
       "[4020 rows x 6 columns]"
      ]
     },
     "execution_count": 157,
     "metadata": {},
     "output_type": "execute_result"
    }
   ],
   "source": [
    "# df_cao[\"seq\"] = df_cao[\"seq\"].str[0:MAX_LEN+100]\n",
    "df_cao"
   ]
  },
  {
   "cell_type": "code",
   "execution_count": 158,
   "metadata": {
    "id": "SH0IzxxHkYVv",
    "scrolled": true
   },
   "outputs": [
    {
     "data": {
      "text/html": [],
      "text/plain": [
       "<IPython.core.display.HTML object>"
      ]
     },
     "metadata": {},
     "output_type": "display_data"
    },
    {
     "data": {
      "text/html": [],
      "text/plain": [
       "<IPython.core.display.HTML object>"
      ]
     },
     "metadata": {},
     "output_type": "display_data"
    },
    {
     "name": "stdout",
     "output_type": "stream",
     "text": [
      "          site  mut_escape  mut_escape_class  base_pred_vir  model_pred_vir  \\\n",
      "count  4020.00    4020.000          4020.000       4020.000        4020.000   \n",
      "mean    431.00       0.197             0.528          0.525           0.996   \n",
      "std      58.03       0.335             0.499          0.001           0.000   \n",
      "min     331.00       0.000             0.000          0.519           0.996   \n",
      "25%     381.00       0.000             0.000          0.525           0.996   \n",
      "50%     431.00       0.007             1.000          0.525           0.996   \n",
      "75%     481.00       0.305             1.000          0.526           0.996   \n",
      "max     531.00       3.602             1.000          0.527           0.996   \n",
      "\n",
      "       model_pred_hum  model_pred_hum_delta  \n",
      "count        4020.000                4020.0  \n",
      "mean            0.004                   0.0  \n",
      "std             0.000                   0.0  \n",
      "min             0.004                  -0.0  \n",
      "25%             0.004                   0.0  \n",
      "50%             0.004                   0.0  \n",
      "75%             0.004                   0.0  \n",
      "max             0.004                   0.0  \n"
     ]
    },
    {
     "data": {
      "text/html": [
       "<div>\n",
       "<style scoped>\n",
       "    .dataframe tbody tr th:only-of-type {\n",
       "        vertical-align: middle;\n",
       "    }\n",
       "\n",
       "    .dataframe tbody tr th {\n",
       "        vertical-align: top;\n",
       "    }\n",
       "\n",
       "    .dataframe thead th {\n",
       "        text-align: right;\n",
       "    }\n",
       "</style>\n",
       "<table border=\"1\" class=\"dataframe\">\n",
       "  <thead>\n",
       "    <tr style=\"text-align: right;\">\n",
       "      <th></th>\n",
       "      <th>site</th>\n",
       "      <th>mut_escape</th>\n",
       "      <th>mut_escape_class</th>\n",
       "      <th>base_pred_vir</th>\n",
       "      <th>model_pred_vir</th>\n",
       "      <th>model_pred_hum</th>\n",
       "      <th>model_pred_hum_delta</th>\n",
       "    </tr>\n",
       "  </thead>\n",
       "  <tbody>\n",
       "    <tr>\n",
       "      <th>site</th>\n",
       "      <td>1.000</td>\n",
       "      <td>0.073</td>\n",
       "      <td>0.093</td>\n",
       "      <td>0.087</td>\n",
       "      <td>0.014</td>\n",
       "      <td>-0.014</td>\n",
       "      <td>0.013</td>\n",
       "    </tr>\n",
       "    <tr>\n",
       "      <th>mut_escape</th>\n",
       "      <td>0.073</td>\n",
       "      <td>1.000</td>\n",
       "      <td>0.555</td>\n",
       "      <td>-0.003</td>\n",
       "      <td>0.009</td>\n",
       "      <td>-0.009</td>\n",
       "      <td>0.019</td>\n",
       "    </tr>\n",
       "    <tr>\n",
       "      <th>mut_escape_class</th>\n",
       "      <td>0.093</td>\n",
       "      <td>0.555</td>\n",
       "      <td>1.000</td>\n",
       "      <td>-0.006</td>\n",
       "      <td>0.028</td>\n",
       "      <td>-0.028</td>\n",
       "      <td>0.008</td>\n",
       "    </tr>\n",
       "    <tr>\n",
       "      <th>base_pred_vir</th>\n",
       "      <td>0.087</td>\n",
       "      <td>-0.003</td>\n",
       "      <td>-0.006</td>\n",
       "      <td>1.000</td>\n",
       "      <td>-0.092</td>\n",
       "      <td>0.092</td>\n",
       "      <td>0.029</td>\n",
       "    </tr>\n",
       "    <tr>\n",
       "      <th>model_pred_vir</th>\n",
       "      <td>0.014</td>\n",
       "      <td>0.009</td>\n",
       "      <td>0.028</td>\n",
       "      <td>-0.092</td>\n",
       "      <td>1.000</td>\n",
       "      <td>-1.000</td>\n",
       "      <td>-0.819</td>\n",
       "    </tr>\n",
       "    <tr>\n",
       "      <th>model_pred_hum</th>\n",
       "      <td>-0.014</td>\n",
       "      <td>-0.009</td>\n",
       "      <td>-0.028</td>\n",
       "      <td>0.092</td>\n",
       "      <td>-1.000</td>\n",
       "      <td>1.000</td>\n",
       "      <td>0.819</td>\n",
       "    </tr>\n",
       "    <tr>\n",
       "      <th>model_pred_hum_delta</th>\n",
       "      <td>0.013</td>\n",
       "      <td>0.019</td>\n",
       "      <td>0.008</td>\n",
       "      <td>0.029</td>\n",
       "      <td>-0.819</td>\n",
       "      <td>0.819</td>\n",
       "      <td>1.000</td>\n",
       "    </tr>\n",
       "  </tbody>\n",
       "</table>\n",
       "</div>"
      ],
      "text/plain": [
       "                       site  mut_escape  mut_escape_class  base_pred_vir  \\\n",
       "site                  1.000       0.073             0.093          0.087   \n",
       "mut_escape            0.073       1.000             0.555         -0.003   \n",
       "mut_escape_class      0.093       0.555             1.000         -0.006   \n",
       "base_pred_vir         0.087      -0.003            -0.006          1.000   \n",
       "model_pred_vir        0.014       0.009             0.028         -0.092   \n",
       "model_pred_hum       -0.014      -0.009            -0.028          0.092   \n",
       "model_pred_hum_delta  0.013       0.019             0.008          0.029   \n",
       "\n",
       "                      model_pred_vir  model_pred_hum  model_pred_hum_delta  \n",
       "site                           0.014          -0.014                 0.013  \n",
       "mut_escape                     0.009          -0.009                 0.019  \n",
       "mut_escape_class               0.028          -0.028                 0.008  \n",
       "base_pred_vir                 -0.092           0.092                 0.029  \n",
       "model_pred_vir                 1.000          -1.000                -0.819  \n",
       "model_pred_hum                -1.000           1.000                 0.819  \n",
       "model_pred_hum_delta          -0.819           0.819                 1.000  "
      ]
     },
     "metadata": {},
     "output_type": "display_data"
    },
    {
     "name": "stdout",
     "output_type": "stream",
     "text": [
      "humVir trained model - human pred delta - ROCAUC: 0.5031\n",
      "humVir trained model ROCAUC: 0.4777\n",
      "              precision    recall  f1-score   support\n",
      "\n",
      "           0       0.00      0.00      0.00      1897\n",
      "           1       0.53      1.00      0.69      2123\n",
      "\n",
      "    accuracy                           0.53      4020\n",
      "   macro avg       0.26      0.50      0.35      4020\n",
      "weighted avg       0.28      0.53      0.37      4020\n",
      "\n",
      "Untrained vir model: ROCAUC 0.4961\n",
      "CPU times: user 56.7 s, sys: 9.8 s, total: 1min 6s\n",
      "Wall time: 1min 6s\n"
     ]
    },
    {
     "name": "stderr",
     "output_type": "stream",
     "text": [
      "/home/ddofer/anaconda3/envs/hf/lib/python3.10/site-packages/sklearn/metrics/_classification.py:1497: UndefinedMetricWarning: Precision is ill-defined and being set to 0.0 in labels with no predicted samples. Use `zero_division` parameter to control this behavior.\n",
      "  _warn_prf(average, modifier, f\"{metric.capitalize()} is\", len(result))\n",
      "/home/ddofer/anaconda3/envs/hf/lib/python3.10/site-packages/sklearn/metrics/_classification.py:1497: UndefinedMetricWarning: Precision is ill-defined and being set to 0.0 in labels with no predicted samples. Use `zero_division` parameter to control this behavior.\n",
      "  _warn_prf(average, modifier, f\"{metric.capitalize()} is\", len(result))\n",
      "/home/ddofer/anaconda3/envs/hf/lib/python3.10/site-packages/sklearn/metrics/_classification.py:1497: UndefinedMetricWarning: Precision is ill-defined and being set to 0.0 in labels with no predicted samples. Use `zero_division` parameter to control this behavior.\n",
      "  _warn_prf(average, modifier, f\"{metric.capitalize()} is\", len(result))\n"
     ]
    }
   ],
   "source": [
    "%%time\n",
    "### 12 sec\n",
    "df_cao_preds = get_escaper_scores(df_cao.copy(),trained_model= merged_model#model, #trainer,\n",
    "                   ,base_model=base_model,seqColName=\"seq\",truncate_cao=True,\n",
    "                       binary_target_col = \"mut_escape_class\")\n",
    "\n",
    "## fast run. NOTE! trained model res are different than when using pipe!... !\n",
    "# humVir trained model - human pred delta - ROCAUC: 0.4858\n",
    "# humVir trained model ROCAUC: 0.4858\n",
    "# Untrained vir model: ROCAUC 0.4922"
   ]
  },
  {
   "cell_type": "code",
   "execution_count": 159,
   "metadata": {
    "id": "ACslPC3Ah8Ey",
    "scrolled": true
   },
   "outputs": [
    {
     "name": "stdout",
     "output_type": "stream",
     "text": [
      "CPU times: user 1 µs, sys: 0 ns, total: 1 µs\n",
      "Wall time: 3.1 µs\n"
     ]
    }
   ],
   "source": [
    "%%time\n",
    "# ###  slower\n",
    "### disable for now\n",
    "\n",
    "# df_cao_preds = pipe_get_escaper_scores(df_cao.copy(),trained_model= merged_model#trainer.model,\n",
    "#                    ,base_model=base_model,seqColName=\"seq\",truncate_cao=True,\n",
    "#                        binary_target_col = \"mut_escape_class\")\n",
    "\n",
    "# ### 1 min for all \n",
    "# ## fast run. NOTE! trained model res are different than when not using pipe!... !\n",
    "# # humVir trained model - human pred delta - ROCAUC: 0.4798\n",
    "# # humVir trained model ROCAUC: 0.4798\n",
    "# # Untrained vir model: ROCAUC 0.4922"
   ]
  },
  {
   "cell_type": "code",
   "execution_count": 160,
   "metadata": {},
   "outputs": [],
   "source": [
    "# %%time \n",
    "### works but very slow \n",
    "# # model_saved(**inputs)\n",
    "# samples = df_cao.head(70)[\"seq\"].to_list()\n",
    "# merged_model(**tokenizer(samples,truncation=True,return_tensors='pt'))"
   ]
  },
  {
   "cell_type": "code",
   "execution_count": 161,
   "metadata": {
    "id": "_F4FYloQ4A5R"
   },
   "outputs": [],
   "source": [
    "# df_cao[\"model_pred_vir\"].describe().round(4)\n",
    "# df_cao[\"model_pred_hum\"].value_counts() ## most common (271) value - unmutated score/WT"
   ]
  },
  {
   "cell_type": "code",
   "execution_count": 162,
   "metadata": {
    "id": "cTc1aPqhSreR"
   },
   "outputs": [
    {
     "data": {
      "text/html": [
       "<div>\n",
       "<style scoped>\n",
       "    .dataframe tbody tr th:only-of-type {\n",
       "        vertical-align: middle;\n",
       "    }\n",
       "\n",
       "    .dataframe tbody tr th {\n",
       "        vertical-align: top;\n",
       "    }\n",
       "\n",
       "    .dataframe thead th {\n",
       "        text-align: right;\n",
       "    }\n",
       "</style>\n",
       "<table border=\"1\" class=\"dataframe\">\n",
       "  <thead>\n",
       "    <tr style=\"text-align: right;\">\n",
       "      <th></th>\n",
       "      <th>site</th>\n",
       "      <th>mut_escape</th>\n",
       "      <th>mut_escape_class</th>\n",
       "    </tr>\n",
       "  </thead>\n",
       "  <tbody>\n",
       "    <tr>\n",
       "      <th>site</th>\n",
       "      <td>1.000</td>\n",
       "      <td>0.073</td>\n",
       "      <td>0.093</td>\n",
       "    </tr>\n",
       "    <tr>\n",
       "      <th>mut_escape</th>\n",
       "      <td>0.073</td>\n",
       "      <td>1.000</td>\n",
       "      <td>0.555</td>\n",
       "    </tr>\n",
       "    <tr>\n",
       "      <th>mut_escape_class</th>\n",
       "      <td>0.093</td>\n",
       "      <td>0.555</td>\n",
       "      <td>1.000</td>\n",
       "    </tr>\n",
       "  </tbody>\n",
       "</table>\n",
       "</div>"
      ],
      "text/plain": [
       "                   site  mut_escape  mut_escape_class\n",
       "site              1.000       0.073             0.093\n",
       "mut_escape        0.073       1.000             0.555\n",
       "mut_escape_class  0.093       0.555             1.000"
      ]
     },
     "execution_count": 162,
     "metadata": {},
     "output_type": "execute_result"
    }
   ],
   "source": [
    "df_cao.select_dtypes([\"number\",\"bool\"]).corr().round(3)"
   ]
  },
  {
   "cell_type": "code",
   "execution_count": 163,
   "metadata": {},
   "outputs": [
    {
     "data": {
      "text/plain": [
       "3820"
      ]
     },
     "execution_count": 163,
     "metadata": {},
     "output_type": "execute_result"
    }
   ],
   "source": [
    "## merge preds and plot vs escaper score (across many conditions. partially dedupped by cond + identicals)\n",
    "df_cao_full[\"seq\"].nunique()"
   ]
  },
  {
   "cell_type": "code",
   "execution_count": 164,
   "metadata": {},
   "outputs": [
    {
     "name": "stdout",
     "output_type": "stream",
     "text": [
      "34678\n",
      "34478\n"
     ]
    }
   ],
   "source": [
    "print(df_cao_full.shape[0])\n",
    "df_cao_full = df_cao_full[['mut_escape', 'seq', 'mut_escape_class']].drop_duplicates()\n",
    "print(df_cao_full.shape[0])"
   ]
  },
  {
   "cell_type": "code",
   "execution_count": 165,
   "metadata": {},
   "outputs": [
    {
     "data": {
      "text/html": [
       "<div>\n",
       "<style scoped>\n",
       "    .dataframe tbody tr th:only-of-type {\n",
       "        vertical-align: middle;\n",
       "    }\n",
       "\n",
       "    .dataframe tbody tr th {\n",
       "        vertical-align: top;\n",
       "    }\n",
       "\n",
       "    .dataframe thead th {\n",
       "        text-align: right;\n",
       "    }\n",
       "</style>\n",
       "<table border=\"1\" class=\"dataframe\">\n",
       "  <thead>\n",
       "    <tr style=\"text-align: right;\">\n",
       "      <th></th>\n",
       "      <th>mut_escape</th>\n",
       "      <th>seq</th>\n",
       "      <th>mut_escape_class</th>\n",
       "      <th>base_pred_vir</th>\n",
       "      <th>model_pred_hum</th>\n",
       "      <th>model_pred_hum_delta</th>\n",
       "    </tr>\n",
       "  </thead>\n",
       "  <tbody>\n",
       "    <tr>\n",
       "      <th>0</th>\n",
       "      <td>0.000000</td>\n",
       "      <td>MFVFLVLLPLVSSQCVNLTTRTQLPPAYTNSFTRGVYYPDKVFRSS...</td>\n",
       "      <td>0</td>\n",
       "      <td>0.524669</td>\n",
       "      <td>0.003707</td>\n",
       "      <td>0.0001</td>\n",
       "    </tr>\n",
       "    <tr>\n",
       "      <th>1</th>\n",
       "      <td>0.000000</td>\n",
       "      <td>MFVFLVLLPLVSSQCVNLTTRTQLPPAYTNSFTRGVYYPDKVFRSS...</td>\n",
       "      <td>0</td>\n",
       "      <td>0.525247</td>\n",
       "      <td>0.003650</td>\n",
       "      <td>0.0000</td>\n",
       "    </tr>\n",
       "    <tr>\n",
       "      <th>2</th>\n",
       "      <td>0.000000</td>\n",
       "      <td>MFVFLVLLPLVSSQCVNLTTRTQLPPAYTNSFTRGVYYPDKVFRSS...</td>\n",
       "      <td>0</td>\n",
       "      <td>0.524456</td>\n",
       "      <td>0.003594</td>\n",
       "      <td>0.0000</td>\n",
       "    </tr>\n",
       "    <tr>\n",
       "      <th>3</th>\n",
       "      <td>0.000000</td>\n",
       "      <td>MFVFLVLLPLVSSQCVNLTTRTQLPPAYTNSFTRGVYYPDKVFRSS...</td>\n",
       "      <td>0</td>\n",
       "      <td>0.524882</td>\n",
       "      <td>0.003594</td>\n",
       "      <td>0.0000</td>\n",
       "    </tr>\n",
       "    <tr>\n",
       "      <th>4</th>\n",
       "      <td>0.000000</td>\n",
       "      <td>MFVFLVLLPLVSSQCVNLTTRTQLPPAYTNSFTRGVYYPDKVFRSS...</td>\n",
       "      <td>0</td>\n",
       "      <td>0.524943</td>\n",
       "      <td>0.003765</td>\n",
       "      <td>0.0002</td>\n",
       "    </tr>\n",
       "    <tr>\n",
       "      <th>...</th>\n",
       "      <td>...</td>\n",
       "      <td>...</td>\n",
       "      <td>...</td>\n",
       "      <td>...</td>\n",
       "      <td>...</td>\n",
       "      <td>...</td>\n",
       "    </tr>\n",
       "    <tr>\n",
       "      <th>34673</th>\n",
       "      <td>0.001041</td>\n",
       "      <td>MFVFLVLLPLVSSQCVNLTTRTQLPPAYTNSFTRGVYYPDKVFRSS...</td>\n",
       "      <td>1</td>\n",
       "      <td>0.525795</td>\n",
       "      <td>0.003650</td>\n",
       "      <td>0.0000</td>\n",
       "    </tr>\n",
       "    <tr>\n",
       "      <th>34674</th>\n",
       "      <td>0.185581</td>\n",
       "      <td>MFVFLVLLPLVSSQCVNLTTRTQLPPAYTNSFTRGVYYPDKVFRSS...</td>\n",
       "      <td>1</td>\n",
       "      <td>0.524912</td>\n",
       "      <td>0.003650</td>\n",
       "      <td>0.0000</td>\n",
       "    </tr>\n",
       "    <tr>\n",
       "      <th>34675</th>\n",
       "      <td>0.088192</td>\n",
       "      <td>MFVFLVLLPLVSSQCVNLTTRTQLPPAYTNSFTRGVYYPDKVFRSS...</td>\n",
       "      <td>1</td>\n",
       "      <td>0.523633</td>\n",
       "      <td>0.003594</td>\n",
       "      <td>0.0000</td>\n",
       "    </tr>\n",
       "    <tr>\n",
       "      <th>34676</th>\n",
       "      <td>0.014363</td>\n",
       "      <td>MFVFLVLLPLVSSQCVNLTTRTQLPPAYTNSFTRGVYYPDKVFRSS...</td>\n",
       "      <td>1</td>\n",
       "      <td>0.524943</td>\n",
       "      <td>0.003594</td>\n",
       "      <td>0.0000</td>\n",
       "    </tr>\n",
       "    <tr>\n",
       "      <th>34677</th>\n",
       "      <td>0.000956</td>\n",
       "      <td>MFVFLVLLPLVSSQCVNLTTRTQLPPAYTNSFTRGVYYPDKVFRSS...</td>\n",
       "      <td>1</td>\n",
       "      <td>0.525978</td>\n",
       "      <td>0.003824</td>\n",
       "      <td>0.0002</td>\n",
       "    </tr>\n",
       "  </tbody>\n",
       "</table>\n",
       "<p>34678 rows × 6 columns</p>\n",
       "</div>"
      ],
      "text/plain": [
       "       mut_escape                                                seq  \\\n",
       "0        0.000000  MFVFLVLLPLVSSQCVNLTTRTQLPPAYTNSFTRGVYYPDKVFRSS...   \n",
       "1        0.000000  MFVFLVLLPLVSSQCVNLTTRTQLPPAYTNSFTRGVYYPDKVFRSS...   \n",
       "2        0.000000  MFVFLVLLPLVSSQCVNLTTRTQLPPAYTNSFTRGVYYPDKVFRSS...   \n",
       "3        0.000000  MFVFLVLLPLVSSQCVNLTTRTQLPPAYTNSFTRGVYYPDKVFRSS...   \n",
       "4        0.000000  MFVFLVLLPLVSSQCVNLTTRTQLPPAYTNSFTRGVYYPDKVFRSS...   \n",
       "...           ...                                                ...   \n",
       "34673    0.001041  MFVFLVLLPLVSSQCVNLTTRTQLPPAYTNSFTRGVYYPDKVFRSS...   \n",
       "34674    0.185581  MFVFLVLLPLVSSQCVNLTTRTQLPPAYTNSFTRGVYYPDKVFRSS...   \n",
       "34675    0.088192  MFVFLVLLPLVSSQCVNLTTRTQLPPAYTNSFTRGVYYPDKVFRSS...   \n",
       "34676    0.014363  MFVFLVLLPLVSSQCVNLTTRTQLPPAYTNSFTRGVYYPDKVFRSS...   \n",
       "34677    0.000956  MFVFLVLLPLVSSQCVNLTTRTQLPPAYTNSFTRGVYYPDKVFRSS...   \n",
       "\n",
       "       mut_escape_class  base_pred_vir  model_pred_hum  model_pred_hum_delta  \n",
       "0                     0       0.524669        0.003707                0.0001  \n",
       "1                     0       0.525247        0.003650                0.0000  \n",
       "2                     0       0.524456        0.003594                0.0000  \n",
       "3                     0       0.524882        0.003594                0.0000  \n",
       "4                     0       0.524943        0.003765                0.0002  \n",
       "...                 ...            ...             ...                   ...  \n",
       "34673                 1       0.525795        0.003650                0.0000  \n",
       "34674                 1       0.524912        0.003650                0.0000  \n",
       "34675                 1       0.523633        0.003594                0.0000  \n",
       "34676                 1       0.524943        0.003594                0.0000  \n",
       "34677                 1       0.525978        0.003824                0.0002  \n",
       "\n",
       "[34678 rows x 6 columns]"
      ]
     },
     "execution_count": 165,
     "metadata": {},
     "output_type": "execute_result"
    }
   ],
   "source": [
    "## more rows made? \n",
    "# df_cao_full.merge(df_cao_preds.set_index('seq')[['base_pred_vir', 'model_pred_hum', 'model_pred_hum_delta']],on='seq')\n",
    "\n",
    "# df_cao_full_merged = df_cao_full.merge(df_cao_preds.groupby('seq')[['base_pred_vir', 'model_pred_hum', 'model_pred_hum_delta']].max(),on='seq')\n",
    "# alt:\n",
    "df_cao_full_merged = df_cao_full.merge(df_cao_preds.set_index('seq')[['base_pred_vir', 'model_pred_hum', 'model_pred_hum_delta']],on='seq')\n",
    "df_cao_full_merged"
   ]
  },
  {
   "cell_type": "code",
   "execution_count": 166,
   "metadata": {},
   "outputs": [
    {
     "data": {
      "text/html": [
       "<div>\n",
       "<style scoped>\n",
       "    .dataframe tbody tr th:only-of-type {\n",
       "        vertical-align: middle;\n",
       "    }\n",
       "\n",
       "    .dataframe tbody tr th {\n",
       "        vertical-align: top;\n",
       "    }\n",
       "\n",
       "    .dataframe thead th {\n",
       "        text-align: right;\n",
       "    }\n",
       "</style>\n",
       "<table border=\"1\" class=\"dataframe\">\n",
       "  <thead>\n",
       "    <tr style=\"text-align: right;\">\n",
       "      <th></th>\n",
       "      <th>mut_escape</th>\n",
       "      <th>mut_escape_class</th>\n",
       "      <th>base_pred_vir</th>\n",
       "      <th>model_pred_hum</th>\n",
       "      <th>model_pred_hum_delta</th>\n",
       "    </tr>\n",
       "  </thead>\n",
       "  <tbody>\n",
       "    <tr>\n",
       "      <th>mut_escape</th>\n",
       "      <td>1.000</td>\n",
       "      <td>0.210</td>\n",
       "      <td>-0.043</td>\n",
       "      <td>-0.003</td>\n",
       "      <td>-0.012</td>\n",
       "    </tr>\n",
       "    <tr>\n",
       "      <th>mut_escape_class</th>\n",
       "      <td>0.210</td>\n",
       "      <td>1.000</td>\n",
       "      <td>0.005</td>\n",
       "      <td>0.003</td>\n",
       "      <td>0.012</td>\n",
       "    </tr>\n",
       "    <tr>\n",
       "      <th>base_pred_vir</th>\n",
       "      <td>-0.043</td>\n",
       "      <td>0.005</td>\n",
       "      <td>1.000</td>\n",
       "      <td>0.104</td>\n",
       "      <td>0.069</td>\n",
       "    </tr>\n",
       "    <tr>\n",
       "      <th>model_pred_hum</th>\n",
       "      <td>-0.003</td>\n",
       "      <td>0.003</td>\n",
       "      <td>0.104</td>\n",
       "      <td>1.000</td>\n",
       "      <td>0.842</td>\n",
       "    </tr>\n",
       "    <tr>\n",
       "      <th>model_pred_hum_delta</th>\n",
       "      <td>-0.012</td>\n",
       "      <td>0.012</td>\n",
       "      <td>0.069</td>\n",
       "      <td>0.842</td>\n",
       "      <td>1.000</td>\n",
       "    </tr>\n",
       "  </tbody>\n",
       "</table>\n",
       "</div>"
      ],
      "text/plain": [
       "                      mut_escape  mut_escape_class  base_pred_vir  \\\n",
       "mut_escape                 1.000             0.210         -0.043   \n",
       "mut_escape_class           0.210             1.000          0.005   \n",
       "base_pred_vir             -0.043             0.005          1.000   \n",
       "model_pred_hum            -0.003             0.003          0.104   \n",
       "model_pred_hum_delta      -0.012             0.012          0.069   \n",
       "\n",
       "                      model_pred_hum  model_pred_hum_delta  \n",
       "mut_escape                    -0.003                -0.012  \n",
       "mut_escape_class               0.003                 0.012  \n",
       "base_pred_vir                  0.104                 0.069  \n",
       "model_pred_hum                 1.000                 0.842  \n",
       "model_pred_hum_delta           0.842                 1.000  "
      ]
     },
     "execution_count": 166,
     "metadata": {},
     "output_type": "execute_result"
    }
   ],
   "source": [
    "df_cao_full_merged.corr(numeric_only=True).round(3)"
   ]
  },
  {
   "cell_type": "code",
   "execution_count": 167,
   "metadata": {},
   "outputs": [
    {
     "data": {
      "text/plain": [
       "Index(['mut_escape', 'seq', 'mut_escape_class', 'base_pred_vir',\n",
       "       'model_pred_hum', 'model_pred_hum_delta'],\n",
       "      dtype='object')"
      ]
     },
     "execution_count": 167,
     "metadata": {},
     "output_type": "execute_result"
    }
   ],
   "source": [
    "df_cao_full_merged.columns"
   ]
  },
  {
   "cell_type": "code",
   "execution_count": 168,
   "metadata": {},
   "outputs": [
    {
     "data": {
      "text/plain": [
       "base_pred_vir           1.0\n",
       "model_pred_hum          1.0\n",
       "model_pred_hum_delta    1.0\n",
       "mut_escape              NaN\n",
       "mut_escape_class        NaN\n",
       "dtype: float64"
      ]
     },
     "execution_count": 168,
     "metadata": {},
     "output_type": "execute_result"
    }
   ],
   "source": [
    "df_cao_full_merged[[\"base_pred_vir\",\"model_pred_hum\",\"model_pred_hum_delta\"]].corrwith(df_cao_full_merged,numeric_only=True)"
   ]
  },
  {
   "cell_type": "code",
   "execution_count": 169,
   "metadata": {
    "id": "TYo-lBTWvUt2"
   },
   "outputs": [],
   "source": [
    "# print(classification_report(df_cao[\"mut_escape_class\"],np.argmax(logits, axis=-1)))"
   ]
  },
  {
   "cell_type": "markdown",
   "metadata": {
    "id": "SiO5IxnQj2_D"
   },
   "source": [
    "Viral escape data:\n",
    "\n",
    "```\n",
    "!wget http://cb.csail.mit.edu/cb/viral-mutation/data.tar.gz\n",
    "!tar xvf data.tar.gz\n",
    "```\n",
    "* https://github.com/brianhie/viral-mutation/tree/master/results\n",
    "* wget from : https://colab.research.google.com/github/vanvalenlab/bebi205/blob/master/bebi205/notebooks/sequences-key.ipynb#scrollTo=VN607f41e_qp\n",
    "  * relatively large - 3GB zipped!\n",
    "\n",
    "\n",
    "Example output from them (maybe cov2 seq), with escaper results value:\n",
    "https://github.com/brianhie/viral-mutation/blob/master/examples/example_results.txt\n",
    "\n",
    "* another for flu (1, h3)... https://github.com/brianhie/viral-mutation/blob/master/results/flu/semantics/analyze_semantics_flu_h1_bilstm_512.txt"
   ]
  },
  {
   "cell_type": "markdown",
   "metadata": {
    "id": "J-gCOl4rj21r"
   },
   "source": []
  },
  {
   "cell_type": "code",
   "execution_count": 170,
   "metadata": {
    "id": "oQqyQiIokI5I"
   },
   "outputs": [],
   "source": [
    "# !wget http://cb.csail.mit.edu/cb/viral-mutation/data.tar.gz\n",
    "# !tar xvf data.tar.gz\n",
    "### https://github.com/brianhie/viral-mutation/blob/81c80d41671670eb58cc46e957a1b0c4bf14856a/bin/escape.py#L5\n",
    "# # pd.read_csv('data/influenza/escape_doud2018/pos_map.csv')"
   ]
  },
  {
   "cell_type": "code",
   "execution_count": 171,
   "metadata": {
    "id": "5mfHmXg0kJjV"
   },
   "outputs": [
    {
     "data": {
      "text/html": [
       "<div>\n",
       "<style scoped>\n",
       "    .dataframe tbody tr th:only-of-type {\n",
       "        vertical-align: middle;\n",
       "    }\n",
       "\n",
       "    .dataframe tbody tr th {\n",
       "        vertical-align: top;\n",
       "    }\n",
       "\n",
       "    .dataframe thead th {\n",
       "        text-align: right;\n",
       "    }\n",
       "</style>\n",
       "<table border=\"1\" class=\"dataframe\">\n",
       "  <thead>\n",
       "    <tr style=\"text-align: right;\">\n",
       "      <th></th>\n",
       "      <th>Mutations</th>\n",
       "      <th>Semantic change</th>\n",
       "      <th>Grammaticality</th>\n",
       "      <th>ID</th>\n",
       "      <th>Sequence</th>\n",
       "    </tr>\n",
       "  </thead>\n",
       "  <tbody>\n",
       "    <tr>\n",
       "      <th>0</th>\n",
       "      <td>H69del,V70del,Y144del,N501Y,A570D,P681H,T716I,...</td>\n",
       "      <td>2.0900</td>\n",
       "      <td>-4.426438</td>\n",
       "      <td>B.1.1.7</td>\n",
       "      <td>MFVFLVLLPLVSSQCVNLTTRTQLPPAYTNSFTRGVYYPDKVFRSS...</td>\n",
       "    </tr>\n",
       "    <tr>\n",
       "      <th>1</th>\n",
       "      <td>D80A,D215G,K417N,E484K,N501Y,A701V</td>\n",
       "      <td>2.3320</td>\n",
       "      <td>-3.571184</td>\n",
       "      <td>V501.V2</td>\n",
       "      <td>MFVFLVLLPLVSSQCVNLTTRTQLPPAYTNSFTRGVYYPDKVFRSS...</td>\n",
       "    </tr>\n",
       "    <tr>\n",
       "      <th>2</th>\n",
       "      <td>F140del,Y248del,249insK,249insT,249insR,249ins...</td>\n",
       "      <td>2.5590</td>\n",
       "      <td>-5.231962</td>\n",
       "      <td>PT188-EM</td>\n",
       "      <td>MFVFLVLLPLVSSQCVNLTTRTQLPPAYTNSFTRGVYYPDKVFRSS...</td>\n",
       "    </tr>\n",
       "    <tr>\n",
       "      <th>3</th>\n",
       "      <td>V3I,D614G</td>\n",
       "      <td>0.7217</td>\n",
       "      <td>-1.438198</td>\n",
       "      <td>null0</td>\n",
       "      <td>MFIFLVLLPLVSSQCVNLTTRTQLPPAYTNSFTRGVYYPDKVFRSS...</td>\n",
       "    </tr>\n",
       "    <tr>\n",
       "      <th>4</th>\n",
       "      <td>L5F,T22I</td>\n",
       "      <td>1.0260</td>\n",
       "      <td>-2.518009</td>\n",
       "      <td>null1</td>\n",
       "      <td>MFVFFVLLPLVSSQCVNLTTRIQLPPAYTNSFTRGVYYPDKVFRSS...</td>\n",
       "    </tr>\n",
       "    <tr>\n",
       "      <th>...</th>\n",
       "      <td>...</td>\n",
       "      <td>...</td>\n",
       "      <td>...</td>\n",
       "      <td>...</td>\n",
       "      <td>...</td>\n",
       "    </tr>\n",
       "    <tr>\n",
       "      <th>909</th>\n",
       "      <td>L8V</td>\n",
       "      <td>0.4204</td>\n",
       "      <td>-2.274710</td>\n",
       "      <td>null906</td>\n",
       "      <td>MFVFLVLVPLVSSQCVNLTTRTQLPPAYTNSFTRGVYYPDKVFRSS...</td>\n",
       "    </tr>\n",
       "    <tr>\n",
       "      <th>910</th>\n",
       "      <td>L8V,D138Y</td>\n",
       "      <td>0.9610</td>\n",
       "      <td>-3.060831</td>\n",
       "      <td>null907</td>\n",
       "      <td>MFVFLVLVPLVSSQCVNLTTRTQLPPAYTNSFTRGVYYPDKVFRSS...</td>\n",
       "    </tr>\n",
       "    <tr>\n",
       "      <th>911</th>\n",
       "      <td>L8W,D614G</td>\n",
       "      <td>0.9240</td>\n",
       "      <td>-2.423046</td>\n",
       "      <td>null908</td>\n",
       "      <td>MFVFLVLWPLVSSQCVNLTTRTQLPPAYTNSFTRGVYYPDKVFRSS...</td>\n",
       "    </tr>\n",
       "    <tr>\n",
       "      <th>912</th>\n",
       "      <td>F2L</td>\n",
       "      <td>0.5740</td>\n",
       "      <td>-2.516092</td>\n",
       "      <td>null909</td>\n",
       "      <td>MLVFLVLLPLVSSQCVNLTTRTQLPPAYTNSFTRGVYYPDKVFRSS...</td>\n",
       "    </tr>\n",
       "    <tr>\n",
       "      <th>913</th>\n",
       "      <td>F2L,D614G</td>\n",
       "      <td>0.9770</td>\n",
       "      <td>-1.347095</td>\n",
       "      <td>null910</td>\n",
       "      <td>MLVFLVLLPLVSSQCVNLTTRTQLPPAYTNSFTRGVYYPDKVFRSS...</td>\n",
       "    </tr>\n",
       "  </tbody>\n",
       "</table>\n",
       "<p>914 rows × 5 columns</p>\n",
       "</div>"
      ],
      "text/plain": [
       "                                             Mutations  Semantic change  \\\n",
       "0    H69del,V70del,Y144del,N501Y,A570D,P681H,T716I,...           2.0900   \n",
       "1                   D80A,D215G,K417N,E484K,N501Y,A701V           2.3320   \n",
       "2    F140del,Y248del,249insK,249insT,249insR,249ins...           2.5590   \n",
       "3                                            V3I,D614G           0.7217   \n",
       "4                                             L5F,T22I           1.0260   \n",
       "..                                                 ...              ...   \n",
       "909                                                L8V           0.4204   \n",
       "910                                          L8V,D138Y           0.9610   \n",
       "911                                          L8W,D614G           0.9240   \n",
       "912                                                F2L           0.5740   \n",
       "913                                          F2L,D614G           0.9770   \n",
       "\n",
       "     Grammaticality        ID  \\\n",
       "0         -4.426438   B.1.1.7   \n",
       "1         -3.571184   V501.V2   \n",
       "2         -5.231962  PT188-EM   \n",
       "3         -1.438198     null0   \n",
       "4         -2.518009     null1   \n",
       "..              ...       ...   \n",
       "909       -2.274710   null906   \n",
       "910       -3.060831   null907   \n",
       "911       -2.423046   null908   \n",
       "912       -2.516092   null909   \n",
       "913       -1.347095   null910   \n",
       "\n",
       "                                              Sequence  \n",
       "0    MFVFLVLLPLVSSQCVNLTTRTQLPPAYTNSFTRGVYYPDKVFRSS...  \n",
       "1    MFVFLVLLPLVSSQCVNLTTRTQLPPAYTNSFTRGVYYPDKVFRSS...  \n",
       "2    MFVFLVLLPLVSSQCVNLTTRTQLPPAYTNSFTRGVYYPDKVFRSS...  \n",
       "3    MFIFLVLLPLVSSQCVNLTTRTQLPPAYTNSFTRGVYYPDKVFRSS...  \n",
       "4    MFVFFVLLPLVSSQCVNLTTRIQLPPAYTNSFTRGVYYPDKVFRSS...  \n",
       "..                                                 ...  \n",
       "909  MFVFLVLVPLVSSQCVNLTTRTQLPPAYTNSFTRGVYYPDKVFRSS...  \n",
       "910  MFVFLVLVPLVSSQCVNLTTRTQLPPAYTNSFTRGVYYPDKVFRSS...  \n",
       "911  MFVFLVLWPLVSSQCVNLTTRTQLPPAYTNSFTRGVYYPDKVFRSS...  \n",
       "912  MLVFLVLLPLVSSQCVNLTTRTQLPPAYTNSFTRGVYYPDKVFRSS...  \n",
       "913  MLVFLVLLPLVSSQCVNLTTRTQLPPAYTNSFTRGVYYPDKVFRSS...  \n",
       "\n",
       "[914 rows x 5 columns]"
      ]
     },
     "execution_count": 171,
     "metadata": {},
     "output_type": "execute_result"
    }
   ],
   "source": [
    "df_ex = pd.read_csv(\"https://raw.githubusercontent.com/brianhie/viral-mutation/master/examples/example_results.txt\",sep=\"\\t\",header=0)\n",
    "df_ex"
   ]
  },
  {
   "cell_type": "code",
   "execution_count": 172,
   "metadata": {
    "id": "zrDjcxEXlkuv"
   },
   "outputs": [
    {
     "data": {
      "text/html": [],
      "text/plain": [
       "<IPython.core.display.HTML object>"
      ]
     },
     "metadata": {},
     "output_type": "display_data"
    },
    {
     "data": {
      "text/html": [],
      "text/plain": [
       "<IPython.core.display.HTML object>"
      ]
     },
     "metadata": {},
     "output_type": "display_data"
    },
    {
     "name": "stdout",
     "output_type": "stream",
     "text": [
      "       Semantic change  Grammaticality  base_pred_vir  model_pred_vir  \\\n",
      "count          914.000         904.000        914.000         914.000   \n",
      "mean             1.062          -2.744          0.510           0.995   \n",
      "std              0.317           1.197          0.000           0.000   \n",
      "min              0.292          -7.777          0.507           0.992   \n",
      "25%              0.873          -3.292          0.510           0.994   \n",
      "50%              1.047          -2.452          0.510           0.995   \n",
      "75%              1.230          -1.929          0.510           0.995   \n",
      "max              2.684          -0.178          0.511           0.996   \n",
      "\n",
      "       model_pred_hum  model_pred_hum_delta  \n",
      "count         914.000               914.000  \n",
      "mean            0.005                -0.000  \n",
      "std             0.000                 0.000  \n",
      "min             0.004                -0.001  \n",
      "25%             0.005                -0.000  \n",
      "50%             0.005                -0.000  \n",
      "75%             0.006                 0.000  \n",
      "max             0.008                 0.003  \n"
     ]
    },
    {
     "data": {
      "text/html": [
       "<div>\n",
       "<style scoped>\n",
       "    .dataframe tbody tr th:only-of-type {\n",
       "        vertical-align: middle;\n",
       "    }\n",
       "\n",
       "    .dataframe tbody tr th {\n",
       "        vertical-align: top;\n",
       "    }\n",
       "\n",
       "    .dataframe thead th {\n",
       "        text-align: right;\n",
       "    }\n",
       "</style>\n",
       "<table border=\"1\" class=\"dataframe\">\n",
       "  <thead>\n",
       "    <tr style=\"text-align: right;\">\n",
       "      <th></th>\n",
       "      <th>Semantic change</th>\n",
       "      <th>Grammaticality</th>\n",
       "      <th>base_pred_vir</th>\n",
       "      <th>model_pred_vir</th>\n",
       "      <th>model_pred_hum</th>\n",
       "      <th>model_pred_hum_delta</th>\n",
       "    </tr>\n",
       "  </thead>\n",
       "  <tbody>\n",
       "    <tr>\n",
       "      <th>Semantic change</th>\n",
       "      <td>1.000</td>\n",
       "      <td>0.256</td>\n",
       "      <td>-0.036</td>\n",
       "      <td>-0.047</td>\n",
       "      <td>0.047</td>\n",
       "      <td>0.048</td>\n",
       "    </tr>\n",
       "    <tr>\n",
       "      <th>Grammaticality</th>\n",
       "      <td>0.256</td>\n",
       "      <td>1.000</td>\n",
       "      <td>-0.092</td>\n",
       "      <td>-0.206</td>\n",
       "      <td>0.206</td>\n",
       "      <td>0.221</td>\n",
       "    </tr>\n",
       "    <tr>\n",
       "      <th>base_pred_vir</th>\n",
       "      <td>-0.036</td>\n",
       "      <td>-0.092</td>\n",
       "      <td>1.000</td>\n",
       "      <td>0.302</td>\n",
       "      <td>-0.302</td>\n",
       "      <td>-0.300</td>\n",
       "    </tr>\n",
       "    <tr>\n",
       "      <th>model_pred_vir</th>\n",
       "      <td>-0.047</td>\n",
       "      <td>-0.206</td>\n",
       "      <td>0.302</td>\n",
       "      <td>1.000</td>\n",
       "      <td>-1.000</td>\n",
       "      <td>-0.996</td>\n",
       "    </tr>\n",
       "    <tr>\n",
       "      <th>model_pred_hum</th>\n",
       "      <td>0.047</td>\n",
       "      <td>0.206</td>\n",
       "      <td>-0.302</td>\n",
       "      <td>-1.000</td>\n",
       "      <td>1.000</td>\n",
       "      <td>0.996</td>\n",
       "    </tr>\n",
       "    <tr>\n",
       "      <th>model_pred_hum_delta</th>\n",
       "      <td>0.048</td>\n",
       "      <td>0.221</td>\n",
       "      <td>-0.300</td>\n",
       "      <td>-0.996</td>\n",
       "      <td>0.996</td>\n",
       "      <td>1.000</td>\n",
       "    </tr>\n",
       "  </tbody>\n",
       "</table>\n",
       "</div>"
      ],
      "text/plain": [
       "                      Semantic change  Grammaticality  base_pred_vir  \\\n",
       "Semantic change                 1.000           0.256         -0.036   \n",
       "Grammaticality                  0.256           1.000         -0.092   \n",
       "base_pred_vir                  -0.036          -0.092          1.000   \n",
       "model_pred_vir                 -0.047          -0.206          0.302   \n",
       "model_pred_hum                  0.047           0.206         -0.302   \n",
       "model_pred_hum_delta            0.048           0.221         -0.300   \n",
       "\n",
       "                      model_pred_vir  model_pred_hum  model_pred_hum_delta  \n",
       "Semantic change               -0.047           0.047                 0.048  \n",
       "Grammaticality                -0.206           0.206                 0.221  \n",
       "base_pred_vir                  0.302          -0.302                -0.300  \n",
       "model_pred_vir                 1.000          -1.000                -0.996  \n",
       "model_pred_hum                -1.000           1.000                 0.996  \n",
       "model_pred_hum_delta          -0.996           0.996                 1.000  "
      ]
     },
     "metadata": {},
     "output_type": "display_data"
    }
   ],
   "source": [
    "df_ex = get_escaper_scores(df_ex,trained_model=model,base_model=base_model,seqColName=\"Sequence\",truncate_cao=False)"
   ]
  },
  {
   "cell_type": "code",
   "execution_count": 173,
   "metadata": {
    "id": "YWgPv0OSsGsm"
   },
   "outputs": [
    {
     "data": {
      "text/html": [
       "<div>\n",
       "<style scoped>\n",
       "    .dataframe tbody tr th:only-of-type {\n",
       "        vertical-align: middle;\n",
       "    }\n",
       "\n",
       "    .dataframe tbody tr th {\n",
       "        vertical-align: top;\n",
       "    }\n",
       "\n",
       "    .dataframe thead th {\n",
       "        text-align: right;\n",
       "    }\n",
       "</style>\n",
       "<table border=\"1\" class=\"dataframe\">\n",
       "  <thead>\n",
       "    <tr style=\"text-align: right;\">\n",
       "      <th></th>\n",
       "      <th>Mutations</th>\n",
       "      <th>Semantic change</th>\n",
       "      <th>Grammaticality</th>\n",
       "      <th>ID</th>\n",
       "      <th>Sequence</th>\n",
       "      <th>base_pred_vir</th>\n",
       "      <th>model_pred_vir</th>\n",
       "      <th>model_pred_hum</th>\n",
       "      <th>model_pred_hum_delta</th>\n",
       "    </tr>\n",
       "  </thead>\n",
       "  <tbody>\n",
       "    <tr>\n",
       "      <th>0</th>\n",
       "      <td>H69del,V70del,Y144del,N501Y,A570D,P681H,T716I,...</td>\n",
       "      <td>2.0900</td>\n",
       "      <td>-4.426438</td>\n",
       "      <td>B.1.1.7</td>\n",
       "      <td>MFVFLVLLPLVSSQCVNLTTRTQLPPAYTNSFTRGVYYPDKVFRSS...</td>\n",
       "      <td>0.509501</td>\n",
       "      <td>0.994940</td>\n",
       "      <td>0.005060</td>\n",
       "      <td>-0.0005</td>\n",
       "    </tr>\n",
       "    <tr>\n",
       "      <th>1</th>\n",
       "      <td>D80A,D215G,K417N,E484K,N501Y,A701V</td>\n",
       "      <td>2.3320</td>\n",
       "      <td>-3.571184</td>\n",
       "      <td>V501.V2</td>\n",
       "      <td>MFVFLVLLPLVSSQCVNLTTRTQLPPAYTNSFTRGVYYPDKVFRSS...</td>\n",
       "      <td>0.509943</td>\n",
       "      <td>0.994860</td>\n",
       "      <td>0.005140</td>\n",
       "      <td>-0.0005</td>\n",
       "    </tr>\n",
       "    <tr>\n",
       "      <th>2</th>\n",
       "      <td>F140del,Y248del,249insK,249insT,249insR,249ins...</td>\n",
       "      <td>2.5590</td>\n",
       "      <td>-5.231962</td>\n",
       "      <td>PT188-EM</td>\n",
       "      <td>MFVFLVLLPLVSSQCVNLTTRTQLPPAYTNSFTRGVYYPDKVFRSS...</td>\n",
       "      <td>0.510901</td>\n",
       "      <td>0.994780</td>\n",
       "      <td>0.005220</td>\n",
       "      <td>-0.0004</td>\n",
       "    </tr>\n",
       "    <tr>\n",
       "      <th>3</th>\n",
       "      <td>V3I,D614G</td>\n",
       "      <td>0.7217</td>\n",
       "      <td>-1.438198</td>\n",
       "      <td>null0</td>\n",
       "      <td>MFIFLVLLPLVSSQCVNLTTRTQLPPAYTNSFTRGVYYPDKVFRSS...</td>\n",
       "      <td>0.509585</td>\n",
       "      <td>0.994780</td>\n",
       "      <td>0.005220</td>\n",
       "      <td>-0.0004</td>\n",
       "    </tr>\n",
       "    <tr>\n",
       "      <th>4</th>\n",
       "      <td>L5F,T22I</td>\n",
       "      <td>1.0260</td>\n",
       "      <td>-2.518009</td>\n",
       "      <td>null1</td>\n",
       "      <td>MFVFFVLLPLVSSQCVNLTTRIQLPPAYTNSFTRGVYYPDKVFRSS...</td>\n",
       "      <td>0.509982</td>\n",
       "      <td>0.995245</td>\n",
       "      <td>0.004755</td>\n",
       "      <td>-0.0008</td>\n",
       "    </tr>\n",
       "    <tr>\n",
       "      <th>...</th>\n",
       "      <td>...</td>\n",
       "      <td>...</td>\n",
       "      <td>...</td>\n",
       "      <td>...</td>\n",
       "      <td>...</td>\n",
       "      <td>...</td>\n",
       "      <td>...</td>\n",
       "      <td>...</td>\n",
       "      <td>...</td>\n",
       "    </tr>\n",
       "    <tr>\n",
       "      <th>909</th>\n",
       "      <td>L8V</td>\n",
       "      <td>0.4204</td>\n",
       "      <td>-2.274710</td>\n",
       "      <td>null906</td>\n",
       "      <td>MFVFLVLVPLVSSQCVNLTTRTQLPPAYTNSFTRGVYYPDKVFRSS...</td>\n",
       "      <td>0.510572</td>\n",
       "      <td>0.995018</td>\n",
       "      <td>0.004982</td>\n",
       "      <td>-0.0006</td>\n",
       "    </tr>\n",
       "    <tr>\n",
       "      <th>910</th>\n",
       "      <td>L8V,D138Y</td>\n",
       "      <td>0.9610</td>\n",
       "      <td>-3.060831</td>\n",
       "      <td>null907</td>\n",
       "      <td>MFVFLVLVPLVSSQCVNLTTRTQLPPAYTNSFTRGVYYPDKVFRSS...</td>\n",
       "      <td>0.510030</td>\n",
       "      <td>0.995018</td>\n",
       "      <td>0.004982</td>\n",
       "      <td>-0.0006</td>\n",
       "    </tr>\n",
       "    <tr>\n",
       "      <th>911</th>\n",
       "      <td>L8W,D614G</td>\n",
       "      <td>0.9240</td>\n",
       "      <td>-2.423046</td>\n",
       "      <td>null908</td>\n",
       "      <td>MFVFLVLWPLVSSQCVNLTTRTQLPPAYTNSFTRGVYYPDKVFRSS...</td>\n",
       "      <td>0.510166</td>\n",
       "      <td>0.994358</td>\n",
       "      <td>0.005642</td>\n",
       "      <td>0.0000</td>\n",
       "    </tr>\n",
       "    <tr>\n",
       "      <th>912</th>\n",
       "      <td>F2L</td>\n",
       "      <td>0.5740</td>\n",
       "      <td>-2.516092</td>\n",
       "      <td>null909</td>\n",
       "      <td>MLVFLVLLPLVSSQCVNLTTRTQLPPAYTNSFTRGVYYPDKVFRSS...</td>\n",
       "      <td>0.509122</td>\n",
       "      <td>0.993410</td>\n",
       "      <td>0.006590</td>\n",
       "      <td>0.0010</td>\n",
       "    </tr>\n",
       "    <tr>\n",
       "      <th>913</th>\n",
       "      <td>F2L,D614G</td>\n",
       "      <td>0.9770</td>\n",
       "      <td>-1.347095</td>\n",
       "      <td>null910</td>\n",
       "      <td>MLVFLVLLPLVSSQCVNLTTRTQLPPAYTNSFTRGVYYPDKVFRSS...</td>\n",
       "      <td>0.509330</td>\n",
       "      <td>0.992988</td>\n",
       "      <td>0.007012</td>\n",
       "      <td>0.0014</td>\n",
       "    </tr>\n",
       "  </tbody>\n",
       "</table>\n",
       "<p>914 rows × 9 columns</p>\n",
       "</div>"
      ],
      "text/plain": [
       "                                             Mutations  Semantic change  \\\n",
       "0    H69del,V70del,Y144del,N501Y,A570D,P681H,T716I,...           2.0900   \n",
       "1                   D80A,D215G,K417N,E484K,N501Y,A701V           2.3320   \n",
       "2    F140del,Y248del,249insK,249insT,249insR,249ins...           2.5590   \n",
       "3                                            V3I,D614G           0.7217   \n",
       "4                                             L5F,T22I           1.0260   \n",
       "..                                                 ...              ...   \n",
       "909                                                L8V           0.4204   \n",
       "910                                          L8V,D138Y           0.9610   \n",
       "911                                          L8W,D614G           0.9240   \n",
       "912                                                F2L           0.5740   \n",
       "913                                          F2L,D614G           0.9770   \n",
       "\n",
       "     Grammaticality        ID  \\\n",
       "0         -4.426438   B.1.1.7   \n",
       "1         -3.571184   V501.V2   \n",
       "2         -5.231962  PT188-EM   \n",
       "3         -1.438198     null0   \n",
       "4         -2.518009     null1   \n",
       "..              ...       ...   \n",
       "909       -2.274710   null906   \n",
       "910       -3.060831   null907   \n",
       "911       -2.423046   null908   \n",
       "912       -2.516092   null909   \n",
       "913       -1.347095   null910   \n",
       "\n",
       "                                              Sequence  base_pred_vir  \\\n",
       "0    MFVFLVLLPLVSSQCVNLTTRTQLPPAYTNSFTRGVYYPDKVFRSS...       0.509501   \n",
       "1    MFVFLVLLPLVSSQCVNLTTRTQLPPAYTNSFTRGVYYPDKVFRSS...       0.509943   \n",
       "2    MFVFLVLLPLVSSQCVNLTTRTQLPPAYTNSFTRGVYYPDKVFRSS...       0.510901   \n",
       "3    MFIFLVLLPLVSSQCVNLTTRTQLPPAYTNSFTRGVYYPDKVFRSS...       0.509585   \n",
       "4    MFVFFVLLPLVSSQCVNLTTRIQLPPAYTNSFTRGVYYPDKVFRSS...       0.509982   \n",
       "..                                                 ...            ...   \n",
       "909  MFVFLVLVPLVSSQCVNLTTRTQLPPAYTNSFTRGVYYPDKVFRSS...       0.510572   \n",
       "910  MFVFLVLVPLVSSQCVNLTTRTQLPPAYTNSFTRGVYYPDKVFRSS...       0.510030   \n",
       "911  MFVFLVLWPLVSSQCVNLTTRTQLPPAYTNSFTRGVYYPDKVFRSS...       0.510166   \n",
       "912  MLVFLVLLPLVSSQCVNLTTRTQLPPAYTNSFTRGVYYPDKVFRSS...       0.509122   \n",
       "913  MLVFLVLLPLVSSQCVNLTTRTQLPPAYTNSFTRGVYYPDKVFRSS...       0.509330   \n",
       "\n",
       "     model_pred_vir  model_pred_hum  model_pred_hum_delta  \n",
       "0          0.994940        0.005060               -0.0005  \n",
       "1          0.994860        0.005140               -0.0005  \n",
       "2          0.994780        0.005220               -0.0004  \n",
       "3          0.994780        0.005220               -0.0004  \n",
       "4          0.995245        0.004755               -0.0008  \n",
       "..              ...             ...                   ...  \n",
       "909        0.995018        0.004982               -0.0006  \n",
       "910        0.995018        0.004982               -0.0006  \n",
       "911        0.994358        0.005642                0.0000  \n",
       "912        0.993410        0.006590                0.0010  \n",
       "913        0.992988        0.007012                0.0014  \n",
       "\n",
       "[914 rows x 9 columns]"
      ]
     },
     "execution_count": 173,
     "metadata": {},
     "output_type": "execute_result"
    }
   ],
   "source": [
    "df_ex"
   ]
  },
  {
   "cell_type": "markdown",
   "metadata": {},
   "source": [
    "### IEDB epitopes\n",
    "*lots of (short) linear epitopes\n",
    "* humans, viruses"
   ]
  },
  {
   "cell_type": "code",
   "execution_count": 174,
   "metadata": {},
   "outputs": [
    {
     "name": "stdout",
     "output_type": "stream",
     "text": [
      "Epitopes - IEDB ID         1105596\n",
      "Epitopes - Epitope         1105596\n",
      "Epitopes - Antigen           27807\n",
      "Epitopes - Organism              1\n",
      "Epitopes - # References         75\n",
      "Epitopes - # Assays            264\n",
      "dtype: int64\n"
     ]
    },
    {
     "data": {
      "text/html": [
       "<div>\n",
       "<style scoped>\n",
       "    .dataframe tbody tr th:only-of-type {\n",
       "        vertical-align: middle;\n",
       "    }\n",
       "\n",
       "    .dataframe tbody tr th {\n",
       "        vertical-align: top;\n",
       "    }\n",
       "\n",
       "    .dataframe thead th {\n",
       "        text-align: right;\n",
       "    }\n",
       "</style>\n",
       "<table border=\"1\" class=\"dataframe\">\n",
       "  <thead>\n",
       "    <tr style=\"text-align: right;\">\n",
       "      <th></th>\n",
       "      <th>Epitopes - IEDB ID</th>\n",
       "      <th>Epitopes - Epitope</th>\n",
       "      <th>Epitopes - Antigen</th>\n",
       "      <th>Epitopes - Organism</th>\n",
       "      <th>Epitopes - # References</th>\n",
       "      <th>Epitopes - # Assays</th>\n",
       "    </tr>\n",
       "  </thead>\n",
       "  <tbody>\n",
       "    <tr>\n",
       "      <th>0</th>\n",
       "      <td>2</td>\n",
       "      <td>AAAAAAAAAAAAA</td>\n",
       "      <td>Solute carrier family 12 member 2</td>\n",
       "      <td>Homo sapiens (human)</td>\n",
       "      <td>3</td>\n",
       "      <td>3</td>\n",
       "    </tr>\n",
       "    <tr>\n",
       "      <th>1</th>\n",
       "      <td>10</td>\n",
       "      <td>AAAAAIFVI</td>\n",
       "      <td>MHC class I polypeptide-related sequence A (Un...</td>\n",
       "      <td>Homo sapiens (human)</td>\n",
       "      <td>2</td>\n",
       "      <td>4</td>\n",
       "    </tr>\n",
       "    <tr>\n",
       "      <th>2</th>\n",
       "      <td>11</td>\n",
       "      <td>AAAAALDKKQRNFDKILA</td>\n",
       "      <td>Myosin-7</td>\n",
       "      <td>Homo sapiens (human)</td>\n",
       "      <td>1</td>\n",
       "      <td>1</td>\n",
       "    </tr>\n",
       "    <tr>\n",
       "      <th>3</th>\n",
       "      <td>129</td>\n",
       "      <td>AAEYWNSQKEVLER</td>\n",
       "      <td>HLA-DQB1*03:02 chain</td>\n",
       "      <td>NaN</td>\n",
       "      <td>2</td>\n",
       "      <td>2</td>\n",
       "    </tr>\n",
       "    <tr>\n",
       "      <th>4</th>\n",
       "      <td>155</td>\n",
       "      <td>AAGIGILTV</td>\n",
       "      <td>Melanoma antigen recognized by T-cells 1</td>\n",
       "      <td>Homo sapiens (human)</td>\n",
       "      <td>42</td>\n",
       "      <td>121</td>\n",
       "    </tr>\n",
       "    <tr>\n",
       "      <th>...</th>\n",
       "      <td>...</td>\n",
       "      <td>...</td>\n",
       "      <td>...</td>\n",
       "      <td>...</td>\n",
       "      <td>...</td>\n",
       "      <td>...</td>\n",
       "    </tr>\n",
       "    <tr>\n",
       "      <th>1105591</th>\n",
       "      <td>2253039</td>\n",
       "      <td>LTVDKSRWQQGNVFSC</td>\n",
       "      <td>Immunoglobulin heavy constant gamma 1</td>\n",
       "      <td>Homo sapiens (human)</td>\n",
       "      <td>1</td>\n",
       "      <td>13</td>\n",
       "    </tr>\n",
       "    <tr>\n",
       "      <th>1105592</th>\n",
       "      <td>2253042</td>\n",
       "      <td>LYSKLTVDKSRWQQGNVFS + SCM(K4, K9)</td>\n",
       "      <td>Immunoglobulin heavy constant gamma 1</td>\n",
       "      <td>Homo sapiens (human)</td>\n",
       "      <td>1</td>\n",
       "      <td>2</td>\n",
       "    </tr>\n",
       "    <tr>\n",
       "      <th>1105593</th>\n",
       "      <td>2253050</td>\n",
       "      <td>NGSGSGKWEGGPSK</td>\n",
       "      <td>Potassium voltage-gated channel subfamily H me...</td>\n",
       "      <td>Homo sapiens (human)</td>\n",
       "      <td>1</td>\n",
       "      <td>3</td>\n",
       "    </tr>\n",
       "    <tr>\n",
       "      <th>1105594</th>\n",
       "      <td>2253058</td>\n",
       "      <td>PPMMYPHPAYP</td>\n",
       "      <td>Galectin-9</td>\n",
       "      <td>Homo sapiens (human)</td>\n",
       "      <td>1</td>\n",
       "      <td>12</td>\n",
       "    </tr>\n",
       "    <tr>\n",
       "      <th>1105595</th>\n",
       "      <td>2253065</td>\n",
       "      <td>RDELTKNQVSLTCLVK</td>\n",
       "      <td>Immunoglobulin heavy constant gamma 1</td>\n",
       "      <td>Homo sapiens (human)</td>\n",
       "      <td>1</td>\n",
       "      <td>16</td>\n",
       "    </tr>\n",
       "  </tbody>\n",
       "</table>\n",
       "<p>1105596 rows × 6 columns</p>\n",
       "</div>"
      ],
      "text/plain": [
       "         Epitopes - IEDB ID                 Epitopes - Epitope  \\\n",
       "0                         2                      AAAAAAAAAAAAA   \n",
       "1                        10                          AAAAAIFVI   \n",
       "2                        11                 AAAAALDKKQRNFDKILA   \n",
       "3                       129                     AAEYWNSQKEVLER   \n",
       "4                       155                          AAGIGILTV   \n",
       "...                     ...                                ...   \n",
       "1105591             2253039                   LTVDKSRWQQGNVFSC   \n",
       "1105592             2253042  LYSKLTVDKSRWQQGNVFS + SCM(K4, K9)   \n",
       "1105593             2253050                     NGSGSGKWEGGPSK   \n",
       "1105594             2253058                        PPMMYPHPAYP   \n",
       "1105595             2253065                   RDELTKNQVSLTCLVK   \n",
       "\n",
       "                                        Epitopes - Antigen  \\\n",
       "0                        Solute carrier family 12 member 2   \n",
       "1        MHC class I polypeptide-related sequence A (Un...   \n",
       "2                                                 Myosin-7   \n",
       "3                                     HLA-DQB1*03:02 chain   \n",
       "4                 Melanoma antigen recognized by T-cells 1   \n",
       "...                                                    ...   \n",
       "1105591              Immunoglobulin heavy constant gamma 1   \n",
       "1105592              Immunoglobulin heavy constant gamma 1   \n",
       "1105593  Potassium voltage-gated channel subfamily H me...   \n",
       "1105594                                         Galectin-9   \n",
       "1105595              Immunoglobulin heavy constant gamma 1   \n",
       "\n",
       "          Epitopes - Organism  Epitopes - # References  Epitopes - # Assays  \n",
       "0        Homo sapiens (human)                        3                    3  \n",
       "1        Homo sapiens (human)                        2                    4  \n",
       "2        Homo sapiens (human)                        1                    1  \n",
       "3                         NaN                        2                    2  \n",
       "4        Homo sapiens (human)                       42                  121  \n",
       "...                       ...                      ...                  ...  \n",
       "1105591  Homo sapiens (human)                        1                   13  \n",
       "1105592  Homo sapiens (human)                        1                    2  \n",
       "1105593  Homo sapiens (human)                        1                    3  \n",
       "1105594  Homo sapiens (human)                        1                   12  \n",
       "1105595  Homo sapiens (human)                        1                   16  \n",
       "\n",
       "[1105596 rows x 6 columns]"
      ]
     },
     "execution_count": 174,
     "metadata": {},
     "output_type": "execute_result"
    }
   ],
   "source": [
    "df_iedb_human = pd.read_csv(\"iedb_human_epitopes.csv\",compression=\"zip\").drop_duplicates(subset=[\"Epitopes - Epitope\"])\n",
    "## raw - 1.1M seqs\n",
    "print(df_iedb_human.nunique())\n",
    "df_iedb_human"
   ]
  },
  {
   "cell_type": "code",
   "execution_count": 175,
   "metadata": {},
   "outputs": [
    {
     "data": {
      "text/plain": [
       "count    1105596.0\n",
       "mean           3.3\n",
       "std            8.0\n",
       "min            1.0\n",
       "25%            1.0\n",
       "50%            1.0\n",
       "75%            3.0\n",
       "max          565.0\n",
       "dtype: float64"
      ]
     },
     "execution_count": 175,
     "metadata": {},
     "output_type": "execute_result"
    }
   ],
   "source": [
    "df_iedb_human[['Epitopes - # References','Epitopes - # Assays']].max(axis=1).describe().round(1)"
   ]
  },
  {
   "cell_type": "markdown",
   "metadata": {},
   "source": [
    "### filter for higher confidence cases"
   ]
  },
  {
   "cell_type": "code",
   "execution_count": 176,
   "metadata": {},
   "outputs": [
    {
     "name": "stdout",
     "output_type": "stream",
     "text": [
      "445355\n",
      "416466\n"
     ]
    }
   ],
   "source": [
    "df_iedb_human = df_iedb_human.loc[df_iedb_human[['Epitopes - # References','Epitopes - # Assays']].max(axis=1)>1]\n",
    "print(df_iedb_human.shape[0])\n",
    "df_iedb_human = df_iedb_human.loc[~df_iedb_human[\"Epitopes - Epitope\"].str.contains(\"[\\+ ]\")]\n",
    "print(df_iedb_human.shape[0])"
   ]
  },
  {
   "cell_type": "code",
   "execution_count": 177,
   "metadata": {},
   "outputs": [
    {
     "data": {
      "text/html": [
       "<div>\n",
       "<style scoped>\n",
       "    .dataframe tbody tr th:only-of-type {\n",
       "        vertical-align: middle;\n",
       "    }\n",
       "\n",
       "    .dataframe tbody tr th {\n",
       "        vertical-align: top;\n",
       "    }\n",
       "\n",
       "    .dataframe thead th {\n",
       "        text-align: right;\n",
       "    }\n",
       "</style>\n",
       "<table border=\"1\" class=\"dataframe\">\n",
       "  <thead>\n",
       "    <tr style=\"text-align: right;\">\n",
       "      <th></th>\n",
       "      <th>Epitopes - IEDB ID</th>\n",
       "      <th>Epitopes - Epitope</th>\n",
       "      <th>Epitopes - Antigen</th>\n",
       "      <th>Epitopes - Organism</th>\n",
       "      <th>Epitopes - # References</th>\n",
       "      <th>Epitopes - # Assays</th>\n",
       "    </tr>\n",
       "  </thead>\n",
       "  <tbody>\n",
       "    <tr>\n",
       "      <th>0</th>\n",
       "      <td>2</td>\n",
       "      <td>AAAAAAAAAAAAA</td>\n",
       "      <td>Solute carrier family 12 member 2</td>\n",
       "      <td>Homo sapiens (human)</td>\n",
       "      <td>3</td>\n",
       "      <td>3</td>\n",
       "    </tr>\n",
       "    <tr>\n",
       "      <th>1</th>\n",
       "      <td>10</td>\n",
       "      <td>AAAAAIFVI</td>\n",
       "      <td>MHC class I polypeptide-related sequence A (Un...</td>\n",
       "      <td>Homo sapiens (human)</td>\n",
       "      <td>2</td>\n",
       "      <td>4</td>\n",
       "    </tr>\n",
       "    <tr>\n",
       "      <th>3</th>\n",
       "      <td>129</td>\n",
       "      <td>AAEYWNSQKEVLER</td>\n",
       "      <td>HLA-DQB1*03:02 chain</td>\n",
       "      <td>NaN</td>\n",
       "      <td>2</td>\n",
       "      <td>2</td>\n",
       "    </tr>\n",
       "    <tr>\n",
       "      <th>4</th>\n",
       "      <td>155</td>\n",
       "      <td>AAGIGILTV</td>\n",
       "      <td>Melanoma antigen recognized by T-cells 1</td>\n",
       "      <td>Homo sapiens (human)</td>\n",
       "      <td>42</td>\n",
       "      <td>121</td>\n",
       "    </tr>\n",
       "    <tr>\n",
       "      <th>10</th>\n",
       "      <td>368</td>\n",
       "      <td>AAPPVAPA</td>\n",
       "      <td>Cellular tumor antigen p53 (UniProt:A0A0U1RQC9)</td>\n",
       "      <td>Homo sapiens (human)</td>\n",
       "      <td>1</td>\n",
       "      <td>5</td>\n",
       "    </tr>\n",
       "    <tr>\n",
       "      <th>...</th>\n",
       "      <td>...</td>\n",
       "      <td>...</td>\n",
       "      <td>...</td>\n",
       "      <td>...</td>\n",
       "      <td>...</td>\n",
       "      <td>...</td>\n",
       "    </tr>\n",
       "    <tr>\n",
       "      <th>1105590</th>\n",
       "      <td>2253021</td>\n",
       "      <td>KDTLMISRTPEVTCVV</td>\n",
       "      <td>Immunoglobulin heavy constant gamma 1</td>\n",
       "      <td>Homo sapiens (human)</td>\n",
       "      <td>1</td>\n",
       "      <td>18</td>\n",
       "    </tr>\n",
       "    <tr>\n",
       "      <th>1105591</th>\n",
       "      <td>2253039</td>\n",
       "      <td>LTVDKSRWQQGNVFSC</td>\n",
       "      <td>Immunoglobulin heavy constant gamma 1</td>\n",
       "      <td>Homo sapiens (human)</td>\n",
       "      <td>1</td>\n",
       "      <td>13</td>\n",
       "    </tr>\n",
       "    <tr>\n",
       "      <th>1105593</th>\n",
       "      <td>2253050</td>\n",
       "      <td>NGSGSGKWEGGPSK</td>\n",
       "      <td>Potassium voltage-gated channel subfamily H me...</td>\n",
       "      <td>Homo sapiens (human)</td>\n",
       "      <td>1</td>\n",
       "      <td>3</td>\n",
       "    </tr>\n",
       "    <tr>\n",
       "      <th>1105594</th>\n",
       "      <td>2253058</td>\n",
       "      <td>PPMMYPHPAYP</td>\n",
       "      <td>Galectin-9</td>\n",
       "      <td>Homo sapiens (human)</td>\n",
       "      <td>1</td>\n",
       "      <td>12</td>\n",
       "    </tr>\n",
       "    <tr>\n",
       "      <th>1105595</th>\n",
       "      <td>2253065</td>\n",
       "      <td>RDELTKNQVSLTCLVK</td>\n",
       "      <td>Immunoglobulin heavy constant gamma 1</td>\n",
       "      <td>Homo sapiens (human)</td>\n",
       "      <td>1</td>\n",
       "      <td>16</td>\n",
       "    </tr>\n",
       "  </tbody>\n",
       "</table>\n",
       "<p>416466 rows × 6 columns</p>\n",
       "</div>"
      ],
      "text/plain": [
       "         Epitopes - IEDB ID Epitopes - Epitope  \\\n",
       "0                         2      AAAAAAAAAAAAA   \n",
       "1                        10          AAAAAIFVI   \n",
       "3                       129     AAEYWNSQKEVLER   \n",
       "4                       155          AAGIGILTV   \n",
       "10                      368           AAPPVAPA   \n",
       "...                     ...                ...   \n",
       "1105590             2253021   KDTLMISRTPEVTCVV   \n",
       "1105591             2253039   LTVDKSRWQQGNVFSC   \n",
       "1105593             2253050     NGSGSGKWEGGPSK   \n",
       "1105594             2253058        PPMMYPHPAYP   \n",
       "1105595             2253065   RDELTKNQVSLTCLVK   \n",
       "\n",
       "                                        Epitopes - Antigen  \\\n",
       "0                        Solute carrier family 12 member 2   \n",
       "1        MHC class I polypeptide-related sequence A (Un...   \n",
       "3                                     HLA-DQB1*03:02 chain   \n",
       "4                 Melanoma antigen recognized by T-cells 1   \n",
       "10         Cellular tumor antigen p53 (UniProt:A0A0U1RQC9)   \n",
       "...                                                    ...   \n",
       "1105590              Immunoglobulin heavy constant gamma 1   \n",
       "1105591              Immunoglobulin heavy constant gamma 1   \n",
       "1105593  Potassium voltage-gated channel subfamily H me...   \n",
       "1105594                                         Galectin-9   \n",
       "1105595              Immunoglobulin heavy constant gamma 1   \n",
       "\n",
       "          Epitopes - Organism  Epitopes - # References  Epitopes - # Assays  \n",
       "0        Homo sapiens (human)                        3                    3  \n",
       "1        Homo sapiens (human)                        2                    4  \n",
       "3                         NaN                        2                    2  \n",
       "4        Homo sapiens (human)                       42                  121  \n",
       "10       Homo sapiens (human)                        1                    5  \n",
       "...                       ...                      ...                  ...  \n",
       "1105590  Homo sapiens (human)                        1                   18  \n",
       "1105591  Homo sapiens (human)                        1                   13  \n",
       "1105593  Homo sapiens (human)                        1                    3  \n",
       "1105594  Homo sapiens (human)                        1                   12  \n",
       "1105595  Homo sapiens (human)                        1                   16  \n",
       "\n",
       "[416466 rows x 6 columns]"
      ]
     },
     "execution_count": 177,
     "metadata": {},
     "output_type": "execute_result"
    }
   ],
   "source": [
    "df_iedb_human"
   ]
  },
  {
   "cell_type": "code",
   "execution_count": 178,
   "metadata": {},
   "outputs": [
    {
     "data": {
      "text/plain": [
       "count    416466.0\n",
       "mean         12.0\n",
       "std           4.0\n",
       "min           2.0\n",
       "25%           9.0\n",
       "50%          10.0\n",
       "75%          15.0\n",
       "max          53.0\n",
       "Name: Epitopes - Epitope, dtype: float64"
      ]
     },
     "execution_count": 178,
     "metadata": {},
     "output_type": "execute_result"
    }
   ],
   "source": [
    "df_iedb_human[\"Epitopes - Epitope\"].str.len().describe().round(0)"
   ]
  },
  {
   "cell_type": "code",
   "execution_count": 179,
   "metadata": {
    "scrolled": true
   },
   "outputs": [
    {
     "data": {
      "text/html": [],
      "text/plain": [
       "<IPython.core.display.HTML object>"
      ]
     },
     "metadata": {},
     "output_type": "display_data"
    },
    {
     "data": {
      "text/html": [],
      "text/plain": [
       "<IPython.core.display.HTML object>"
      ]
     },
     "metadata": {},
     "output_type": "display_data"
    },
    {
     "name": "stdout",
     "output_type": "stream",
     "text": [
      "       Epitopes - IEDB ID  Epitopes - # References  Epitopes - # Assays  \\\n",
      "count           30123.000                30123.000            30123.000   \n",
      "mean           897817.126                    4.033                7.041   \n",
      "std            416286.927                    4.727               12.705   \n",
      "min              3783.000                    1.000                2.000   \n",
      "25%            574386.500                    2.000                2.000   \n",
      "50%            865594.000                    2.000                3.000   \n",
      "75%           1181255.500                    4.000                7.000   \n",
      "max           2253058.000                   73.000              377.000   \n",
      "\n",
      "       base_pred_vir  model_pred_vir  model_pred_hum  model_pred_hum_delta  \n",
      "count      30123.000       30123.000       30123.000             30123.000  \n",
      "mean           0.519           0.524           0.476                 0.472  \n",
      "std            0.004           0.359           0.359                 0.359  \n",
      "min            0.488           0.003           0.003                -0.000  \n",
      "25%            0.517           0.162           0.093                 0.089  \n",
      "50%            0.520           0.509           0.491                 0.487  \n",
      "75%            0.522           0.907           0.838                 0.834  \n",
      "max            0.535           0.997           0.997                 0.993  \n"
     ]
    },
    {
     "data": {
      "text/html": [
       "<div>\n",
       "<style scoped>\n",
       "    .dataframe tbody tr th:only-of-type {\n",
       "        vertical-align: middle;\n",
       "    }\n",
       "\n",
       "    .dataframe tbody tr th {\n",
       "        vertical-align: top;\n",
       "    }\n",
       "\n",
       "    .dataframe thead th {\n",
       "        text-align: right;\n",
       "    }\n",
       "</style>\n",
       "<table border=\"1\" class=\"dataframe\">\n",
       "  <thead>\n",
       "    <tr style=\"text-align: right;\">\n",
       "      <th></th>\n",
       "      <th>Epitopes - IEDB ID</th>\n",
       "      <th>Epitopes - # References</th>\n",
       "      <th>Epitopes - # Assays</th>\n",
       "      <th>base_pred_vir</th>\n",
       "      <th>model_pred_vir</th>\n",
       "      <th>model_pred_hum</th>\n",
       "      <th>model_pred_hum_delta</th>\n",
       "    </tr>\n",
       "  </thead>\n",
       "  <tbody>\n",
       "    <tr>\n",
       "      <th>Epitopes - IEDB ID</th>\n",
       "      <td>1.000</td>\n",
       "      <td>-0.437</td>\n",
       "      <td>-0.271</td>\n",
       "      <td>0.016</td>\n",
       "      <td>-0.028</td>\n",
       "      <td>0.028</td>\n",
       "      <td>0.028</td>\n",
       "    </tr>\n",
       "    <tr>\n",
       "      <th>Epitopes - # References</th>\n",
       "      <td>-0.437</td>\n",
       "      <td>1.000</td>\n",
       "      <td>0.733</td>\n",
       "      <td>-0.004</td>\n",
       "      <td>0.047</td>\n",
       "      <td>-0.047</td>\n",
       "      <td>-0.047</td>\n",
       "    </tr>\n",
       "    <tr>\n",
       "      <th>Epitopes - # Assays</th>\n",
       "      <td>-0.271</td>\n",
       "      <td>0.733</td>\n",
       "      <td>1.000</td>\n",
       "      <td>-0.008</td>\n",
       "      <td>0.023</td>\n",
       "      <td>-0.023</td>\n",
       "      <td>-0.023</td>\n",
       "    </tr>\n",
       "    <tr>\n",
       "      <th>base_pred_vir</th>\n",
       "      <td>0.016</td>\n",
       "      <td>-0.004</td>\n",
       "      <td>-0.008</td>\n",
       "      <td>1.000</td>\n",
       "      <td>-0.004</td>\n",
       "      <td>0.004</td>\n",
       "      <td>0.004</td>\n",
       "    </tr>\n",
       "    <tr>\n",
       "      <th>model_pred_vir</th>\n",
       "      <td>-0.028</td>\n",
       "      <td>0.047</td>\n",
       "      <td>0.023</td>\n",
       "      <td>-0.004</td>\n",
       "      <td>1.000</td>\n",
       "      <td>-1.000</td>\n",
       "      <td>-1.000</td>\n",
       "    </tr>\n",
       "    <tr>\n",
       "      <th>model_pred_hum</th>\n",
       "      <td>0.028</td>\n",
       "      <td>-0.047</td>\n",
       "      <td>-0.023</td>\n",
       "      <td>0.004</td>\n",
       "      <td>-1.000</td>\n",
       "      <td>1.000</td>\n",
       "      <td>1.000</td>\n",
       "    </tr>\n",
       "    <tr>\n",
       "      <th>model_pred_hum_delta</th>\n",
       "      <td>0.028</td>\n",
       "      <td>-0.047</td>\n",
       "      <td>-0.023</td>\n",
       "      <td>0.004</td>\n",
       "      <td>-1.000</td>\n",
       "      <td>1.000</td>\n",
       "      <td>1.000</td>\n",
       "    </tr>\n",
       "  </tbody>\n",
       "</table>\n",
       "</div>"
      ],
      "text/plain": [
       "                         Epitopes - IEDB ID  Epitopes - # References  \\\n",
       "Epitopes - IEDB ID                    1.000                   -0.437   \n",
       "Epitopes - # References              -0.437                    1.000   \n",
       "Epitopes - # Assays                  -0.271                    0.733   \n",
       "base_pred_vir                         0.016                   -0.004   \n",
       "model_pred_vir                       -0.028                    0.047   \n",
       "model_pred_hum                        0.028                   -0.047   \n",
       "model_pred_hum_delta                  0.028                   -0.047   \n",
       "\n",
       "                         Epitopes - # Assays  base_pred_vir  model_pred_vir  \\\n",
       "Epitopes - IEDB ID                    -0.271          0.016          -0.028   \n",
       "Epitopes - # References                0.733         -0.004           0.047   \n",
       "Epitopes - # Assays                    1.000         -0.008           0.023   \n",
       "base_pred_vir                         -0.008          1.000          -0.004   \n",
       "model_pred_vir                         0.023         -0.004           1.000   \n",
       "model_pred_hum                        -0.023          0.004          -1.000   \n",
       "model_pred_hum_delta                  -0.023          0.004          -1.000   \n",
       "\n",
       "                         model_pred_hum  model_pred_hum_delta  \n",
       "Epitopes - IEDB ID                0.028                 0.028  \n",
       "Epitopes - # References          -0.047                -0.047  \n",
       "Epitopes - # Assays              -0.023                -0.023  \n",
       "base_pred_vir                     0.004                 0.004  \n",
       "model_pred_vir                   -1.000                -1.000  \n",
       "model_pred_hum                    1.000                 1.000  \n",
       "model_pred_hum_delta              1.000                 1.000  "
      ]
     },
     "metadata": {},
     "output_type": "display_data"
    },
    {
     "data": {
      "text/html": [
       "<div>\n",
       "<style scoped>\n",
       "    .dataframe tbody tr th:only-of-type {\n",
       "        vertical-align: middle;\n",
       "    }\n",
       "\n",
       "    .dataframe tbody tr th {\n",
       "        vertical-align: top;\n",
       "    }\n",
       "\n",
       "    .dataframe thead th {\n",
       "        text-align: right;\n",
       "    }\n",
       "</style>\n",
       "<table border=\"1\" class=\"dataframe\">\n",
       "  <thead>\n",
       "    <tr style=\"text-align: right;\">\n",
       "      <th></th>\n",
       "      <th>Epitopes - IEDB ID</th>\n",
       "      <th>Epitopes - Epitope</th>\n",
       "      <th>Epitopes - Antigen</th>\n",
       "      <th>Epitopes - Organism</th>\n",
       "      <th>Epitopes - # References</th>\n",
       "      <th>Epitopes - # Assays</th>\n",
       "      <th>base_pred_vir</th>\n",
       "      <th>model_pred_vir</th>\n",
       "      <th>model_pred_hum</th>\n",
       "      <th>model_pred_hum_delta</th>\n",
       "    </tr>\n",
       "  </thead>\n",
       "  <tbody>\n",
       "    <tr>\n",
       "      <th>106966</th>\n",
       "      <td>511040</td>\n",
       "      <td>AGVETTTPSKQSNN</td>\n",
       "      <td>Immunoglobulin lambda constant 3</td>\n",
       "      <td>Homo sapiens (human)</td>\n",
       "      <td>2</td>\n",
       "      <td>2</td>\n",
       "      <td>0.519917</td>\n",
       "      <td>0.192539</td>\n",
       "      <td>0.807461</td>\n",
       "      <td>0.8037</td>\n",
       "    </tr>\n",
       "    <tr>\n",
       "      <th>42071</th>\n",
       "      <td>433553</td>\n",
       "      <td>YTDALLKPSASQY</td>\n",
       "      <td>Centrosome-associated protein 350</td>\n",
       "      <td>Homo sapiens (human)</td>\n",
       "      <td>10</td>\n",
       "      <td>12</td>\n",
       "      <td>0.518089</td>\n",
       "      <td>0.144631</td>\n",
       "      <td>0.855369</td>\n",
       "      <td>0.8516</td>\n",
       "    </tr>\n",
       "    <tr>\n",
       "      <th>684100</th>\n",
       "      <td>1293810</td>\n",
       "      <td>VEYDEFTTLM</td>\n",
       "      <td>Nesprin-2 (UniProt:Q8WXH0)</td>\n",
       "      <td>Homo sapiens (human)</td>\n",
       "      <td>1</td>\n",
       "      <td>2</td>\n",
       "      <td>0.515239</td>\n",
       "      <td>0.934395</td>\n",
       "      <td>0.065605</td>\n",
       "      <td>0.0618</td>\n",
       "    </tr>\n",
       "    <tr>\n",
       "      <th>547712</th>\n",
       "      <td>1156718</td>\n",
       "      <td>LHSLVGQHILSVQQFT</td>\n",
       "      <td>CAD protein (UniProt:P27708)</td>\n",
       "      <td>Homo sapiens (human)</td>\n",
       "      <td>2</td>\n",
       "      <td>4</td>\n",
       "      <td>0.518028</td>\n",
       "      <td>0.965641</td>\n",
       "      <td>0.034359</td>\n",
       "      <td>0.0306</td>\n",
       "    </tr>\n",
       "    <tr>\n",
       "      <th>599355</th>\n",
       "      <td>1208609</td>\n",
       "      <td>ETAPTTVDR</td>\n",
       "      <td>Lambda-crystallin homolog</td>\n",
       "      <td>Homo sapiens (human)</td>\n",
       "      <td>2</td>\n",
       "      <td>2</td>\n",
       "      <td>0.526343</td>\n",
       "      <td>0.580471</td>\n",
       "      <td>0.419529</td>\n",
       "      <td>0.4157</td>\n",
       "    </tr>\n",
       "    <tr>\n",
       "      <th>...</th>\n",
       "      <td>...</td>\n",
       "      <td>...</td>\n",
       "      <td>...</td>\n",
       "      <td>...</td>\n",
       "      <td>...</td>\n",
       "      <td>...</td>\n",
       "      <td>...</td>\n",
       "      <td>...</td>\n",
       "      <td>...</td>\n",
       "      <td>...</td>\n",
       "    </tr>\n",
       "    <tr>\n",
       "      <th>614473</th>\n",
       "      <td>1223780</td>\n",
       "      <td>GPRKGREVYRHFGKAPGTPHSHT</td>\n",
       "      <td>Ribosomal protein L18</td>\n",
       "      <td>Homo sapiens (human)</td>\n",
       "      <td>2</td>\n",
       "      <td>2</td>\n",
       "      <td>0.516504</td>\n",
       "      <td>0.103024</td>\n",
       "      <td>0.896976</td>\n",
       "      <td>0.8932</td>\n",
       "    </tr>\n",
       "    <tr>\n",
       "      <th>245526</th>\n",
       "      <td>719862</td>\n",
       "      <td>QELEAENRL</td>\n",
       "      <td>Protein CASP</td>\n",
       "      <td>Homo sapiens (human)</td>\n",
       "      <td>8</td>\n",
       "      <td>9</td>\n",
       "      <td>0.519948</td>\n",
       "      <td>0.091382</td>\n",
       "      <td>0.908618</td>\n",
       "      <td>0.9048</td>\n",
       "    </tr>\n",
       "    <tr>\n",
       "      <th>305206</th>\n",
       "      <td>847512</td>\n",
       "      <td>NKSDLRHLRAVPTDEARA</td>\n",
       "      <td>GTP-binding protein GEM</td>\n",
       "      <td>Homo sapiens (human)</td>\n",
       "      <td>3</td>\n",
       "      <td>5</td>\n",
       "      <td>0.522689</td>\n",
       "      <td>0.322526</td>\n",
       "      <td>0.677474</td>\n",
       "      <td>0.6737</td>\n",
       "    </tr>\n",
       "    <tr>\n",
       "      <th>49610</th>\n",
       "      <td>441879</td>\n",
       "      <td>YPDPSKQKPM</td>\n",
       "      <td>Tyrosine--tRNA ligase, cytoplasmic</td>\n",
       "      <td>Homo sapiens (human)</td>\n",
       "      <td>8</td>\n",
       "      <td>8</td>\n",
       "      <td>0.521410</td>\n",
       "      <td>0.147555</td>\n",
       "      <td>0.852445</td>\n",
       "      <td>0.8486</td>\n",
       "    </tr>\n",
       "    <tr>\n",
       "      <th>397851</th>\n",
       "      <td>990429</td>\n",
       "      <td>MYKALLKQR</td>\n",
       "      <td>Mitochondrial Rho GTPase</td>\n",
       "      <td>Homo sapiens (human)</td>\n",
       "      <td>3</td>\n",
       "      <td>3</td>\n",
       "      <td>0.519735</td>\n",
       "      <td>0.865679</td>\n",
       "      <td>0.134321</td>\n",
       "      <td>0.1305</td>\n",
       "    </tr>\n",
       "  </tbody>\n",
       "</table>\n",
       "<p>30123 rows × 10 columns</p>\n",
       "</div>"
      ],
      "text/plain": [
       "        Epitopes - IEDB ID       Epitopes - Epitope  \\\n",
       "106966              511040           AGVETTTPSKQSNN   \n",
       "42071               433553            YTDALLKPSASQY   \n",
       "684100             1293810               VEYDEFTTLM   \n",
       "547712             1156718         LHSLVGQHILSVQQFT   \n",
       "599355             1208609                ETAPTTVDR   \n",
       "...                    ...                      ...   \n",
       "614473             1223780  GPRKGREVYRHFGKAPGTPHSHT   \n",
       "245526              719862                QELEAENRL   \n",
       "305206              847512       NKSDLRHLRAVPTDEARA   \n",
       "49610               441879               YPDPSKQKPM   \n",
       "397851              990429                MYKALLKQR   \n",
       "\n",
       "                        Epitopes - Antigen   Epitopes - Organism  \\\n",
       "106966    Immunoglobulin lambda constant 3  Homo sapiens (human)   \n",
       "42071    Centrosome-associated protein 350  Homo sapiens (human)   \n",
       "684100          Nesprin-2 (UniProt:Q8WXH0)  Homo sapiens (human)   \n",
       "547712        CAD protein (UniProt:P27708)  Homo sapiens (human)   \n",
       "599355           Lambda-crystallin homolog  Homo sapiens (human)   \n",
       "...                                    ...                   ...   \n",
       "614473               Ribosomal protein L18  Homo sapiens (human)   \n",
       "245526                        Protein CASP  Homo sapiens (human)   \n",
       "305206             GTP-binding protein GEM  Homo sapiens (human)   \n",
       "49610   Tyrosine--tRNA ligase, cytoplasmic  Homo sapiens (human)   \n",
       "397851            Mitochondrial Rho GTPase  Homo sapiens (human)   \n",
       "\n",
       "        Epitopes - # References  Epitopes - # Assays  base_pred_vir  \\\n",
       "106966                        2                    2       0.519917   \n",
       "42071                        10                   12       0.518089   \n",
       "684100                        1                    2       0.515239   \n",
       "547712                        2                    4       0.518028   \n",
       "599355                        2                    2       0.526343   \n",
       "...                         ...                  ...            ...   \n",
       "614473                        2                    2       0.516504   \n",
       "245526                        8                    9       0.519948   \n",
       "305206                        3                    5       0.522689   \n",
       "49610                         8                    8       0.521410   \n",
       "397851                        3                    3       0.519735   \n",
       "\n",
       "        model_pred_vir  model_pred_hum  model_pred_hum_delta  \n",
       "106966        0.192539        0.807461                0.8037  \n",
       "42071         0.144631        0.855369                0.8516  \n",
       "684100        0.934395        0.065605                0.0618  \n",
       "547712        0.965641        0.034359                0.0306  \n",
       "599355        0.580471        0.419529                0.4157  \n",
       "...                ...             ...                   ...  \n",
       "614473        0.103024        0.896976                0.8932  \n",
       "245526        0.091382        0.908618                0.9048  \n",
       "305206        0.322526        0.677474                0.6737  \n",
       "49610         0.147555        0.852445                0.8486  \n",
       "397851        0.865679        0.134321                0.1305  \n",
       "\n",
       "[30123 rows x 10 columns]"
      ]
     },
     "execution_count": 179,
     "metadata": {},
     "output_type": "execute_result"
    }
   ],
   "source": [
    "df_iedb_human_preds = get_escaper_scores(df_iedb_human.sample(30_123).copy(),trained_model=model,base_model=base_model,seqColName=\"Epitopes - Epitope\",truncate_cao=False)\n",
    "df_iedb_human_preds"
   ]
  },
  {
   "cell_type": "code",
   "execution_count": 180,
   "metadata": {},
   "outputs": [
    {
     "data": {
      "image/png": "[encoded data removed]",
      "text/plain": [
       "<Figure size 640x480 with 1 Axes>"
      ]
     },
     "metadata": {},
     "output_type": "display_data"
    }
   ],
   "source": [
    "df_iedb_human_preds[\"model_pred_hum\"].hist();"
   ]
  },
  {
   "cell_type": "code",
   "execution_count": 181,
   "metadata": {},
   "outputs": [
    {
     "name": "stdout",
     "output_type": "stream",
     "text": [
      "Epitopes - IEDB ID         138074\n",
      "Epitopes - Epitope         138074\n",
      "Epitopes - Antigen            844\n",
      "Epitopes - Organism           182\n",
      "Epitopes - # References        59\n",
      "Epitopes - # Assays           103\n",
      "dtype: int64\n",
      "58544\n",
      "416466\n"
     ]
    }
   ],
   "source": [
    "# \"E:\\Stuff\\Research\\datasets\\New Protein-Virus anom project\\iedb_vir_epitopes.csv.zip.csv\"\n",
    "df_iedb_vir = pd.read_csv(\"iedb_vir_epitopes.csv\",compression=\"zip\").drop_duplicates(subset=[\"Epitopes - Epitope\"])\n",
    "## raw - 138K seqs\n",
    "print(df_iedb_vir.nunique())\n",
    "# df_iedb_vir\n",
    "\n",
    "df_iedb_vir = df_iedb_vir.loc[df_iedb_vir[['Epitopes - # References','Epitopes - # Assays']].max(axis=1)>1]\n",
    "print(df_iedb_vir.shape[0])\n",
    "df_iedb_vir = df_iedb_vir.loc[~df_iedb_vir[\"Epitopes - Epitope\"].str.contains(\"[\\+ ]\")]\n",
    "print(df_iedb_human.shape[0])"
   ]
  },
  {
   "cell_type": "code",
   "execution_count": 182,
   "metadata": {},
   "outputs": [
    {
     "data": {
      "text/html": [],
      "text/plain": [
       "<IPython.core.display.HTML object>"
      ]
     },
     "metadata": {},
     "output_type": "display_data"
    },
    {
     "data": {
      "text/html": [],
      "text/plain": [
       "<IPython.core.display.HTML object>"
      ]
     },
     "metadata": {},
     "output_type": "display_data"
    },
    {
     "name": "stdout",
     "output_type": "stream",
     "text": [
      "       Epitopes - IEDB ID  Epitopes - # References  Epitopes - # Assays  \\\n",
      "count           30183.000                30183.000            30183.000   \n",
      "mean          1018118.714                    1.738                3.744   \n",
      "std            735213.523                    3.167                6.711   \n",
      "min                24.000                    1.000                2.000   \n",
      "25%            127000.500                    1.000                2.000   \n",
      "50%           1421471.000                    1.000                2.000   \n",
      "75%           1638845.500                    2.000                4.000   \n",
      "max           2253121.000                  252.000              602.000   \n",
      "\n",
      "       base_pred_vir  model_pred_vir  model_pred_hum  model_pred_hum_delta  \n",
      "count      30183.000       30183.000       30183.000             30183.000  \n",
      "mean           0.519           0.579           0.421                 0.417  \n",
      "std            0.004           0.350           0.350                 0.350  \n",
      "min            0.492           0.004           0.003                -0.000  \n",
      "25%            0.517           0.213           0.069                 0.065  \n",
      "50%            0.519           0.641           0.359                 0.355  \n",
      "75%            0.521           0.931           0.787                 0.784  \n",
      "max            0.537           0.997           0.996                 0.992  \n"
     ]
    },
    {
     "data": {
      "text/html": [
       "<div>\n",
       "<style scoped>\n",
       "    .dataframe tbody tr th:only-of-type {\n",
       "        vertical-align: middle;\n",
       "    }\n",
       "\n",
       "    .dataframe tbody tr th {\n",
       "        vertical-align: top;\n",
       "    }\n",
       "\n",
       "    .dataframe thead th {\n",
       "        text-align: right;\n",
       "    }\n",
       "</style>\n",
       "<table border=\"1\" class=\"dataframe\">\n",
       "  <thead>\n",
       "    <tr style=\"text-align: right;\">\n",
       "      <th></th>\n",
       "      <th>Epitopes - IEDB ID</th>\n",
       "      <th>Epitopes - # References</th>\n",
       "      <th>Epitopes - # Assays</th>\n",
       "      <th>base_pred_vir</th>\n",
       "      <th>model_pred_vir</th>\n",
       "      <th>model_pred_hum</th>\n",
       "      <th>model_pred_hum_delta</th>\n",
       "    </tr>\n",
       "  </thead>\n",
       "  <tbody>\n",
       "    <tr>\n",
       "      <th>Epitopes - IEDB ID</th>\n",
       "      <td>1.000</td>\n",
       "      <td>-0.206</td>\n",
       "      <td>-0.201</td>\n",
       "      <td>0.014</td>\n",
       "      <td>-0.070</td>\n",
       "      <td>0.070</td>\n",
       "      <td>0.070</td>\n",
       "    </tr>\n",
       "    <tr>\n",
       "      <th>Epitopes - # References</th>\n",
       "      <td>-0.206</td>\n",
       "      <td>1.000</td>\n",
       "      <td>0.839</td>\n",
       "      <td>-0.007</td>\n",
       "      <td>-0.008</td>\n",
       "      <td>0.008</td>\n",
       "      <td>0.008</td>\n",
       "    </tr>\n",
       "    <tr>\n",
       "      <th>Epitopes - # Assays</th>\n",
       "      <td>-0.201</td>\n",
       "      <td>0.839</td>\n",
       "      <td>1.000</td>\n",
       "      <td>-0.020</td>\n",
       "      <td>0.015</td>\n",
       "      <td>-0.015</td>\n",
       "      <td>-0.015</td>\n",
       "    </tr>\n",
       "    <tr>\n",
       "      <th>base_pred_vir</th>\n",
       "      <td>0.014</td>\n",
       "      <td>-0.007</td>\n",
       "      <td>-0.020</td>\n",
       "      <td>1.000</td>\n",
       "      <td>0.033</td>\n",
       "      <td>-0.033</td>\n",
       "      <td>-0.033</td>\n",
       "    </tr>\n",
       "    <tr>\n",
       "      <th>model_pred_vir</th>\n",
       "      <td>-0.070</td>\n",
       "      <td>-0.008</td>\n",
       "      <td>0.015</td>\n",
       "      <td>0.033</td>\n",
       "      <td>1.000</td>\n",
       "      <td>-1.000</td>\n",
       "      <td>-1.000</td>\n",
       "    </tr>\n",
       "    <tr>\n",
       "      <th>model_pred_hum</th>\n",
       "      <td>0.070</td>\n",
       "      <td>0.008</td>\n",
       "      <td>-0.015</td>\n",
       "      <td>-0.033</td>\n",
       "      <td>-1.000</td>\n",
       "      <td>1.000</td>\n",
       "      <td>1.000</td>\n",
       "    </tr>\n",
       "    <tr>\n",
       "      <th>model_pred_hum_delta</th>\n",
       "      <td>0.070</td>\n",
       "      <td>0.008</td>\n",
       "      <td>-0.015</td>\n",
       "      <td>-0.033</td>\n",
       "      <td>-1.000</td>\n",
       "      <td>1.000</td>\n",
       "      <td>1.000</td>\n",
       "    </tr>\n",
       "  </tbody>\n",
       "</table>\n",
       "</div>"
      ],
      "text/plain": [
       "                         Epitopes - IEDB ID  Epitopes - # References  \\\n",
       "Epitopes - IEDB ID                    1.000                   -0.206   \n",
       "Epitopes - # References              -0.206                    1.000   \n",
       "Epitopes - # Assays                  -0.201                    0.839   \n",
       "base_pred_vir                         0.014                   -0.007   \n",
       "model_pred_vir                       -0.070                   -0.008   \n",
       "model_pred_hum                        0.070                    0.008   \n",
       "model_pred_hum_delta                  0.070                    0.008   \n",
       "\n",
       "                         Epitopes - # Assays  base_pred_vir  model_pred_vir  \\\n",
       "Epitopes - IEDB ID                    -0.201          0.014          -0.070   \n",
       "Epitopes - # References                0.839         -0.007          -0.008   \n",
       "Epitopes - # Assays                    1.000         -0.020           0.015   \n",
       "base_pred_vir                         -0.020          1.000           0.033   \n",
       "model_pred_vir                         0.015          0.033           1.000   \n",
       "model_pred_hum                        -0.015         -0.033          -1.000   \n",
       "model_pred_hum_delta                  -0.015         -0.033          -1.000   \n",
       "\n",
       "                         model_pred_hum  model_pred_hum_delta  \n",
       "Epitopes - IEDB ID                0.070                 0.070  \n",
       "Epitopes - # References           0.008                 0.008  \n",
       "Epitopes - # Assays              -0.015                -0.015  \n",
       "base_pred_vir                    -0.033                -0.033  \n",
       "model_pred_vir                   -1.000                -1.000  \n",
       "model_pred_hum                    1.000                 1.000  \n",
       "model_pred_hum_delta              1.000                 1.000  "
      ]
     },
     "metadata": {},
     "output_type": "display_data"
    },
    {
     "data": {
      "text/html": [
       "<div>\n",
       "<style scoped>\n",
       "    .dataframe tbody tr th:only-of-type {\n",
       "        vertical-align: middle;\n",
       "    }\n",
       "\n",
       "    .dataframe tbody tr th {\n",
       "        vertical-align: top;\n",
       "    }\n",
       "\n",
       "    .dataframe thead th {\n",
       "        text-align: right;\n",
       "    }\n",
       "</style>\n",
       "<table border=\"1\" class=\"dataframe\">\n",
       "  <thead>\n",
       "    <tr style=\"text-align: right;\">\n",
       "      <th></th>\n",
       "      <th>Epitopes - IEDB ID</th>\n",
       "      <th>Epitopes - Epitope</th>\n",
       "      <th>Epitopes - Antigen</th>\n",
       "      <th>Epitopes - Organism</th>\n",
       "      <th>Epitopes - # References</th>\n",
       "      <th>Epitopes - # Assays</th>\n",
       "      <th>base_pred_vir</th>\n",
       "      <th>model_pred_vir</th>\n",
       "      <th>model_pred_hum</th>\n",
       "      <th>model_pred_hum_delta</th>\n",
       "    </tr>\n",
       "  </thead>\n",
       "  <tbody>\n",
       "    <tr>\n",
       "      <th>98018</th>\n",
       "      <td>1542217</td>\n",
       "      <td>QVVDADSKIVQLSEI</td>\n",
       "      <td>Replicase polyprotein 1ab</td>\n",
       "      <td>SARS-CoV2</td>\n",
       "      <td>3</td>\n",
       "      <td>6</td>\n",
       "      <td>0.520923</td>\n",
       "      <td>0.832237</td>\n",
       "      <td>0.167763</td>\n",
       "      <td>0.1640</td>\n",
       "    </tr>\n",
       "    <tr>\n",
       "      <th>7313</th>\n",
       "      <td>34144</td>\n",
       "      <td>KVNSTLEQY</td>\n",
       "      <td>Replicase polyprotein 1ab</td>\n",
       "      <td>SARS-CoV1</td>\n",
       "      <td>1</td>\n",
       "      <td>4</td>\n",
       "      <td>0.520588</td>\n",
       "      <td>0.878314</td>\n",
       "      <td>0.121686</td>\n",
       "      <td>0.1179</td>\n",
       "    </tr>\n",
       "    <tr>\n",
       "      <th>102134</th>\n",
       "      <td>1638757</td>\n",
       "      <td>KKEISNMLSIINKRK</td>\n",
       "      <td>Genome polyprotein</td>\n",
       "      <td>NaN</td>\n",
       "      <td>1</td>\n",
       "      <td>3</td>\n",
       "      <td>0.516382</td>\n",
       "      <td>0.995866</td>\n",
       "      <td>0.004134</td>\n",
       "      <td>0.0003</td>\n",
       "    </tr>\n",
       "    <tr>\n",
       "      <th>23953</th>\n",
       "      <td>92534</td>\n",
       "      <td>EEVPNIIHEA</td>\n",
       "      <td>Pre-glycoprotein polyprotein GP complex</td>\n",
       "      <td>Mammarenavirus brazilense (Brazilian mammarena...</td>\n",
       "      <td>1</td>\n",
       "      <td>2</td>\n",
       "      <td>0.525430</td>\n",
       "      <td>0.990064</td>\n",
       "      <td>0.009936</td>\n",
       "      <td>0.0061</td>\n",
       "    </tr>\n",
       "    <tr>\n",
       "      <th>64442</th>\n",
       "      <td>1425395</td>\n",
       "      <td>DVVSIRSSNQGN</td>\n",
       "      <td>Non-structural protein ORF4b</td>\n",
       "      <td>Middle East respiratory syndrome-related coron...</td>\n",
       "      <td>1</td>\n",
       "      <td>2</td>\n",
       "      <td>0.523968</td>\n",
       "      <td>0.879147</td>\n",
       "      <td>0.120853</td>\n",
       "      <td>0.1171</td>\n",
       "    </tr>\n",
       "    <tr>\n",
       "      <th>...</th>\n",
       "      <td>...</td>\n",
       "      <td>...</td>\n",
       "      <td>...</td>\n",
       "      <td>...</td>\n",
       "      <td>...</td>\n",
       "      <td>...</td>\n",
       "      <td>...</td>\n",
       "      <td>...</td>\n",
       "      <td>...</td>\n",
       "      <td>...</td>\n",
       "    </tr>\n",
       "    <tr>\n",
       "      <th>23228</th>\n",
       "      <td>91531</td>\n",
       "      <td>ITAASLPKT</td>\n",
       "      <td>NaN</td>\n",
       "      <td>NaN</td>\n",
       "      <td>1</td>\n",
       "      <td>8</td>\n",
       "      <td>0.522537</td>\n",
       "      <td>0.234407</td>\n",
       "      <td>0.765593</td>\n",
       "      <td>0.7618</td>\n",
       "    </tr>\n",
       "    <tr>\n",
       "      <th>92519</th>\n",
       "      <td>1526087</td>\n",
       "      <td>VLPFEDLTKCRT</td>\n",
       "      <td>Replicase polyprotein 1ab</td>\n",
       "      <td>Middle East respiratory syndrome-related coron...</td>\n",
       "      <td>1</td>\n",
       "      <td>2</td>\n",
       "      <td>0.519278</td>\n",
       "      <td>0.687420</td>\n",
       "      <td>0.312580</td>\n",
       "      <td>0.3088</td>\n",
       "    </tr>\n",
       "    <tr>\n",
       "      <th>57886</th>\n",
       "      <td>1407622</td>\n",
       "      <td>ADSPSDCSSTSD</td>\n",
       "      <td>Spike glycoprotein</td>\n",
       "      <td>Middle East respiratory syndrome-related coron...</td>\n",
       "      <td>1</td>\n",
       "      <td>2</td>\n",
       "      <td>0.517419</td>\n",
       "      <td>0.459652</td>\n",
       "      <td>0.540348</td>\n",
       "      <td>0.5365</td>\n",
       "    </tr>\n",
       "    <tr>\n",
       "      <th>57308</th>\n",
       "      <td>1406731</td>\n",
       "      <td>AALNSEKRPDHV</td>\n",
       "      <td>Replicase polyprotein 1ab</td>\n",
       "      <td>Middle East respiratory syndrome-related coron...</td>\n",
       "      <td>1</td>\n",
       "      <td>2</td>\n",
       "      <td>0.523786</td>\n",
       "      <td>0.112795</td>\n",
       "      <td>0.887205</td>\n",
       "      <td>0.8834</td>\n",
       "    </tr>\n",
       "    <tr>\n",
       "      <th>42732</th>\n",
       "      <td>696863</td>\n",
       "      <td>VPPWFPPHDITPYVA</td>\n",
       "      <td>Epstein-Barr nuclear antigen 6</td>\n",
       "      <td>Human herpesvirus 4 (Epstein Barr virus)</td>\n",
       "      <td>1</td>\n",
       "      <td>2</td>\n",
       "      <td>0.520374</td>\n",
       "      <td>0.916409</td>\n",
       "      <td>0.083591</td>\n",
       "      <td>0.0798</td>\n",
       "    </tr>\n",
       "  </tbody>\n",
       "</table>\n",
       "<p>30183 rows × 10 columns</p>\n",
       "</div>"
      ],
      "text/plain": [
       "        Epitopes - IEDB ID Epitopes - Epitope  \\\n",
       "98018              1542217    QVVDADSKIVQLSEI   \n",
       "7313                 34144          KVNSTLEQY   \n",
       "102134             1638757    KKEISNMLSIINKRK   \n",
       "23953                92534         EEVPNIIHEA   \n",
       "64442              1425395       DVVSIRSSNQGN   \n",
       "...                    ...                ...   \n",
       "23228                91531          ITAASLPKT   \n",
       "92519              1526087       VLPFEDLTKCRT   \n",
       "57886              1407622       ADSPSDCSSTSD   \n",
       "57308              1406731       AALNSEKRPDHV   \n",
       "42732               696863    VPPWFPPHDITPYVA   \n",
       "\n",
       "                             Epitopes - Antigen  \\\n",
       "98018                 Replicase polyprotein 1ab   \n",
       "7313                  Replicase polyprotein 1ab   \n",
       "102134                       Genome polyprotein   \n",
       "23953   Pre-glycoprotein polyprotein GP complex   \n",
       "64442              Non-structural protein ORF4b   \n",
       "...                                         ...   \n",
       "23228                                       NaN   \n",
       "92519                 Replicase polyprotein 1ab   \n",
       "57886                        Spike glycoprotein   \n",
       "57308                 Replicase polyprotein 1ab   \n",
       "42732            Epstein-Barr nuclear antigen 6   \n",
       "\n",
       "                                      Epitopes - Organism  \\\n",
       "98018                                           SARS-CoV2   \n",
       "7313                                            SARS-CoV1   \n",
       "102134                                                NaN   \n",
       "23953   Mammarenavirus brazilense (Brazilian mammarena...   \n",
       "64442   Middle East respiratory syndrome-related coron...   \n",
       "...                                                   ...   \n",
       "23228                                                 NaN   \n",
       "92519   Middle East respiratory syndrome-related coron...   \n",
       "57886   Middle East respiratory syndrome-related coron...   \n",
       "57308   Middle East respiratory syndrome-related coron...   \n",
       "42732            Human herpesvirus 4 (Epstein Barr virus)   \n",
       "\n",
       "        Epitopes - # References  Epitopes - # Assays  base_pred_vir  \\\n",
       "98018                         3                    6       0.520923   \n",
       "7313                          1                    4       0.520588   \n",
       "102134                        1                    3       0.516382   \n",
       "23953                         1                    2       0.525430   \n",
       "64442                         1                    2       0.523968   \n",
       "...                         ...                  ...            ...   \n",
       "23228                         1                    8       0.522537   \n",
       "92519                         1                    2       0.519278   \n",
       "57886                         1                    2       0.517419   \n",
       "57308                         1                    2       0.523786   \n",
       "42732                         1                    2       0.520374   \n",
       "\n",
       "        model_pred_vir  model_pred_hum  model_pred_hum_delta  \n",
       "98018         0.832237        0.167763                0.1640  \n",
       "7313          0.878314        0.121686                0.1179  \n",
       "102134        0.995866        0.004134                0.0003  \n",
       "23953         0.990064        0.009936                0.0061  \n",
       "64442         0.879147        0.120853                0.1171  \n",
       "...                ...             ...                   ...  \n",
       "23228         0.234407        0.765593                0.7618  \n",
       "92519         0.687420        0.312580                0.3088  \n",
       "57886         0.459652        0.540348                0.5365  \n",
       "57308         0.112795        0.887205                0.8834  \n",
       "42732         0.916409        0.083591                0.0798  \n",
       "\n",
       "[30183 rows x 10 columns]"
      ]
     },
     "execution_count": 182,
     "metadata": {},
     "output_type": "execute_result"
    }
   ],
   "source": [
    "df_iedb_vir_preds = get_escaper_scores(df_iedb_vir.sample(30_183).copy(),trained_model=model,base_model=base_model,seqColName=\"Epitopes - Epitope\",truncate_cao=False)\n",
    "df_iedb_vir_preds"
   ]
  },
  {
   "cell_type": "code",
   "execution_count": 183,
   "metadata": {},
   "outputs": [
    {
     "data": {
      "image/png": "[encoded data removed]",
      "text/plain": [
       "<Figure size 640x480 with 1 Axes>"
      ]
     },
     "metadata": {},
     "output_type": "display_data"
    }
   ],
   "source": [
    "df_iedb_vir_preds[\"model_pred_hum\"].hist();"
   ]
  },
  {
   "cell_type": "code",
   "execution_count": 184,
   "metadata": {},
   "outputs": [],
   "source": [
    "df_iedb_vir_preds[\"label\"]=\"vir\"\n",
    "df_iedb_human_preds[\"label\"]=\"hum\""
   ]
  },
  {
   "cell_type": "code",
   "execution_count": 185,
   "metadata": {},
   "outputs": [
    {
     "data": {
      "text/html": [
       "<div>\n",
       "<style scoped>\n",
       "    .dataframe tbody tr th:only-of-type {\n",
       "        vertical-align: middle;\n",
       "    }\n",
       "\n",
       "    .dataframe tbody tr th {\n",
       "        vertical-align: top;\n",
       "    }\n",
       "\n",
       "    .dataframe thead th {\n",
       "        text-align: right;\n",
       "    }\n",
       "</style>\n",
       "<table border=\"1\" class=\"dataframe\">\n",
       "  <thead>\n",
       "    <tr style=\"text-align: right;\">\n",
       "      <th></th>\n",
       "      <th>label</th>\n",
       "      <th>model_pred_hum</th>\n",
       "    </tr>\n",
       "  </thead>\n",
       "  <tbody>\n",
       "    <tr>\n",
       "      <th>98018</th>\n",
       "      <td>vir</td>\n",
       "      <td>0.167763</td>\n",
       "    </tr>\n",
       "    <tr>\n",
       "      <th>7313</th>\n",
       "      <td>vir</td>\n",
       "      <td>0.121686</td>\n",
       "    </tr>\n",
       "    <tr>\n",
       "      <th>102134</th>\n",
       "      <td>vir</td>\n",
       "      <td>0.004134</td>\n",
       "    </tr>\n",
       "    <tr>\n",
       "      <th>23953</th>\n",
       "      <td>vir</td>\n",
       "      <td>0.009936</td>\n",
       "    </tr>\n",
       "    <tr>\n",
       "      <th>64442</th>\n",
       "      <td>vir</td>\n",
       "      <td>0.120853</td>\n",
       "    </tr>\n",
       "    <tr>\n",
       "      <th>...</th>\n",
       "      <td>...</td>\n",
       "      <td>...</td>\n",
       "    </tr>\n",
       "    <tr>\n",
       "      <th>614473</th>\n",
       "      <td>hum</td>\n",
       "      <td>0.896976</td>\n",
       "    </tr>\n",
       "    <tr>\n",
       "      <th>245526</th>\n",
       "      <td>hum</td>\n",
       "      <td>0.908618</td>\n",
       "    </tr>\n",
       "    <tr>\n",
       "      <th>305206</th>\n",
       "      <td>hum</td>\n",
       "      <td>0.677474</td>\n",
       "    </tr>\n",
       "    <tr>\n",
       "      <th>49610</th>\n",
       "      <td>hum</td>\n",
       "      <td>0.852445</td>\n",
       "    </tr>\n",
       "    <tr>\n",
       "      <th>397851</th>\n",
       "      <td>hum</td>\n",
       "      <td>0.134321</td>\n",
       "    </tr>\n",
       "  </tbody>\n",
       "</table>\n",
       "<p>60306 rows × 2 columns</p>\n",
       "</div>"
      ],
      "text/plain": [
       "       label  model_pred_hum\n",
       "98018    vir        0.167763\n",
       "7313     vir        0.121686\n",
       "102134   vir        0.004134\n",
       "23953    vir        0.009936\n",
       "64442    vir        0.120853\n",
       "...      ...             ...\n",
       "614473   hum        0.896976\n",
       "245526   hum        0.908618\n",
       "305206   hum        0.677474\n",
       "49610    hum        0.852445\n",
       "397851   hum        0.134321\n",
       "\n",
       "[60306 rows x 2 columns]"
      ]
     },
     "execution_count": 185,
     "metadata": {},
     "output_type": "execute_result"
    }
   ],
   "source": [
    "df_iedbs = pd.concat([df_iedb_vir_preds[[\"label\",\"model_pred_hum\"]],df_iedb_human_preds[[\"label\",\"model_pred_hum\"]]])\n",
    "df_iedbs"
   ]
  },
  {
   "cell_type": "code",
   "execution_count": 186,
   "metadata": {},
   "outputs": [
    {
     "data": {
      "text/plain": [
       "<Axes: xlabel='model_pred_hum', ylabel='Density'>"
      ]
     },
     "execution_count": 186,
     "metadata": {},
     "output_type": "execute_result"
    },
    {
     "data": {
      "image/png": "[encoded data removed]",
      "text/plain": [
       "<Figure size 640x480 with 1 Axes>"
      ]
     },
     "metadata": {},
     "output_type": "display_data"
    }
   ],
   "source": [
    "import seaborn as sns\n",
    "# https://stackoverflow.com/questions/28293028/plotting-grouped-data-in-same-plot-using-pandas\n",
    "# df_iedbs.groupby([\"label\"]).plot(kind='kde', ax=plt.gca())\n",
    "\n",
    "sns.kdeplot(data=df_iedbs, x=\"model_pred_hum\", hue=\"label\")#, bw_adjust=1, cut=1)"
   ]
  },
  {
   "cell_type": "code",
   "execution_count": 187,
   "metadata": {},
   "outputs": [
    {
     "data": {
      "text/html": [
       "<div>\n",
       "<style scoped>\n",
       "    .dataframe tbody tr th:only-of-type {\n",
       "        vertical-align: middle;\n",
       "    }\n",
       "\n",
       "    .dataframe tbody tr th {\n",
       "        vertical-align: top;\n",
       "    }\n",
       "\n",
       "    .dataframe thead tr th {\n",
       "        text-align: left;\n",
       "    }\n",
       "\n",
       "    .dataframe thead tr:last-of-type th {\n",
       "        text-align: right;\n",
       "    }\n",
       "</style>\n",
       "<table border=\"1\" class=\"dataframe\">\n",
       "  <thead>\n",
       "    <tr>\n",
       "      <th></th>\n",
       "      <th colspan=\"8\" halign=\"left\">model_pred_hum</th>\n",
       "    </tr>\n",
       "    <tr>\n",
       "      <th></th>\n",
       "      <th>count</th>\n",
       "      <th>mean</th>\n",
       "      <th>std</th>\n",
       "      <th>min</th>\n",
       "      <th>25%</th>\n",
       "      <th>50%</th>\n",
       "      <th>75%</th>\n",
       "      <th>max</th>\n",
       "    </tr>\n",
       "    <tr>\n",
       "      <th>label</th>\n",
       "      <th></th>\n",
       "      <th></th>\n",
       "      <th></th>\n",
       "      <th></th>\n",
       "      <th></th>\n",
       "      <th></th>\n",
       "      <th></th>\n",
       "      <th></th>\n",
       "    </tr>\n",
       "  </thead>\n",
       "  <tbody>\n",
       "    <tr>\n",
       "      <th>hum</th>\n",
       "      <td>30123.0</td>\n",
       "      <td>0.48</td>\n",
       "      <td>0.36</td>\n",
       "      <td>0.0</td>\n",
       "      <td>0.09</td>\n",
       "      <td>0.49</td>\n",
       "      <td>0.84</td>\n",
       "      <td>1.0</td>\n",
       "    </tr>\n",
       "    <tr>\n",
       "      <th>vir</th>\n",
       "      <td>30183.0</td>\n",
       "      <td>0.42</td>\n",
       "      <td>0.35</td>\n",
       "      <td>0.0</td>\n",
       "      <td>0.07</td>\n",
       "      <td>0.36</td>\n",
       "      <td>0.79</td>\n",
       "      <td>1.0</td>\n",
       "    </tr>\n",
       "  </tbody>\n",
       "</table>\n",
       "</div>"
      ],
      "text/plain": [
       "      model_pred_hum                                        \n",
       "               count  mean   std  min   25%   50%   75%  max\n",
       "label                                                       \n",
       "hum          30123.0  0.48  0.36  0.0  0.09  0.49  0.84  1.0\n",
       "vir          30183.0  0.42  0.35  0.0  0.07  0.36  0.79  1.0"
      ]
     },
     "execution_count": 187,
     "metadata": {},
     "output_type": "execute_result"
    }
   ],
   "source": [
    "df_iedbs.groupby(\"label\").describe().round(2)"
   ]
  },
  {
   "cell_type": "markdown",
   "metadata": {},
   "source": [
    "* a very few epitopes overlap"
   ]
  },
  {
   "cell_type": "code",
   "execution_count": 188,
   "metadata": {},
   "outputs": [
    {
     "data": {
      "text/html": [
       "<div>\n",
       "<style scoped>\n",
       "    .dataframe tbody tr th:only-of-type {\n",
       "        vertical-align: middle;\n",
       "    }\n",
       "\n",
       "    .dataframe tbody tr th {\n",
       "        vertical-align: top;\n",
       "    }\n",
       "\n",
       "    .dataframe thead th {\n",
       "        text-align: right;\n",
       "    }\n",
       "</style>\n",
       "<table border=\"1\" class=\"dataframe\">\n",
       "  <thead>\n",
       "    <tr style=\"text-align: right;\">\n",
       "      <th></th>\n",
       "      <th>Epitopes - IEDB ID</th>\n",
       "      <th>Epitopes - Epitope</th>\n",
       "      <th>Epitopes - Antigen</th>\n",
       "      <th>Epitopes - Organism</th>\n",
       "      <th>Epitopes - # References</th>\n",
       "      <th>Epitopes - # Assays</th>\n",
       "    </tr>\n",
       "  </thead>\n",
       "  <tbody>\n",
       "    <tr>\n",
       "      <th>1408</th>\n",
       "      <td>56462</td>\n",
       "      <td>RVYNNTARY</td>\n",
       "      <td>Ribonucleoside-diphosphate reductase large sub...</td>\n",
       "      <td>Homo sapiens (human)</td>\n",
       "      <td>10</td>\n",
       "      <td>10</td>\n",
       "    </tr>\n",
       "    <tr>\n",
       "      <th>1739</th>\n",
       "      <td>69921</td>\n",
       "      <td>VMAPRTLIL</td>\n",
       "      <td>HLA-C*12:02 chain</td>\n",
       "      <td>NaN</td>\n",
       "      <td>53</td>\n",
       "      <td>200</td>\n",
       "    </tr>\n",
       "    <tr>\n",
       "      <th>1740</th>\n",
       "      <td>69922</td>\n",
       "      <td>VMAPRTLVL</td>\n",
       "      <td>HLA-A*02:01 chain</td>\n",
       "      <td>NaN</td>\n",
       "      <td>59</td>\n",
       "      <td>177</td>\n",
       "    </tr>\n",
       "    <tr>\n",
       "      <th>2074</th>\n",
       "      <td>95972</td>\n",
       "      <td>VMAPRTVLL</td>\n",
       "      <td>HLA class I antigen</td>\n",
       "      <td>Homo sapiens (human)</td>\n",
       "      <td>62</td>\n",
       "      <td>171</td>\n",
       "    </tr>\n",
       "    <tr>\n",
       "      <th>2215</th>\n",
       "      <td>101382</td>\n",
       "      <td>VMAPRTLLL</td>\n",
       "      <td>HLA class I histocompatibility antigen, A alph...</td>\n",
       "      <td>Homo sapiens (human)</td>\n",
       "      <td>66</td>\n",
       "      <td>201</td>\n",
       "    </tr>\n",
       "    <tr>\n",
       "      <th>16722</th>\n",
       "      <td>179983</td>\n",
       "      <td>FLQFKTWWI</td>\n",
       "      <td>NaN</td>\n",
       "      <td>NaN</td>\n",
       "      <td>1</td>\n",
       "      <td>13</td>\n",
       "    </tr>\n",
       "    <tr>\n",
       "      <th>16996</th>\n",
       "      <td>188740</td>\n",
       "      <td>RPIGIGVQGL</td>\n",
       "      <td>Ribonucleoside-diphosphate reductase large sub...</td>\n",
       "      <td>Homo sapiens (human)</td>\n",
       "      <td>12</td>\n",
       "      <td>12</td>\n",
       "    </tr>\n",
       "    <tr>\n",
       "      <th>280380</th>\n",
       "      <td>769789</td>\n",
       "      <td>VMAPRSLIL</td>\n",
       "      <td>HLA class I histocompatibility antigen</td>\n",
       "      <td>Homo sapiens (human)</td>\n",
       "      <td>1</td>\n",
       "      <td>2</td>\n",
       "    </tr>\n",
       "  </tbody>\n",
       "</table>\n",
       "</div>"
      ],
      "text/plain": [
       "        Epitopes - IEDB ID Epitopes - Epitope  \\\n",
       "1408                 56462          RVYNNTARY   \n",
       "1739                 69921          VMAPRTLIL   \n",
       "1740                 69922          VMAPRTLVL   \n",
       "2074                 95972          VMAPRTVLL   \n",
       "2215                101382          VMAPRTLLL   \n",
       "16722               179983          FLQFKTWWI   \n",
       "16996               188740         RPIGIGVQGL   \n",
       "280380              769789          VMAPRSLIL   \n",
       "\n",
       "                                       Epitopes - Antigen  \\\n",
       "1408    Ribonucleoside-diphosphate reductase large sub...   \n",
       "1739                                    HLA-C*12:02 chain   \n",
       "1740                                    HLA-A*02:01 chain   \n",
       "2074                                  HLA class I antigen   \n",
       "2215    HLA class I histocompatibility antigen, A alph...   \n",
       "16722                                                 NaN   \n",
       "16996   Ribonucleoside-diphosphate reductase large sub...   \n",
       "280380             HLA class I histocompatibility antigen   \n",
       "\n",
       "         Epitopes - Organism  Epitopes - # References  Epitopes - # Assays  \n",
       "1408    Homo sapiens (human)                       10                   10  \n",
       "1739                     NaN                       53                  200  \n",
       "1740                     NaN                       59                  177  \n",
       "2074    Homo sapiens (human)                       62                  171  \n",
       "2215    Homo sapiens (human)                       66                  201  \n",
       "16722                    NaN                        1                   13  \n",
       "16996   Homo sapiens (human)                       12                   12  \n",
       "280380  Homo sapiens (human)                        1                    2  "
      ]
     },
     "execution_count": 188,
     "metadata": {},
     "output_type": "execute_result"
    }
   ],
   "source": [
    "df_iedb_human.loc[df_iedb_human[\"Epitopes - Epitope\"].isin(df_iedb_vir[\"Epitopes - Epitope\"])]"
   ]
  },
  {
   "cell_type": "code",
   "execution_count": 189,
   "metadata": {},
   "outputs": [
    {
     "data": {
      "text/html": [
       "<div>\n",
       "<style scoped>\n",
       "    .dataframe tbody tr th:only-of-type {\n",
       "        vertical-align: middle;\n",
       "    }\n",
       "\n",
       "    .dataframe tbody tr th {\n",
       "        vertical-align: top;\n",
       "    }\n",
       "\n",
       "    .dataframe thead th {\n",
       "        text-align: right;\n",
       "    }\n",
       "</style>\n",
       "<table border=\"1\" class=\"dataframe\">\n",
       "  <thead>\n",
       "    <tr style=\"text-align: right;\">\n",
       "      <th></th>\n",
       "      <th>Epitopes - IEDB ID</th>\n",
       "      <th>Epitopes - Epitope</th>\n",
       "      <th>Epitopes - Antigen</th>\n",
       "      <th>Epitopes - Organism</th>\n",
       "      <th>Epitopes - # References</th>\n",
       "      <th>Epitopes - # Assays</th>\n",
       "    </tr>\n",
       "  </thead>\n",
       "  <tbody>\n",
       "    <tr>\n",
       "      <th>12449</th>\n",
       "      <td>56462</td>\n",
       "      <td>RVYNNTARY</td>\n",
       "      <td>Ribonucleoside-diphosphate reductase large sub...</td>\n",
       "      <td>Vaccinia virus (vaccinia virus VV)</td>\n",
       "      <td>3</td>\n",
       "      <td>5</td>\n",
       "    </tr>\n",
       "    <tr>\n",
       "      <th>15513</th>\n",
       "      <td>69921</td>\n",
       "      <td>VMAPRTLIL</td>\n",
       "      <td>Protein UL40</td>\n",
       "      <td>Human herpesvirus 5 (Human cytomegalovirus)</td>\n",
       "      <td>11</td>\n",
       "      <td>33</td>\n",
       "    </tr>\n",
       "    <tr>\n",
       "      <th>15514</th>\n",
       "      <td>69922</td>\n",
       "      <td>VMAPRTLVL</td>\n",
       "      <td>Protein UL40</td>\n",
       "      <td>Human herpesvirus 5 (Human cytomegalovirus)</td>\n",
       "      <td>4</td>\n",
       "      <td>8</td>\n",
       "    </tr>\n",
       "    <tr>\n",
       "      <th>25023</th>\n",
       "      <td>95972</td>\n",
       "      <td>VMAPRTVLL</td>\n",
       "      <td>Protein UL40</td>\n",
       "      <td>Human herpesvirus 5 (Human cytomegalovirus)</td>\n",
       "      <td>1</td>\n",
       "      <td>3</td>\n",
       "    </tr>\n",
       "    <tr>\n",
       "      <th>25587</th>\n",
       "      <td>101382</td>\n",
       "      <td>VMAPRTLLL</td>\n",
       "      <td>Protein UL40</td>\n",
       "      <td>Human herpesvirus 5 (Human cytomegalovirus)</td>\n",
       "      <td>5</td>\n",
       "      <td>10</td>\n",
       "    </tr>\n",
       "    <tr>\n",
       "      <th>30857</th>\n",
       "      <td>179983</td>\n",
       "      <td>FLQFKTWWI</td>\n",
       "      <td>Gag protein</td>\n",
       "      <td>Human endogenous retrovirus K (HERV-K provirus)</td>\n",
       "      <td>1</td>\n",
       "      <td>7</td>\n",
       "    </tr>\n",
       "    <tr>\n",
       "      <th>35083</th>\n",
       "      <td>188740</td>\n",
       "      <td>RPIGIGVQGL</td>\n",
       "      <td>Ribonucleoside-diphosphate reductase large sub...</td>\n",
       "      <td>Vaccinia virus (vaccinia virus VV)</td>\n",
       "      <td>3</td>\n",
       "      <td>3</td>\n",
       "    </tr>\n",
       "    <tr>\n",
       "      <th>45082</th>\n",
       "      <td>769789</td>\n",
       "      <td>VMAPRSLIL</td>\n",
       "      <td>Protein UL40</td>\n",
       "      <td>Human herpesvirus 5 (Human cytomegalovirus)</td>\n",
       "      <td>1</td>\n",
       "      <td>3</td>\n",
       "    </tr>\n",
       "  </tbody>\n",
       "</table>\n",
       "</div>"
      ],
      "text/plain": [
       "       Epitopes - IEDB ID Epitopes - Epitope  \\\n",
       "12449               56462          RVYNNTARY   \n",
       "15513               69921          VMAPRTLIL   \n",
       "15514               69922          VMAPRTLVL   \n",
       "25023               95972          VMAPRTVLL   \n",
       "25587              101382          VMAPRTLLL   \n",
       "30857              179983          FLQFKTWWI   \n",
       "35083              188740         RPIGIGVQGL   \n",
       "45082              769789          VMAPRSLIL   \n",
       "\n",
       "                                      Epitopes - Antigen  \\\n",
       "12449  Ribonucleoside-diphosphate reductase large sub...   \n",
       "15513                                       Protein UL40   \n",
       "15514                                       Protein UL40   \n",
       "25023                                       Protein UL40   \n",
       "25587                                       Protein UL40   \n",
       "30857                                        Gag protein   \n",
       "35083  Ribonucleoside-diphosphate reductase large sub...   \n",
       "45082                                       Protein UL40   \n",
       "\n",
       "                                   Epitopes - Organism  \\\n",
       "12449               Vaccinia virus (vaccinia virus VV)   \n",
       "15513      Human herpesvirus 5 (Human cytomegalovirus)   \n",
       "15514      Human herpesvirus 5 (Human cytomegalovirus)   \n",
       "25023      Human herpesvirus 5 (Human cytomegalovirus)   \n",
       "25587      Human herpesvirus 5 (Human cytomegalovirus)   \n",
       "30857  Human endogenous retrovirus K (HERV-K provirus)   \n",
       "35083               Vaccinia virus (vaccinia virus VV)   \n",
       "45082      Human herpesvirus 5 (Human cytomegalovirus)   \n",
       "\n",
       "       Epitopes - # References  Epitopes - # Assays  \n",
       "12449                        3                    5  \n",
       "15513                       11                   33  \n",
       "15514                        4                    8  \n",
       "25023                        1                    3  \n",
       "25587                        5                   10  \n",
       "30857                        1                    7  \n",
       "35083                        3                    3  \n",
       "45082                        1                    3  "
      ]
     },
     "execution_count": 189,
     "metadata": {},
     "output_type": "execute_result"
    }
   ],
   "source": [
    "df_iedb_vir.loc[df_iedb_vir[\"Epitopes - Epitope\"].isin(df_iedb_human[\"Epitopes - Epitope\"])]"
   ]
  },
  {
   "cell_type": "code",
   "execution_count": 190,
   "metadata": {},
   "outputs": [
    {
     "name": "stdout",
     "output_type": "stream",
     "text": [
      "              precision    recall  f1-score   support\n",
      "\n",
      "         hum       0.53      0.52      0.53     30123\n",
      "         vir       0.53      0.55      0.54     30183\n",
      "\n",
      "    accuracy                           0.53     60306\n",
      "   macro avg       0.53      0.53      0.53     60306\n",
      "weighted avg       0.53      0.53      0.53     60306\n",
      "\n",
      "0.5449644981127081\n"
     ]
    }
   ],
   "source": [
    "from sklearn.linear_model import LogisticRegression\n",
    "\n",
    "clf = LogisticRegression()\n",
    "clf.fit(df_iedbs[\"model_pred_hum\"].values.reshape(-1, 1),df_iedbs[\"label\"])\n",
    "print(classification_report(df_iedbs[\"label\"],clf.predict(df_iedbs[\"model_pred_hum\"].values.reshape(-1, 1))))\n",
    "print(roc_auc_score(df_iedbs[\"label\"],clf.predict_proba(df_iedbs[\"model_pred_hum\"].values.reshape(-1, 1))[:,1]))\n",
    " "
   ]
  },
  {
   "cell_type": "code",
   "execution_count": null,
   "metadata": {},
   "outputs": [],
   "source": []
  }
 ],
 "metadata": {
  "accelerator": "GPU",
  "colab": {
   "provenance": [
    {
     "file_id": "1f6tWCmDttwj5GsdTavt7m-dIH1-2f1P5",
     "timestamp": 1706088386277
    },
    {
     "file_id": "18pa4xD0P5vwL-MX30nrkeye78W7403TZ",
     "timestamp": 1702551198722
    },
    {
     "file_id": "1uwM47KOjpzSn2TylouVCrTiGuskjQtEd",
     "timestamp": 1690279074762
    },
    {
     "file_id": "1_4meskHUbh7-dkjF-ajOT_wazp1vxzC6",
     "timestamp": 1630488037990
    },
    {
     "file_id": "1325niNI11d1AGvkudzFonUaYu-_IpRSv",
     "timestamp": 1629371463407
    },
    {
     "file_id": "1eeHOXM2csXDuY2ysmo-npc7dWtr9hcKJ",
     "timestamp": 1629281016353
    },
    {
     "file_id": "https://github.com/sacdallago/bio_embeddings/blob/develop/notebooks/embed_fasta_sequences.ipynb",
     "timestamp": 1629109653928
    }
   ]
  },
  "kaggle": {
   "accelerator": "gpu",
   "dataSources": [
    {
     "datasetId": 4380199,
     "sourceId": 7529659,
     "sourceType": "datasetVersion"
    }
   ],
   "dockerImageVersionId": 30648,
   "isGpuEnabled": true,
   "isInternetEnabled": true,
   "language": "python",
   "sourceType": "notebook"
  },
  "kernelspec": {
   "display_name": "Python 3 (ipykernel)",
   "language": "python",
   "name": "python3"
  },
  "language_info": {
   "codemirror_mode": {
    "name": "ipython",
    "version": 3
   },
   "file_extension": ".py",
   "mimetype": "text/x-python",
   "name": "python",
   "nbconvert_exporter": "python",
   "pygments_lexer": "ipython3",
   "version": "3.10.13"
  },
  "pycharm": {
   "stem_cell": {
    "cell_type": "raw",
    "metadata": {
     "collapsed": false
    },
    "source": []
   }
  }
 },
 "nbformat": 4,
 "nbformat_minor": 4
}
