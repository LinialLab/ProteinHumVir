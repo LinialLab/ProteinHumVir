{
 "cells": [
  {
   "cell_type": "code",
   "execution_count": 1,
   "id": "b0467b9b",
   "metadata": {
    "execution": {
     "iopub.execute_input": "2021-08-31T14:11:23.684122Z",
     "iopub.status.busy": "2021-08-31T14:11:23.683276Z",
     "iopub.status.idle": "2021-08-31T14:11:48.973600Z",
     "shell.execute_reply": "2021-08-31T14:11:48.972937Z",
     "shell.execute_reply.started": "2021-08-30T09:32:11.696666Z"
    },
    "id": "hKw7JD3_fnZD",
    "outputId": "afbfa9b1-1c29-4983-e0b5-ecd297b62cab",
    "papermill": {
     "duration": 25.684756,
     "end_time": "2021-08-31T14:11:48.973741",
     "exception": false,
     "start_time": "2021-08-31T14:11:23.288985",
     "status": "completed"
    },
    "tags": []
   },
   "outputs": [],
   "source": [
    "from bio_embeddings.embed import ProtTransBertBFDEmbedder#\n",
    "## bigger embeddings : https://docs.bioembeddings.com/v0.2.1/api/bio_embeddings.embed.html#bio_embeddings.embed.ProtTransT5XLU50Embedder\n",
    "from bio_embeddings.embed import ProtTransT5XLU50Embedder, ESM1bEmbedder# , ProtTransT5UniRef50Embedder,ProtTransT5BFDEmbedder, ProtTransT5XLU50Embedder\n",
    "from Bio import SeqIO\n",
    "\n",
    "import pandas as pd\n",
    "import numpy as np\n",
    "import random\n",
    "\n",
    "# from tqdm import tqdm\n",
    "from tqdm.autonotebook import tqdm"
   ]
  },
  {
   "cell_type": "code",
   "execution_count": 2,
   "id": "82700bc1",
   "metadata": {
    "execution": {
     "iopub.execute_input": "2021-08-31T14:08:38.046960Z",
     "iopub.status.busy": "2021-08-31T14:08:38.046301Z",
     "iopub.status.idle": "2021-08-31T14:11:15.702106Z",
     "shell.execute_reply": "2021-08-31T14:11:15.701648Z",
     "shell.execute_reply.started": "2021-08-30T09:29:03.700163Z"
    },
    "papermill": {
     "duration": 157.764888,
     "end_time": "2021-08-31T14:11:15.702237",
     "exception": false,
     "start_time": "2021-08-31T14:08:37.937349",
     "status": "completed"
    },
    "tags": []
   },
   "outputs": [],
   "source": [
    "# pip install -U \"bio-embeddings[all] @ git+https://github.com/sacdallago/bio_embeddings.git\"\n"
   ]
  },
  {
   "cell_type": "code",
   "execution_count": 3,
   "id": "0b2e5c8a",
   "metadata": {
    "execution": {
     "iopub.execute_input": "2021-08-31T14:11:17.231814Z",
     "iopub.status.busy": "2021-08-31T14:11:17.230901Z",
     "iopub.status.idle": "2021-08-31T14:11:18.920467Z",
     "shell.execute_reply": "2021-08-31T14:11:18.919904Z",
     "shell.execute_reply.started": "2021-08-30T09:32:08.490119Z"
    },
    "id": "Vm7f6oH00O4_",
    "outputId": "ba23df54-ed08-461f-df12-8419432deb29",
    "papermill": {
     "duration": 2.074439,
     "end_time": "2021-08-31T14:11:18.920601",
     "exception": false,
     "start_time": "2021-08-31T14:11:16.846162",
     "status": "completed"
    },
    "tags": []
   },
   "outputs": [
    {
     "name": "stderr",
     "output_type": "stream",
     "text": [
      "C:\\apps\\anaconda3\\envs\\bio\\lib\\site-packages\\IPython\\core\\interactiveshell.py:3441: DtypeWarning: Columns (27) have mixed types.Specify dtype option on import or set low_memory=False.\n",
      "  exec(code_obj, self.user_global_ns, self.user_ns)\n"
     ]
    },
    {
     "data": {
      "text/html": [
       "<div>\n",
       "<style scoped>\n",
       "    .dataframe tbody tr th:only-of-type {\n",
       "        vertical-align: middle;\n",
       "    }\n",
       "\n",
       "    .dataframe tbody tr th {\n",
       "        vertical-align: top;\n",
       "    }\n",
       "\n",
       "    .dataframe thead th {\n",
       "        text-align: right;\n",
       "    }\n",
       "</style>\n",
       "<table border=\"1\" class=\"dataframe\">\n",
       "  <thead>\n",
       "    <tr style=\"text-align: right;\">\n",
       "      <th></th>\n",
       "      <th>Entry</th>\n",
       "      <th>Gene names  (primary )</th>\n",
       "      <th>Entry name</th>\n",
       "      <th>Protein names</th>\n",
       "      <th>Organism</th>\n",
       "      <th>Length</th>\n",
       "      <th>Sequence</th>\n",
       "      <th>Mass</th>\n",
       "      <th>Keywords</th>\n",
       "      <th>Features</th>\n",
       "      <th>...</th>\n",
       "      <th>Involvement in disease</th>\n",
       "      <th>Virus hosts</th>\n",
       "      <th>Catalytic activity</th>\n",
       "      <th>Tissue specificity</th>\n",
       "      <th>Developmental stage</th>\n",
       "      <th>Induction</th>\n",
       "      <th>Peptide</th>\n",
       "      <th>Propeptide</th>\n",
       "      <th>Temperature dependence</th>\n",
       "      <th>Interacts with</th>\n",
       "    </tr>\n",
       "  </thead>\n",
       "  <tbody>\n",
       "    <tr>\n",
       "      <th>0</th>\n",
       "      <td>Q8V0N6</td>\n",
       "      <td>NaN</td>\n",
       "      <td>POLG_HAV88</td>\n",
       "      <td>Genome polyprotein [Cleaved into: Capsid prote...</td>\n",
       "      <td>Human hepatitis A virus genotype IIB (isolate ...</td>\n",
       "      <td>2227</td>\n",
       "      <td>MNMSRQGIFQTVGSGLDHILSLADIEEEQMIQSVDRTAVTGASYFT...</td>\n",
       "      <td>251,728</td>\n",
       "      <td>ATP-binding;Capsid protein;Coiled coil;Covalen...</td>\n",
       "      <td>Active site (4); Chain (19); Coiled coil (1); ...</td>\n",
       "      <td>...</td>\n",
       "      <td>NaN</td>\n",
       "      <td>Homo sapiens (Human) [TaxID: 9606]</td>\n",
       "      <td>CATALYTIC ACTIVITY: Reaction=a ribonucleoside ...</td>\n",
       "      <td>NaN</td>\n",
       "      <td>NaN</td>\n",
       "      <td>NaN</td>\n",
       "      <td>NaN</td>\n",
       "      <td>NaN</td>\n",
       "      <td>NaN</td>\n",
       "      <td>0</td>\n",
       "    </tr>\n",
       "    <tr>\n",
       "      <th>1</th>\n",
       "      <td>Q5Y944</td>\n",
       "      <td>NaN</td>\n",
       "      <td>POLG_HAVCF</td>\n",
       "      <td>Genome polyprotein [Cleaved into: Capsid prote...</td>\n",
       "      <td>Human hepatitis A virus genotype IIA (isolate ...</td>\n",
       "      <td>2225</td>\n",
       "      <td>MNMSRQGIFQTVGSGLDHILSLADIEEEQMIQSVDRTAVTGASYFT...</td>\n",
       "      <td>251,415</td>\n",
       "      <td>ATP-binding;Capsid protein;Coiled coil;Covalen...</td>\n",
       "      <td>Active site (3); Chain (19); Coiled coil (1); ...</td>\n",
       "      <td>...</td>\n",
       "      <td>NaN</td>\n",
       "      <td>Homo sapiens (Human) [TaxID: 9606]</td>\n",
       "      <td>CATALYTIC ACTIVITY: Reaction=a ribonucleoside ...</td>\n",
       "      <td>NaN</td>\n",
       "      <td>NaN</td>\n",
       "      <td>NaN</td>\n",
       "      <td>NaN</td>\n",
       "      <td>NaN</td>\n",
       "      <td>NaN</td>\n",
       "      <td>0</td>\n",
       "    </tr>\n",
       "    <tr>\n",
       "      <th>2</th>\n",
       "      <td>Q67825</td>\n",
       "      <td>NaN</td>\n",
       "      <td>POLG_HAVGB</td>\n",
       "      <td>Genome polyprotein [Cleaved into: Capsid prote...</td>\n",
       "      <td>Human hepatitis A virus genotype IA (isolate G...</td>\n",
       "      <td>2227</td>\n",
       "      <td>MNMSKQGIFQTVGSGLDHILSLADIEEEQMIQSVDRTAVTGASYFT...</td>\n",
       "      <td>251,565</td>\n",
       "      <td>ATP-binding;Capsid protein;Coiled coil;Covalen...</td>\n",
       "      <td>Active site (3); Chain (19); Coiled coil (1); ...</td>\n",
       "      <td>...</td>\n",
       "      <td>NaN</td>\n",
       "      <td>Homo sapiens (Human) [TaxID: 9606]</td>\n",
       "      <td>CATALYTIC ACTIVITY: Reaction=a ribonucleoside ...</td>\n",
       "      <td>NaN</td>\n",
       "      <td>NaN</td>\n",
       "      <td>NaN</td>\n",
       "      <td>NaN</td>\n",
       "      <td>NaN</td>\n",
       "      <td>NaN</td>\n",
       "      <td>0</td>\n",
       "    </tr>\n",
       "    <tr>\n",
       "      <th>3</th>\n",
       "      <td>P08617</td>\n",
       "      <td>NaN</td>\n",
       "      <td>POLG_HAVHM</td>\n",
       "      <td>Genome polyprotein [Cleaved into: Capsid prote...</td>\n",
       "      <td>Human hepatitis A virus genotype IB (isolate H...</td>\n",
       "      <td>2227</td>\n",
       "      <td>MNMSRQGIFQTVGSGLDHILSLADIEEEQMIQSVDRTAVTGASYFT...</td>\n",
       "      <td>251,508</td>\n",
       "      <td>3D-structure;ATP-binding;Capsid protein;Covale...</td>\n",
       "      <td>Active site (3); Beta strand (66); Chain (19);...</td>\n",
       "      <td>...</td>\n",
       "      <td>NaN</td>\n",
       "      <td>Cercopithecus hamlyni (Owl-faced monkey) (Haml...</td>\n",
       "      <td>CATALYTIC ACTIVITY: Reaction=a ribonucleoside ...</td>\n",
       "      <td>NaN</td>\n",
       "      <td>NaN</td>\n",
       "      <td>NaN</td>\n",
       "      <td>NaN</td>\n",
       "      <td>NaN</td>\n",
       "      <td>NaN</td>\n",
       "      <td>0</td>\n",
       "    </tr>\n",
       "    <tr>\n",
       "      <th>4</th>\n",
       "      <td>A5LGW7</td>\n",
       "      <td>NaN</td>\n",
       "      <td>POLG_HAVJ8</td>\n",
       "      <td>Genome polyprotein [Cleaved into: Capsid prote...</td>\n",
       "      <td>Human hepatitis A virus genotype IIIB (isolate...</td>\n",
       "      <td>2228</td>\n",
       "      <td>MNMSRQGIFQTVGSGLDHILSLADVEEEQMIQSVDRTAVTGASYFT...</td>\n",
       "      <td>251,802</td>\n",
       "      <td>ATP-binding;Capsid protein;Coiled coil;Covalen...</td>\n",
       "      <td>Active site (3); Chain (19); Coiled coil (1); ...</td>\n",
       "      <td>...</td>\n",
       "      <td>NaN</td>\n",
       "      <td>Cercopithecus hamlyni (Owl-faced monkey) (Haml...</td>\n",
       "      <td>CATALYTIC ACTIVITY: Reaction=a ribonucleoside ...</td>\n",
       "      <td>NaN</td>\n",
       "      <td>NaN</td>\n",
       "      <td>NaN</td>\n",
       "      <td>NaN</td>\n",
       "      <td>NaN</td>\n",
       "      <td>NaN</td>\n",
       "      <td>0</td>\n",
       "    </tr>\n",
       "    <tr>\n",
       "      <th>...</th>\n",
       "      <td>...</td>\n",
       "      <td>...</td>\n",
       "      <td>...</td>\n",
       "      <td>...</td>\n",
       "      <td>...</td>\n",
       "      <td>...</td>\n",
       "      <td>...</td>\n",
       "      <td>...</td>\n",
       "      <td>...</td>\n",
       "      <td>...</td>\n",
       "      <td>...</td>\n",
       "      <td>...</td>\n",
       "      <td>...</td>\n",
       "      <td>...</td>\n",
       "      <td>...</td>\n",
       "      <td>...</td>\n",
       "      <td>...</td>\n",
       "      <td>...</td>\n",
       "      <td>...</td>\n",
       "      <td>...</td>\n",
       "      <td>...</td>\n",
       "    </tr>\n",
       "    <tr>\n",
       "      <th>36899</th>\n",
       "      <td>Q9P2T1</td>\n",
       "      <td>GMPR2</td>\n",
       "      <td>GMPR2_HUMAN</td>\n",
       "      <td>GMP reductase 2 (GMPR 2) (EC 1.7.1.7) (Guanosi...</td>\n",
       "      <td>Homo sapiens (Human)</td>\n",
       "      <td>348</td>\n",
       "      <td>MPHIDNDVKLDFKDVLLRPKRSTLKSRSEVDLTRSFSFRNSKQTYS...</td>\n",
       "      <td>37,874</td>\n",
       "      <td>3D-structure;Acetylation;Alternative splicing;...</td>\n",
       "      <td>Active site (2); Alternative sequence (2); Bet...</td>\n",
       "      <td>...</td>\n",
       "      <td>NaN</td>\n",
       "      <td>NaN</td>\n",
       "      <td>CATALYTIC ACTIVITY: Reaction=IMP + NADP(+) + N...</td>\n",
       "      <td>TISSUE SPECIFICITY: Highly expressed in heart,...</td>\n",
       "      <td>NaN</td>\n",
       "      <td>NaN</td>\n",
       "      <td>NaN</td>\n",
       "      <td>NaN</td>\n",
       "      <td>NaN</td>\n",
       "      <td>1</td>\n",
       "    </tr>\n",
       "    <tr>\n",
       "      <th>36900</th>\n",
       "      <td>Q8IUX8</td>\n",
       "      <td>EGFL6</td>\n",
       "      <td>EGFL6_HUMAN</td>\n",
       "      <td>Epidermal growth factor-like protein 6 (EGF-li...</td>\n",
       "      <td>Homo sapiens (Human)</td>\n",
       "      <td>553</td>\n",
       "      <td>MPLPWSLALPLLLSWVAGGFGNAASARHHGLLASARQPGVCHYGTK...</td>\n",
       "      <td>61,317</td>\n",
       "      <td>Alternative splicing;Basement membrane;Calcium...</td>\n",
       "      <td>Alternative sequence (1); Chain (1); Coiled co...</td>\n",
       "      <td>...</td>\n",
       "      <td>NaN</td>\n",
       "      <td>NaN</td>\n",
       "      <td>NaN</td>\n",
       "      <td>NaN</td>\n",
       "      <td>DEVELOPMENTAL STAGE: Only detected in fetal ti...</td>\n",
       "      <td>NaN</td>\n",
       "      <td>NaN</td>\n",
       "      <td>NaN</td>\n",
       "      <td>NaN</td>\n",
       "      <td>1</td>\n",
       "    </tr>\n",
       "    <tr>\n",
       "      <th>36901</th>\n",
       "      <td>O15372</td>\n",
       "      <td>EIF3H</td>\n",
       "      <td>EIF3H_HUMAN</td>\n",
       "      <td>Eukaryotic translation initiation factor 3 sub...</td>\n",
       "      <td>Homo sapiens (Human)</td>\n",
       "      <td>352</td>\n",
       "      <td>MASRKEGTGSTATSSSSTAGAAGKGKGKGGSGDSAVKQVQIDGLVV...</td>\n",
       "      <td>39,930</td>\n",
       "      <td>3D-structure;Cytoplasm;Initiation factor;Isope...</td>\n",
       "      <td>Beta strand (7); Chain (1); Compositional bias...</td>\n",
       "      <td>...</td>\n",
       "      <td>NaN</td>\n",
       "      <td>NaN</td>\n",
       "      <td>NaN</td>\n",
       "      <td>NaN</td>\n",
       "      <td>NaN</td>\n",
       "      <td>NaN</td>\n",
       "      <td>NaN</td>\n",
       "      <td>NaN</td>\n",
       "      <td>NaN</td>\n",
       "      <td>11</td>\n",
       "    </tr>\n",
       "    <tr>\n",
       "      <th>36902</th>\n",
       "      <td>P54852</td>\n",
       "      <td>EMP3</td>\n",
       "      <td>EMP3_HUMAN</td>\n",
       "      <td>Epithelial membrane protein 3 (EMP-3) (Hematop...</td>\n",
       "      <td>Homo sapiens (Human)</td>\n",
       "      <td>163</td>\n",
       "      <td>MSLLLLVVSALHILILILLFVATLDKSWWTLPGKESLNLWYDCTWN...</td>\n",
       "      <td>18,429</td>\n",
       "      <td>Glycoprotein;Membrane;Reference proteome;Trans...</td>\n",
       "      <td>Chain (1); Glycosylation (2); Natural variant ...</td>\n",
       "      <td>...</td>\n",
       "      <td>NaN</td>\n",
       "      <td>NaN</td>\n",
       "      <td>NaN</td>\n",
       "      <td>NaN</td>\n",
       "      <td>NaN</td>\n",
       "      <td>NaN</td>\n",
       "      <td>NaN</td>\n",
       "      <td>NaN</td>\n",
       "      <td>NaN</td>\n",
       "      <td>49</td>\n",
       "    </tr>\n",
       "    <tr>\n",
       "      <th>36903</th>\n",
       "      <td>P50402</td>\n",
       "      <td>EMD</td>\n",
       "      <td>EMD_HUMAN</td>\n",
       "      <td>Emerin</td>\n",
       "      <td>Homo sapiens (Human)</td>\n",
       "      <td>254</td>\n",
       "      <td>MDNYADLSDTELTTLLRRYNIPHGPVVGSTRRLYEKKIFEYETQRR...</td>\n",
       "      <td>28,994</td>\n",
       "      <td>3D-structure;Acetylation;Actin-binding;Cardiom...</td>\n",
       "      <td>Chain (1); Domain (1); Helix (2); Modified res...</td>\n",
       "      <td>...</td>\n",
       "      <td>DISEASE: Emery-Dreifuss muscular dystrophy 1, ...</td>\n",
       "      <td>NaN</td>\n",
       "      <td>NaN</td>\n",
       "      <td>TISSUE SPECIFICITY: Skeletal muscle, heart, co...</td>\n",
       "      <td>NaN</td>\n",
       "      <td>NaN</td>\n",
       "      <td>NaN</td>\n",
       "      <td>NaN</td>\n",
       "      <td>NaN</td>\n",
       "      <td>89</td>\n",
       "    </tr>\n",
       "  </tbody>\n",
       "</table>\n",
       "<p>36904 rows × 38 columns</p>\n",
       "</div>"
      ],
      "text/plain": [
       "        Entry Gene names  (primary )   Entry name  \\\n",
       "0      Q8V0N6                    NaN   POLG_HAV88   \n",
       "1      Q5Y944                    NaN   POLG_HAVCF   \n",
       "2      Q67825                    NaN   POLG_HAVGB   \n",
       "3      P08617                    NaN   POLG_HAVHM   \n",
       "4      A5LGW7                    NaN   POLG_HAVJ8   \n",
       "...       ...                    ...          ...   \n",
       "36899  Q9P2T1                  GMPR2  GMPR2_HUMAN   \n",
       "36900  Q8IUX8                  EGFL6  EGFL6_HUMAN   \n",
       "36901  O15372                  EIF3H  EIF3H_HUMAN   \n",
       "36902  P54852                   EMP3   EMP3_HUMAN   \n",
       "36903  P50402                    EMD    EMD_HUMAN   \n",
       "\n",
       "                                           Protein names  \\\n",
       "0      Genome polyprotein [Cleaved into: Capsid prote...   \n",
       "1      Genome polyprotein [Cleaved into: Capsid prote...   \n",
       "2      Genome polyprotein [Cleaved into: Capsid prote...   \n",
       "3      Genome polyprotein [Cleaved into: Capsid prote...   \n",
       "4      Genome polyprotein [Cleaved into: Capsid prote...   \n",
       "...                                                  ...   \n",
       "36899  GMP reductase 2 (GMPR 2) (EC 1.7.1.7) (Guanosi...   \n",
       "36900  Epidermal growth factor-like protein 6 (EGF-li...   \n",
       "36901  Eukaryotic translation initiation factor 3 sub...   \n",
       "36902  Epithelial membrane protein 3 (EMP-3) (Hematop...   \n",
       "36903                                             Emerin   \n",
       "\n",
       "                                                Organism  Length  \\\n",
       "0      Human hepatitis A virus genotype IIB (isolate ...    2227   \n",
       "1      Human hepatitis A virus genotype IIA (isolate ...    2225   \n",
       "2      Human hepatitis A virus genotype IA (isolate G...    2227   \n",
       "3      Human hepatitis A virus genotype IB (isolate H...    2227   \n",
       "4      Human hepatitis A virus genotype IIIB (isolate...    2228   \n",
       "...                                                  ...     ...   \n",
       "36899                               Homo sapiens (Human)     348   \n",
       "36900                               Homo sapiens (Human)     553   \n",
       "36901                               Homo sapiens (Human)     352   \n",
       "36902                               Homo sapiens (Human)     163   \n",
       "36903                               Homo sapiens (Human)     254   \n",
       "\n",
       "                                                Sequence     Mass  \\\n",
       "0      MNMSRQGIFQTVGSGLDHILSLADIEEEQMIQSVDRTAVTGASYFT...  251,728   \n",
       "1      MNMSRQGIFQTVGSGLDHILSLADIEEEQMIQSVDRTAVTGASYFT...  251,415   \n",
       "2      MNMSKQGIFQTVGSGLDHILSLADIEEEQMIQSVDRTAVTGASYFT...  251,565   \n",
       "3      MNMSRQGIFQTVGSGLDHILSLADIEEEQMIQSVDRTAVTGASYFT...  251,508   \n",
       "4      MNMSRQGIFQTVGSGLDHILSLADVEEEQMIQSVDRTAVTGASYFT...  251,802   \n",
       "...                                                  ...      ...   \n",
       "36899  MPHIDNDVKLDFKDVLLRPKRSTLKSRSEVDLTRSFSFRNSKQTYS...   37,874   \n",
       "36900  MPLPWSLALPLLLSWVAGGFGNAASARHHGLLASARQPGVCHYGTK...   61,317   \n",
       "36901  MASRKEGTGSTATSSSSTAGAAGKGKGKGGSGDSAVKQVQIDGLVV...   39,930   \n",
       "36902  MSLLLLVVSALHILILILLFVATLDKSWWTLPGKESLNLWYDCTWN...   18,429   \n",
       "36903  MDNYADLSDTELTTLLRRYNIPHGPVVGSTRRLYEKKIFEYETQRR...   28,994   \n",
       "\n",
       "                                                Keywords  \\\n",
       "0      ATP-binding;Capsid protein;Coiled coil;Covalen...   \n",
       "1      ATP-binding;Capsid protein;Coiled coil;Covalen...   \n",
       "2      ATP-binding;Capsid protein;Coiled coil;Covalen...   \n",
       "3      3D-structure;ATP-binding;Capsid protein;Covale...   \n",
       "4      ATP-binding;Capsid protein;Coiled coil;Covalen...   \n",
       "...                                                  ...   \n",
       "36899  3D-structure;Acetylation;Alternative splicing;...   \n",
       "36900  Alternative splicing;Basement membrane;Calcium...   \n",
       "36901  3D-structure;Cytoplasm;Initiation factor;Isope...   \n",
       "36902  Glycoprotein;Membrane;Reference proteome;Trans...   \n",
       "36903  3D-structure;Acetylation;Actin-binding;Cardiom...   \n",
       "\n",
       "                                                Features  ...  \\\n",
       "0      Active site (4); Chain (19); Coiled coil (1); ...  ...   \n",
       "1      Active site (3); Chain (19); Coiled coil (1); ...  ...   \n",
       "2      Active site (3); Chain (19); Coiled coil (1); ...  ...   \n",
       "3      Active site (3); Beta strand (66); Chain (19);...  ...   \n",
       "4      Active site (3); Chain (19); Coiled coil (1); ...  ...   \n",
       "...                                                  ...  ...   \n",
       "36899  Active site (2); Alternative sequence (2); Bet...  ...   \n",
       "36900  Alternative sequence (1); Chain (1); Coiled co...  ...   \n",
       "36901  Beta strand (7); Chain (1); Compositional bias...  ...   \n",
       "36902  Chain (1); Glycosylation (2); Natural variant ...  ...   \n",
       "36903  Chain (1); Domain (1); Helix (2); Modified res...  ...   \n",
       "\n",
       "                                  Involvement in disease  \\\n",
       "0                                                    NaN   \n",
       "1                                                    NaN   \n",
       "2                                                    NaN   \n",
       "3                                                    NaN   \n",
       "4                                                    NaN   \n",
       "...                                                  ...   \n",
       "36899                                                NaN   \n",
       "36900                                                NaN   \n",
       "36901                                                NaN   \n",
       "36902                                                NaN   \n",
       "36903  DISEASE: Emery-Dreifuss muscular dystrophy 1, ...   \n",
       "\n",
       "                                             Virus hosts  \\\n",
       "0                     Homo sapiens (Human) [TaxID: 9606]   \n",
       "1                     Homo sapiens (Human) [TaxID: 9606]   \n",
       "2                     Homo sapiens (Human) [TaxID: 9606]   \n",
       "3      Cercopithecus hamlyni (Owl-faced monkey) (Haml...   \n",
       "4      Cercopithecus hamlyni (Owl-faced monkey) (Haml...   \n",
       "...                                                  ...   \n",
       "36899                                                NaN   \n",
       "36900                                                NaN   \n",
       "36901                                                NaN   \n",
       "36902                                                NaN   \n",
       "36903                                                NaN   \n",
       "\n",
       "                                      Catalytic activity  \\\n",
       "0      CATALYTIC ACTIVITY: Reaction=a ribonucleoside ...   \n",
       "1      CATALYTIC ACTIVITY: Reaction=a ribonucleoside ...   \n",
       "2      CATALYTIC ACTIVITY: Reaction=a ribonucleoside ...   \n",
       "3      CATALYTIC ACTIVITY: Reaction=a ribonucleoside ...   \n",
       "4      CATALYTIC ACTIVITY: Reaction=a ribonucleoside ...   \n",
       "...                                                  ...   \n",
       "36899  CATALYTIC ACTIVITY: Reaction=IMP + NADP(+) + N...   \n",
       "36900                                                NaN   \n",
       "36901                                                NaN   \n",
       "36902                                                NaN   \n",
       "36903                                                NaN   \n",
       "\n",
       "                                      Tissue specificity  \\\n",
       "0                                                    NaN   \n",
       "1                                                    NaN   \n",
       "2                                                    NaN   \n",
       "3                                                    NaN   \n",
       "4                                                    NaN   \n",
       "...                                                  ...   \n",
       "36899  TISSUE SPECIFICITY: Highly expressed in heart,...   \n",
       "36900                                                NaN   \n",
       "36901                                                NaN   \n",
       "36902                                                NaN   \n",
       "36903  TISSUE SPECIFICITY: Skeletal muscle, heart, co...   \n",
       "\n",
       "                                     Developmental stage Induction Peptide  \\\n",
       "0                                                    NaN       NaN     NaN   \n",
       "1                                                    NaN       NaN     NaN   \n",
       "2                                                    NaN       NaN     NaN   \n",
       "3                                                    NaN       NaN     NaN   \n",
       "4                                                    NaN       NaN     NaN   \n",
       "...                                                  ...       ...     ...   \n",
       "36899                                                NaN       NaN     NaN   \n",
       "36900  DEVELOPMENTAL STAGE: Only detected in fetal ti...       NaN     NaN   \n",
       "36901                                                NaN       NaN     NaN   \n",
       "36902                                                NaN       NaN     NaN   \n",
       "36903                                                NaN       NaN     NaN   \n",
       "\n",
       "      Propeptide Temperature dependence Interacts with  \n",
       "0            NaN                    NaN              0  \n",
       "1            NaN                    NaN              0  \n",
       "2            NaN                    NaN              0  \n",
       "3            NaN                    NaN              0  \n",
       "4            NaN                    NaN              0  \n",
       "...          ...                    ...            ...  \n",
       "36899        NaN                    NaN              1  \n",
       "36900        NaN                    NaN              1  \n",
       "36901        NaN                    NaN             11  \n",
       "36902        NaN                    NaN             49  \n",
       "36903        NaN                    NaN             89  \n",
       "\n",
       "[36904 rows x 38 columns]"
      ]
     },
     "execution_count": 3,
     "metadata": {},
     "output_type": "execute_result"
    }
   ],
   "source": [
    "##ORIG\n",
    "# !wget https://github.com/ddofer/proteinA/raw/main/SWP_human_viruses_all.fasta --output-document swp_human_vir_all.fasta\n",
    "\n",
    "## TEMP -local:\n",
    "df = pd.read_csv(\"df_meta_v2.csv.gz\")\n",
    "\n",
    "df"
   ]
  },
  {
   "cell_type": "code",
   "execution_count": 4,
   "id": "4db6b87f",
   "metadata": {
    "execution": {
     "iopub.execute_input": "2021-08-31T14:11:19.681479Z",
     "iopub.status.busy": "2021-08-31T14:11:19.680359Z",
     "iopub.status.idle": "2021-08-31T14:11:19.685178Z",
     "shell.execute_reply": "2021-08-31T14:11:19.684755Z"
    },
    "papermill": {
     "duration": 0.383662,
     "end_time": "2021-08-31T14:11:19.685296",
     "exception": false,
     "start_time": "2021-08-31T14:11:19.301634",
     "status": "completed"
    },
    "tags": []
   },
   "outputs": [],
   "source": [
    "## could download and gunzip models manually \n",
    "# !wget http://data.bioembeddings.com/public/embeddings/embedding_models/ XXXXX\n",
    "# !gunzip "
   ]
  },
  {
   "cell_type": "code",
   "execution_count": 5,
   "id": "05a39663",
   "metadata": {
    "execution": {
     "iopub.execute_input": "2021-08-31T14:11:20.613877Z",
     "iopub.status.busy": "2021-08-31T14:11:20.613137Z",
     "iopub.status.idle": "2021-08-31T14:11:20.630953Z",
     "shell.execute_reply": "2021-08-31T14:11:20.631823Z",
     "shell.execute_reply.started": "2021-08-30T09:32:10.941496Z"
    },
    "id": "ZrxD5vg90QoW",
    "papermill": {
     "duration": 0.570616,
     "end_time": "2021-08-31T14:11:20.632036",
     "exception": false,
     "start_time": "2021-08-31T14:11:20.061420",
     "status": "completed"
    },
    "tags": []
   },
   "outputs": [],
   "source": [
    "MY_FASTA_PATH =\"swp_human_vir_all.fasta\""
   ]
  },
  {
   "cell_type": "markdown",
   "id": "9d537699",
   "metadata": {
    "id": "Xa-7WUuSfnZC",
    "papermill": {
     "duration": 0.37699,
     "end_time": "2021-08-31T14:11:22.912690",
     "exception": false,
     "start_time": "2021-08-31T14:11:22.535700",
     "status": "completed"
    },
    "tags": []
   },
   "source": [
    "# Embed sequences in a FASTA file"
   ]
  },
  {
   "cell_type": "code",
   "execution_count": 6,
   "id": "f31d7c06",
   "metadata": {},
   "outputs": [
    {
     "data": {
      "text/plain": [
       "array(['MNMSRQGIFQTVGSGLDHILSLADIEEEQMIQSVDRTAVTGASYFTSVDQSSVHTAEVGSHQVEPLKTSVDKPGSKKTQGEKFFLIHSADWLTTHALFHEVAKLDVVKLLYNEQFAVQGLLRYHTYARFGIEIQVQINPTPFQQGGLICAMVPGDQSYGSIASLTVYPHGLLNCNINNVVRIKVPFIYTRGAYHFKDPQYPVWELTIRVWSELNIGTGTSAYTSLNVLARFTDLELHGLTPLSTQMMRNEFRVSTTENVVNLSNYEDARAKMSFALDQEDWKSDPSQGGRIKITHFTTWTSIPTLAAQFPFNASDSVGQQIKVIPVDPYFFQMTNSNPDQKCITALASICQMFCFWRGDLVFDFQVFPTKYHSGRLLFCFVPGNELIDVSGITLKQATTAPCAVMDITGVQSTLRFRVPWISDTPYRVNRYTKSAHQKGEYTAIGKLIVYCYNRLTSPSNVASHVRVNVYLSAINLECFAPLYHAMDVTTQVGDDSGGFSTTVSTEQNVPDPQVGITTMRDLKGRANRGKMDVSGVQAPVGAITTIEDPVLAKKVPETFPELKPGESRHTSDHMSIYKFMGRSHFLCTFTFNSNNKEYTFPITLSSTSNPPHGLPSTLRWFFNLFQLYRGPLDLTIIITGATDVDGMAWFTPVGLAVDTPWVEKESALSIDYKTALGAVRFNTRRTGNIQIRLPWYSYLYAVSGALDGLGDKTDSTFGLVSIQIANYNHSDEYLSFSCYLSVTEQSEFYFPRAPLNSNAMLSTETMMSRIAAGDLESSVDDPRSEEDRRFESHIESRKPYKELRLEVGKQRLKYAQEELSNEVLPPPRKMKGLFSQAKISLFYTEDHEIMKFSWRGVTADTRALRRFGFSLAAGRSVWTLEMDAGVLTGRLVRLNDEKWTEMKDDKIVSLVEKFTSNKHWSKVNFPHGMLDLEEIAANSKDFPNMSETDLCFLLHWLNPKKINLADRMLGLSGVQEIKEQGIGLIAECRTFLDSIAGTLKSMMFGFHHSVTVEIINTVLCFV',\n",
       "       'MNMSRQGIFQTVGSGLDHILSLADIEEEQMIQSVDRTAVTGASYFTSVDQSSVHTAEVGSHQIEPLKTSVDKPGSKKTQGEKFFLIHSADWLTTHALFHEVAKLDVVKLLYNEQFAVQGLLRYHTYARFGIEIQVQINPTPFQQGGLICAMVPGDQSYGSIASLTVYPHGLLNCNINNVVRIKVPFIYTRGAYHFKDPQYPVWELTIRVWSELNIGTGTSAYTSLNVLARFTDLELHGLTPLSTQMMRNEFRVSTTENVVNLSNYEDARAKMSFALDQEDWKSDPSQGGGIKITHFTTWTSIPTLAAQFPFNASDSVGQQIKVIPVDPYFFQMTNSNPDQKCITALASICQMFCFWRGDLVFDFQVFPTKYHSGRLLFCFVPGNELIDVSGITLKQATTAPCAVMDIAGVQSTLRFRVPWIPDTRYRVNRYTKSAHQKGEYTAIGKLIVYCYNRLTSPSNVASHVRVNVYLSAINLECFAPLYHAMDVTTQVGDDSGGFSTTVSTEQNVPDPQVGITTMRDLKGKANRGKMDVSGVQAPVGAITTIEDPVLAKKVPETFPELKPGESRHTSDHMSIYKFMGRSHFLCTFTFNSNNKEYTFPITLSSTSNPPHGLPSTLRWFFNLFQLYRGPLDLTIIITGATDVDGMAWFTPVGLAVDTPWVEKESALSIDYKTALGAVRFNTRRTGNIQIRLPWYSYLYAVSGALDGLGDKTDSTFGLVSIQIANYNHSDEYLSFSCYLSVTEQSEFYFPRAPLNSNAMLSTETMMSRIAAGDLESSVDDPRSEEDRRFESHIESRKPYKELRLEVGKQRLKYAQEELSNEVLPPPRKMKGLFSQAKISLFYTEEHEIMKFSWRGVTADTRALRRFGFSLAAGRSVWTLEMDAGVLTGRLVRLNDEKWTEMKDDKIVSLVEKFTSNKHWSKVNFPHGMLDLEEIAANSKDFPNMSETDLCFLLHWLNPKKINLADRMLGLSGVQEIKEQGIGLIAECRTFLDSITGSLKSMMFGFHHSVTVDIVNIVLCFV',\n",
       "       'MNMSKQGIFQTVGSGLDHILSLADIEEEQMIQSVDRTAVTGASYFTSVDQSSVHTAEVGSHQIEPLKTSVDKPGSKKTQGEKFFLIHSADWLTTHALFHEVAKLDVVKLLYNEQFAVQGLLRYHTYARFGIEIQVQINPTPFSQGGLICAMVPGDQSYGSIASLTVYPHGLLNCNINNVVRIKVPFIYTRGAYHFKDPQYPVWELTIRVWSELNIGTGTSAYTSLNVLARFTDLELHGLTPLSTQMMRNEFRVSTTENVVNLSNYEDARAKMSFALDQEDWKSDPSQGGGIKITHFTTWTSIPTLAAQFPFNASDSVGQQIKVIPVDPYFFQMTNTNPDQKCITALASICQMFCFWRGDLVFDFQVFPTKYHSGRLLFCFVPGNELIDVTGITLKQATTAPCAVMDITGVQSTLRFRVPWISDTPYRVNRYTKSAHQKGEYTAIGKLIVYCYNRLTSPSNVASHVRVNVYLSAINLECFAPLYHAMDVTTQVGDDSGGFSTTVSTEQNVPDPQVGIITMRDLKGKANRGKMDVSGVQAPVGAITTIEDPVLAKKVPETFPELKPGESRHTSDHMSIYKFMGRSHFLCTFIFNSNNKEYTFPITLSSTSNPPHGLPSTLRWFFNLFQLYRGPLDLTIIITGATDVDGMAWFTPVGLAVDTPWVEKESALSIDYKTALGAVRFNTRRTGNIQIRLPWYSYLYAVSGALDGLGDKTDSTFGLVSIQIANYNHSDEYLSFSCYLSVTEQSEFYFPRAPLNSNAMLSTESMMSRIAAGDLESSVDDPRSEEDRRFESHIECRKPYKELRLEVGKQRLKYAQEELSNEVLPPPRKMKGVFSQAKISLFYTEEHEIMKFSWRGVTADTRALRRFGFSMAAGRSVWTLEMDAGVLTGRLVRLNDEKWTEMKDDKIVSLIEKFTSNKYWSKVNFPHGMLDLEEIAANSKDFPNMSETDLCFLLHWLNPKKINLADRMLGLSGVQEIKEQGVGLIAECRTFLDSIAGTLKSMMFGFHHSVTVEIINTVLCFV',\n",
       "       ...,\n",
       "       'MASRKEGTGSTATSSSSTAGAAGKGKGKGGSGDSAVKQVQIDGLVVLKIIKHYQEEGQGTEVVQGVLLGLVVEDRLEITNCFPFPQHTEDDADFDEVQYQMEMMRSLRHVNIDHLHVGWYQSTYYGSFVTRALLDSQFSYQHAIEESVVLIYDPIKTAQGSLSLKAYRLTPKLMEVCKEKDFSPEALKKANITFEYMFEEVPIVIKNSHLINVLMWELEKKSAVADKHELLSLASSNHLGKNLQLLMDRVDEMSQDIVKYNTYMRNTSKQQQQKHQYQQRRQQENMQRQSRGEPPLPEEDLSKLFKPPQPPARMDSLLIAGQINTYCQNIKEFTAQNLGKLFMAQALQEYNN',\n",
       "       'MSLLLLVVSALHILILILLFVATLDKSWWTLPGKESLNLWYDCTWNNDTKTWACSNVSENGWLKAVQVLMVLSLILCCLSFILFMFQLYTMRRGGLFYATGLCQLCTSVAVFTGALIYAIHAEEILEKHPRGGSFGYCFALAWVAFPLALVSGIIYIHLRKRE',\n",
       "       'MDNYADLSDTELTTLLRRYNIPHGPVVGSTRRLYEKKIFEYETQRRRLSPPSSSAASSYSFSDLNSTRGDADMYDLPKKEDALLYQSKGYNDDYYEESYFTTRTYGEPESAGPSRAVRQSVTSFPDADAFHHQVHDDDLLSSSEEECKDRERPMYGRDSAYQSITHYRPVSASRSSLDLSYYPTSSSTSFMSSSSSSSSWLTRRAIRPENRAPGAGLGQDRQVPLWGQLLLFLVFVIVLFFIYHFMQAEEGNPF'],\n",
       "      dtype=object)"
      ]
     },
     "execution_count": 6,
     "metadata": {},
     "output_type": "execute_result"
    }
   ],
   "source": [
    "sequences = df[\"Sequence\"].str[0:1022].values\n",
    "sequences"
   ]
  },
  {
   "cell_type": "code",
   "execution_count": 7,
   "id": "50154157",
   "metadata": {
    "execution": {
     "iopub.execute_input": "2021-08-31T14:11:49.736884Z",
     "iopub.status.busy": "2021-08-31T14:11:49.735973Z",
     "iopub.status.idle": "2021-08-31T14:11:50.641467Z",
     "shell.execute_reply": "2021-08-31T14:11:50.640428Z",
     "shell.execute_reply.started": "2021-08-30T09:32:43.561959Z"
    },
    "id": "YtGmgYqQfnZE",
    "papermill": {
     "duration": 1.288484,
     "end_time": "2021-08-31T14:11:50.641602",
     "exception": false,
     "start_time": "2021-08-31T14:11:49.353118",
     "status": "completed"
    },
    "tags": []
   },
   "outputs": [],
   "source": [
    "# sequences = []\n",
    "# # for record in SeqIO.parse(\"tiny_sampled.fasta\", \"fasta\"): # ORIG from demo - tiny file\n",
    "# for record in SeqIO.parse(MY_FASTA_PATH, \"fasta\"): # run on all our data\n",
    "#     sequences.append(record)"
   ]
  },
  {
   "cell_type": "code",
   "execution_count": 8,
   "id": "b96dd00c",
   "metadata": {
    "execution": {
     "iopub.execute_input": "2021-08-31T14:11:51.404204Z",
     "iopub.status.busy": "2021-08-31T14:11:51.403486Z",
     "iopub.status.idle": "2021-08-31T14:11:51.406652Z",
     "shell.execute_reply": "2021-08-31T14:11:51.407061Z",
     "shell.execute_reply.started": "2021-08-30T09:32:44.734024Z"
    },
    "papermill": {
     "duration": 0.387979,
     "end_time": "2021-08-31T14:11:51.407200",
     "exception": false,
     "start_time": "2021-08-31T14:11:51.019221",
     "status": "completed"
    },
    "tags": []
   },
   "outputs": [
    {
     "data": {
      "text/plain": [
       "'MNMSRQGIFQTVGSGLDHILSLADIEEEQMIQSVDRTAVTGASYFTSVDQSSVHTAEVGSHQIEPLKTSVDKPGSKKTQGEKFFLIHSADWLTTHALFHEVAKLDVVKLLYNEQFAVQGLLRYHTYARFGIEIQVQINPTPFQQGGLICAMVPGDQSYGSIASLTVYPHGLLNCNINNVVRIKVPFIYTRGAYHFKDPQYPVWELTIRVWSELNIGTGTSAYTSLNVLARFTDLELHGLTPLSTQMMRNEFRVSTTENVVNLSNYEDARAKMSFALDQEDWKSDPSQGGGIKITHFTTWTSIPTLAAQFPFNASDSVGQQIKVIPVDPYFFQMTNSNPDQKCITALASICQMFCFWRGDLVFDFQVFPTKYHSGRLLFCFVPGNELIDVSGITLKQATTAPCAVMDIAGVQSTLRFRVPWIPDTRYRVNRYTKSAHQKGEYTAIGKLIVYCYNRLTSPSNVASHVRVNVYLSAINLECFAPLYHAMDVTTQVGDDSGGFSTTVSTEQNVPDPQVGITTMRDLKGKANRGKMDVSGVQAPVGAITTIEDPVLAKKVPETFPELKPGESRHTSDHMSIYKFMGRSHFLCTFTFNSNNKEYTFPITLSSTSNPPHGLPSTLRWFFNLFQLYRGPLDLTIIITGATDVDGMAWFTPVGLAVDTPWVEKESALSIDYKTALGAVRFNTRRTGNIQIRLPWYSYLYAVSGALDGLGDKTDSTFGLVSIQIANYNHSDEYLSFSCYLSVTEQSEFYFPRAPLNSNAMLSTETMMSRIAAGDLESSVDDPRSEEDRRFESHIESRKPYKELRLEVGKQRLKYAQEELSNEVLPPPRKMKGLFSQAKISLFYTEEHEIMKFSWRGVTADTRALRRFGFSLAAGRSVWTLEMDAGVLTGRLVRLNDEKWTEMKDDKIVSLVEKFTSNKHWSKVNFPHGMLDLEEIAANSKDFPNMSETDLCFLLHWLNPKKINLADRMLGLSGVQEIKEQGIGLIAECRTFLDSITGSLKSMMFGFHHSVTVDIVNIVLCFV'"
      ]
     },
     "execution_count": 8,
     "metadata": {},
     "output_type": "execute_result"
    }
   ],
   "source": [
    "sequences[1]"
   ]
  },
  {
   "cell_type": "code",
   "execution_count": 9,
   "id": "5f6550ce",
   "metadata": {
    "execution": {
     "iopub.execute_input": "2021-08-31T14:11:52.181790Z",
     "iopub.status.busy": "2021-08-31T14:11:52.176277Z",
     "iopub.status.idle": "2021-08-31T14:11:52.206553Z",
     "shell.execute_reply": "2021-08-31T14:11:52.205754Z",
     "shell.execute_reply.started": "2021-08-30T09:32:44.749031Z"
    },
    "id": "0uIiZKlWtjbo",
    "outputId": "0d77fdfe-b426-41dc-fcdd-95fd3c1d5c99",
    "papermill": {
     "duration": 0.426935,
     "end_time": "2021-08-31T14:11:52.206677",
     "exception": false,
     "start_time": "2021-08-31T14:11:51.779742",
     "status": "completed"
    },
    "tags": []
   },
   "outputs": [],
   "source": [
    "# # sequences ## seqrecord item\n",
    "# print(len(sequences))\n",
    "# print(len([s for s in sequences if \"X\" not in str(s.seq)]),\"# sequences without unknown AA\")\n",
    "\n",
    "# # # ## drop sequences with unknown AA / X  - OPTIONAL\n",
    "# # sequences = [s for s in sequences if \"X\" not in str(s.seq)]\n",
    "\n",
    "# # sequences = sequences[0:3000] # sample  data\n",
    "\n",
    "# print(len(sequences))"
   ]
  },
  {
   "cell_type": "code",
   "execution_count": 10,
   "id": "d3b314a9",
   "metadata": {
    "execution": {
     "iopub.execute_input": "2021-08-31T14:11:53.715792Z",
     "iopub.status.busy": "2021-08-31T14:11:53.714894Z",
     "iopub.status.idle": "2021-08-31T14:18:55.771688Z",
     "shell.execute_reply": "2021-08-31T14:18:55.771204Z",
     "shell.execute_reply.started": "2021-08-30T09:32:44.816899Z"
    },
    "id": "rWVA7azNfnZE",
    "outputId": "8ad44c84-84ce-44aa-aa6d-d80448afec1e",
    "papermill": {
     "duration": 422.436636,
     "end_time": "2021-08-31T14:18:55.771830",
     "exception": false,
     "start_time": "2021-08-31T14:11:53.335194",
     "status": "completed"
    },
    "tags": []
   },
   "outputs": [
    {
     "ename": "RuntimeError",
     "evalue": "unexpected EOF, expected 1590334 more bytes. The file might be corrupted.",
     "output_type": "error",
     "traceback": [
      "\u001b[1;31m---------------------------------------------------------------------------\u001b[0m",
      "\u001b[1;31mRuntimeError\u001b[0m                              Traceback (most recent call last)",
      "\u001b[1;32m<ipython-input-10-ed2e425fbc04>\u001b[0m in \u001b[0;36m<module>\u001b[1;34m\u001b[0m\n\u001b[0;32m      2\u001b[0m \u001b[1;31m# embedder =ProtTransT5XLU50Embedder(half_model=True,half_precision_model=True) ## DownLoad error with all?\u001b[0m\u001b[1;33m\u001b[0m\u001b[1;33m\u001b[0m\u001b[1;33m\u001b[0m\u001b[0m\n\u001b[0;32m      3\u001b[0m \u001b[1;31m# embedder =ProtTransT5BFDEmbedder(half_model=True)\u001b[0m\u001b[1;33m\u001b[0m\u001b[1;33m\u001b[0m\u001b[1;33m\u001b[0m\u001b[0m\n\u001b[1;32m----> 4\u001b[1;33m \u001b[0membedder\u001b[0m \u001b[1;33m=\u001b[0m\u001b[0mESM1bEmbedder\u001b[0m\u001b[1;33m(\u001b[0m\u001b[0mhalf_model\u001b[0m\u001b[1;33m=\u001b[0m\u001b[1;32mTrue\u001b[0m\u001b[1;33m,\u001b[0m\u001b[0mhalf_precision_model\u001b[0m\u001b[1;33m=\u001b[0m\u001b[1;32mTrue\u001b[0m\u001b[1;33m)\u001b[0m\u001b[1;33m\u001b[0m\u001b[1;33m\u001b[0m\u001b[0m\n\u001b[0m\u001b[0;32m      5\u001b[0m \u001b[1;33m\u001b[0m\u001b[0m\n\u001b[0;32m      6\u001b[0m \u001b[1;31m# embedder = SeqVecEmbedder(half_model=True) ## slightly smaller, faster\u001b[0m\u001b[1;33m\u001b[0m\u001b[1;33m\u001b[0m\u001b[1;33m\u001b[0m\u001b[0m\n",
      "\u001b[1;32mC:\\apps\\anaconda3\\envs\\bio\\lib\\site-packages\\bio_embeddings\\embed\\esm_embedder.py\u001b[0m in \u001b[0;36m__init__\u001b[1;34m(self, device, **kwargs)\u001b[0m\n\u001b[0;32m     37\u001b[0m         \u001b[0msuper\u001b[0m\u001b[1;33m(\u001b[0m\u001b[1;33m)\u001b[0m\u001b[1;33m.\u001b[0m\u001b[0m__init__\u001b[0m\u001b[1;33m(\u001b[0m\u001b[0mdevice\u001b[0m\u001b[1;33m,\u001b[0m \u001b[1;33m**\u001b[0m\u001b[0mkwargs\u001b[0m\u001b[1;33m)\u001b[0m\u001b[1;33m\u001b[0m\u001b[1;33m\u001b[0m\u001b[0m\n\u001b[0;32m     38\u001b[0m \u001b[1;33m\u001b[0m\u001b[0m\n\u001b[1;32m---> 39\u001b[1;33m         \u001b[0mmodel\u001b[0m\u001b[1;33m,\u001b[0m \u001b[0malphabet\u001b[0m \u001b[1;33m=\u001b[0m \u001b[0mload_model_and_alphabet_local\u001b[0m\u001b[1;33m(\u001b[0m\u001b[0mself\u001b[0m\u001b[1;33m.\u001b[0m\u001b[0m_options\u001b[0m\u001b[1;33m[\u001b[0m\u001b[1;34m\"model_file\"\u001b[0m\u001b[1;33m]\u001b[0m\u001b[1;33m)\u001b[0m\u001b[1;33m\u001b[0m\u001b[1;33m\u001b[0m\u001b[0m\n\u001b[0m\u001b[0;32m     40\u001b[0m \u001b[1;33m\u001b[0m\u001b[0m\n\u001b[0;32m     41\u001b[0m         \u001b[0mself\u001b[0m\u001b[1;33m.\u001b[0m\u001b[0m_model\u001b[0m \u001b[1;33m=\u001b[0m \u001b[0mmodel\u001b[0m\u001b[1;33m.\u001b[0m\u001b[0mto\u001b[0m\u001b[1;33m(\u001b[0m\u001b[0mself\u001b[0m\u001b[1;33m.\u001b[0m\u001b[0m_device\u001b[0m\u001b[1;33m)\u001b[0m\u001b[1;33m\u001b[0m\u001b[1;33m\u001b[0m\u001b[0m\n",
      "\u001b[1;32mC:\\apps\\anaconda3\\envs\\bio\\lib\\site-packages\\bio_embeddings\\embed\\esm_embedder.py\u001b[0m in \u001b[0;36mload_model_and_alphabet_local\u001b[1;34m(model_location)\u001b[0m\n\u001b[0;32m     20\u001b[0m     )\n\u001b[0;32m     21\u001b[0m \u001b[1;33m\u001b[0m\u001b[0m\n\u001b[1;32m---> 22\u001b[1;33m     \u001b[0mmodel_data\u001b[0m \u001b[1;33m=\u001b[0m \u001b[0mtorch\u001b[0m\u001b[1;33m.\u001b[0m\u001b[0mload\u001b[0m\u001b[1;33m(\u001b[0m\u001b[0mmodel_location\u001b[0m\u001b[1;33m,\u001b[0m \u001b[0mmap_location\u001b[0m\u001b[1;33m=\u001b[0m\u001b[1;34m\"cpu\"\u001b[0m\u001b[1;33m)\u001b[0m\u001b[1;33m\u001b[0m\u001b[1;33m\u001b[0m\u001b[0m\n\u001b[0m\u001b[0;32m     23\u001b[0m     \u001b[1;32mreturn\u001b[0m \u001b[0mload_model_and_alphabet_core\u001b[0m\u001b[1;33m(\u001b[0m\u001b[0mmodel_data\u001b[0m\u001b[1;33m,\u001b[0m \u001b[1;32mNone\u001b[0m\u001b[1;33m)\u001b[0m\u001b[1;33m\u001b[0m\u001b[1;33m\u001b[0m\u001b[0m\n\u001b[0;32m     24\u001b[0m \u001b[1;33m\u001b[0m\u001b[0m\n",
      "\u001b[1;32mC:\\apps\\anaconda3\\envs\\bio\\lib\\site-packages\\torch\\serialization.py\u001b[0m in \u001b[0;36mload\u001b[1;34m(f, map_location, pickle_module, **pickle_load_args)\u001b[0m\n\u001b[0;32m    606\u001b[0m                     \u001b[1;32mreturn\u001b[0m \u001b[0mtorch\u001b[0m\u001b[1;33m.\u001b[0m\u001b[0mjit\u001b[0m\u001b[1;33m.\u001b[0m\u001b[0mload\u001b[0m\u001b[1;33m(\u001b[0m\u001b[0mopened_file\u001b[0m\u001b[1;33m)\u001b[0m\u001b[1;33m\u001b[0m\u001b[1;33m\u001b[0m\u001b[0m\n\u001b[0;32m    607\u001b[0m                 \u001b[1;32mreturn\u001b[0m \u001b[0m_load\u001b[0m\u001b[1;33m(\u001b[0m\u001b[0mopened_zipfile\u001b[0m\u001b[1;33m,\u001b[0m \u001b[0mmap_location\u001b[0m\u001b[1;33m,\u001b[0m \u001b[0mpickle_module\u001b[0m\u001b[1;33m,\u001b[0m \u001b[1;33m**\u001b[0m\u001b[0mpickle_load_args\u001b[0m\u001b[1;33m)\u001b[0m\u001b[1;33m\u001b[0m\u001b[1;33m\u001b[0m\u001b[0m\n\u001b[1;32m--> 608\u001b[1;33m         \u001b[1;32mreturn\u001b[0m \u001b[0m_legacy_load\u001b[0m\u001b[1;33m(\u001b[0m\u001b[0mopened_file\u001b[0m\u001b[1;33m,\u001b[0m \u001b[0mmap_location\u001b[0m\u001b[1;33m,\u001b[0m \u001b[0mpickle_module\u001b[0m\u001b[1;33m,\u001b[0m \u001b[1;33m**\u001b[0m\u001b[0mpickle_load_args\u001b[0m\u001b[1;33m)\u001b[0m\u001b[1;33m\u001b[0m\u001b[1;33m\u001b[0m\u001b[0m\n\u001b[0m\u001b[0;32m    609\u001b[0m \u001b[1;33m\u001b[0m\u001b[0m\n\u001b[0;32m    610\u001b[0m \u001b[1;33m\u001b[0m\u001b[0m\n",
      "\u001b[1;32mC:\\apps\\anaconda3\\envs\\bio\\lib\\site-packages\\torch\\serialization.py\u001b[0m in \u001b[0;36m_legacy_load\u001b[1;34m(f, map_location, pickle_module, **pickle_load_args)\u001b[0m\n\u001b[0;32m    792\u001b[0m     \u001b[1;32mfor\u001b[0m \u001b[0mkey\u001b[0m \u001b[1;32min\u001b[0m \u001b[0mdeserialized_storage_keys\u001b[0m\u001b[1;33m:\u001b[0m\u001b[1;33m\u001b[0m\u001b[1;33m\u001b[0m\u001b[0m\n\u001b[0;32m    793\u001b[0m         \u001b[1;32massert\u001b[0m \u001b[0mkey\u001b[0m \u001b[1;32min\u001b[0m \u001b[0mdeserialized_objects\u001b[0m\u001b[1;33m\u001b[0m\u001b[1;33m\u001b[0m\u001b[0m\n\u001b[1;32m--> 794\u001b[1;33m         \u001b[0mdeserialized_objects\u001b[0m\u001b[1;33m[\u001b[0m\u001b[0mkey\u001b[0m\u001b[1;33m]\u001b[0m\u001b[1;33m.\u001b[0m\u001b[0m_set_from_file\u001b[0m\u001b[1;33m(\u001b[0m\u001b[0mf\u001b[0m\u001b[1;33m,\u001b[0m \u001b[0moffset\u001b[0m\u001b[1;33m,\u001b[0m \u001b[0mf_should_read_directly\u001b[0m\u001b[1;33m)\u001b[0m\u001b[1;33m\u001b[0m\u001b[1;33m\u001b[0m\u001b[0m\n\u001b[0m\u001b[0;32m    795\u001b[0m         \u001b[1;32mif\u001b[0m \u001b[0moffset\u001b[0m \u001b[1;32mis\u001b[0m \u001b[1;32mnot\u001b[0m \u001b[1;32mNone\u001b[0m\u001b[1;33m:\u001b[0m\u001b[1;33m\u001b[0m\u001b[1;33m\u001b[0m\u001b[0m\n\u001b[0;32m    796\u001b[0m             \u001b[0moffset\u001b[0m \u001b[1;33m=\u001b[0m \u001b[0mf\u001b[0m\u001b[1;33m.\u001b[0m\u001b[0mtell\u001b[0m\u001b[1;33m(\u001b[0m\u001b[1;33m)\u001b[0m\u001b[1;33m\u001b[0m\u001b[1;33m\u001b[0m\u001b[0m\n",
      "\u001b[1;31mRuntimeError\u001b[0m: unexpected EOF, expected 1590334 more bytes. The file might be corrupted."
     ]
    }
   ],
   "source": [
    "# embedder = ProtTransBertBFDEmbedder(half_model=True,half_precision_model=True)\n",
    "# embedder =ProtTransT5XLU50Embedder(half_model=True,half_precision_model=True) ## DownLoad error with all?\n",
    "# embedder =ProtTransT5BFDEmbedder(half_model=True)\n",
    "embedder =ESM1bEmbedder(half_model=True,half_precision_model=True)\n",
    "\n",
    "# embedder = SeqVecEmbedder(half_model=True) ## slightly smaller, faster"
   ]
  },
  {
   "cell_type": "code",
   "execution_count": null,
   "id": "04ed7d19",
   "metadata": {
    "execution": {
     "iopub.execute_input": "2021-08-31T14:18:56.681087Z",
     "iopub.status.busy": "2021-08-31T14:18:56.680380Z",
     "iopub.status.idle": "2021-08-31T14:18:56.683314Z",
     "shell.execute_reply": "2021-08-31T14:18:56.683954Z"
    },
    "id": "UBD8M1OjfnZF",
    "outputId": "4b914813-bbab-4a3c-ca29-1ae91ea38d41",
    "papermill": {
     "duration": 0.517815,
     "end_time": "2021-08-31T14:18:56.684156",
     "exception": false,
     "start_time": "2021-08-31T14:18:56.166341",
     "status": "completed"
    },
    "tags": []
   },
   "outputs": [],
   "source": [
    "%%time\n",
    "# ## ORIG\n",
    "# embeddings = embedder.embed_many([str(s.seq) for s in sequences]) # ORIG\n",
    "\n",
    "# embeddings = embedder.embed_many([str(s.seq)[0:256] for s in sequences]) # Workaround for long sequences\n",
    "\n",
    "# # `embed_many` returns a generator.\n",
    "# # We want to keep both RAW embeddings and reduced embeddings in memory.\n",
    "# # To do so, we simply turn the generator into a list!\n",
    "# # (this will start embedding the sequences!)\n",
    "\n",
    "# # embeddings = list(embeddings) ## embeddings per position\n",
    "\n",
    "# reduced_embeddings = [ProtTransBertBFDEmbedder.reduce_per_protein(e) for e in embeddings] ## embeddings over whole sequence"
   ]
  },
  {
   "cell_type": "code",
   "execution_count": null,
   "id": "b5323e61",
   "metadata": {
    "execution": {
     "iopub.execute_input": "2021-08-31T14:18:57.591878Z",
     "iopub.status.busy": "2021-08-31T14:18:57.581676Z",
     "iopub.status.idle": "2021-08-31T14:18:57.602591Z",
     "shell.execute_reply": "2021-08-31T14:18:57.602999Z"
    },
    "id": "0tmAwPCufnZG",
    "outputId": "4e9d9cf2-9a41-4502-80c8-25b2405eb172",
    "papermill": {
     "duration": 0.440269,
     "end_time": "2021-08-31T14:18:57.603156",
     "exception": false,
     "start_time": "2021-08-31T14:18:57.162887",
     "status": "completed"
    },
    "tags": []
   },
   "outputs": [],
   "source": [
    "%%time\n",
    "## 12 min for 4k rows, max 300 length\n",
    "# ### new/ALT - get reduced embeddings only, without batch? # - requires embed first\n",
    "# reduced_embeddings = [ProtTransBertBFDEmbedder.reduce_per_protein(s) for str(s.seq)[0:256] in sequences]\n",
    "\n",
    "embeddings = embedder.embed_many([str(s.seq)[0:1020] for s in sequences]) ## embeddings per position # truncated for Workaround for long sequences"
   ]
  },
  {
   "cell_type": "code",
   "execution_count": null,
   "id": "dfc3a15a",
   "metadata": {
    "execution": {
     "iopub.execute_input": "2021-08-31T14:18:58.372692Z",
     "iopub.status.busy": "2021-08-31T14:18:58.370746Z",
     "iopub.status.idle": "2021-08-31T15:33:52.719112Z",
     "shell.execute_reply": "2021-08-31T15:33:52.716735Z"
    },
    "id": "tao_n1o5rVjH",
    "outputId": "fd043038-5219-4664-c9dd-1b0a5def1927",
    "papermill": {
     "duration": 4494.74103,
     "end_time": "2021-08-31T15:33:52.719302",
     "exception": false,
     "start_time": "2021-08-31T14:18:57.978272",
     "status": "completed"
    },
    "tags": []
   },
   "outputs": [],
   "source": [
    "%%time\n",
    "#### total: 1h 14min 41s\n",
    "# ## try maybe embedder insyead of ProtTransBertBFDEmbedder ??\n",
    "# reduced_embeddings = [ProtTransBertBFDEmbedder.reduce_per_protein(e) for e in embeddings]  ## embeddings over whole sequence # ORI\n",
    "\n",
    "### ALT : [embedder.reduce_per_protein(embedding) for embedding in embedder.embed_many(data['HEAVY CDR3 (aa)'])]\n",
    "# reduced_embeddings = [embedder.reduce_per_protein(e) for e in tqdm.tqdm(embeddings)]  ## embeddings over whole sequence # ORI\n",
    "\n",
    "reduced_embeddings = [embedder.reduce_per_protein(e) for e in tqdm(embeddings)]  ## embeddings over whole sequence # ORI\n"
   ]
  },
  {
   "cell_type": "code",
   "execution_count": null,
   "id": "84cc038f",
   "metadata": {
    "execution": {
     "iopub.execute_input": "2021-08-31T15:33:53.554344Z",
     "iopub.status.busy": "2021-08-31T15:33:53.553732Z",
     "iopub.status.idle": "2021-08-31T15:33:53.555239Z",
     "shell.execute_reply": "2021-08-31T15:33:53.554794Z"
    },
    "id": "Cewa5rzSfnZI",
    "papermill": {
     "duration": 0.374057,
     "end_time": "2021-08-31T15:33:53.555355",
     "exception": false,
     "start_time": "2021-08-31T15:33:53.181298",
     "status": "completed"
    },
    "tags": []
   },
   "outputs": [],
   "source": [
    "# for (per_amino_acid, per_protein) in zip(embeddings[0:19], reduced_embeddings[0:19]):\n",
    "#     print(per_amino_acid.shape, per_protein.shape)\n"
   ]
  },
  {
   "cell_type": "code",
   "execution_count": null,
   "id": "b32d3e78",
   "metadata": {
    "execution": {
     "iopub.execute_input": "2021-08-31T15:33:54.288548Z",
     "iopub.status.busy": "2021-08-31T15:33:54.287528Z",
     "iopub.status.idle": "2021-08-31T15:33:54.290644Z",
     "shell.execute_reply": "2021-08-31T15:33:54.290219Z"
    },
    "id": "G8gsX8vNylgA",
    "papermill": {
     "duration": 0.372498,
     "end_time": "2021-08-31T15:33:54.290754",
     "exception": false,
     "start_time": "2021-08-31T15:33:53.918256",
     "status": "completed"
    },
    "tags": []
   },
   "outputs": [],
   "source": [
    "print(len(reduced_embeddings))\n",
    "print(reduced_embeddings[0].shape)"
   ]
  },
  {
   "cell_type": "code",
   "execution_count": null,
   "id": "3f839d34",
   "metadata": {
    "execution": {
     "iopub.execute_input": "2021-08-31T15:33:55.031697Z",
     "iopub.status.busy": "2021-08-31T15:33:55.031015Z",
     "iopub.status.idle": "2021-08-31T15:33:55.033961Z",
     "shell.execute_reply": "2021-08-31T15:33:55.034366Z"
    },
    "id": "7g72WpB8koYA",
    "papermill": {
     "duration": 0.379424,
     "end_time": "2021-08-31T15:33:55.034510",
     "exception": false,
     "start_time": "2021-08-31T15:33:54.655086",
     "status": "completed"
    },
    "tags": []
   },
   "outputs": [],
   "source": [
    "reduced_embeddings[0]"
   ]
  },
  {
   "cell_type": "code",
   "execution_count": null,
   "id": "b5c5213d",
   "metadata": {
    "execution": {
     "iopub.execute_input": "2021-08-31T15:33:56.041765Z",
     "iopub.status.busy": "2021-08-31T15:33:56.035366Z",
     "iopub.status.idle": "2021-08-31T15:33:56.045231Z",
     "shell.execute_reply": "2021-08-31T15:33:56.045734Z"
    },
    "papermill": {
     "duration": 0.611686,
     "end_time": "2021-08-31T15:33:56.045876",
     "exception": false,
     "start_time": "2021-08-31T15:33:55.434190",
     "status": "completed"
    },
    "tags": []
   },
   "outputs": [],
   "source": [
    "names = [str(s.name) for s in sequences]\n",
    "print(len(names))\n",
    "names[0:2]"
   ]
  },
  {
   "cell_type": "code",
   "execution_count": null,
   "id": "c453c261",
   "metadata": {
    "execution": {
     "iopub.execute_input": "2021-08-31T15:33:56.795053Z",
     "iopub.status.busy": "2021-08-31T15:33:56.794227Z",
     "iopub.status.idle": "2021-08-31T15:33:56.798302Z",
     "shell.execute_reply": "2021-08-31T15:33:56.798691Z"
    },
    "id": "_UlIHrEAt8yN",
    "papermill": {
     "duration": 0.39147,
     "end_time": "2021-08-31T15:33:56.798826",
     "exception": false,
     "start_time": "2021-08-31T15:33:56.407356",
     "status": "completed"
    },
    "tags": []
   },
   "outputs": [],
   "source": [
    "ids = [str(s.id) for s in sequences]\n",
    "print(len(ids))\n",
    "ids[0:2]"
   ]
  },
  {
   "cell_type": "code",
   "execution_count": null,
   "id": "ed548fd4",
   "metadata": {
    "execution": {
     "iopub.execute_input": "2021-08-31T15:33:57.557814Z",
     "iopub.status.busy": "2021-08-31T15:33:57.557281Z",
     "iopub.status.idle": "2021-08-31T15:33:57.563601Z",
     "shell.execute_reply": "2021-08-31T15:33:57.563169Z"
    },
    "id": "aErMaZOJui2u",
    "papermill": {
     "duration": 0.402332,
     "end_time": "2021-08-31T15:33:57.563714",
     "exception": false,
     "start_time": "2021-08-31T15:33:57.161382",
     "status": "completed"
    },
    "tags": []
   },
   "outputs": [],
   "source": [
    "descriptions = [str(s.description).replace(\" <unknown description>\",\"\") for s in sequences]\n",
    "print(len(descriptions))\n",
    "descriptions[0:2]"
   ]
  },
  {
   "cell_type": "code",
   "execution_count": null,
   "id": "02818230",
   "metadata": {
    "execution": {
     "iopub.execute_input": "2021-08-31T15:33:58.418026Z",
     "iopub.status.busy": "2021-08-31T15:33:58.416959Z",
     "iopub.status.idle": "2021-08-31T15:33:58.724635Z",
     "shell.execute_reply": "2021-08-31T15:33:58.724189Z"
    },
    "id": "edaen8N0uPx-",
    "papermill": {
     "duration": 0.796535,
     "end_time": "2021-08-31T15:33:58.724753",
     "exception": false,
     "start_time": "2021-08-31T15:33:57.928218",
     "status": "completed"
    },
    "tags": []
   },
   "outputs": [],
   "source": [
    "df_meta = pd.DataFrame(data={\"ID\":ids,\"name\":names,\"descriptions\":descriptions})\n",
    "# df_meta[\"ID\"] = df_meta[\"ID\"].str.split(\"_\",expand=True,n=1)[1].str.strip() ## get uniprot id, instead of uniref90_+uniprot ID\n",
    "\n",
    "## add some text features\n",
    "df_meta[\"fragment\"] = (df_meta[\"descriptions\"].str.contains(\"Fragment\",na=False)).astype(\"int\")\n",
    "df_meta[\"Unknown\"] = (df_meta[\"descriptions\"].str.contains(\"Uncharacterized|Unknown\",case=False)).astype(\"int\")\n",
    "df_meta[\"word_count\"] = df_meta[\"descriptions\"].str.split().str.len()\n",
    "df_meta[\"length\"] = [len(str(s.seq)) for s in sequences]\n",
    "print(df_meta.describe().round(2))\n",
    "# df_meta"
   ]
  },
  {
   "cell_type": "code",
   "execution_count": null,
   "id": "2602a42e",
   "metadata": {
    "execution": {
     "iopub.execute_input": "2021-08-31T15:33:59.459286Z",
     "iopub.status.busy": "2021-08-31T15:33:59.457649Z",
     "iopub.status.idle": "2021-08-31T15:34:28.185201Z",
     "shell.execute_reply": "2021-08-31T15:34:28.184321Z"
    },
    "id": "Eggiq94CubAw",
    "papermill": {
     "duration": 29.096988,
     "end_time": "2021-08-31T15:34:28.185341",
     "exception": false,
     "start_time": "2021-08-31T15:33:59.088353",
     "status": "completed"
    },
    "tags": []
   },
   "outputs": [],
   "source": [
    "df = pd.DataFrame(data=reduced_embeddings) # numpy to pandas\n",
    " ## lengths of all the seqs\n",
    "# df"
   ]
  },
  {
   "cell_type": "code",
   "execution_count": null,
   "id": "b7296ff0",
   "metadata": {
    "execution": {
     "iopub.execute_input": "2021-08-31T15:34:29.196497Z",
     "iopub.status.busy": "2021-08-31T15:34:29.195664Z",
     "iopub.status.idle": "2021-08-31T15:34:29.198288Z",
     "shell.execute_reply": "2021-08-31T15:34:29.197867Z"
    },
    "id": "RjUGxT6Uvd3c",
    "papermill": {
     "duration": 0.48511,
     "end_time": "2021-08-31T15:34:29.198404",
     "exception": false,
     "start_time": "2021-08-31T15:34:28.713294",
     "status": "completed"
    },
    "tags": []
   },
   "outputs": [],
   "source": [
    "assert df_meta.shape[0]==df.shape[0]"
   ]
  },
  {
   "cell_type": "code",
   "execution_count": null,
   "id": "137de683",
   "metadata": {
    "execution": {
     "iopub.execute_input": "2021-08-31T15:34:29.947417Z",
     "iopub.status.busy": "2021-08-31T15:34:29.945939Z",
     "iopub.status.idle": "2021-08-31T15:34:30.279547Z",
     "shell.execute_reply": "2021-08-31T15:34:30.279992Z"
    },
    "id": "AWPyqIEYvR4j",
    "papermill": {
     "duration": 0.71831,
     "end_time": "2021-08-31T15:34:30.280146",
     "exception": false,
     "start_time": "2021-08-31T15:34:29.561836",
     "status": "completed"
    },
    "tags": []
   },
   "outputs": [],
   "source": [
    "df = pd.concat([df_meta,df],axis=1)\n",
    "df"
   ]
  },
  {
   "cell_type": "markdown",
   "id": "7d9d890a",
   "metadata": {
    "id": "T0jh-qjYxQut",
    "papermill": {
     "duration": 0.376119,
     "end_time": "2021-08-31T15:34:31.026809",
     "exception": false,
     "start_time": "2021-08-31T15:34:30.650690",
     "status": "completed"
    },
    "tags": []
   },
   "source": [
    "#### Save output as parquet file to disc/drive (local runtime)\n",
    "* Can also save as csv if wanted. "
   ]
  },
  {
   "cell_type": "code",
   "execution_count": null,
   "id": "7794166b",
   "metadata": {
    "execution": {
     "iopub.execute_input": "2021-08-31T15:34:31.769172Z",
     "iopub.status.busy": "2021-08-31T15:34:31.765876Z",
     "iopub.status.idle": "2021-08-31T15:34:36.892263Z",
     "shell.execute_reply": "2021-08-31T15:34:36.891382Z"
    },
    "id": "zKSxqlESwMjW",
    "papermill": {
     "duration": 5.498028,
     "end_time": "2021-08-31T15:34:36.892410",
     "exception": false,
     "start_time": "2021-08-31T15:34:31.394382",
     "status": "completed"
    },
    "tags": []
   },
   "outputs": [],
   "source": [
    "df.columns = df.columns.astype(str)\n",
    "df.to_parquet(\"swp_human_viri_all_embed_esm.parquet\")"
   ]
  },
  {
   "cell_type": "code",
   "execution_count": null,
   "id": "32e4d5bb",
   "metadata": {
    "execution": {
     "iopub.execute_input": "2021-08-31T15:34:37.636248Z",
     "iopub.status.busy": "2021-08-31T15:34:37.635372Z",
     "iopub.status.idle": "2021-08-31T15:34:37.637233Z",
     "shell.execute_reply": "2021-08-31T15:34:37.637629Z"
    },
    "id": "rg2-xF7klqOh",
    "papermill": {
     "duration": 0.375702,
     "end_time": "2021-08-31T15:34:37.637765",
     "exception": false,
     "start_time": "2021-08-31T15:34:37.262063",
     "status": "completed"
    },
    "tags": []
   },
   "outputs": [],
   "source": [
    "# df.to_csv(\"swp_human_viri_all_embed.csv.gz\",index=False,compression=\"gzip\")"
   ]
  }
 ],
 "metadata": {
  "kernelspec": {
   "display_name": "Python 3",
   "language": "python",
   "name": "python3"
  },
  "language_info": {
   "codemirror_mode": {
    "name": "ipython",
    "version": 3
   },
   "file_extension": ".py",
   "mimetype": "text/x-python",
   "name": "python",
   "nbconvert_exporter": "python",
   "pygments_lexer": "ipython3",
   "version": "3.9.6"
  },
  "papermill": {
   "default_parameters": {},
   "duration": 5375.641802,
   "end_time": "2021-08-31T15:38:06.784377",
   "environment_variables": {},
   "exception": null,
   "input_path": "__notebook__.ipynb",
   "output_path": "__notebook__.ipynb",
   "parameters": {},
   "start_time": "2021-08-31T14:08:31.142575",
   "version": "2.3.3"
  },
  "widgets": {
   "application/vnd.jupyter.widget-state+json": {
    "state": {
     "1f14f4465820417d8cf9c06a6e87c400": {
      "model_module": "@jupyter-widgets/base",
      "model_module_version": "1.2.0",
      "model_name": "LayoutModel",
      "state": {
       "_model_module": "@jupyter-widgets/base",
       "_model_module_version": "1.2.0",
       "_model_name": "LayoutModel",
       "_view_count": null,
       "_view_module": "@jupyter-widgets/base",
       "_view_module_version": "1.2.0",
       "_view_name": "LayoutView",
       "align_content": null,
       "align_items": null,
       "align_self": null,
       "border": null,
       "bottom": null,
       "display": null,
       "flex": null,
       "flex_flow": null,
       "grid_area": null,
       "grid_auto_columns": null,
       "grid_auto_flow": null,
       "grid_auto_rows": null,
       "grid_column": null,
       "grid_gap": null,
       "grid_row": null,
       "grid_template_areas": null,
       "grid_template_columns": null,
       "grid_template_rows": null,
       "height": null,
       "justify_content": null,
       "justify_items": null,
       "left": null,
       "margin": null,
       "max_height": null,
       "max_width": null,
       "min_height": null,
       "min_width": null,
       "object_fit": null,
       "object_position": null,
       "order": null,
       "overflow": null,
       "overflow_x": null,
       "overflow_y": null,
       "padding": null,
       "right": null,
       "top": null,
       "visibility": null,
       "width": null
      }
     },
     "39ff9a6d26f14a92bd39a7b5ad006ec6": {
      "model_module": "@jupyter-widgets/controls",
      "model_module_version": "1.5.0",
      "model_name": "HTMLModel",
      "state": {
       "_dom_classes": [],
       "_model_module": "@jupyter-widgets/controls",
       "_model_module_version": "1.5.0",
       "_model_name": "HTMLModel",
       "_view_count": null,
       "_view_module": "@jupyter-widgets/controls",
       "_view_module_version": "1.5.0",
       "_view_name": "HTMLView",
       "description": "",
       "description_tooltip": null,
       "layout": "IPY_MODEL_a813b8a770f64979815667b135d0f503",
       "placeholder": "​",
       "style": "IPY_MODEL_b5091d841275482da819cd2bfb7073cb",
       "value": " 37400/? [1:14:53&lt;00:00, 10.70it/s]"
      }
     },
     "8524a344ec154e5e8a22574f0ecf810c": {
      "model_module": "@jupyter-widgets/controls",
      "model_module_version": "1.5.0",
      "model_name": "DescriptionStyleModel",
      "state": {
       "_model_module": "@jupyter-widgets/controls",
       "_model_module_version": "1.5.0",
       "_model_name": "DescriptionStyleModel",
       "_view_count": null,
       "_view_module": "@jupyter-widgets/base",
       "_view_module_version": "1.2.0",
       "_view_name": "StyleView",
       "description_width": ""
      }
     },
     "a03dfb42e5d745a789ba6e77e3ad9647": {
      "model_module": "@jupyter-widgets/controls",
      "model_module_version": "1.5.0",
      "model_name": "HBoxModel",
      "state": {
       "_dom_classes": [],
       "_model_module": "@jupyter-widgets/controls",
       "_model_module_version": "1.5.0",
       "_model_name": "HBoxModel",
       "_view_count": null,
       "_view_module": "@jupyter-widgets/controls",
       "_view_module_version": "1.5.0",
       "_view_name": "HBoxView",
       "box_style": "",
       "children": [
        "IPY_MODEL_d7a13b34efa248d7bd08ea6d312bc09a",
        "IPY_MODEL_c6ecb332695c49659279d40b0f71a061",
        "IPY_MODEL_39ff9a6d26f14a92bd39a7b5ad006ec6"
       ],
       "layout": "IPY_MODEL_e18930edce424080bc0e21f33edd8646"
      }
     },
     "a813b8a770f64979815667b135d0f503": {
      "model_module": "@jupyter-widgets/base",
      "model_module_version": "1.2.0",
      "model_name": "LayoutModel",
      "state": {
       "_model_module": "@jupyter-widgets/base",
       "_model_module_version": "1.2.0",
       "_model_name": "LayoutModel",
       "_view_count": null,
       "_view_module": "@jupyter-widgets/base",
       "_view_module_version": "1.2.0",
       "_view_name": "LayoutView",
       "align_content": null,
       "align_items": null,
       "align_self": null,
       "border": null,
       "bottom": null,
       "display": null,
       "flex": null,
       "flex_flow": null,
       "grid_area": null,
       "grid_auto_columns": null,
       "grid_auto_flow": null,
       "grid_auto_rows": null,
       "grid_column": null,
       "grid_gap": null,
       "grid_row": null,
       "grid_template_areas": null,
       "grid_template_columns": null,
       "grid_template_rows": null,
       "height": null,
       "justify_content": null,
       "justify_items": null,
       "left": null,
       "margin": null,
       "max_height": null,
       "max_width": null,
       "min_height": null,
       "min_width": null,
       "object_fit": null,
       "object_position": null,
       "order": null,
       "overflow": null,
       "overflow_x": null,
       "overflow_y": null,
       "padding": null,
       "right": null,
       "top": null,
       "visibility": null,
       "width": null
      }
     },
     "b5091d841275482da819cd2bfb7073cb": {
      "model_module": "@jupyter-widgets/controls",
      "model_module_version": "1.5.0",
      "model_name": "DescriptionStyleModel",
      "state": {
       "_model_module": "@jupyter-widgets/controls",
       "_model_module_version": "1.5.0",
       "_model_name": "DescriptionStyleModel",
       "_view_count": null,
       "_view_module": "@jupyter-widgets/base",
       "_view_module_version": "1.2.0",
       "_view_name": "StyleView",
       "description_width": ""
      }
     },
     "b69e5dc483264ac2aec2506153adc186": {
      "model_module": "@jupyter-widgets/base",
      "model_module_version": "1.2.0",
      "model_name": "LayoutModel",
      "state": {
       "_model_module": "@jupyter-widgets/base",
       "_model_module_version": "1.2.0",
       "_model_name": "LayoutModel",
       "_view_count": null,
       "_view_module": "@jupyter-widgets/base",
       "_view_module_version": "1.2.0",
       "_view_name": "LayoutView",
       "align_content": null,
       "align_items": null,
       "align_self": null,
       "border": null,
       "bottom": null,
       "display": null,
       "flex": null,
       "flex_flow": null,
       "grid_area": null,
       "grid_auto_columns": null,
       "grid_auto_flow": null,
       "grid_auto_rows": null,
       "grid_column": null,
       "grid_gap": null,
       "grid_row": null,
       "grid_template_areas": null,
       "grid_template_columns": null,
       "grid_template_rows": null,
       "height": null,
       "justify_content": null,
       "justify_items": null,
       "left": null,
       "margin": null,
       "max_height": null,
       "max_width": null,
       "min_height": null,
       "min_width": null,
       "object_fit": null,
       "object_position": null,
       "order": null,
       "overflow": null,
       "overflow_x": null,
       "overflow_y": null,
       "padding": null,
       "right": null,
       "top": null,
       "visibility": null,
       "width": "20px"
      }
     },
     "c6ecb332695c49659279d40b0f71a061": {
      "model_module": "@jupyter-widgets/controls",
      "model_module_version": "1.5.0",
      "model_name": "FloatProgressModel",
      "state": {
       "_dom_classes": [],
       "_model_module": "@jupyter-widgets/controls",
       "_model_module_version": "1.5.0",
       "_model_name": "FloatProgressModel",
       "_view_count": null,
       "_view_module": "@jupyter-widgets/controls",
       "_view_module_version": "1.5.0",
       "_view_name": "ProgressView",
       "bar_style": "success",
       "description": "",
       "description_tooltip": null,
       "layout": "IPY_MODEL_b69e5dc483264ac2aec2506153adc186",
       "max": 1,
       "min": 0,
       "orientation": "horizontal",
       "style": "IPY_MODEL_dc5fd7f666ac4041b3bd0e378b93d3b0",
       "value": 1
      }
     },
     "d7a13b34efa248d7bd08ea6d312bc09a": {
      "model_module": "@jupyter-widgets/controls",
      "model_module_version": "1.5.0",
      "model_name": "HTMLModel",
      "state": {
       "_dom_classes": [],
       "_model_module": "@jupyter-widgets/controls",
       "_model_module_version": "1.5.0",
       "_model_name": "HTMLModel",
       "_view_count": null,
       "_view_module": "@jupyter-widgets/controls",
       "_view_module_version": "1.5.0",
       "_view_name": "HTMLView",
       "description": "",
       "description_tooltip": null,
       "layout": "IPY_MODEL_1f14f4465820417d8cf9c06a6e87c400",
       "placeholder": "​",
       "style": "IPY_MODEL_8524a344ec154e5e8a22574f0ecf810c",
       "value": ""
      }
     },
     "dc5fd7f666ac4041b3bd0e378b93d3b0": {
      "model_module": "@jupyter-widgets/controls",
      "model_module_version": "1.5.0",
      "model_name": "ProgressStyleModel",
      "state": {
       "_model_module": "@jupyter-widgets/controls",
       "_model_module_version": "1.5.0",
       "_model_name": "ProgressStyleModel",
       "_view_count": null,
       "_view_module": "@jupyter-widgets/base",
       "_view_module_version": "1.2.0",
       "_view_name": "StyleView",
       "bar_color": null,
       "description_width": ""
      }
     },
     "e18930edce424080bc0e21f33edd8646": {
      "model_module": "@jupyter-widgets/base",
      "model_module_version": "1.2.0",
      "model_name": "LayoutModel",
      "state": {
       "_model_module": "@jupyter-widgets/base",
       "_model_module_version": "1.2.0",
       "_model_name": "LayoutModel",
       "_view_count": null,
       "_view_module": "@jupyter-widgets/base",
       "_view_module_version": "1.2.0",
       "_view_name": "LayoutView",
       "align_content": null,
       "align_items": null,
       "align_self": null,
       "border": null,
       "bottom": null,
       "display": null,
       "flex": null,
       "flex_flow": null,
       "grid_area": null,
       "grid_auto_columns": null,
       "grid_auto_flow": null,
       "grid_auto_rows": null,
       "grid_column": null,
       "grid_gap": null,
       "grid_row": null,
       "grid_template_areas": null,
       "grid_template_columns": null,
       "grid_template_rows": null,
       "height": null,
       "justify_content": null,
       "justify_items": null,
       "left": null,
       "margin": null,
       "max_height": null,
       "max_width": null,
       "min_height": null,
       "min_width": null,
       "object_fit": null,
       "object_position": null,
       "order": null,
       "overflow": null,
       "overflow_x": null,
       "overflow_y": null,
       "padding": null,
       "right": null,
       "top": null,
       "visibility": null,
       "width": null
      }
     }
    },
    "version_major": 2,
    "version_minor": 0
   }
  }
 },
 "nbformat": 4,
 "nbformat_minor": 5
}
