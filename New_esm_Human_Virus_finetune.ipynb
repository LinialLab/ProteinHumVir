{
 "cells": [
  {
   "cell_type": "markdown",
   "metadata": {
    "id": "3_5w39f_fnY9"
   },
   "source": [
    "esm based dynamic model (not using static embeds).\n",
    "\n",
    "\n",
    "Use TF:\n",
    "*  🇰https://colab.research.google.com/github/huggingface/notebooks/blob/main/examples/protein_language_modeling-tf.ipynb#scrollTo=de8419b5\n",
    "* Torch based /Trainer example:  https://colab.research.google.com/github/huggingface/notebooks/blob/main/examples/protein_language_modeling.ipynb#scrollTo=49dcba23\n",
    "\n",
    "\n",
    "\n",
    "* NOte for pytorch training could use trainer maybe, and mixed precision - https://huggingface.co/docs/transformers/v4.18.0/en/performance#fp16-training"
   ]
  },
  {
   "cell_type": "code",
   "execution_count": 1,
   "metadata": {
    "colab": {
     "base_uri": "https://localhost:8080/"
    },
    "id": "kalvvWZZgM0E",
    "outputId": "f575c531-2ec5-4880-fba6-73597c8e58cb"
   },
   "outputs": [],
   "source": [
    "# from google.colab import drive\n",
    "# drive.mount('/content/drive')\n",
    "\n",
    "# # drive.mount(\"/content/drive/MyDrive/Research/proteins\")\n",
    "# # drive.mount(\"/content/drive/MyDrive/proteins\")\n",
    "\n",
    "# !pip install tensorflow -U -q\n",
    "# !pip install torch accelerate transformers fair-esm datasets  -U -q\n"
   ]
  },
  {
   "cell_type": "markdown",
   "metadata": {
    "id": "Z_cRmHN0j709"
   },
   "source": [
    "* Use the unirpot fasta file I downloaded and uploaded to my drive\n",
    "\n",
    "`/content/drive/MyDrive/Research/biodata/proteins/Transmembrane_human_90.fasta`\n",
    "\n",
    "* Download fasta from: `https://www.uniprot.org/uniref/?query=uniprot:(keyword%3A%22Transmembrane+%5BKW-0812%5D%22+AND+organism%3A%22Homo+sapiens+%28Human%29+%5B9606%5D%22)+identity:0.9`"
   ]
  },
  {
   "cell_type": "code",
   "execution_count": 1,
   "metadata": {
    "id": "kwgVw-CN1OgJ"
   },
   "outputs": [],
   "source": [
    "# DATA_PATH = \"/content/drive/MyDrive/Research/biodata/proteins/membrane_100_whole_protbert_embed.snappy.parquet\"\n",
    "# DATA_PATH = \"/content/drive/MyDrive/Research/CIDR-Protein Anomalies project/protein_anomalies_data/swp_human_viri_all_embed_esm.parquet\" ## ESM1B embedding (max len 1022)\n",
    "# DATA_PATH = \"/content/drive/MyDrive/proteins/New Protein-Virus anom project/hum_vir_swp-globalEmbed-train.csv.gz\"## TRAIN\n",
    "DATA_PATH = \"hum_vir_swp-train.csv.gz\"## TRAIN\n",
    "\n",
    "## TEST data:\n",
    "# TEST_DATA_PATH = \"/content/drive/MyDrive/proteins/New Protein-Virus anom project/hum_vir_swp-globalEmbed-test.csv.gz\"## TRAIN\n",
    "TEST_DATA_PATH = \"hum_vir_swp-test.csv.gz\"## TEST\n",
    "\n",
    "# ## metadata for all reviewed/swissprot human + virus proteins\n",
    "# METADATA_PATH = \"/content/drive/MyDrive/Research/CIDR-Protein Anomalies project/protein_anomalies_data/SWP_human_viruses_all.xlsx\"\n",
    "\n",
    "SAVE_INTERMED = False\n",
    "TARGET_COL = \"virus\" ## use for filtering data into 1 class\n",
    "\n",
    "MAX_LEN = 512 # exclude sequences longer than this. (Not merely truncate)"
   ]
  },
  {
   "cell_type": "code",
   "execution_count": 2,
   "metadata": {
    "id": "ZrxD5vg90QoW"
   },
   "outputs": [],
   "source": [
    "# MY_FASTA_PATH = \"/content/drive/MyDrive/Research/biodata/proteins/Transmembrane_human_90.fasta\" # 14k sequences, with fragments, 90% id redundnancy\n",
    "\n",
    "# MY_FASTA_PATH = \"/content/drive/MyDrive/Research/biodata/proteins/Transmembrane_human_whole_100.fasta\" # 30K sequences, without fragments\n",
    "# MY_FASTA_PATH = \"Transmembrane_human_whole_90.fasta\""
   ]
  },
  {
   "cell_type": "markdown",
   "metadata": {
    "id": "Xa-7WUuSfnZC"
   },
   "source": [
    "# Embed sequences in a FASTA file"
   ]
  },
  {
   "cell_type": "code",
   "execution_count": 3,
   "metadata": {
    "colab": {
     "base_uri": "https://localhost:8080/"
    },
    "id": "hKw7JD3_fnZD",
    "outputId": "79159032-8099-4c16-b409-94eb74b0d371"
   },
   "outputs": [
    {
     "name": "stderr",
     "output_type": "stream",
     "text": [
      "2023-08-29 12:51:53.020776: I tensorflow/core/util/port.cc:110] oneDNN custom operations are on. You may see slightly different numerical results due to floating-point round-off errors from different computation orders. To turn them off, set the environment variable `TF_ENABLE_ONEDNN_OPTS=0`.\n",
      "2023-08-29 12:51:53.042206: I tensorflow/core/platform/cpu_feature_guard.cc:182] This TensorFlow binary is optimized to use available CPU instructions in performance-critical operations.\n",
      "To enable the following instructions: AVX2 AVX512F AVX512_VNNI AVX512_BF16 FMA, in other operations, rebuild TensorFlow with the appropriate compiler flags.\n",
      "2023-08-29 12:51:53.434166: W tensorflow/compiler/tf2tensorrt/utils/py_utils.cc:38] TF-TRT Warning: Could not find TensorRT\n",
      "/tmp/ipykernel_14647/3407002226.py:22: TqdmExperimentalWarning: Using `tqdm.autonotebook.tqdm` in notebook mode. Use `tqdm.tqdm` instead to force console mode (e.g. in jupyter console)\n",
      "  from tqdm.autonotebook import tqdm\n"
     ]
    }
   ],
   "source": [
    "# from bio_embeddings.embed import ProtTransBertBFDEmbedder\n",
    "# from Bio import SeqIO\n",
    "import torch\n",
    "import esm\n",
    "import tensorflow\n",
    "import tensorflow as tf\n",
    "from tensorflow.keras.metrics import AUC as tf_auc\n",
    "\n",
    "import pandas as pd\n",
    "import numpy as np\n",
    "import random\n",
    "# from sklearn.neighbors import LocalOutlierFactor\n",
    "from sklearn.ensemble import IsolationForest\n",
    "# from sklearn.svm import OneClassSVM\n",
    "from sklearn.preprocessing  import MinMaxScaler\n",
    "import matplotlib.pyplot as plt\n",
    "from sklearn.metrics import classification_report, roc_auc_score\n",
    "from sklearn.model_selection import train_test_split, cross_val_predict\n",
    "from sklearn.linear_model import LogisticRegressionCV, LogisticRegression\n",
    "# from sklearn.experimental import enable_hist_gradient_boosting\n",
    "from sklearn.ensemble import HistGradientBoostingClassifier\n",
    "from tqdm.autonotebook import tqdm\n",
    "\n",
    "from sklearn.svm import SVC\n",
    "from sklearn.pipeline import make_pipeline, Pipeline\n",
    "from sklearn.preprocessing import StandardScaler\n",
    "from sklearn.metrics import roc_auc_score\n",
    "from sklearn.decomposition import PCA\n",
    "\n",
    "from transformers import TrainingArguments, Trainer, logging\n",
    "from accelerate import Accelerator\n",
    "from torch.utils.data.dataloader import DataLoader\n",
    "## https://huggingface.co/docs/transformers/perf_train_gpu_one"
   ]
  },
  {
   "cell_type": "code",
   "execution_count": 4,
   "metadata": {
    "id": "JeQ7KgVEggg-"
   },
   "outputs": [],
   "source": [
    "def auc(y_true, y_pred):\n",
    "    auc = tensorflow.metrics.auc(y_true, y_pred)[1]\n",
    "    K.get_session().run(tf.local_variables_initializer())\n",
    "    return auc"
   ]
  },
  {
   "cell_type": "code",
   "execution_count": 5,
   "metadata": {
    "id": "uw-akVUtYsvZ"
   },
   "outputs": [],
   "source": [
    "# from tensorflow import keras\n",
    "# from tensorflow.keras import layers\n",
    "# from tensorflow.keras import mixed_precision\n",
    "# policy = mixed_precision.Policy('mixed_float16')\n",
    "# mixed_precision.set_global_policy(policy)\n",
    "# tensorflow.keras.mixed_precision.set_global_policy('mixed_float16') # causes error with our pretrained model"
   ]
  },
  {
   "cell_type": "code",
   "execution_count": 6,
   "metadata": {
    "id": "rWVA7azNfnZE"
   },
   "outputs": [],
   "source": [
    "# embedder = ProtTransBertBFDEmbedder(half_model=True)"
   ]
  },
  {
   "cell_type": "code",
   "execution_count": 15,
   "metadata": {
    "colab": {
     "base_uri": "https://localhost:8080/",
     "height": 423
    },
    "id": "Eggiq94CubAw",
    "outputId": "f4902346-b160-4efc-98cd-0bf7dad2de16"
   },
   "outputs": [
    {
     "data": {
      "text/html": [
       "<div>\n",
       "<style scoped>\n",
       "    .dataframe tbody tr th:only-of-type {\n",
       "        vertical-align: middle;\n",
       "    }\n",
       "\n",
       "    .dataframe tbody tr th {\n",
       "        vertical-align: top;\n",
       "    }\n",
       "\n",
       "    .dataframe thead th {\n",
       "        text-align: right;\n",
       "    }\n",
       "</style>\n",
       "<table border=\"1\" class=\"dataframe\">\n",
       "  <thead>\n",
       "    <tr style=\"text-align: right;\">\n",
       "      <th></th>\n",
       "      <th>Sequence</th>\n",
       "      <th>virus</th>\n",
       "      <th>Length</th>\n",
       "      <th>Cluster name</th>\n",
       "    </tr>\n",
       "  </thead>\n",
       "  <tbody>\n",
       "    <tr>\n",
       "      <th>0</th>\n",
       "      <td>MADFLKGLPVYNKSNFSRFHADSVCKASNRRPSVYLPTREYPSEQI...</td>\n",
       "      <td>0</td>\n",
       "      <td>102</td>\n",
       "      <td>DET1- and DDB1-associated protein 1</td>\n",
       "    </tr>\n",
       "    <tr>\n",
       "      <th>1</th>\n",
       "      <td>MPSTLQVLAKKVLALEHKENDHISREYYYHILKCCGLWWHEAPIIL...</td>\n",
       "      <td>1</td>\n",
       "      <td>362</td>\n",
       "      <td>Protein MGF 360-19R</td>\n",
       "    </tr>\n",
       "    <tr>\n",
       "      <th>2</th>\n",
       "      <td>MASSAELDFNLQALLEQLSQDELSKFKSLIRTISLGKELQTVPQTE...</td>\n",
       "      <td>0</td>\n",
       "      <td>97</td>\n",
       "      <td>Pyrin domain-containing protein 2</td>\n",
       "    </tr>\n",
       "    <tr>\n",
       "      <th>3</th>\n",
       "      <td>MAAWGKKHAGKDPVRDECEERNRFTETREEDVTDEHGEREPFAETD...</td>\n",
       "      <td>0</td>\n",
       "      <td>186</td>\n",
       "      <td>Protein FAM9B</td>\n",
       "    </tr>\n",
       "    <tr>\n",
       "      <th>4</th>\n",
       "      <td>MASDSPARSLDEIDLSALRDPAGIFELVELVGNGTYGQVYKGRHVK...</td>\n",
       "      <td>0</td>\n",
       "      <td>1360</td>\n",
       "      <td>TRAF2 and NCK-interacting protein kinase</td>\n",
       "    </tr>\n",
       "    <tr>\n",
       "      <th>...</th>\n",
       "      <td>...</td>\n",
       "      <td>...</td>\n",
       "      <td>...</td>\n",
       "      <td>...</td>\n",
       "    </tr>\n",
       "    <tr>\n",
       "      <th>20335</th>\n",
       "      <td>MDPDKQDALNSIENSIYRTAFKLQSVQTLCQLDLIDSSLIQQVLLR...</td>\n",
       "      <td>0</td>\n",
       "      <td>578</td>\n",
       "      <td>Dystrotelin</td>\n",
       "    </tr>\n",
       "    <tr>\n",
       "      <th>20336</th>\n",
       "      <td>MLCPWRTANLGLLLILTIFLVAEAEGAAQPNNSLMLQTSKENHALA...</td>\n",
       "      <td>0</td>\n",
       "      <td>348</td>\n",
       "      <td>Cell surface glycoprotein CD200 receptor 1</td>\n",
       "    </tr>\n",
       "    <tr>\n",
       "      <th>20337</th>\n",
       "      <td>MCLRFFSPVPGSTSSATNVTMVVSAGPWSSEKAEMNILEINEKLRP...</td>\n",
       "      <td>0</td>\n",
       "      <td>421</td>\n",
       "      <td>Putative neuroblastoma breakpoint family member 7</td>\n",
       "    </tr>\n",
       "    <tr>\n",
       "      <th>20338</th>\n",
       "      <td>MASHAGQQHAPAFGQAARASGPTDGRAASRPSHRQGASEARGDPEL...</td>\n",
       "      <td>1</td>\n",
       "      <td>376</td>\n",
       "      <td>Thymidine kinase</td>\n",
       "    </tr>\n",
       "    <tr>\n",
       "      <th>20339</th>\n",
       "      <td>MSASSLLEQRPKGQGNKVQNGSVHQKDGLNDDDFEPYLSPQARPNN...</td>\n",
       "      <td>0</td>\n",
       "      <td>579</td>\n",
       "      <td>YTH domain-containing family protein 2</td>\n",
       "    </tr>\n",
       "  </tbody>\n",
       "</table>\n",
       "<p>20340 rows × 4 columns</p>\n",
       "</div>"
      ],
      "text/plain": [
       "                                                Sequence  virus  Length  \\\n",
       "0      MADFLKGLPVYNKSNFSRFHADSVCKASNRRPSVYLPTREYPSEQI...      0     102   \n",
       "1      MPSTLQVLAKKVLALEHKENDHISREYYYHILKCCGLWWHEAPIIL...      1     362   \n",
       "2      MASSAELDFNLQALLEQLSQDELSKFKSLIRTISLGKELQTVPQTE...      0      97   \n",
       "3      MAAWGKKHAGKDPVRDECEERNRFTETREEDVTDEHGEREPFAETD...      0     186   \n",
       "4      MASDSPARSLDEIDLSALRDPAGIFELVELVGNGTYGQVYKGRHVK...      0    1360   \n",
       "...                                                  ...    ...     ...   \n",
       "20335  MDPDKQDALNSIENSIYRTAFKLQSVQTLCQLDLIDSSLIQQVLLR...      0     578   \n",
       "20336  MLCPWRTANLGLLLILTIFLVAEAEGAAQPNNSLMLQTSKENHALA...      0     348   \n",
       "20337  MCLRFFSPVPGSTSSATNVTMVVSAGPWSSEKAEMNILEINEKLRP...      0     421   \n",
       "20338  MASHAGQQHAPAFGQAARASGPTDGRAASRPSHRQGASEARGDPEL...      1     376   \n",
       "20339  MSASSLLEQRPKGQGNKVQNGSVHQKDGLNDDDFEPYLSPQARPNN...      0     579   \n",
       "\n",
       "                                            Cluster name  \n",
       "0                    DET1- and DDB1-associated protein 1  \n",
       "1                                    Protein MGF 360-19R  \n",
       "2                      Pyrin domain-containing protein 2  \n",
       "3                                          Protein FAM9B  \n",
       "4               TRAF2 and NCK-interacting protein kinase  \n",
       "...                                                  ...  \n",
       "20335                                        Dystrotelin  \n",
       "20336         Cell surface glycoprotein CD200 receptor 1  \n",
       "20337  Putative neuroblastoma breakpoint family member 7  \n",
       "20338                                   Thymidine kinase  \n",
       "20339             YTH domain-containing family protein 2  \n",
       "\n",
       "[20340 rows x 4 columns]"
      ]
     },
     "execution_count": 15,
     "metadata": {},
     "output_type": "execute_result"
    }
   ],
   "source": [
    "# df = pd.read_parquet(DATA_PATH) # numpy to pandas\n",
    "df = pd.read_csv(DATA_PATH,usecols=[\"Sequence\",\"virus\",\"Length\",\"Cluster name\"])\n",
    "df_test = pd.read_csv(TEST_DATA_PATH,usecols=[\"Sequence\",\"virus\",\"Length\",\"Cluster name\"])\n",
    " ## lengths of all the seqs\n",
    "    \n",
    "df[\"Cluster name\"] = df[\"Cluster name\"].str.replace(\"Cluster:\",\"\").str.strip()\n",
    "df_test[\"Cluster name\"] = df_test[\"Cluster name\"].str.replace(\"Cluster:\",\"\").str.strip()\n",
    "\n",
    "df"
   ]
  },
  {
   "cell_type": "code",
   "execution_count": 16,
   "metadata": {
    "id": "fkeYBgfafVoy"
   },
   "outputs": [
    {
     "data": {
      "text/html": [
       "<div>\n",
       "<style scoped>\n",
       "    .dataframe tbody tr th:only-of-type {\n",
       "        vertical-align: middle;\n",
       "    }\n",
       "\n",
       "    .dataframe tbody tr th {\n",
       "        vertical-align: top;\n",
       "    }\n",
       "\n",
       "    .dataframe thead th {\n",
       "        text-align: right;\n",
       "    }\n",
       "</style>\n",
       "<table border=\"1\" class=\"dataframe\">\n",
       "  <thead>\n",
       "    <tr style=\"text-align: right;\">\n",
       "      <th></th>\n",
       "      <th>count</th>\n",
       "      <th>mean</th>\n",
       "      <th>std</th>\n",
       "      <th>min</th>\n",
       "      <th>25%</th>\n",
       "      <th>50%</th>\n",
       "      <th>75%</th>\n",
       "      <th>max</th>\n",
       "    </tr>\n",
       "    <tr>\n",
       "      <th>virus</th>\n",
       "      <th></th>\n",
       "      <th></th>\n",
       "      <th></th>\n",
       "      <th></th>\n",
       "      <th></th>\n",
       "      <th></th>\n",
       "      <th></th>\n",
       "      <th></th>\n",
       "    </tr>\n",
       "  </thead>\n",
       "  <tbody>\n",
       "    <tr>\n",
       "      <th>0</th>\n",
       "      <td>14668.0</td>\n",
       "      <td>473.16</td>\n",
       "      <td>308.52</td>\n",
       "      <td>11.0</td>\n",
       "      <td>244.0</td>\n",
       "      <td>398.0</td>\n",
       "      <td>623.0</td>\n",
       "      <td>1533.0</td>\n",
       "    </tr>\n",
       "    <tr>\n",
       "      <th>1</th>\n",
       "      <td>5672.0</td>\n",
       "      <td>380.31</td>\n",
       "      <td>298.35</td>\n",
       "      <td>11.0</td>\n",
       "      <td>151.0</td>\n",
       "      <td>297.0</td>\n",
       "      <td>514.0</td>\n",
       "      <td>1520.0</td>\n",
       "    </tr>\n",
       "  </tbody>\n",
       "</table>\n",
       "</div>"
      ],
      "text/plain": [
       "         count    mean     std   min    25%    50%    75%     max\n",
       "virus                                                            \n",
       "0      14668.0  473.16  308.52  11.0  244.0  398.0  623.0  1533.0\n",
       "1       5672.0  380.31  298.35  11.0  151.0  297.0  514.0  1520.0"
      ]
     },
     "execution_count": 16,
     "metadata": {},
     "output_type": "execute_result"
    }
   ],
   "source": [
    "df.groupby([\"virus\"])[\"Length\"].describe().round(2)"
   ]
  },
  {
   "cell_type": "code",
   "execution_count": 17,
   "metadata": {
    "colab": {
     "base_uri": "https://localhost:8080/"
    },
    "id": "rm2Ms4BmQ4wn",
    "outputId": "3cd408f3-b45e-4bcd-ec67-604d441fe4e2"
   },
   "outputs": [
    {
     "name": "stdout",
     "output_type": "stream",
     "text": [
      "mean         0.28\n",
      "sum       5672.00\n",
      "count    20340.00\n",
      "Name: virus, dtype: float64\n"
     ]
    }
   ],
   "source": [
    "print(df[\"virus\"].agg([\"mean\",\"sum\",\"count\"]).round(2))\n",
    "# df[\"Length\"].describe().round(1)"
   ]
  },
  {
   "cell_type": "code",
   "execution_count": 18,
   "metadata": {
    "colab": {
     "base_uri": "https://localhost:8080/"
    },
    "id": "aNDVeR2vQ9YZ",
    "outputId": "6b144341-817f-4ea9-82e5-242fb54639ff"
   },
   "outputs": [
    {
     "data": {
      "text/plain": [
       "count    4777.0\n",
       "mean      444.3\n",
       "std       304.5\n",
       "min        18.0\n",
       "25%       212.0\n",
       "50%       369.0\n",
       "75%       589.0\n",
       "max      1534.0\n",
       "Name: Length, dtype: float64"
      ]
     },
     "execution_count": 18,
     "metadata": {},
     "output_type": "execute_result"
    }
   ],
   "source": [
    "df_test[\"Length\"].describe().round(1)"
   ]
  },
  {
   "cell_type": "code",
   "execution_count": 19,
   "metadata": {
    "colab": {
     "base_uri": "https://localhost:8080/"
    },
    "id": "F8VNnHUwRQRm",
    "outputId": "d46999a0-aadf-4a25-8b74-af46363b26e7"
   },
   "outputs": [
    {
     "name": "stdout",
     "output_type": "stream",
     "text": [
      "count    19001.0\n",
      "mean       392.2\n",
      "std        233.5\n",
      "min         11.0\n",
      "25%        204.0\n",
      "50%        350.0\n",
      "75%        535.0\n",
      "max       1024.0\n",
      "Name: Length, dtype: float64\n",
      "mean         0.28\n",
      "sum       5414.00\n",
      "count    19001.00\n",
      "Name: virus, dtype: float64\n"
     ]
    }
   ],
   "source": [
    "df = df.loc[df[\"Length\"]<=MAX_LEN].reset_index(drop=True)\n",
    "df_test = df_test.loc[df_test[\"Length\"]<=MAX_LEN].reset_index(drop=True)\n",
    "\n",
    "print(df[\"Length\"].describe().round(1))\n",
    "print(df[\"virus\"].agg([\"mean\",\"sum\",\"count\"]).round(2))"
   ]
  },
  {
   "cell_type": "code",
   "execution_count": null,
   "metadata": {},
   "outputs": [],
   "source": []
  },
  {
   "cell_type": "code",
   "execution_count": 20,
   "metadata": {},
   "outputs": [
    {
     "name": "stdout",
     "output_type": "stream",
     "text": [
      "4491 test 1 <1024\n"
     ]
    }
   ],
   "source": [
    "\n",
    "if SAVE_INTERMED:\n",
    "    ## save smaller file to disk/drive\n",
    "    df1 = df.loc[df[\"Length\"]<=1024].reset_index(drop=True)\n",
    "    df_test1 = df_test.loc[df_test[\"Length\"]<=1024].reset_index(drop=True)\n",
    "\n",
    "    print(df_test1.shape[0],\"test 1 <1024\")\n",
    "    display(df1)\n",
    "\n",
    "    df1.to_csv(\"hum_vir_swp-train.csv.gz\",index=False,compression=\"gzip\")\n",
    "    df_test1.to_csv(\"hum_vir_swp-test.csv.gz\",index=False,compression=\"gzip\")\n"
   ]
  },
  {
   "cell_type": "code",
   "execution_count": null,
   "metadata": {},
   "outputs": [],
   "source": []
  },
  {
   "cell_type": "code",
   "execution_count": 13,
   "metadata": {
    "id": "PcMwJBkUov07"
   },
   "outputs": [],
   "source": [
    "# ## metadata about all sequences, can be used to identify and to define targets/labels\n",
    "# df_meta = pd.read_excel(METADATA_PATH).dropna(how=\"all\",axis=1)\n",
    "# df_meta"
   ]
  },
  {
   "cell_type": "markdown",
   "metadata": {
    "id": "MSXy_OzjhIB7"
   },
   "source": [
    "### example pretrained fb/torch:\n",
    "* https://github.com/facebookresearch/esm#getting-started-with-this-repo-\n",
    "\n",
    "* Transformers + trainer example : (mlm case): https://github.com/facebookresearch/esm/discussions/556\n",
    "* keras models supported / via HF?\n",
    "  * https://huggingface.co/docs/transformers/model_doc/esm#transformers.EsmForSequenceClassification.forward.example\n",
    "\n",
    "\n",
    "  TF finetuning example (sequence evel?):\n",
    "  https://colab.research.google.com/github/huggingface/notebooks/blob/main/examples/protein_language_modeling-tf.ipynb#scrollTo=4b26b828"
   ]
  },
  {
   "cell_type": "code",
   "execution_count": 14,
   "metadata": {
    "id": "CDdMQ98rii9t"
   },
   "outputs": [],
   "source": [
    "from sklearn.model_selection import train_test_split\n",
    "from datasets import Dataset\n",
    "from transformers import AdamWeightDecay\n",
    "from tensorflow.keras.optimizers import Adafactor, Adam # more memory effecient than adamWD\n",
    "import tensorflow\n",
    "# from tensorflow.keras.metrics.AUC()\n",
    "# from transformers import AutoTokenizer #DataCollatorForLanguageModeling,\n",
    "## https://huggingface.co/docs/transformers/model_doc/esm#transformers.EsmForSequenceClassification.forward.example\n",
    "from transformers import AutoTokenizer, EsmForSequenceClassification, Trainer\n",
    "from transformers import TFAutoModelForTokenClassification, TFAutoModelForSequenceClassification ,TFEsmForSequenceClassification"
   ]
  },
  {
   "cell_type": "code",
   "execution_count": 15,
   "metadata": {
    "id": "mzH6SlkfBrfZ"
   },
   "outputs": [],
   "source": [
    "# sequences = df[\"Sequence\"].tolist()\n",
    "# labels = df[\"virus\"].tolist()\n",
    "# groups = df[\"Cluster name\"].tolist()\n",
    "\n",
    "# assert len(sequences) == len(labels) # Quick check to make sure we got it right\n",
    "\n",
    "# train_sequences, test_sequences, train_labels, test_labels = train_test_split(sequences, labels, test_size=0.25, shuffle=True)#,stratify=labels)"
   ]
  },
  {
   "cell_type": "code",
   "execution_count": 16,
   "metadata": {
    "id": "rR9-cKgPjzW2"
   },
   "outputs": [],
   "source": [
    "train_sequences = df[\"Sequence\"].tolist()\n",
    "train_labels = df[\"virus\"].tolist()\n",
    "train_groups = df[\"Cluster name\"].tolist()\n",
    "\n",
    "# train_sequences, test_sequences, train_labels, test_labels = train_test_split(sequences, labels, test_size=0.25, shuffle=True)#,stratify=labels)\n",
    "\n",
    "test_sequences = df_test[\"Sequence\"].tolist()\n",
    "test_labels = df_test[\"virus\"].tolist()"
   ]
  },
  {
   "cell_type": "code",
   "execution_count": 17,
   "metadata": {
    "colab": {
     "base_uri": "https://localhost:8080/"
    },
    "id": "k_KUug1Lh5bH",
    "outputId": "8249a98b-2849-49bc-8610-c7216fb44b9e"
   },
   "outputs": [
    {
     "name": "stdout",
     "output_type": "stream",
     "text": [
      "Num labels: 1\n"
     ]
    },
    {
     "name": "stderr",
     "output_type": "stream",
     "text": [
      "2023-08-29 10:31:15.872919: I tensorflow/compiler/xla/stream_executor/cuda/cuda_gpu_executor.cc:982] could not open file to read NUMA node: /sys/bus/pci/devices/0000:01:00.0/numa_node\n",
      "Your kernel may have been built without NUMA support.\n",
      "2023-08-29 10:31:15.873433: I tensorflow/compiler/xla/stream_executor/cuda/cuda_gpu_executor.cc:982] could not open file to read NUMA node: /sys/bus/pci/devices/0000:01:00.0/numa_node\n",
      "Your kernel may have been built without NUMA support.\n",
      "2023-08-29 10:31:15.873449: I tensorflow/compiler/xla/stream_executor/cuda/cuda_gpu_executor.cc:982] could not open file to read NUMA node: /sys/bus/pci/devices/0000:01:00.0/numa_node\n",
      "Your kernel may have been built without NUMA support.\n",
      "2023-08-29 10:31:15.874522: I tensorflow/compiler/xla/stream_executor/cuda/cuda_gpu_executor.cc:982] could not open file to read NUMA node: /sys/bus/pci/devices/0000:01:00.0/numa_node\n",
      "Your kernel may have been built without NUMA support.\n",
      "2023-08-29 10:31:15.874540: I tensorflow/compiler/xla/stream_executor/cuda/cuda_gpu_executor.cc:982] could not open file to read NUMA node: /sys/bus/pci/devices/0000:01:00.0/numa_node\n",
      "Your kernel may have been built without NUMA support.\n",
      "2023-08-29 10:31:15.874547: I tensorflow/compiler/xla/stream_executor/cuda/cuda_gpu_executor.cc:982] could not open file to read NUMA node: /sys/bus/pci/devices/0000:01:00.0/numa_node\n",
      "Your kernel may have been built without NUMA support.\n",
      "2023-08-29 10:31:16.785178: I tensorflow/compiler/xla/stream_executor/cuda/cuda_gpu_executor.cc:982] could not open file to read NUMA node: /sys/bus/pci/devices/0000:01:00.0/numa_node\n",
      "Your kernel may have been built without NUMA support.\n",
      "2023-08-29 10:31:16.785215: I tensorflow/compiler/xla/stream_executor/cuda/cuda_gpu_executor.cc:982] could not open file to read NUMA node: /sys/bus/pci/devices/0000:01:00.0/numa_node\n",
      "Your kernel may have been built without NUMA support.\n",
      "2023-08-29 10:31:16.785219: I tensorflow/core/common_runtime/gpu/gpu_device.cc:1722] Could not identify NUMA node of platform GPU id 0, defaulting to 0.  Your kernel may not have been built with NUMA support.\n",
      "2023-08-29 10:31:16.785233: I tensorflow/compiler/xla/stream_executor/cuda/cuda_gpu_executor.cc:982] could not open file to read NUMA node: /sys/bus/pci/devices/0000:01:00.0/numa_node\n",
      "Your kernel may have been built without NUMA support.\n",
      "2023-08-29 10:31:16.785252: I tensorflow/core/common_runtime/gpu/gpu_device.cc:1635] Created device /job:localhost/replica:0/task:0/device:GPU:0 with 12860 MB memory:  -> device: 0, name: NVIDIA GeForce RTX 4080, pci bus id: 0000:01:00.0, compute capability: 8.9\n",
      "2023-08-29 10:31:17.675936: I tensorflow/compiler/xla/stream_executor/cuda/cuda_blas.cc:637] TensorFloat-32 will be used for the matrix multiplication. This will only be logged once.\n",
      "Some weights of the PyTorch model were not used when initializing the TF 2.0 model TFEsmForSequenceClassification: ['lm_head.dense.weight', 'lm_head.layer_norm.bias', 'lm_head.layer_norm.weight', 'lm_head.dense.bias', 'esm.embeddings.position_embeddings.weight', 'esm.embeddings.position_ids', 'lm_head.bias']\n",
      "- This IS expected if you are initializing TFEsmForSequenceClassification from a PyTorch model trained on another task or with another architecture (e.g. initializing a TFBertForSequenceClassification model from a BertForPreTraining model).\n",
      "- This IS NOT expected if you are initializing TFEsmForSequenceClassification from a PyTorch model that you expect to be exactly identical (e.g. initializing a TFBertForSequenceClassification model from a BertForSequenceClassification model).\n",
      "Some weights or buffers of the TF 2.0 model TFEsmForSequenceClassification were not initialized from the PyTorch model and are newly initialized: ['classifier.dense.weight', 'classifier.dense.bias', 'classifier.out_proj.weight', 'classifier.out_proj.bias']\n",
      "You should probably TRAIN this model on a down-stream task to be able to use it for predictions and inference.\n"
     ]
    }
   ],
   "source": [
    "# Load ESM-2 model\n",
    "## smallest: esm2_t6_8M_UR50D\n",
    "## 2d smallest\n",
    "## large: esm2_t33_650M_UR50D\n",
    "# model_checkpoint =  \"facebook/esm2_t12_35M_UR50D\"#\"facebook/esm2_t6_8M_UR50D\"\n",
    "model_checkpoint =  \"facebook/esm2_t30_150M_UR50D\"\n",
    " # ElnaggarLab/ankh-base\n",
    " ### https://github.com/agemagician/Ankh/blob/main/examples/binary_classification_solubility_task.ipynb - different model?\n",
    " #  https://github.com/agemagician/Ankh#models   - 450M model size\n",
    "# model_checkpoint =   \"ElnaggarLab/ankh-base\"\n",
    "\n",
    "model_max_len = min(800,MAX_LEN)\n",
    "\n",
    "tokenizer = AutoTokenizer.from_pretrained(model_checkpoint, padding=True, truncation=True,max_length=model_max_len)\n",
    "\n",
    "num_labels = max(train_labels + test_labels) #+ 1  # Add 1 since 0 can be a label\n",
    "print(\"Num labels:\", num_labels)\n",
    "model = TFAutoModelForSequenceClassification.from_pretrained(model_checkpoint, num_labels=num_labels,problem_type=\"single_label_classification\") # worked, orig\n",
    "# model = EsmForSequenceClassification.from_pretrained(model_checkpoint, num_labels=num_labels)\n",
    "# model = TFEsmForSequenceClassification.from_pretrained(model_checkpoint, num_labels=num_labels,problem_type=\"single_label_classification\")\n",
    "\n",
    "\n",
    "# model.eval()  # disables dropout for deterministic results # from original - in infer/embed only example\n",
    "\n",
    "# last_layer_num = model.num_layers ## 33 for esm2_t33_650M_UR50D\n",
    "# print(last_layer_num )"
   ]
  },
  {
   "cell_type": "code",
   "execution_count": 18,
   "metadata": {
    "colab": {
     "base_uri": "https://localhost:8080/"
    },
    "id": "eBtomHLgF8RO",
    "outputId": "1a86c64e-5426-4a79-d7d0-6a3a116ab983"
   },
   "outputs": [
    {
     "data": {
      "text/plain": [
       "EsmConfig {\n",
       "  \"_name_or_path\": \"facebook/esm2_t30_150M_UR50D\",\n",
       "  \"architectures\": [\n",
       "    \"EsmForMaskedLM\"\n",
       "  ],\n",
       "  \"attention_probs_dropout_prob\": 0.0,\n",
       "  \"classifier_dropout\": null,\n",
       "  \"emb_layer_norm_before\": false,\n",
       "  \"esmfold_config\": null,\n",
       "  \"hidden_act\": \"gelu\",\n",
       "  \"hidden_dropout_prob\": 0.0,\n",
       "  \"hidden_size\": 640,\n",
       "  \"id2label\": {\n",
       "    \"0\": \"LABEL_0\"\n",
       "  },\n",
       "  \"initializer_range\": 0.02,\n",
       "  \"intermediate_size\": 2560,\n",
       "  \"is_folding_model\": false,\n",
       "  \"label2id\": {\n",
       "    \"LABEL_0\": 0\n",
       "  },\n",
       "  \"layer_norm_eps\": 1e-05,\n",
       "  \"mask_token_id\": 32,\n",
       "  \"max_position_embeddings\": 1026,\n",
       "  \"model_type\": \"esm\",\n",
       "  \"num_attention_heads\": 20,\n",
       "  \"num_hidden_layers\": 30,\n",
       "  \"pad_token_id\": 1,\n",
       "  \"position_embedding_type\": \"rotary\",\n",
       "  \"problem_type\": \"single_label_classification\",\n",
       "  \"token_dropout\": true,\n",
       "  \"torch_dtype\": \"float32\",\n",
       "  \"transformers_version\": \"4.31.0\",\n",
       "  \"use_cache\": true,\n",
       "  \"vocab_list\": null,\n",
       "  \"vocab_size\": 33\n",
       "}"
      ]
     },
     "execution_count": 18,
     "metadata": {},
     "output_type": "execute_result"
    }
   ],
   "source": [
    "model.config"
   ]
  },
  {
   "cell_type": "code",
   "execution_count": 19,
   "metadata": {
    "id": "Aw4wKUDNFnBj"
   },
   "outputs": [],
   "source": [
    "## Warning - longer than allowed length - 1024\n",
    "train_tokenized = tokenizer( train_sequences,  truncation=True,max_length=model_max_len,padding=True) # padding=True,\n",
    "test_tokenized = tokenizer(test_sequences,  truncation=True,max_length=model_max_len,padding=True) # padding=True,"
   ]
  },
  {
   "cell_type": "code",
   "execution_count": 20,
   "metadata": {
    "colab": {
     "base_uri": "https://localhost:8080/"
    },
    "id": "fQhT9cfOFnED",
    "outputId": "9b088b8a-ba4d-40a4-c71d-46bdd1223ac9"
   },
   "outputs": [
    {
     "data": {
      "text/plain": [
       "Dataset({\n",
       "    features: ['input_ids', 'attention_mask'],\n",
       "    num_rows: 13727\n",
       "})"
      ]
     },
     "execution_count": 20,
     "metadata": {},
     "output_type": "execute_result"
    }
   ],
   "source": [
    "train_dataset = Dataset.from_dict(train_tokenized)\n",
    "test_dataset = Dataset.from_dict(test_tokenized)\n",
    "\n",
    "train_dataset"
   ]
  },
  {
   "cell_type": "code",
   "execution_count": 21,
   "metadata": {
    "colab": {
     "base_uri": "https://localhost:8080/"
    },
    "id": "xKgjPrNNF3Zw",
    "outputId": "5c100b4e-6cb6-437d-96fb-7751881d6c1e"
   },
   "outputs": [
    {
     "data": {
      "text/plain": [
       "Dataset({\n",
       "    features: ['input_ids', 'attention_mask', 'labels'],\n",
       "    num_rows: 13727\n",
       "})"
      ]
     },
     "execution_count": 21,
     "metadata": {},
     "output_type": "execute_result"
    }
   ],
   "source": [
    "train_dataset = train_dataset.add_column(\"labels\", train_labels)\n",
    "test_dataset = test_dataset.add_column(\"labels\", test_labels)\n",
    "train_dataset"
   ]
  },
  {
   "cell_type": "code",
   "execution_count": 22,
   "metadata": {
    "id": "HBA9hmbREEO0"
   },
   "outputs": [],
   "source": [
    "tf_train_set = model.prepare_tf_dataset(\n",
    "    train_dataset,\n",
    "    batch_size= 5\n",
    "    ,shuffle=True,\n",
    "    tokenizer=tokenizer\n",
    ")\n",
    "\n",
    "tf_test_set = model.prepare_tf_dataset(\n",
    "    test_dataset,\n",
    "    batch_size=5\n",
    "    ,shuffle=False,\n",
    "    tokenizer=tokenizer\n",
    ")"
   ]
  },
  {
   "cell_type": "markdown",
   "metadata": {
    "id": "W7yf17IvGR0H"
   },
   "source": [
    "Compile keras model"
   ]
  },
  {
   "cell_type": "code",
   "execution_count": 23,
   "metadata": {
    "id": "LCr14a2RUhSI"
   },
   "outputs": [],
   "source": [
    "# Freeze all layers except the last few\n",
    "for layer in model.layers[3:-8]:\n",
    "    layer.trainable = False"
   ]
  },
  {
   "cell_type": "code",
   "execution_count": 24,
   "metadata": {
    "id": "8jIk5rZKCxDk"
   },
   "outputs": [],
   "source": [
    "\n",
    "# opt = Adafactor(7e-5)##AdamWeightDecay(1e-4) #default: AdamWeightDecay(2e-5)\n",
    "opt = Adam(7e-5)\n",
    "# opt = AdamWeightDecay(7e-5)\n",
    "# loss = tf.keras.losses.BinaryCrossentropy(from_logits=True)\n",
    "#\n",
    "model.compile(optimizer=opt, metrics=[\"accuracy\",tf.keras.metrics.AUC(num_thresholds=20,from_logits=True)], # ,tf.keras.metrics.Precision() - fails, multiclass/shape? same for auc\n",
    "              loss= \"BinaryFocalCrossentropy\" #\"BinaryCrossentropy\"\n",
    "              ) ## \"BinaryFocalCrossentropy\" - seems worse, but actual eval metrics look better!\n",
    "\n",
    "# # Reports the AUC of a model outputting a probability.\n",
    "# model.compile(optimizer=opt, #'sgd',\n",
    "#               loss=tensorflow.keras.losses.BinaryCrossentropy(),\n",
    "#               metrics=[tensorflow.keras.metrics.AUC()])\n",
    "\n",
    "# # Reports the AUC of a model outputting a logit.\n",
    "# model.compile(optimizer=opt,\n",
    "#               loss=tensorflow.keras.losses.BinaryCrossentropy(from_logits=True),\n",
    "#               metrics=[tf.keras.metrics.AUC(from_logits=True)])"
   ]
  },
  {
   "cell_type": "code",
   "execution_count": 25,
   "metadata": {
    "colab": {
     "base_uri": "https://localhost:8080/"
    },
    "id": "RkqVX2PwDT2Y",
    "outputId": "26a389c9-666a-4b97-8672-209ba252e3e9"
   },
   "outputs": [
    {
     "name": "stdout",
     "output_type": "stream",
     "text": [
      "Epoch 1/5\n",
      "WARNING:tensorflow:Gradients do not exist for variables ['tf_esm_for_sequence_classification/esm/contact_head/regression/kernel:0', 'tf_esm_for_sequence_classification/esm/contact_head/regression/bias:0'] when minimizing the loss. If you're using `model.compile()`, did you forget to provide a `loss` argument?\n",
      "WARNING:tensorflow:Gradients do not exist for variables ['tf_esm_for_sequence_classification/esm/contact_head/regression/kernel:0', 'tf_esm_for_sequence_classification/esm/contact_head/regression/bias:0'] when minimizing the loss. If you're using `model.compile()`, did you forget to provide a `loss` argument?\n",
      "WARNING:tensorflow:Gradients do not exist for variables ['tf_esm_for_sequence_classification/esm/contact_head/regression/kernel:0', 'tf_esm_for_sequence_classification/esm/contact_head/regression/bias:0'] when minimizing the loss. If you're using `model.compile()`, did you forget to provide a `loss` argument?\n",
      "WARNING:tensorflow:Gradients do not exist for variables ['tf_esm_for_sequence_classification/esm/contact_head/regression/kernel:0', 'tf_esm_for_sequence_classification/esm/contact_head/regression/bias:0'] when minimizing the loss. If you're using `model.compile()`, did you forget to provide a `loss` argument?\n"
     ]
    },
    {
     "name": "stderr",
     "output_type": "stream",
     "text": [
      "2023-08-29 10:31:42.564794: I tensorflow/compiler/xla/service/service.cc:169] XLA service 0x7f66c012ce20 initialized for platform CUDA (this does not guarantee that XLA will be used). Devices:\n",
      "2023-08-29 10:31:42.564819: I tensorflow/compiler/xla/service/service.cc:177]   StreamExecutor device (0): NVIDIA GeForce RTX 4080, Compute Capability 8.9\n",
      "2023-08-29 10:31:42.567047: I tensorflow/compiler/mlir/tensorflow/utils/dump_mlir_util.cc:269] disabling MLIR crash reproducer, set env var `MLIR_CRASH_REPRODUCER_DIRECTORY` to enable.\n",
      "2023-08-29 10:31:42.641779: I tensorflow/compiler/xla/stream_executor/cuda/cuda_dnn.cc:424] Loaded cuDNN version 8700\n",
      "2023-08-29 10:31:42.706248: I tensorflow/tsl/platform/default/subprocess.cc:304] Start cannot spawn child process: Permission denied\n",
      "2023-08-29 10:31:42.749212: I ./tensorflow/compiler/jit/device_compiler.h:180] Compiled cluster using XLA!  This line is logged at most once for the lifetime of the process.\n"
     ]
    },
    {
     "name": "stdout",
     "output_type": "stream",
     "text": [
      "3431/3431 [==============================] - 843s 234ms/step - loss: 0.0889 - accuracy: 0.8648 - auc: 0.9037 - val_loss: 0.0589 - val_accuracy: 0.9279 - val_auc: 0.9622\n",
      "Epoch 2/5\n",
      "3431/3431 [==============================] - 798s 232ms/step - loss: 0.0525 - accuracy: 0.9272 - auc: 0.9651 - val_loss: 0.0598 - val_accuracy: 0.9223 - val_auc: 0.9694\n",
      "Epoch 3/5\n",
      "3431/3431 [==============================] - 795s 232ms/step - loss: 0.0345 - accuracy: 0.9593 - auc: 0.9854 - val_loss: 0.0422 - val_accuracy: 0.9400 - val_auc: 0.9717\n",
      "Epoch 4/5\n",
      "3431/3431 [==============================] - 794s 231ms/step - loss: 0.0302 - accuracy: 0.9671 - auc: 0.9899 - val_loss: 0.0755 - val_accuracy: 0.9393 - val_auc: 0.9698\n",
      "Epoch 5/5\n",
      "3431/3431 [==============================] - 793s 231ms/step - loss: 0.0199 - accuracy: 0.9817 - auc: 0.9957 - val_loss: 0.0682 - val_accuracy: 0.9344 - val_auc: 0.9687\n"
     ]
    },
    {
     "data": {
      "text/plain": [
       "<keras.callbacks.History at 0x7f67c03ca380>"
      ]
     },
     "execution_count": 25,
     "metadata": {},
     "output_type": "execute_result"
    }
   ],
   "source": [
    "model.fit(tf_train_set, validation_data=tf_test_set, epochs=7)"
   ]
  },
  {
   "cell_type": "markdown",
   "metadata": {
    "id": "ZEcix1ZWfQg-"
   },
   "source": [
    "With 150M model. Max 512 length (drop datapoints).\n",
    "\n",
    "```\n",
    "model.layers[3:-8]\n",
    "\"BinaryFocalCrossentropy\" \n",
    "opt = Adam(7e-5)\n",
    "\n",
    "3431/3431 [==============================] - 843s 234ms/step - loss: 0.0889 - accuracy: 0.8648 - auc: 0.9037 - val_loss: 0.0589 - val_accuracy: 0.9279 - val_auc: 0.9622\n",
    "Epoch 2/5\n",
    "3431/3431 [==============================] - 798s 232ms/step - loss: 0.0525 - accuracy: 0.9272 - auc: 0.9651 - val_loss: 0.0598 - val_accuracy: 0.9223 - val_auc: 0.9694\n",
    "Epoch 3/5\n",
    "3431/3431 [==============================] - 795s 232ms/step - loss: 0.0345 - accuracy: 0.9593 - auc: 0.9854 - val_loss: 0.0422 - val_accuracy: 0.9400 - val_auc: 0.9717\n",
    "Epoch 4/5\n",
    "3431/3431 [==============================] - 794s 231ms/step - loss: 0.0302 - accuracy: 0.9671 - auc: 0.9899 - val_loss: 0.0755 - val_accuracy: 0.9393 - val_auc: 0.9698\n",
    "Epoch 5/5\n",
    "3431/3431 [==============================] - 793s 231ms/step - loss: 0.0199 - accuracy: 0.9817 - auc: 0.9957 - val_loss: 0.0682 - val_accuracy: 0.9344 - val_auc: 0.9687\n",
    "```\n",
    "\n",
    "\n",
    "With 35M model :\n",
    "```\n",
    "Default (1024) max length\n",
    "batch_size=8\n",
    "\n",
    "opt = Adafactor(1e-4)##AdamWeightDecay(1e-4) #default: AdamWeightDecay(2e-5)\n",
    "model.compile(optimizer=opt, metrics=[\"accuracy\"],\n",
    "              loss=\"BinaryCrossentropy\")\n",
    "3813/3813 [==============================] - 2625s 661ms/step - loss: 0.2452 - accuracy: 0.9104 - val_loss: 0.1622 - val_accuracy: 0.9363\n",
    "Epoch 2/3\n",
    "3813/3813 [==============================] - 2518s 661ms/step - loss: 0.1218 - accuracy: 0.9597 - val_loss: 0.1533 - val_accuracy: 0.9463\n",
    "Epoch 3/3\n",
    "3813/3813 [==============================] - 2523s 662ms/step - loss: 0.0730 - accuracy: 0.9799 - val_loss: 0.1978 - val_accuracy: 0.9436\n",
    "\n",
    "```"
   ]
  },
  {
   "cell_type": "code",
   "execution_count": 26,
   "metadata": {
    "id": "TgVhQQzYgy23"
   },
   "outputs": [
    {
     "name": "stdout",
     "output_type": "stream",
     "text": [
      "WARNING:tensorflow:Skipping full serialization of Keras layer <keras.layers.core.embedding.Embedding object at 0x7f67c0263100>, because it is not built.\n"
     ]
    },
    {
     "name": "stderr",
     "output_type": "stream",
     "text": [
      "2023-08-29 11:38:31.977038: I tensorflow/core/common_runtime/executor.cc:1197] [/device:CPU:0] (DEBUG INFO) Executor start aborting (this does not indicate an error and you can ignore this message): INVALID_ARGUMENT: You must feed a value for placeholder tensor 'attention_mask' with dtype int32 and shape [?,?]\n",
      "\t [[{{node attention_mask}}]]\n",
      "2023-08-29 11:38:34.641171: I tensorflow/core/common_runtime/executor.cc:1197] [/device:CPU:0] (DEBUG INFO) Executor start aborting (this does not indicate an error and you can ignore this message): INVALID_ARGUMENT: You must feed a value for placeholder tensor 'attention_mask' with dtype int32 and shape [?,?]\n",
      "\t [[{{node attention_mask}}]]\n",
      "2023-08-29 11:38:34.822747: I tensorflow/core/common_runtime/executor.cc:1197] [/device:CPU:0] (DEBUG INFO) Executor start aborting (this does not indicate an error and you can ignore this message): INVALID_ARGUMENT: You must feed a value for placeholder tensor 'input_ids_1' with dtype int32 and shape [?,?]\n",
      "\t [[{{node input_ids_1}}]]\n",
      "2023-08-29 11:38:34.999956: I tensorflow/core/common_runtime/executor.cc:1197] [/device:CPU:0] (DEBUG INFO) Executor start aborting (this does not indicate an error and you can ignore this message): INVALID_ARGUMENT: You must feed a value for placeholder tensor 'attention_mask' with dtype int32 and shape [?,?]\n",
      "\t [[{{node attention_mask}}]]\n",
      "2023-08-29 11:38:35.188150: I tensorflow/core/common_runtime/executor.cc:1197] [/device:CPU:0] (DEBUG INFO) Executor start aborting (this does not indicate an error and you can ignore this message): INVALID_ARGUMENT: You must feed a value for placeholder tensor 'input_ids_1' with dtype int32 and shape [?,?]\n",
      "\t [[{{node input_ids_1}}]]\n",
      "2023-08-29 11:38:35.376180: I tensorflow/core/common_runtime/executor.cc:1197] [/device:CPU:0] (DEBUG INFO) Executor start aborting (this does not indicate an error and you can ignore this message): INVALID_ARGUMENT: You must feed a value for placeholder tensor 'attention_mask' with dtype int32 and shape [?,?]\n",
      "\t [[{{node attention_mask}}]]\n",
      "2023-08-29 11:38:35.554502: I tensorflow/core/common_runtime/executor.cc:1197] [/device:CPU:0] (DEBUG INFO) Executor start aborting (this does not indicate an error and you can ignore this message): INVALID_ARGUMENT: You must feed a value for placeholder tensor 'attention_mask' with dtype int32 and shape [?,?]\n",
      "\t [[{{node attention_mask}}]]\n",
      "2023-08-29 11:38:35.729656: I tensorflow/core/common_runtime/executor.cc:1197] [/device:CPU:0] (DEBUG INFO) Executor start aborting (this does not indicate an error and you can ignore this message): INVALID_ARGUMENT: You must feed a value for placeholder tensor 'attention_mask' with dtype int32 and shape [?,?]\n",
      "\t [[{{node attention_mask}}]]\n",
      "2023-08-29 11:38:35.935403: I tensorflow/core/common_runtime/executor.cc:1197] [/device:CPU:0] (DEBUG INFO) Executor start aborting (this does not indicate an error and you can ignore this message): INVALID_ARGUMENT: You must feed a value for placeholder tensor 'input_ids_1' with dtype int32 and shape [?,?]\n",
      "\t [[{{node input_ids_1}}]]\n",
      "2023-08-29 11:38:36.107057: I tensorflow/core/common_runtime/executor.cc:1197] [/device:CPU:0] (DEBUG INFO) Executor start aborting (this does not indicate an error and you can ignore this message): INVALID_ARGUMENT: You must feed a value for placeholder tensor 'input_ids_1' with dtype int32 and shape [?,?]\n",
      "\t [[{{node input_ids_1}}]]\n",
      "2023-08-29 11:38:36.348325: I tensorflow/core/common_runtime/executor.cc:1197] [/device:CPU:0] (DEBUG INFO) Executor start aborting (this does not indicate an error and you can ignore this message): INVALID_ARGUMENT: You must feed a value for placeholder tensor 'attention_mask' with dtype int32 and shape [?,?]\n",
      "\t [[{{node attention_mask}}]]\n",
      "2023-08-29 11:38:36.531290: I tensorflow/core/common_runtime/executor.cc:1197] [/device:CPU:0] (DEBUG INFO) Executor start aborting (this does not indicate an error and you can ignore this message): INVALID_ARGUMENT: You must feed a value for placeholder tensor 'attention_mask' with dtype int32 and shape [?,?]\n",
      "\t [[{{node attention_mask}}]]\n",
      "2023-08-29 11:38:36.718105: I tensorflow/core/common_runtime/executor.cc:1197] [/device:CPU:0] (DEBUG INFO) Executor start aborting (this does not indicate an error and you can ignore this message): INVALID_ARGUMENT: You must feed a value for placeholder tensor 'attention_mask' with dtype int32 and shape [?,?]\n",
      "\t [[{{node attention_mask}}]]\n",
      "2023-08-29 11:38:36.897386: I tensorflow/core/common_runtime/executor.cc:1197] [/device:CPU:0] (DEBUG INFO) Executor start aborting (this does not indicate an error and you can ignore this message): INVALID_ARGUMENT: You must feed a value for placeholder tensor 'input_ids_attention_mask' with dtype int32 and shape [?,?]\n",
      "\t [[{{node input_ids_attention_mask}}]]\n",
      "2023-08-29 11:38:37.611798: I tensorflow/core/common_runtime/executor.cc:1197] [/device:CPU:0] (DEBUG INFO) Executor start aborting (this does not indicate an error and you can ignore this message): INVALID_ARGUMENT: You must feed a value for placeholder tensor 'input_ids_attention_mask' with dtype int32 and shape [?,?]\n",
      "\t [[{{node input_ids_attention_mask}}]]\n",
      "2023-08-29 11:38:51.105199: I tensorflow/core/common_runtime/executor.cc:1197] [/device:CPU:0] (DEBUG INFO) Executor start aborting (this does not indicate an error and you can ignore this message): INVALID_ARGUMENT: You must feed a value for placeholder tensor 'attention_mask' with dtype int32 and shape [?,?]\n",
      "\t [[{{node attention_mask}}]]\n",
      "2023-08-29 11:38:51.280497: I tensorflow/core/common_runtime/executor.cc:1197] [/device:CPU:0] (DEBUG INFO) Executor start aborting (this does not indicate an error and you can ignore this message): INVALID_ARGUMENT: You must feed a value for placeholder tensor 'attention_mask' with dtype int32 and shape [?,?]\n",
      "\t [[{{node attention_mask}}]]\n",
      "WARNING:absl:Found untraced functions such as serving, embeddings_layer_call_fn, embeddings_layer_call_and_return_conditional_losses, encoder_layer_call_fn, encoder_layer_call_and_return_conditional_losses while saving (showing 5 of 1099). These functions will not be directly callable after loading.\n",
      "2023-08-29 11:38:58.770981: I tensorflow/core/common_runtime/executor.cc:1197] [/device:CPU:0] (DEBUG INFO) Executor start aborting (this does not indicate an error and you can ignore this message): INVALID_ARGUMENT: You must feed a value for placeholder tensor 'serving_default_attention_mask' with dtype int32 and shape [?,?]\n",
      "\t [[{{node serving_default_attention_mask}}]]\n"
     ]
    },
    {
     "name": "stdout",
     "output_type": "stream",
     "text": [
      "INFO:tensorflow:Assets written to: trained_esm.tf/assets\n"
     ]
    },
    {
     "name": "stderr",
     "output_type": "stream",
     "text": [
      "INFO:tensorflow:Assets written to: trained_esm.tf/assets\n"
     ]
    }
   ],
   "source": [
    "# model.save(\"trained_esm.keras\")\n",
    "model.save(\"trained_esm.tf\",save_format=\"tf\")"
   ]
  },
  {
   "cell_type": "code",
   "execution_count": 27,
   "metadata": {},
   "outputs": [
    {
     "name": "stdout",
     "output_type": "stream",
     "text": [
      "808/808 [==============================] - 102s 121ms/step\n"
     ]
    }
   ],
   "source": [
    "y_test_pred = model.predict(tf_test_set)"
   ]
  },
  {
   "cell_type": "code",
   "execution_count": 29,
   "metadata": {},
   "outputs": [
    {
     "name": "stdout",
     "output_type": "stream",
     "text": [
      "              precision    recall  f1-score   support\n",
      "\n",
      "           0       0.96      0.96      0.96      2448\n",
      "           1       0.86      0.86      0.86       783\n",
      "\n",
      "    accuracy                           0.93      3231\n",
      "   macro avg       0.91      0.91      0.91      3231\n",
      "weighted avg       0.93      0.93      0.93      3231\n",
      "\n"
     ]
    }
   ],
   "source": [
    "# print(classification_report(test_labels,y_test_pred.logits[:,1]>=0.5))\n",
    "print(classification_report(test_labels,y_test_pred.logits>=0.5))"
   ]
  },
  {
   "cell_type": "code",
   "execution_count": 30,
   "metadata": {},
   "outputs": [
    {
     "data": {
      "text/plain": [
       "0.9782302022554445"
      ]
     },
     "execution_count": 30,
     "metadata": {},
     "output_type": "execute_result"
    }
   ],
   "source": [
    "roc_auc_score(test_labels,y_test_pred.logits)"
   ]
  },
  {
   "cell_type": "code",
   "execution_count": 33,
   "metadata": {},
   "outputs": [
    {
     "data": {
      "text/html": [
       "<div>\n",
       "<style scoped>\n",
       "    .dataframe tbody tr th:only-of-type {\n",
       "        vertical-align: middle;\n",
       "    }\n",
       "\n",
       "    .dataframe tbody tr th {\n",
       "        vertical-align: top;\n",
       "    }\n",
       "\n",
       "    .dataframe thead th {\n",
       "        text-align: right;\n",
       "    }\n",
       "</style>\n",
       "<table border=\"1\" class=\"dataframe\">\n",
       "  <thead>\n",
       "    <tr style=\"text-align: right;\">\n",
       "      <th></th>\n",
       "      <th>Sequence</th>\n",
       "      <th>virus</th>\n",
       "      <th>Length</th>\n",
       "      <th>Cluster name</th>\n",
       "    </tr>\n",
       "  </thead>\n",
       "  <tbody>\n",
       "    <tr>\n",
       "      <th>0</th>\n",
       "      <td>MTTATPLGDTTFFSLNMTTRGEDFLYKSSGAIVAAVVVVVIIIFTV...</td>\n",
       "      <td>0</td>\n",
       "      <td>102</td>\n",
       "      <td>Cluster: Noncompact myelin-associated protein</td>\n",
       "    </tr>\n",
       "    <tr>\n",
       "      <th>1</th>\n",
       "      <td>MGTAAAAAAAAAAAAAGEGARSPSPAAVSLGLGVAVVSSLVNGSTF...</td>\n",
       "      <td>0</td>\n",
       "      <td>329</td>\n",
       "      <td>Cluster: Magnesium transporter NIPA1</td>\n",
       "    </tr>\n",
       "    <tr>\n",
       "      <th>2</th>\n",
       "      <td>MFTIKLLLFIVPLVISSRIDQDNSSFDSLSPEPKSRFAMLDDVKIL...</td>\n",
       "      <td>0</td>\n",
       "      <td>460</td>\n",
       "      <td>Cluster: Angiopoietin-related protein 3</td>\n",
       "    </tr>\n",
       "    <tr>\n",
       "      <th>3</th>\n",
       "      <td>MPRGQKSKLRAREKRRKAREETQGLKVAHATAAEKEECPSSSPVLG...</td>\n",
       "      <td>0</td>\n",
       "      <td>347</td>\n",
       "      <td>Cluster: Melanoma-associated antigen B1</td>\n",
       "    </tr>\n",
       "    <tr>\n",
       "      <th>4</th>\n",
       "      <td>MIYTEFTILYKSSLPKYLRIMYFTSIGIFFHKLSIVSLEIVSSKTV...</td>\n",
       "      <td>1</td>\n",
       "      <td>117</td>\n",
       "      <td>Cluster: Uncharacterized protein FPV220</td>\n",
       "    </tr>\n",
       "    <tr>\n",
       "      <th>...</th>\n",
       "      <td>...</td>\n",
       "      <td>...</td>\n",
       "      <td>...</td>\n",
       "      <td>...</td>\n",
       "    </tr>\n",
       "    <tr>\n",
       "      <th>3226</th>\n",
       "      <td>MVCEKCEKKLGTVITPDTWKDGARNTTESGGRKLNENKALTSKKAR...</td>\n",
       "      <td>0</td>\n",
       "      <td>101</td>\n",
       "      <td>Cluster: Cysteine-rich PDZ-binding protein</td>\n",
       "    </tr>\n",
       "    <tr>\n",
       "      <th>3227</th>\n",
       "      <td>MAAGDGDVKLGTLGSGSESSNDGGSESPGDAGAAAEGGGWAAAALA...</td>\n",
       "      <td>0</td>\n",
       "      <td>223</td>\n",
       "      <td>Cluster: Membrane-associated progesterone rece...</td>\n",
       "    </tr>\n",
       "    <tr>\n",
       "      <th>3228</th>\n",
       "      <td>MTLPASLKGFETLDIFNISSVRNICELNKHAEHVSIKNLPLIDISV...</td>\n",
       "      <td>1</td>\n",
       "      <td>256</td>\n",
       "      <td>Cluster: Cytoplasmic envelopment protein 1</td>\n",
       "    </tr>\n",
       "    <tr>\n",
       "      <th>3229</th>\n",
       "      <td>MKWKALFTAAILQAQLPITEAQSFGLLDPKLCYLLDGILFIYGVIL...</td>\n",
       "      <td>0</td>\n",
       "      <td>164</td>\n",
       "      <td>Cluster: T-cell surface glycoprotein CD3 zeta ...</td>\n",
       "    </tr>\n",
       "    <tr>\n",
       "      <th>3230</th>\n",
       "      <td>MGASVSRGRAARVPAPEPEPEEALDLSQLPPELLLVVLSHVPPRTL...</td>\n",
       "      <td>0</td>\n",
       "      <td>283</td>\n",
       "      <td>Cluster: F-box only protein 27</td>\n",
       "    </tr>\n",
       "  </tbody>\n",
       "</table>\n",
       "<p>3231 rows × 4 columns</p>\n",
       "</div>"
      ],
      "text/plain": [
       "                                               Sequence  virus  Length  \\\n",
       "0     MTTATPLGDTTFFSLNMTTRGEDFLYKSSGAIVAAVVVVVIIIFTV...      0     102   \n",
       "1     MGTAAAAAAAAAAAAAGEGARSPSPAAVSLGLGVAVVSSLVNGSTF...      0     329   \n",
       "2     MFTIKLLLFIVPLVISSRIDQDNSSFDSLSPEPKSRFAMLDDVKIL...      0     460   \n",
       "3     MPRGQKSKLRAREKRRKAREETQGLKVAHATAAEKEECPSSSPVLG...      0     347   \n",
       "4     MIYTEFTILYKSSLPKYLRIMYFTSIGIFFHKLSIVSLEIVSSKTV...      1     117   \n",
       "...                                                 ...    ...     ...   \n",
       "3226  MVCEKCEKKLGTVITPDTWKDGARNTTESGGRKLNENKALTSKKAR...      0     101   \n",
       "3227  MAAGDGDVKLGTLGSGSESSNDGGSESPGDAGAAAEGGGWAAAALA...      0     223   \n",
       "3228  MTLPASLKGFETLDIFNISSVRNICELNKHAEHVSIKNLPLIDISV...      1     256   \n",
       "3229  MKWKALFTAAILQAQLPITEAQSFGLLDPKLCYLLDGILFIYGVIL...      0     164   \n",
       "3230  MGASVSRGRAARVPAPEPEPEEALDLSQLPPELLLVVLSHVPPRTL...      0     283   \n",
       "\n",
       "                                           Cluster name  \n",
       "0         Cluster: Noncompact myelin-associated protein  \n",
       "1                  Cluster: Magnesium transporter NIPA1  \n",
       "2               Cluster: Angiopoietin-related protein 3  \n",
       "3               Cluster: Melanoma-associated antigen B1  \n",
       "4               Cluster: Uncharacterized protein FPV220  \n",
       "...                                                 ...  \n",
       "3226         Cluster: Cysteine-rich PDZ-binding protein  \n",
       "3227  Cluster: Membrane-associated progesterone rece...  \n",
       "3228         Cluster: Cytoplasmic envelopment protein 1  \n",
       "3229  Cluster: T-cell surface glycoprotein CD3 zeta ...  \n",
       "3230                     Cluster: F-box only protein 27  \n",
       "\n",
       "[3231 rows x 4 columns]"
      ]
     },
     "execution_count": 33,
     "metadata": {},
     "output_type": "execute_result"
    }
   ],
   "source": [
    "df_test"
   ]
  },
  {
   "cell_type": "code",
   "execution_count": 35,
   "metadata": {},
   "outputs": [
    {
     "data": {
      "text/plain": [
       "3231"
      ]
     },
     "execution_count": 35,
     "metadata": {},
     "output_type": "execute_result"
    }
   ],
   "source": [
    "len(test_labels)"
   ]
  },
  {
   "cell_type": "code",
   "execution_count": 38,
   "metadata": {},
   "outputs": [
    {
     "data": {
      "text/plain": [
       "3231"
      ]
     },
     "execution_count": 38,
     "metadata": {},
     "output_type": "execute_result"
    }
   ],
   "source": [
    "df_test.shape[0]"
   ]
  },
  {
   "cell_type": "code",
   "execution_count": 42,
   "metadata": {},
   "outputs": [
    {
     "data": {
      "text/plain": [
       "3231"
      ]
     },
     "execution_count": 42,
     "metadata": {},
     "output_type": "execute_result"
    }
   ],
   "source": [
    "len(y_test_pred.logits>=0.5)"
   ]
  },
  {
   "cell_type": "code",
   "execution_count": 50,
   "metadata": {},
   "outputs": [
    {
     "name": "stdout",
     "output_type": "stream",
     "text": [
      "3231\n"
     ]
    }
   ],
   "source": [
    "y_test_binary_preds = (y_test_pred.logits>=0.5).astype(int).ravel()\n",
    "print(len(y_test_binary_preds))"
   ]
  },
  {
   "cell_type": "code",
   "execution_count": 54,
   "metadata": {},
   "outputs": [
    {
     "name": "stdout",
     "output_type": "stream",
     "text": [
      "212\n",
      "3231\n"
     ]
    }
   ],
   "source": [
    "test_mistakes_mask = test_labels!=y_test_binary_preds\n",
    "print(test_mistakes_mask.sum())\n",
    "print(len(test_mistakes_mask))"
   ]
  },
  {
   "cell_type": "code",
   "execution_count": 56,
   "metadata": {},
   "outputs": [
    {
     "data": {
      "text/html": [
       "<div>\n",
       "<style scoped>\n",
       "    .dataframe tbody tr th:only-of-type {\n",
       "        vertical-align: middle;\n",
       "    }\n",
       "\n",
       "    .dataframe tbody tr th {\n",
       "        vertical-align: top;\n",
       "    }\n",
       "\n",
       "    .dataframe thead th {\n",
       "        text-align: right;\n",
       "    }\n",
       "</style>\n",
       "<table border=\"1\" class=\"dataframe\">\n",
       "  <thead>\n",
       "    <tr style=\"text-align: right;\">\n",
       "      <th></th>\n",
       "      <th>Sequence</th>\n",
       "      <th>virus</th>\n",
       "      <th>Length</th>\n",
       "      <th>Cluster name</th>\n",
       "    </tr>\n",
       "  </thead>\n",
       "  <tbody>\n",
       "    <tr>\n",
       "      <th>5</th>\n",
       "      <td>MHGRAYLLLHRDFCDLKENNYKGITAKPVSEDMMEWEVEIEGLQNS...</td>\n",
       "      <td>0</td>\n",
       "      <td>321</td>\n",
       "      <td>Cluster: Ubiquitin-conjugating enzyme E2 U</td>\n",
       "    </tr>\n",
       "    <tr>\n",
       "      <th>36</th>\n",
       "      <td>MTKTALLKLFVAIVITFILILPEYFKTPKERTLELSCLEVCLQSNF...</td>\n",
       "      <td>0</td>\n",
       "      <td>296</td>\n",
       "      <td>Cluster: Transmembrane protein 156</td>\n",
       "    </tr>\n",
       "    <tr>\n",
       "      <th>44</th>\n",
       "      <td>MATVTAPMNMWSVRIVNGIFVLSNKKPLNLPAHLSQLNIPYSVHFI...</td>\n",
       "      <td>1</td>\n",
       "      <td>404</td>\n",
       "      <td>Cluster: Uncharacterized gene 10 protein</td>\n",
       "    </tr>\n",
       "    <tr>\n",
       "      <th>80</th>\n",
       "      <td>MPPKGNKQAIADRRSQKQQKLQEQWDEEEESWDDSQAEEVSDEEEM...</td>\n",
       "      <td>1</td>\n",
       "      <td>217</td>\n",
       "      <td>Cluster: Protein 33K</td>\n",
       "    </tr>\n",
       "    <tr>\n",
       "      <th>89</th>\n",
       "      <td>MRSSTLQDPRRRDPQDDVYVDITDRLRFAILYSRPKSASNVHYFSI...</td>\n",
       "      <td>0</td>\n",
       "      <td>447</td>\n",
       "      <td>Cluster: Dual specificity protein phosphatase ...</td>\n",
       "    </tr>\n",
       "    <tr>\n",
       "      <th>...</th>\n",
       "      <td>...</td>\n",
       "      <td>...</td>\n",
       "      <td>...</td>\n",
       "      <td>...</td>\n",
       "    </tr>\n",
       "    <tr>\n",
       "      <th>3147</th>\n",
       "      <td>MDTQKDVQPPKQQPMIYICGECHTENEIKSRDPIRCRECGYRIMYK...</td>\n",
       "      <td>0</td>\n",
       "      <td>58</td>\n",
       "      <td>Cluster: DNA-directed RNA polymerases I, II, a...</td>\n",
       "    </tr>\n",
       "    <tr>\n",
       "      <th>3167</th>\n",
       "      <td>MKKDKKRNKIPIDNYPIQTLVNMSLNPSRPSSSELVELHVFYVPEG...</td>\n",
       "      <td>0</td>\n",
       "      <td>459</td>\n",
       "      <td>Cluster: Spermatogenesis-associated protein 1</td>\n",
       "    </tr>\n",
       "    <tr>\n",
       "      <th>3180</th>\n",
       "      <td>MAPPSRHCLLLISTLGVFALNCFTKGQKNSTLIFTRENTIRNCSCS...</td>\n",
       "      <td>0</td>\n",
       "      <td>219</td>\n",
       "      <td>Cluster: Uncharacterized protein C21orf62</td>\n",
       "    </tr>\n",
       "    <tr>\n",
       "      <th>3186</th>\n",
       "      <td>MYKCSQGAMNTEKVMEKFVIQSRFREMYPDKAKAIAGMTVPARYAD...</td>\n",
       "      <td>1</td>\n",
       "      <td>90</td>\n",
       "      <td>Cluster: Uncharacterized protein 045R</td>\n",
       "    </tr>\n",
       "    <tr>\n",
       "      <th>3199</th>\n",
       "      <td>MADTQCCPPPCEFISSAGTDLALGMGWDATLCLLPFTGFGKCAGIW...</td>\n",
       "      <td>0</td>\n",
       "      <td>198</td>\n",
       "      <td>Cluster: Putative uncharacterized protein enco...</td>\n",
       "    </tr>\n",
       "  </tbody>\n",
       "</table>\n",
       "<p>208 rows × 4 columns</p>\n",
       "</div>"
      ],
      "text/plain": [
       "                                               Sequence  virus  Length  \\\n",
       "5     MHGRAYLLLHRDFCDLKENNYKGITAKPVSEDMMEWEVEIEGLQNS...      0     321   \n",
       "36    MTKTALLKLFVAIVITFILILPEYFKTPKERTLELSCLEVCLQSNF...      0     296   \n",
       "44    MATVTAPMNMWSVRIVNGIFVLSNKKPLNLPAHLSQLNIPYSVHFI...      1     404   \n",
       "80    MPPKGNKQAIADRRSQKQQKLQEQWDEEEESWDDSQAEEVSDEEEM...      1     217   \n",
       "89    MRSSTLQDPRRRDPQDDVYVDITDRLRFAILYSRPKSASNVHYFSI...      0     447   \n",
       "...                                                 ...    ...     ...   \n",
       "3147  MDTQKDVQPPKQQPMIYICGECHTENEIKSRDPIRCRECGYRIMYK...      0      58   \n",
       "3167  MKKDKKRNKIPIDNYPIQTLVNMSLNPSRPSSSELVELHVFYVPEG...      0     459   \n",
       "3180  MAPPSRHCLLLISTLGVFALNCFTKGQKNSTLIFTRENTIRNCSCS...      0     219   \n",
       "3186  MYKCSQGAMNTEKVMEKFVIQSRFREMYPDKAKAIAGMTVPARYAD...      1      90   \n",
       "3199  MADTQCCPPPCEFISSAGTDLALGMGWDATLCLLPFTGFGKCAGIW...      0     198   \n",
       "\n",
       "                                           Cluster name  \n",
       "5            Cluster: Ubiquitin-conjugating enzyme E2 U  \n",
       "36                   Cluster: Transmembrane protein 156  \n",
       "44             Cluster: Uncharacterized gene 10 protein  \n",
       "80                                 Cluster: Protein 33K  \n",
       "89    Cluster: Dual specificity protein phosphatase ...  \n",
       "...                                                 ...  \n",
       "3147  Cluster: DNA-directed RNA polymerases I, II, a...  \n",
       "3167      Cluster: Spermatogenesis-associated protein 1  \n",
       "3180          Cluster: Uncharacterized protein C21orf62  \n",
       "3186              Cluster: Uncharacterized protein 045R  \n",
       "3199  Cluster: Putative uncharacterized protein enco...  \n",
       "\n",
       "[208 rows x 4 columns]"
      ]
     },
     "execution_count": 56,
     "metadata": {},
     "output_type": "execute_result"
    }
   ],
   "source": [
    "df_test[test_mistakes_mask].drop_duplicates(subset=\"Cluster name\")"
   ]
  },
  {
   "cell_type": "code",
   "execution_count": null,
   "metadata": {
    "id": "DUSLawmyM_GS"
   },
   "outputs": [],
   "source": [
    "# ### AttributeError: 'TFEsmForSequenceClassification' object has no attribute 'to'\n",
    "\n",
    "# training_args = TrainingArguments(\n",
    "#     per_device_train_batch_size=4,\n",
    "#     gradient_accumulation_steps=4,\n",
    "#     # gradient_checkpointing=True,\n",
    "#     fp16=True,\n",
    "#     optim=\"adafactor\",\n",
    "\n",
    "#     evaluation_strategy=\"steps\",\n",
    "#     warmup_ratio=0.1,\n",
    "#     save_strategy=\"no\",\n",
    "#     eval_steps=1000,\n",
    "#     # **default_args,\n",
    "#     output_dir=\".\"\n",
    "# )\n",
    "# #eval_dataset =\n",
    "# trainer = Trainer(model=model, args=training_args, train_dataset=tf_train_set,tokenizer=tokenizer,)\n",
    "# result = trainer.train()\n",
    "# print_summary(result)\n",
    "\n"
   ]
  },
  {
   "cell_type": "markdown",
   "metadata": {
    "id": "8ZqNMJgTM-zb"
   },
   "source": []
  },
  {
   "cell_type": "code",
   "execution_count": null,
   "metadata": {
    "id": "_Dx2mMaggtN-"
   },
   "outputs": [],
   "source": [
    "# model, alphabet = esm.pretrained.esm2_t6_8M_UR50D()\n",
    "# batch_converter = alphabet.get_batch_converter()\n",
    "\n",
    "# # Prepare data (first 2 sequences from ESMStructuralSplitDataset superfamily / 4)\n",
    "# data = [\n",
    "#     (\"protein1\", \"MKTVRQERLKSIVRILERSKEPVSGAQLAEELSVSRQVIVQDIAYLRSLGYNIVATPRGYVLAGG\"),\n",
    "#     (\"protein2\", \"KALTARQQEVFDLIRDHISQTGMPPTRAEIAQRLGFRSPNAAEEHLKALARKGVIEIVSGASRGIRLLQEE\"),\n",
    "#     (\"protein2 with mask\",\"KALTARQQEVFDLIRD<mask>ISQTGMPPTRAEIAQRLGFRSPNAAEEHLKALARKGVIEIVSGASRGIRLLQEE\"),\n",
    "#     (\"protein3\",  \"K A <mask> I S Q\"),\n",
    "# ]\n",
    "# batch_labels, batch_strs, batch_tokens = batch_converter(data)\n",
    "# batch_lens = (batch_tokens != alphabet.padding_idx).sum(1)\n",
    "\n",
    "# # Extract per-residue representations (on CPU)\n",
    "# with torch.no_grad():\n",
    "#     results = model(batch_tokens, repr_layers=[last_layer_num], return_contacts=True)\n",
    "# token_representations = results[\"representations\"][last_layer_num]\n",
    "\n",
    "# # Generate per-sequence representations via averaging\n",
    "# # NOTE: token 0 is always a beginning-of-sequence token, so the first residue is token 1.\n",
    "# sequence_representations = []\n",
    "# for i, tokens_len in enumerate(batch_lens):\n",
    "#     sequence_representations.append(token_representations[i, 1 : tokens_len - 1].mean(0))\n",
    "\n",
    "# # Look at the unsupervised self-attention map contact predictions\n",
    "\n",
    "# # for (_, seq), tokens_len, attention_contacts in zip(data, batch_lens, results[\"contacts\"]):\n",
    "# #     plt.matshow(attention_contacts[: tokens_len, : tokens_len])\n",
    "# #     plt.title(seq)\n",
    "# #     plt.show()"
   ]
  },
  {
   "cell_type": "markdown",
   "metadata": {
    "id": "IuInD2PVjT_j"
   },
   "source": [
    "* https://huggingface.co/docs/transformers/model_doc/esm#transformers.EsmForSequenceClassification.forward.example"
   ]
  },
  {
   "cell_type": "code",
   "execution_count": null,
   "metadata": {
    "id": "OBu021g9jUH4"
   },
   "outputs": [],
   "source": [
    "# import torch\n",
    "# from transformers import AutoTokenizer, EsmForSequenceClassification\n",
    "\n",
    "# tokenizer = AutoTokenizer.from_pretrained(\"facebook/esm2_t6_8M_UR50D\")\n",
    "# model = EsmForSequenceClassification.from_pretrained(\"facebook/esm2_t6_8M_UR50D\")\n",
    "\n",
    "# inputs = tokenizer(\"Hello, my dog is cute\", return_tensors=\"pt\")\n",
    "\n",
    "# with torch.no_grad():\n",
    "#     logits = model(**inputs).logits\n",
    "\n",
    "# predicted_class_id = logits.argmax().item()\n",
    "\n",
    "# # To train a model on `num_labels` classes, you can pass `num_labels=num_labels` to `.from_pretrained(...)`\n",
    "# num_labels = len(model.config.id2label)\n",
    "# model = EsmForSequenceClassification.from_pretrained(\"facebook/esm2_t6_8M_UR50D\", num_labels=num_labels)\n",
    "\n",
    "# labels = torch.tensor([1])\n",
    "# loss = model(**inputs, labels=labels).loss"
   ]
  },
  {
   "cell_type": "code",
   "execution_count": null,
   "metadata": {
    "id": "WyIXqfCDsN--"
   },
   "outputs": [],
   "source": []
  }
 ],
 "metadata": {
  "accelerator": "GPU",
  "colab": {
   "provenance": []
  },
  "kernelspec": {
   "display_name": "Python 3 (ipykernel)",
   "language": "python",
   "name": "python3"
  },
  "language_info": {
   "codemirror_mode": {
    "name": "ipython",
    "version": 3
   },
   "file_extension": ".py",
   "mimetype": "text/x-python",
   "name": "python",
   "nbconvert_exporter": "python",
   "pygments_lexer": "ipython3",
   "version": "3.10.12"
  },
  "pycharm": {
   "stem_cell": {
    "cell_type": "raw",
    "metadata": {
     "collapsed": false
    },
    "source": []
   }
  }
 },
 "nbformat": 4,
 "nbformat_minor": 1
}
